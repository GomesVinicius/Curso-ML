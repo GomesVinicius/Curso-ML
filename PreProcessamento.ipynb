{
  "cells": [
    {
      "cell_type": "markdown",
      "metadata": {
        "id": "view-in-github",
        "colab_type": "text"
      },
      "source": [
        "<a href=\"https://colab.research.google.com/github/GomesVinicius/Curso-ML/blob/master/PreProcessamento.ipynb\" target=\"_parent\"><img src=\"https://colab.research.google.com/assets/colab-badge.svg\" alt=\"Open In Colab\"/></a>"
      ]
    },
    {
      "cell_type": "code",
      "execution_count": null,
      "metadata": {
        "id": "_Ea-Oz84jxSt"
      },
      "outputs": [],
      "source": [
        "import pandas as pd\n",
        "import numpy as np\n",
        "from sklearn.preprocessing import StandardScaler\n",
        "from sklearn.preprocessing import LabelEncoder\n",
        "from sklearn.preprocessing import OneHotEncoder\n",
        "from sklearn.compose       import ColumnTransformer\n",
        "from sklearn.model_selection import train_test_split\n",
        "from sklearn.naive_bayes import GaussianNB\n",
        "from sklearn.metrics import accuracy_score, confusion_matrix, classification_report\n",
        "from sklearn.model_selection import KFold\n",
        "from sklearn.model_selection import cross_val_score\n",
        "from sklearn.svm import SVC"
      ]
    },
    {
      "cell_type": "code",
      "execution_count": null,
      "metadata": {
        "id": "wckFAMtoj4DC"
      },
      "outputs": [],
      "source": [
        "df = pd.read_csv('/content/drive/MyDrive/2024 1/ML/Course/1/heart_tratado.csv')"
      ]
    },
    {
      "cell_type": "code",
      "execution_count": null,
      "metadata": {
        "id": "Oghpw1IVkCPP"
      },
      "outputs": [],
      "source": [
        "df.head()"
      ]
    },
    {
      "cell_type": "code",
      "execution_count": null,
      "metadata": {
        "colab": {
          "base_uri": "https://localhost:8080/"
        },
        "id": "JcLpHpqbkGjo",
        "outputId": "22272829-640d-4e90-ace1-ee5016e132df"
      },
      "outputs": [
        {
          "data": {
            "text/plain": [
              "(917, 12)"
            ]
          },
          "execution_count": 6,
          "metadata": {},
          "output_type": "execute_result"
        }
      ],
      "source": [
        "df.shape"
      ]
    },
    {
      "cell_type": "markdown",
      "metadata": {
        "id": "kyRWWhiqkoyG"
      },
      "source": [
        "# Tratamento nominal para categórico (Manual)"
      ]
    },
    {
      "cell_type": "code",
      "execution_count": null,
      "metadata": {
        "id": "XELFExjPkq5t"
      },
      "outputs": [],
      "source": [
        "df2 = pd.DataFrame.copy(df)"
      ]
    },
    {
      "cell_type": "code",
      "execution_count": null,
      "metadata": {
        "id": "Gg5EHGNlk41V"
      },
      "outputs": [],
      "source": [
        "df2['Sex'].replace({'M': 0, 'F': 1}, inplace=True)\n",
        "df2['ChestPainType'].replace({'TA': 0, 'ATA': 1, 'NAP': 2, 'ASY': 3}, inplace=True)\n",
        "df2['RestingECG'].replace({'Normal': 0, 'ST': 1, 'LVH': 2}, inplace=True)\n",
        "df2['ExerciseAngina'].replace({'N': 0, 'Y': 1}, inplace=True)\n",
        "df2['ST_Slope'].replace({'Up': 0, 'Flat':1, 'Down': 2}, inplace=True)"
      ]
    },
    {
      "cell_type": "code",
      "execution_count": null,
      "metadata": {
        "colab": {
          "base_uri": "https://localhost:8080/"
        },
        "id": "b5Adok_clLWh",
        "outputId": "823cfeb7-6be1-4e61-9cbc-ae88a8c37f94"
      },
      "outputs": [
        {
          "data": {
            "text/html": [
              "\n",
              "  <div id=\"df-9cde8ba0-f1cf-4149-b872-b743220be7d1\" class=\"colab-df-container\">\n",
              "    <div>\n",
              "<style scoped>\n",
              "    .dataframe tbody tr th:only-of-type {\n",
              "        vertical-align: middle;\n",
              "    }\n",
              "\n",
              "    .dataframe tbody tr th {\n",
              "        vertical-align: top;\n",
              "    }\n",
              "\n",
              "    .dataframe thead th {\n",
              "        text-align: right;\n",
              "    }\n",
              "</style>\n",
              "<table border=\"1\" class=\"dataframe\">\n",
              "  <thead>\n",
              "    <tr style=\"text-align: right;\">\n",
              "      <th></th>\n",
              "      <th>Age</th>\n",
              "      <th>Sex</th>\n",
              "      <th>ChestPainType</th>\n",
              "      <th>RestingBP</th>\n",
              "      <th>Cholesterol</th>\n",
              "      <th>FastingBS</th>\n",
              "      <th>RestingECG</th>\n",
              "      <th>MaxHR</th>\n",
              "      <th>ExerciseAngina</th>\n",
              "      <th>Oldpeak</th>\n",
              "      <th>ST_Slope</th>\n",
              "      <th>HeartDisease</th>\n",
              "    </tr>\n",
              "  </thead>\n",
              "  <tbody>\n",
              "    <tr>\n",
              "      <th>0</th>\n",
              "      <td>40</td>\n",
              "      <td>0</td>\n",
              "      <td>1</td>\n",
              "      <td>140</td>\n",
              "      <td>289.0</td>\n",
              "      <td>0</td>\n",
              "      <td>0</td>\n",
              "      <td>172</td>\n",
              "      <td>0</td>\n",
              "      <td>0.0</td>\n",
              "      <td>0</td>\n",
              "      <td>0</td>\n",
              "    </tr>\n",
              "    <tr>\n",
              "      <th>1</th>\n",
              "      <td>49</td>\n",
              "      <td>1</td>\n",
              "      <td>2</td>\n",
              "      <td>160</td>\n",
              "      <td>180.0</td>\n",
              "      <td>0</td>\n",
              "      <td>0</td>\n",
              "      <td>156</td>\n",
              "      <td>0</td>\n",
              "      <td>1.0</td>\n",
              "      <td>1</td>\n",
              "      <td>1</td>\n",
              "    </tr>\n",
              "    <tr>\n",
              "      <th>2</th>\n",
              "      <td>37</td>\n",
              "      <td>0</td>\n",
              "      <td>1</td>\n",
              "      <td>130</td>\n",
              "      <td>283.0</td>\n",
              "      <td>0</td>\n",
              "      <td>1</td>\n",
              "      <td>98</td>\n",
              "      <td>0</td>\n",
              "      <td>0.0</td>\n",
              "      <td>0</td>\n",
              "      <td>0</td>\n",
              "    </tr>\n",
              "    <tr>\n",
              "      <th>3</th>\n",
              "      <td>48</td>\n",
              "      <td>1</td>\n",
              "      <td>3</td>\n",
              "      <td>138</td>\n",
              "      <td>214.0</td>\n",
              "      <td>0</td>\n",
              "      <td>0</td>\n",
              "      <td>108</td>\n",
              "      <td>1</td>\n",
              "      <td>1.5</td>\n",
              "      <td>1</td>\n",
              "      <td>1</td>\n",
              "    </tr>\n",
              "    <tr>\n",
              "      <th>4</th>\n",
              "      <td>54</td>\n",
              "      <td>0</td>\n",
              "      <td>2</td>\n",
              "      <td>150</td>\n",
              "      <td>195.0</td>\n",
              "      <td>0</td>\n",
              "      <td>0</td>\n",
              "      <td>122</td>\n",
              "      <td>0</td>\n",
              "      <td>0.0</td>\n",
              "      <td>0</td>\n",
              "      <td>0</td>\n",
              "    </tr>\n",
              "  </tbody>\n",
              "</table>\n",
              "</div>\n",
              "    <div class=\"colab-df-buttons\">\n",
              "\n",
              "  <div class=\"colab-df-container\">\n",
              "    <button class=\"colab-df-convert\" onclick=\"convertToInteractive('df-9cde8ba0-f1cf-4149-b872-b743220be7d1')\"\n",
              "            title=\"Convert this dataframe to an interactive table.\"\n",
              "            style=\"display:none;\">\n",
              "\n",
              "  <svg xmlns=\"http://www.w3.org/2000/svg\" height=\"24px\" viewBox=\"0 -960 960 960\">\n",
              "    <path d=\"M120-120v-720h720v720H120Zm60-500h600v-160H180v160Zm220 220h160v-160H400v160Zm0 220h160v-160H400v160ZM180-400h160v-160H180v160Zm440 0h160v-160H620v160ZM180-180h160v-160H180v160Zm440 0h160v-160H620v160Z\"/>\n",
              "  </svg>\n",
              "    </button>\n",
              "\n",
              "  <style>\n",
              "    .colab-df-container {\n",
              "      display:flex;\n",
              "      gap: 12px;\n",
              "    }\n",
              "\n",
              "    .colab-df-convert {\n",
              "      background-color: #E8F0FE;\n",
              "      border: none;\n",
              "      border-radius: 50%;\n",
              "      cursor: pointer;\n",
              "      display: none;\n",
              "      fill: #1967D2;\n",
              "      height: 32px;\n",
              "      padding: 0 0 0 0;\n",
              "      width: 32px;\n",
              "    }\n",
              "\n",
              "    .colab-df-convert:hover {\n",
              "      background-color: #E2EBFA;\n",
              "      box-shadow: 0px 1px 2px rgba(60, 64, 67, 0.3), 0px 1px 3px 1px rgba(60, 64, 67, 0.15);\n",
              "      fill: #174EA6;\n",
              "    }\n",
              "\n",
              "    .colab-df-buttons div {\n",
              "      margin-bottom: 4px;\n",
              "    }\n",
              "\n",
              "    [theme=dark] .colab-df-convert {\n",
              "      background-color: #3B4455;\n",
              "      fill: #D2E3FC;\n",
              "    }\n",
              "\n",
              "    [theme=dark] .colab-df-convert:hover {\n",
              "      background-color: #434B5C;\n",
              "      box-shadow: 0px 1px 3px 1px rgba(0, 0, 0, 0.15);\n",
              "      filter: drop-shadow(0px 1px 2px rgba(0, 0, 0, 0.3));\n",
              "      fill: #FFFFFF;\n",
              "    }\n",
              "  </style>\n",
              "\n",
              "    <script>\n",
              "      const buttonEl =\n",
              "        document.querySelector('#df-9cde8ba0-f1cf-4149-b872-b743220be7d1 button.colab-df-convert');\n",
              "      buttonEl.style.display =\n",
              "        google.colab.kernel.accessAllowed ? 'block' : 'none';\n",
              "\n",
              "      async function convertToInteractive(key) {\n",
              "        const element = document.querySelector('#df-9cde8ba0-f1cf-4149-b872-b743220be7d1');\n",
              "        const dataTable =\n",
              "          await google.colab.kernel.invokeFunction('convertToInteractive',\n",
              "                                                    [key], {});\n",
              "        if (!dataTable) return;\n",
              "\n",
              "        const docLinkHtml = 'Like what you see? Visit the ' +\n",
              "          '<a target=\"_blank\" href=https://colab.research.google.com/notebooks/data_table.ipynb>data table notebook</a>'\n",
              "          + ' to learn more about interactive tables.';\n",
              "        element.innerHTML = '';\n",
              "        dataTable['output_type'] = 'display_data';\n",
              "        await google.colab.output.renderOutput(dataTable, element);\n",
              "        const docLink = document.createElement('div');\n",
              "        docLink.innerHTML = docLinkHtml;\n",
              "        element.appendChild(docLink);\n",
              "      }\n",
              "    </script>\n",
              "  </div>\n",
              "\n",
              "\n",
              "<div id=\"df-c064b1cd-dcbc-4912-8788-9c417e90624d\">\n",
              "  <button class=\"colab-df-quickchart\" onclick=\"quickchart('df-c064b1cd-dcbc-4912-8788-9c417e90624d')\"\n",
              "            title=\"Suggest charts\"\n",
              "            style=\"display:none;\">\n",
              "\n",
              "<svg xmlns=\"http://www.w3.org/2000/svg\" height=\"24px\"viewBox=\"0 0 24 24\"\n",
              "     width=\"24px\">\n",
              "    <g>\n",
              "        <path d=\"M19 3H5c-1.1 0-2 .9-2 2v14c0 1.1.9 2 2 2h14c1.1 0 2-.9 2-2V5c0-1.1-.9-2-2-2zM9 17H7v-7h2v7zm4 0h-2V7h2v10zm4 0h-2v-4h2v4z\"/>\n",
              "    </g>\n",
              "</svg>\n",
              "  </button>\n",
              "\n",
              "<style>\n",
              "  .colab-df-quickchart {\n",
              "      --bg-color: #E8F0FE;\n",
              "      --fill-color: #1967D2;\n",
              "      --hover-bg-color: #E2EBFA;\n",
              "      --hover-fill-color: #174EA6;\n",
              "      --disabled-fill-color: #AAA;\n",
              "      --disabled-bg-color: #DDD;\n",
              "  }\n",
              "\n",
              "  [theme=dark] .colab-df-quickchart {\n",
              "      --bg-color: #3B4455;\n",
              "      --fill-color: #D2E3FC;\n",
              "      --hover-bg-color: #434B5C;\n",
              "      --hover-fill-color: #FFFFFF;\n",
              "      --disabled-bg-color: #3B4455;\n",
              "      --disabled-fill-color: #666;\n",
              "  }\n",
              "\n",
              "  .colab-df-quickchart {\n",
              "    background-color: var(--bg-color);\n",
              "    border: none;\n",
              "    border-radius: 50%;\n",
              "    cursor: pointer;\n",
              "    display: none;\n",
              "    fill: var(--fill-color);\n",
              "    height: 32px;\n",
              "    padding: 0;\n",
              "    width: 32px;\n",
              "  }\n",
              "\n",
              "  .colab-df-quickchart:hover {\n",
              "    background-color: var(--hover-bg-color);\n",
              "    box-shadow: 0 1px 2px rgba(60, 64, 67, 0.3), 0 1px 3px 1px rgba(60, 64, 67, 0.15);\n",
              "    fill: var(--button-hover-fill-color);\n",
              "  }\n",
              "\n",
              "  .colab-df-quickchart-complete:disabled,\n",
              "  .colab-df-quickchart-complete:disabled:hover {\n",
              "    background-color: var(--disabled-bg-color);\n",
              "    fill: var(--disabled-fill-color);\n",
              "    box-shadow: none;\n",
              "  }\n",
              "\n",
              "  .colab-df-spinner {\n",
              "    border: 2px solid var(--fill-color);\n",
              "    border-color: transparent;\n",
              "    border-bottom-color: var(--fill-color);\n",
              "    animation:\n",
              "      spin 1s steps(1) infinite;\n",
              "  }\n",
              "\n",
              "  @keyframes spin {\n",
              "    0% {\n",
              "      border-color: transparent;\n",
              "      border-bottom-color: var(--fill-color);\n",
              "      border-left-color: var(--fill-color);\n",
              "    }\n",
              "    20% {\n",
              "      border-color: transparent;\n",
              "      border-left-color: var(--fill-color);\n",
              "      border-top-color: var(--fill-color);\n",
              "    }\n",
              "    30% {\n",
              "      border-color: transparent;\n",
              "      border-left-color: var(--fill-color);\n",
              "      border-top-color: var(--fill-color);\n",
              "      border-right-color: var(--fill-color);\n",
              "    }\n",
              "    40% {\n",
              "      border-color: transparent;\n",
              "      border-right-color: var(--fill-color);\n",
              "      border-top-color: var(--fill-color);\n",
              "    }\n",
              "    60% {\n",
              "      border-color: transparent;\n",
              "      border-right-color: var(--fill-color);\n",
              "    }\n",
              "    80% {\n",
              "      border-color: transparent;\n",
              "      border-right-color: var(--fill-color);\n",
              "      border-bottom-color: var(--fill-color);\n",
              "    }\n",
              "    90% {\n",
              "      border-color: transparent;\n",
              "      border-bottom-color: var(--fill-color);\n",
              "    }\n",
              "  }\n",
              "</style>\n",
              "\n",
              "  <script>\n",
              "    async function quickchart(key) {\n",
              "      const quickchartButtonEl =\n",
              "        document.querySelector('#' + key + ' button');\n",
              "      quickchartButtonEl.disabled = true;  // To prevent multiple clicks.\n",
              "      quickchartButtonEl.classList.add('colab-df-spinner');\n",
              "      try {\n",
              "        const charts = await google.colab.kernel.invokeFunction(\n",
              "            'suggestCharts', [key], {});\n",
              "      } catch (error) {\n",
              "        console.error('Error during call to suggestCharts:', error);\n",
              "      }\n",
              "      quickchartButtonEl.classList.remove('colab-df-spinner');\n",
              "      quickchartButtonEl.classList.add('colab-df-quickchart-complete');\n",
              "    }\n",
              "    (() => {\n",
              "      let quickchartButtonEl =\n",
              "        document.querySelector('#df-c064b1cd-dcbc-4912-8788-9c417e90624d button');\n",
              "      quickchartButtonEl.style.display =\n",
              "        google.colab.kernel.accessAllowed ? 'block' : 'none';\n",
              "    })();\n",
              "  </script>\n",
              "</div>\n",
              "\n",
              "    </div>\n",
              "  </div>\n"
            ],
            "text/plain": [
              "   Age  Sex  ChestPainType  RestingBP  Cholesterol  FastingBS  RestingECG  \\\n",
              "0   40    0              1        140        289.0          0           0   \n",
              "1   49    1              2        160        180.0          0           0   \n",
              "2   37    0              1        130        283.0          0           1   \n",
              "3   48    1              3        138        214.0          0           0   \n",
              "4   54    0              2        150        195.0          0           0   \n",
              "\n",
              "   MaxHR  ExerciseAngina  Oldpeak  ST_Slope  HeartDisease  \n",
              "0    172               0      0.0         0             0  \n",
              "1    156               0      1.0         1             1  \n",
              "2     98               0      0.0         0             0  \n",
              "3    108               1      1.5         1             1  \n",
              "4    122               0      0.0         0             0  "
            ]
          },
          "execution_count": 5,
          "metadata": {},
          "output_type": "execute_result"
        }
      ],
      "source": [
        "df2.head()"
      ]
    },
    {
      "cell_type": "code",
      "execution_count": null,
      "metadata": {
        "colab": {
          "base_uri": "https://localhost:8080/"
        },
        "id": "2cl6CxLCpW4t",
        "outputId": "dbce3ac1-0fcc-4f3a-b8ae-3241286a4437"
      },
      "outputs": [
        {
          "data": {
            "text/plain": [
              "Age                 int64\n",
              "Sex                 int64\n",
              "ChestPainType       int64\n",
              "RestingBP           int64\n",
              "Cholesterol       float64\n",
              "FastingBS           int64\n",
              "RestingECG          int64\n",
              "MaxHR               int64\n",
              "ExerciseAngina      int64\n",
              "Oldpeak           float64\n",
              "ST_Slope            int64\n",
              "HeartDisease        int64\n",
              "dtype: object"
            ]
          },
          "execution_count": 6,
          "metadata": {},
          "output_type": "execute_result"
        }
      ],
      "source": [
        "df2.dtypes"
      ]
    },
    {
      "cell_type": "markdown",
      "metadata": {
        "id": "GiaWFSdlRsqi"
      },
      "source": [
        "# Atributos Previsores"
      ]
    },
    {
      "cell_type": "code",
      "execution_count": null,
      "metadata": {
        "id": "_li2PcuARuMW"
      },
      "outputs": [],
      "source": [
        "previsores = df2.drop('HeartDisease', axis=1).values\n",
        "# previsores = df2.iloc[:, 0:11].values"
      ]
    },
    {
      "cell_type": "code",
      "execution_count": null,
      "metadata": {
        "colab": {
          "base_uri": "https://localhost:8080/"
        },
        "id": "x1eUUMwcR7gj",
        "outputId": "03da1d1f-7910-44ad-c853-cabc180c6afe"
      },
      "outputs": [
        {
          "data": {
            "text/plain": [
              "array([[40. ,  0. ,  1. , ...,  0. ,  0. ,  0. ],\n",
              "       [49. ,  1. ,  2. , ...,  0. ,  1. ,  1. ],\n",
              "       [37. ,  0. ,  1. , ...,  0. ,  0. ,  0. ],\n",
              "       ...,\n",
              "       [57. ,  0. ,  3. , ...,  1. ,  1.2,  1. ],\n",
              "       [57. ,  1. ,  1. , ...,  0. ,  0. ,  1. ],\n",
              "       [38. ,  0. ,  2. , ...,  0. ,  0. ,  0. ]])"
            ]
          },
          "execution_count": 8,
          "metadata": {},
          "output_type": "execute_result"
        }
      ],
      "source": [
        "previsores"
      ]
    },
    {
      "cell_type": "code",
      "execution_count": null,
      "metadata": {
        "id": "_VDsura1S0Mz"
      },
      "outputs": [],
      "source": [
        "alvo = df2['HeartDisease'].values\n",
        "# alvo = df2.iloc[:, 11] #pandas.core.series.Series"
      ]
    },
    {
      "cell_type": "code",
      "execution_count": null,
      "metadata": {
        "colab": {
          "base_uri": "https://localhost:8080/"
        },
        "id": "V7zvnvnXS_b2",
        "outputId": "c471f040-3d9c-41f9-b3eb-9a015e2589f0"
      },
      "outputs": [
        {
          "data": {
            "text/plain": [
              "array([0, 1, 0, 1, 0, 0, 0, 0, 1, 0, 0, 1, 0, 1, 0, 0, 1, 0, 1, 1, 0, 0,\n",
              "       0, 1, 0, 0, 0, 0, 0, 0, 1, 0, 1, 1, 0, 0, 1, 0, 0, 0, 0, 1, 0, 0,\n",
              "       1, 0, 0, 0, 0, 1, 1, 1, 0, 0, 0, 0, 1, 1, 0, 1, 0, 0, 0, 1, 0, 0,\n",
              "       0, 0, 1, 0, 1, 0, 1, 0, 1, 0, 1, 0, 0, 1, 0, 0, 1, 0, 1, 1, 1, 0,\n",
              "       1, 0, 0, 0, 0, 1, 0, 1, 0, 0, 0, 0, 1, 0, 1, 1, 1, 0, 0, 0, 0, 0,\n",
              "       0, 1, 0, 0, 0, 1, 1, 1, 0, 1, 1, 0, 0, 1, 0, 0, 0, 0, 0, 0, 0, 1,\n",
              "       1, 1, 0, 1, 0, 0, 1, 1, 1, 1, 1, 0, 1, 0, 0, 0, 0, 1, 0, 0, 0, 0,\n",
              "       0, 1, 1, 0, 1, 0, 1, 1, 0, 0, 0, 1, 1, 0, 0, 0, 0, 0, 0, 0, 1, 1,\n",
              "       1, 0, 0, 0, 1, 0, 1, 0, 0, 1, 0, 1, 0, 1, 0, 0, 0, 0, 0, 0, 0, 0,\n",
              "       1, 0, 0, 0, 0, 0, 0, 0, 0, 1, 0, 1, 1, 1, 0, 0, 1, 0, 1, 0, 0, 0,\n",
              "       1, 1, 0, 0, 0, 1, 0, 1, 0, 0, 0, 0, 0, 0, 0, 0, 1, 1, 1, 1, 0, 1,\n",
              "       1, 0, 1, 0, 1, 1, 1, 1, 1, 1, 0, 0, 1, 0, 0, 0, 0, 0, 0, 0, 1, 1,\n",
              "       1, 0, 1, 0, 1, 0, 0, 0, 1, 0, 0, 0, 1, 1, 0, 0, 0, 1, 0, 0, 0, 0,\n",
              "       0, 0, 0, 0, 0, 0, 0, 1, 1, 1, 1, 1, 1, 1, 1, 0, 1, 1, 1, 1, 1, 0,\n",
              "       1, 1, 0, 1, 1, 1, 0, 1, 1, 1, 1, 1, 1, 1, 1, 1, 1, 1, 0, 1, 1, 1,\n",
              "       1, 1, 0, 1, 1, 1, 0, 1, 1, 1, 1, 1, 1, 1, 1, 1, 1, 1, 1, 1, 1, 1,\n",
              "       1, 1, 1, 1, 1, 1, 1, 1, 1, 1, 1, 1, 0, 1, 1, 1, 1, 1, 1, 1, 1, 1,\n",
              "       1, 1, 1, 1, 1, 1, 1, 1, 1, 1, 1, 1, 1, 1, 1, 1, 1, 1, 1, 1, 1, 1,\n",
              "       1, 1, 1, 1, 1, 1, 1, 1, 1, 1, 1, 1, 1, 1, 1, 1, 1, 1, 1, 1, 1, 0,\n",
              "       1, 1, 0, 0, 1, 0, 1, 1, 0, 1, 1, 1, 1, 0, 1, 1, 0, 0, 1, 1, 1, 0,\n",
              "       1, 1, 1, 1, 1, 1, 1, 1, 1, 1, 1, 1, 0, 1, 0, 1, 1, 1, 0, 1, 1, 1,\n",
              "       0, 1, 0, 1, 0, 1, 0, 1, 1, 1, 1, 0, 1, 0, 1, 1, 1, 1, 1, 1, 1, 1,\n",
              "       1, 0, 1, 0, 1, 1, 1, 1, 1, 1, 1, 0, 1, 1, 1, 1, 1, 1, 0, 1, 1, 1,\n",
              "       0, 1, 1, 0, 1, 0, 1, 1, 0, 1, 1, 1, 1, 0, 1, 1, 1, 0, 0, 1, 0, 1,\n",
              "       1, 1, 1, 1, 1, 1, 1, 1, 1, 1, 0, 1, 1, 1, 1, 0, 0, 1, 1, 1, 0, 1,\n",
              "       0, 1, 1, 0, 1, 0, 1, 1, 1, 0, 0, 0, 1, 1, 1, 0, 1, 1, 1, 1, 1, 1,\n",
              "       1, 1, 1, 1, 1, 1, 1, 1, 1, 1, 0, 1, 1, 1, 0, 1, 1, 0, 0, 1, 1, 1,\n",
              "       1, 1, 0, 1, 1, 0, 1, 1, 1, 0, 0, 1, 1, 1, 1, 1, 0, 1, 0, 1, 1, 0,\n",
              "       1, 0, 0, 0, 1, 1, 1, 1, 0, 0, 0, 1, 0, 0, 1, 1, 0, 0, 1, 0, 0, 0,\n",
              "       0, 0, 0, 0, 1, 0, 1, 0, 0, 1, 1, 1, 1, 1, 0, 0, 1, 0, 0, 0, 1, 0,\n",
              "       1, 1, 1, 1, 1, 0, 0, 0, 0, 0, 1, 0, 1, 1, 0, 1, 0, 0, 0, 1, 0, 1,\n",
              "       0, 1, 1, 0, 0, 0, 0, 1, 0, 0, 0, 0, 1, 1, 1, 0, 0, 0, 0, 0, 0, 1,\n",
              "       0, 1, 1, 1, 1, 1, 0, 1, 0, 0, 0, 1, 0, 1, 1, 1, 0, 1, 1, 0, 1, 0,\n",
              "       1, 0, 0, 0, 1, 1, 0, 1, 1, 1, 1, 0, 0, 0, 1, 0, 0, 1, 1, 1, 0, 1,\n",
              "       0, 0, 0, 1, 0, 0, 1, 0, 1, 0, 1, 1, 1, 1, 1, 0, 0, 0, 0, 0, 0, 0,\n",
              "       1, 0, 0, 1, 1, 1, 0, 1, 0, 0, 0, 0, 0, 1, 0, 1, 1, 0, 0, 1, 1, 1,\n",
              "       1, 0, 0, 1, 1, 0, 0, 0, 1, 0, 0, 1, 0, 1, 0, 1, 0, 0, 0, 0, 0, 1,\n",
              "       0, 1, 1, 1, 1, 0, 0, 0, 1, 0, 1, 0, 0, 1, 0, 0, 0, 0, 0, 0, 1, 1,\n",
              "       0, 1, 0, 0, 1, 1, 0, 0, 1, 1, 0, 1, 0, 1, 0, 1, 0, 0, 1, 0, 0, 1,\n",
              "       0, 1, 1, 0, 1, 1, 1, 0, 1, 0, 0, 0, 0, 1, 1, 0, 0, 1, 1, 0, 1, 0,\n",
              "       0, 0, 0, 1, 0, 0, 1, 1, 1, 0, 0, 0, 1, 0, 1, 0, 1, 0, 1, 1, 1, 0,\n",
              "       0, 0, 1, 0, 1, 1, 1, 0, 1, 1, 1, 1, 1, 1, 0])"
            ]
          },
          "execution_count": 10,
          "metadata": {},
          "output_type": "execute_result"
        }
      ],
      "source": [
        "alvo"
      ]
    },
    {
      "cell_type": "markdown",
      "metadata": {
        "id": "_nDFbiVJTsee"
      },
      "source": [
        "# Análise das escalas dos atributos"
      ]
    },
    {
      "cell_type": "code",
      "execution_count": null,
      "metadata": {
        "colab": {
          "base_uri": "https://localhost:8080/"
        },
        "id": "ei-9zBQ7TunP",
        "outputId": "c986be47-69d9-4b3c-858d-4b5f13642898"
      },
      "outputs": [
        {
          "data": {
            "text/html": [
              "\n",
              "  <div id=\"df-97c58445-e876-43f0-8742-06ea834c4c37\" class=\"colab-df-container\">\n",
              "    <div>\n",
              "<style scoped>\n",
              "    .dataframe tbody tr th:only-of-type {\n",
              "        vertical-align: middle;\n",
              "    }\n",
              "\n",
              "    .dataframe tbody tr th {\n",
              "        vertical-align: top;\n",
              "    }\n",
              "\n",
              "    .dataframe thead th {\n",
              "        text-align: right;\n",
              "    }\n",
              "</style>\n",
              "<table border=\"1\" class=\"dataframe\">\n",
              "  <thead>\n",
              "    <tr style=\"text-align: right;\">\n",
              "      <th></th>\n",
              "      <th>Age</th>\n",
              "      <th>Sex</th>\n",
              "      <th>ChestPainType</th>\n",
              "      <th>RestingBP</th>\n",
              "      <th>Cholesterol</th>\n",
              "      <th>FastingBS</th>\n",
              "      <th>RestingECG</th>\n",
              "      <th>MaxHR</th>\n",
              "      <th>ExerciseAngina</th>\n",
              "      <th>Oldpeak</th>\n",
              "      <th>ST_Slope</th>\n",
              "      <th>HeartDisease</th>\n",
              "    </tr>\n",
              "  </thead>\n",
              "  <tbody>\n",
              "    <tr>\n",
              "      <th>count</th>\n",
              "      <td>917.000000</td>\n",
              "      <td>917.000000</td>\n",
              "      <td>917.000000</td>\n",
              "      <td>917.000000</td>\n",
              "      <td>917.000000</td>\n",
              "      <td>917.000000</td>\n",
              "      <td>917.000000</td>\n",
              "      <td>917.000000</td>\n",
              "      <td>917.000000</td>\n",
              "      <td>917.000000</td>\n",
              "      <td>917.00000</td>\n",
              "      <td>917.000000</td>\n",
              "    </tr>\n",
              "    <tr>\n",
              "      <th>mean</th>\n",
              "      <td>53.509269</td>\n",
              "      <td>0.210469</td>\n",
              "      <td>2.251908</td>\n",
              "      <td>132.540894</td>\n",
              "      <td>244.635389</td>\n",
              "      <td>0.233370</td>\n",
              "      <td>0.604144</td>\n",
              "      <td>136.789531</td>\n",
              "      <td>0.404580</td>\n",
              "      <td>0.886696</td>\n",
              "      <td>0.63795</td>\n",
              "      <td>0.552890</td>\n",
              "    </tr>\n",
              "    <tr>\n",
              "      <th>std</th>\n",
              "      <td>9.437636</td>\n",
              "      <td>0.407864</td>\n",
              "      <td>0.931502</td>\n",
              "      <td>17.999749</td>\n",
              "      <td>53.347125</td>\n",
              "      <td>0.423206</td>\n",
              "      <td>0.806161</td>\n",
              "      <td>25.467129</td>\n",
              "      <td>0.491078</td>\n",
              "      <td>1.066960</td>\n",
              "      <td>0.60727</td>\n",
              "      <td>0.497466</td>\n",
              "    </tr>\n",
              "    <tr>\n",
              "      <th>min</th>\n",
              "      <td>28.000000</td>\n",
              "      <td>0.000000</td>\n",
              "      <td>0.000000</td>\n",
              "      <td>80.000000</td>\n",
              "      <td>85.000000</td>\n",
              "      <td>0.000000</td>\n",
              "      <td>0.000000</td>\n",
              "      <td>60.000000</td>\n",
              "      <td>0.000000</td>\n",
              "      <td>-2.600000</td>\n",
              "      <td>0.00000</td>\n",
              "      <td>0.000000</td>\n",
              "    </tr>\n",
              "    <tr>\n",
              "      <th>25%</th>\n",
              "      <td>47.000000</td>\n",
              "      <td>0.000000</td>\n",
              "      <td>2.000000</td>\n",
              "      <td>120.000000</td>\n",
              "      <td>214.000000</td>\n",
              "      <td>0.000000</td>\n",
              "      <td>0.000000</td>\n",
              "      <td>120.000000</td>\n",
              "      <td>0.000000</td>\n",
              "      <td>0.000000</td>\n",
              "      <td>0.00000</td>\n",
              "      <td>0.000000</td>\n",
              "    </tr>\n",
              "    <tr>\n",
              "      <th>50%</th>\n",
              "      <td>54.000000</td>\n",
              "      <td>0.000000</td>\n",
              "      <td>3.000000</td>\n",
              "      <td>130.000000</td>\n",
              "      <td>244.635389</td>\n",
              "      <td>0.000000</td>\n",
              "      <td>0.000000</td>\n",
              "      <td>138.000000</td>\n",
              "      <td>0.000000</td>\n",
              "      <td>0.600000</td>\n",
              "      <td>1.00000</td>\n",
              "      <td>1.000000</td>\n",
              "    </tr>\n",
              "    <tr>\n",
              "      <th>75%</th>\n",
              "      <td>60.000000</td>\n",
              "      <td>0.000000</td>\n",
              "      <td>3.000000</td>\n",
              "      <td>140.000000</td>\n",
              "      <td>267.000000</td>\n",
              "      <td>0.000000</td>\n",
              "      <td>1.000000</td>\n",
              "      <td>156.000000</td>\n",
              "      <td>1.000000</td>\n",
              "      <td>1.500000</td>\n",
              "      <td>1.00000</td>\n",
              "      <td>1.000000</td>\n",
              "    </tr>\n",
              "    <tr>\n",
              "      <th>max</th>\n",
              "      <td>77.000000</td>\n",
              "      <td>1.000000</td>\n",
              "      <td>3.000000</td>\n",
              "      <td>200.000000</td>\n",
              "      <td>603.000000</td>\n",
              "      <td>1.000000</td>\n",
              "      <td>2.000000</td>\n",
              "      <td>202.000000</td>\n",
              "      <td>1.000000</td>\n",
              "      <td>6.200000</td>\n",
              "      <td>2.00000</td>\n",
              "      <td>1.000000</td>\n",
              "    </tr>\n",
              "  </tbody>\n",
              "</table>\n",
              "</div>\n",
              "    <div class=\"colab-df-buttons\">\n",
              "\n",
              "  <div class=\"colab-df-container\">\n",
              "    <button class=\"colab-df-convert\" onclick=\"convertToInteractive('df-97c58445-e876-43f0-8742-06ea834c4c37')\"\n",
              "            title=\"Convert this dataframe to an interactive table.\"\n",
              "            style=\"display:none;\">\n",
              "\n",
              "  <svg xmlns=\"http://www.w3.org/2000/svg\" height=\"24px\" viewBox=\"0 -960 960 960\">\n",
              "    <path d=\"M120-120v-720h720v720H120Zm60-500h600v-160H180v160Zm220 220h160v-160H400v160Zm0 220h160v-160H400v160ZM180-400h160v-160H180v160Zm440 0h160v-160H620v160ZM180-180h160v-160H180v160Zm440 0h160v-160H620v160Z\"/>\n",
              "  </svg>\n",
              "    </button>\n",
              "\n",
              "  <style>\n",
              "    .colab-df-container {\n",
              "      display:flex;\n",
              "      gap: 12px;\n",
              "    }\n",
              "\n",
              "    .colab-df-convert {\n",
              "      background-color: #E8F0FE;\n",
              "      border: none;\n",
              "      border-radius: 50%;\n",
              "      cursor: pointer;\n",
              "      display: none;\n",
              "      fill: #1967D2;\n",
              "      height: 32px;\n",
              "      padding: 0 0 0 0;\n",
              "      width: 32px;\n",
              "    }\n",
              "\n",
              "    .colab-df-convert:hover {\n",
              "      background-color: #E2EBFA;\n",
              "      box-shadow: 0px 1px 2px rgba(60, 64, 67, 0.3), 0px 1px 3px 1px rgba(60, 64, 67, 0.15);\n",
              "      fill: #174EA6;\n",
              "    }\n",
              "\n",
              "    .colab-df-buttons div {\n",
              "      margin-bottom: 4px;\n",
              "    }\n",
              "\n",
              "    [theme=dark] .colab-df-convert {\n",
              "      background-color: #3B4455;\n",
              "      fill: #D2E3FC;\n",
              "    }\n",
              "\n",
              "    [theme=dark] .colab-df-convert:hover {\n",
              "      background-color: #434B5C;\n",
              "      box-shadow: 0px 1px 3px 1px rgba(0, 0, 0, 0.15);\n",
              "      filter: drop-shadow(0px 1px 2px rgba(0, 0, 0, 0.3));\n",
              "      fill: #FFFFFF;\n",
              "    }\n",
              "  </style>\n",
              "\n",
              "    <script>\n",
              "      const buttonEl =\n",
              "        document.querySelector('#df-97c58445-e876-43f0-8742-06ea834c4c37 button.colab-df-convert');\n",
              "      buttonEl.style.display =\n",
              "        google.colab.kernel.accessAllowed ? 'block' : 'none';\n",
              "\n",
              "      async function convertToInteractive(key) {\n",
              "        const element = document.querySelector('#df-97c58445-e876-43f0-8742-06ea834c4c37');\n",
              "        const dataTable =\n",
              "          await google.colab.kernel.invokeFunction('convertToInteractive',\n",
              "                                                    [key], {});\n",
              "        if (!dataTable) return;\n",
              "\n",
              "        const docLinkHtml = 'Like what you see? Visit the ' +\n",
              "          '<a target=\"_blank\" href=https://colab.research.google.com/notebooks/data_table.ipynb>data table notebook</a>'\n",
              "          + ' to learn more about interactive tables.';\n",
              "        element.innerHTML = '';\n",
              "        dataTable['output_type'] = 'display_data';\n",
              "        await google.colab.output.renderOutput(dataTable, element);\n",
              "        const docLink = document.createElement('div');\n",
              "        docLink.innerHTML = docLinkHtml;\n",
              "        element.appendChild(docLink);\n",
              "      }\n",
              "    </script>\n",
              "  </div>\n",
              "\n",
              "\n",
              "<div id=\"df-0b04638f-5f74-4468-84e5-70ab823f2426\">\n",
              "  <button class=\"colab-df-quickchart\" onclick=\"quickchart('df-0b04638f-5f74-4468-84e5-70ab823f2426')\"\n",
              "            title=\"Suggest charts\"\n",
              "            style=\"display:none;\">\n",
              "\n",
              "<svg xmlns=\"http://www.w3.org/2000/svg\" height=\"24px\"viewBox=\"0 0 24 24\"\n",
              "     width=\"24px\">\n",
              "    <g>\n",
              "        <path d=\"M19 3H5c-1.1 0-2 .9-2 2v14c0 1.1.9 2 2 2h14c1.1 0 2-.9 2-2V5c0-1.1-.9-2-2-2zM9 17H7v-7h2v7zm4 0h-2V7h2v10zm4 0h-2v-4h2v4z\"/>\n",
              "    </g>\n",
              "</svg>\n",
              "  </button>\n",
              "\n",
              "<style>\n",
              "  .colab-df-quickchart {\n",
              "      --bg-color: #E8F0FE;\n",
              "      --fill-color: #1967D2;\n",
              "      --hover-bg-color: #E2EBFA;\n",
              "      --hover-fill-color: #174EA6;\n",
              "      --disabled-fill-color: #AAA;\n",
              "      --disabled-bg-color: #DDD;\n",
              "  }\n",
              "\n",
              "  [theme=dark] .colab-df-quickchart {\n",
              "      --bg-color: #3B4455;\n",
              "      --fill-color: #D2E3FC;\n",
              "      --hover-bg-color: #434B5C;\n",
              "      --hover-fill-color: #FFFFFF;\n",
              "      --disabled-bg-color: #3B4455;\n",
              "      --disabled-fill-color: #666;\n",
              "  }\n",
              "\n",
              "  .colab-df-quickchart {\n",
              "    background-color: var(--bg-color);\n",
              "    border: none;\n",
              "    border-radius: 50%;\n",
              "    cursor: pointer;\n",
              "    display: none;\n",
              "    fill: var(--fill-color);\n",
              "    height: 32px;\n",
              "    padding: 0;\n",
              "    width: 32px;\n",
              "  }\n",
              "\n",
              "  .colab-df-quickchart:hover {\n",
              "    background-color: var(--hover-bg-color);\n",
              "    box-shadow: 0 1px 2px rgba(60, 64, 67, 0.3), 0 1px 3px 1px rgba(60, 64, 67, 0.15);\n",
              "    fill: var(--button-hover-fill-color);\n",
              "  }\n",
              "\n",
              "  .colab-df-quickchart-complete:disabled,\n",
              "  .colab-df-quickchart-complete:disabled:hover {\n",
              "    background-color: var(--disabled-bg-color);\n",
              "    fill: var(--disabled-fill-color);\n",
              "    box-shadow: none;\n",
              "  }\n",
              "\n",
              "  .colab-df-spinner {\n",
              "    border: 2px solid var(--fill-color);\n",
              "    border-color: transparent;\n",
              "    border-bottom-color: var(--fill-color);\n",
              "    animation:\n",
              "      spin 1s steps(1) infinite;\n",
              "  }\n",
              "\n",
              "  @keyframes spin {\n",
              "    0% {\n",
              "      border-color: transparent;\n",
              "      border-bottom-color: var(--fill-color);\n",
              "      border-left-color: var(--fill-color);\n",
              "    }\n",
              "    20% {\n",
              "      border-color: transparent;\n",
              "      border-left-color: var(--fill-color);\n",
              "      border-top-color: var(--fill-color);\n",
              "    }\n",
              "    30% {\n",
              "      border-color: transparent;\n",
              "      border-left-color: var(--fill-color);\n",
              "      border-top-color: var(--fill-color);\n",
              "      border-right-color: var(--fill-color);\n",
              "    }\n",
              "    40% {\n",
              "      border-color: transparent;\n",
              "      border-right-color: var(--fill-color);\n",
              "      border-top-color: var(--fill-color);\n",
              "    }\n",
              "    60% {\n",
              "      border-color: transparent;\n",
              "      border-right-color: var(--fill-color);\n",
              "    }\n",
              "    80% {\n",
              "      border-color: transparent;\n",
              "      border-right-color: var(--fill-color);\n",
              "      border-bottom-color: var(--fill-color);\n",
              "    }\n",
              "    90% {\n",
              "      border-color: transparent;\n",
              "      border-bottom-color: var(--fill-color);\n",
              "    }\n",
              "  }\n",
              "</style>\n",
              "\n",
              "  <script>\n",
              "    async function quickchart(key) {\n",
              "      const quickchartButtonEl =\n",
              "        document.querySelector('#' + key + ' button');\n",
              "      quickchartButtonEl.disabled = true;  // To prevent multiple clicks.\n",
              "      quickchartButtonEl.classList.add('colab-df-spinner');\n",
              "      try {\n",
              "        const charts = await google.colab.kernel.invokeFunction(\n",
              "            'suggestCharts', [key], {});\n",
              "      } catch (error) {\n",
              "        console.error('Error during call to suggestCharts:', error);\n",
              "      }\n",
              "      quickchartButtonEl.classList.remove('colab-df-spinner');\n",
              "      quickchartButtonEl.classList.add('colab-df-quickchart-complete');\n",
              "    }\n",
              "    (() => {\n",
              "      let quickchartButtonEl =\n",
              "        document.querySelector('#df-0b04638f-5f74-4468-84e5-70ab823f2426 button');\n",
              "      quickchartButtonEl.style.display =\n",
              "        google.colab.kernel.accessAllowed ? 'block' : 'none';\n",
              "    })();\n",
              "  </script>\n",
              "</div>\n",
              "\n",
              "    </div>\n",
              "  </div>\n"
            ],
            "text/plain": [
              "              Age         Sex  ChestPainType   RestingBP  Cholesterol  \\\n",
              "count  917.000000  917.000000     917.000000  917.000000   917.000000   \n",
              "mean    53.509269    0.210469       2.251908  132.540894   244.635389   \n",
              "std      9.437636    0.407864       0.931502   17.999749    53.347125   \n",
              "min     28.000000    0.000000       0.000000   80.000000    85.000000   \n",
              "25%     47.000000    0.000000       2.000000  120.000000   214.000000   \n",
              "50%     54.000000    0.000000       3.000000  130.000000   244.635389   \n",
              "75%     60.000000    0.000000       3.000000  140.000000   267.000000   \n",
              "max     77.000000    1.000000       3.000000  200.000000   603.000000   \n",
              "\n",
              "        FastingBS  RestingECG       MaxHR  ExerciseAngina     Oldpeak  \\\n",
              "count  917.000000  917.000000  917.000000      917.000000  917.000000   \n",
              "mean     0.233370    0.604144  136.789531        0.404580    0.886696   \n",
              "std      0.423206    0.806161   25.467129        0.491078    1.066960   \n",
              "min      0.000000    0.000000   60.000000        0.000000   -2.600000   \n",
              "25%      0.000000    0.000000  120.000000        0.000000    0.000000   \n",
              "50%      0.000000    0.000000  138.000000        0.000000    0.600000   \n",
              "75%      0.000000    1.000000  156.000000        1.000000    1.500000   \n",
              "max      1.000000    2.000000  202.000000        1.000000    6.200000   \n",
              "\n",
              "        ST_Slope  HeartDisease  \n",
              "count  917.00000    917.000000  \n",
              "mean     0.63795      0.552890  \n",
              "std      0.60727      0.497466  \n",
              "min      0.00000      0.000000  \n",
              "25%      0.00000      0.000000  \n",
              "50%      1.00000      1.000000  \n",
              "75%      1.00000      1.000000  \n",
              "max      2.00000      1.000000  "
            ]
          },
          "execution_count": 11,
          "metadata": {},
          "output_type": "execute_result"
        }
      ],
      "source": [
        "df2.describe()"
      ]
    },
    {
      "cell_type": "code",
      "execution_count": null,
      "metadata": {
        "id": "0sJU6oAhUpf5"
      },
      "outputs": [],
      "source": [
        "previsores_esc = StandardScaler().fit_transform(previsores)"
      ]
    },
    {
      "cell_type": "code",
      "execution_count": null,
      "metadata": {
        "colab": {
          "base_uri": "https://localhost:8080/",
          "height": 206
        },
        "id": "GJRXi2BdU3kT",
        "outputId": "e96b4fd1-a461-4d97-9fbb-a1d4523f1f4d"
      },
      "outputs": [
        {
          "data": {
            "text/html": [
              "\n",
              "  <div id=\"df-b7f52f81-6b48-43b8-80d0-e6db3338c9be\" class=\"colab-df-container\">\n",
              "    <div>\n",
              "<style scoped>\n",
              "    .dataframe tbody tr th:only-of-type {\n",
              "        vertical-align: middle;\n",
              "    }\n",
              "\n",
              "    .dataframe tbody tr th {\n",
              "        vertical-align: top;\n",
              "    }\n",
              "\n",
              "    .dataframe thead th {\n",
              "        text-align: right;\n",
              "    }\n",
              "</style>\n",
              "<table border=\"1\" class=\"dataframe\">\n",
              "  <thead>\n",
              "    <tr style=\"text-align: right;\">\n",
              "      <th></th>\n",
              "      <th>0</th>\n",
              "      <th>1</th>\n",
              "      <th>2</th>\n",
              "      <th>3</th>\n",
              "      <th>4</th>\n",
              "      <th>5</th>\n",
              "      <th>6</th>\n",
              "      <th>7</th>\n",
              "      <th>8</th>\n",
              "      <th>9</th>\n",
              "      <th>10</th>\n",
              "    </tr>\n",
              "  </thead>\n",
              "  <tbody>\n",
              "    <tr>\n",
              "      <th>0</th>\n",
              "      <td>-1.432206</td>\n",
              "      <td>-0.516309</td>\n",
              "      <td>-1.344701</td>\n",
              "      <td>0.414627</td>\n",
              "      <td>0.832075</td>\n",
              "      <td>-0.551733</td>\n",
              "      <td>-0.749818</td>\n",
              "      <td>1.383339</td>\n",
              "      <td>-0.824310</td>\n",
              "      <td>-0.831502</td>\n",
              "      <td>-1.051095</td>\n",
              "    </tr>\n",
              "    <tr>\n",
              "      <th>1</th>\n",
              "      <td>-0.478057</td>\n",
              "      <td>1.936826</td>\n",
              "      <td>-0.270580</td>\n",
              "      <td>1.526360</td>\n",
              "      <td>-1.212261</td>\n",
              "      <td>-0.551733</td>\n",
              "      <td>-0.749818</td>\n",
              "      <td>0.754736</td>\n",
              "      <td>-0.824310</td>\n",
              "      <td>0.106251</td>\n",
              "      <td>0.596519</td>\n",
              "    </tr>\n",
              "    <tr>\n",
              "      <th>2</th>\n",
              "      <td>-1.750256</td>\n",
              "      <td>-0.516309</td>\n",
              "      <td>-1.344701</td>\n",
              "      <td>-0.141240</td>\n",
              "      <td>0.719543</td>\n",
              "      <td>-0.551733</td>\n",
              "      <td>0.491306</td>\n",
              "      <td>-1.523953</td>\n",
              "      <td>-0.824310</td>\n",
              "      <td>-0.831502</td>\n",
              "      <td>-1.051095</td>\n",
              "    </tr>\n",
              "    <tr>\n",
              "      <th>3</th>\n",
              "      <td>-0.584074</td>\n",
              "      <td>1.936826</td>\n",
              "      <td>0.803541</td>\n",
              "      <td>0.303453</td>\n",
              "      <td>-0.574578</td>\n",
              "      <td>-0.551733</td>\n",
              "      <td>-0.749818</td>\n",
              "      <td>-1.131075</td>\n",
              "      <td>1.213136</td>\n",
              "      <td>0.575128</td>\n",
              "      <td>0.596519</td>\n",
              "    </tr>\n",
              "    <tr>\n",
              "      <th>4</th>\n",
              "      <td>0.052026</td>\n",
              "      <td>-0.516309</td>\n",
              "      <td>-0.270580</td>\n",
              "      <td>0.970493</td>\n",
              "      <td>-0.930931</td>\n",
              "      <td>-0.551733</td>\n",
              "      <td>-0.749818</td>\n",
              "      <td>-0.581047</td>\n",
              "      <td>-0.824310</td>\n",
              "      <td>-0.831502</td>\n",
              "      <td>-1.051095</td>\n",
              "    </tr>\n",
              "  </tbody>\n",
              "</table>\n",
              "</div>\n",
              "    <div class=\"colab-df-buttons\">\n",
              "\n",
              "  <div class=\"colab-df-container\">\n",
              "    <button class=\"colab-df-convert\" onclick=\"convertToInteractive('df-b7f52f81-6b48-43b8-80d0-e6db3338c9be')\"\n",
              "            title=\"Convert this dataframe to an interactive table.\"\n",
              "            style=\"display:none;\">\n",
              "\n",
              "  <svg xmlns=\"http://www.w3.org/2000/svg\" height=\"24px\" viewBox=\"0 -960 960 960\">\n",
              "    <path d=\"M120-120v-720h720v720H120Zm60-500h600v-160H180v160Zm220 220h160v-160H400v160Zm0 220h160v-160H400v160ZM180-400h160v-160H180v160Zm440 0h160v-160H620v160ZM180-180h160v-160H180v160Zm440 0h160v-160H620v160Z\"/>\n",
              "  </svg>\n",
              "    </button>\n",
              "\n",
              "  <style>\n",
              "    .colab-df-container {\n",
              "      display:flex;\n",
              "      gap: 12px;\n",
              "    }\n",
              "\n",
              "    .colab-df-convert {\n",
              "      background-color: #E8F0FE;\n",
              "      border: none;\n",
              "      border-radius: 50%;\n",
              "      cursor: pointer;\n",
              "      display: none;\n",
              "      fill: #1967D2;\n",
              "      height: 32px;\n",
              "      padding: 0 0 0 0;\n",
              "      width: 32px;\n",
              "    }\n",
              "\n",
              "    .colab-df-convert:hover {\n",
              "      background-color: #E2EBFA;\n",
              "      box-shadow: 0px 1px 2px rgba(60, 64, 67, 0.3), 0px 1px 3px 1px rgba(60, 64, 67, 0.15);\n",
              "      fill: #174EA6;\n",
              "    }\n",
              "\n",
              "    .colab-df-buttons div {\n",
              "      margin-bottom: 4px;\n",
              "    }\n",
              "\n",
              "    [theme=dark] .colab-df-convert {\n",
              "      background-color: #3B4455;\n",
              "      fill: #D2E3FC;\n",
              "    }\n",
              "\n",
              "    [theme=dark] .colab-df-convert:hover {\n",
              "      background-color: #434B5C;\n",
              "      box-shadow: 0px 1px 3px 1px rgba(0, 0, 0, 0.15);\n",
              "      filter: drop-shadow(0px 1px 2px rgba(0, 0, 0, 0.3));\n",
              "      fill: #FFFFFF;\n",
              "    }\n",
              "  </style>\n",
              "\n",
              "    <script>\n",
              "      const buttonEl =\n",
              "        document.querySelector('#df-b7f52f81-6b48-43b8-80d0-e6db3338c9be button.colab-df-convert');\n",
              "      buttonEl.style.display =\n",
              "        google.colab.kernel.accessAllowed ? 'block' : 'none';\n",
              "\n",
              "      async function convertToInteractive(key) {\n",
              "        const element = document.querySelector('#df-b7f52f81-6b48-43b8-80d0-e6db3338c9be');\n",
              "        const dataTable =\n",
              "          await google.colab.kernel.invokeFunction('convertToInteractive',\n",
              "                                                    [key], {});\n",
              "        if (!dataTable) return;\n",
              "\n",
              "        const docLinkHtml = 'Like what you see? Visit the ' +\n",
              "          '<a target=\"_blank\" href=https://colab.research.google.com/notebooks/data_table.ipynb>data table notebook</a>'\n",
              "          + ' to learn more about interactive tables.';\n",
              "        element.innerHTML = '';\n",
              "        dataTable['output_type'] = 'display_data';\n",
              "        await google.colab.output.renderOutput(dataTable, element);\n",
              "        const docLink = document.createElement('div');\n",
              "        docLink.innerHTML = docLinkHtml;\n",
              "        element.appendChild(docLink);\n",
              "      }\n",
              "    </script>\n",
              "  </div>\n",
              "\n",
              "\n",
              "<div id=\"df-61605402-5890-4108-8977-721776301f3f\">\n",
              "  <button class=\"colab-df-quickchart\" onclick=\"quickchart('df-61605402-5890-4108-8977-721776301f3f')\"\n",
              "            title=\"Suggest charts\"\n",
              "            style=\"display:none;\">\n",
              "\n",
              "<svg xmlns=\"http://www.w3.org/2000/svg\" height=\"24px\"viewBox=\"0 0 24 24\"\n",
              "     width=\"24px\">\n",
              "    <g>\n",
              "        <path d=\"M19 3H5c-1.1 0-2 .9-2 2v14c0 1.1.9 2 2 2h14c1.1 0 2-.9 2-2V5c0-1.1-.9-2-2-2zM9 17H7v-7h2v7zm4 0h-2V7h2v10zm4 0h-2v-4h2v4z\"/>\n",
              "    </g>\n",
              "</svg>\n",
              "  </button>\n",
              "\n",
              "<style>\n",
              "  .colab-df-quickchart {\n",
              "      --bg-color: #E8F0FE;\n",
              "      --fill-color: #1967D2;\n",
              "      --hover-bg-color: #E2EBFA;\n",
              "      --hover-fill-color: #174EA6;\n",
              "      --disabled-fill-color: #AAA;\n",
              "      --disabled-bg-color: #DDD;\n",
              "  }\n",
              "\n",
              "  [theme=dark] .colab-df-quickchart {\n",
              "      --bg-color: #3B4455;\n",
              "      --fill-color: #D2E3FC;\n",
              "      --hover-bg-color: #434B5C;\n",
              "      --hover-fill-color: #FFFFFF;\n",
              "      --disabled-bg-color: #3B4455;\n",
              "      --disabled-fill-color: #666;\n",
              "  }\n",
              "\n",
              "  .colab-df-quickchart {\n",
              "    background-color: var(--bg-color);\n",
              "    border: none;\n",
              "    border-radius: 50%;\n",
              "    cursor: pointer;\n",
              "    display: none;\n",
              "    fill: var(--fill-color);\n",
              "    height: 32px;\n",
              "    padding: 0;\n",
              "    width: 32px;\n",
              "  }\n",
              "\n",
              "  .colab-df-quickchart:hover {\n",
              "    background-color: var(--hover-bg-color);\n",
              "    box-shadow: 0 1px 2px rgba(60, 64, 67, 0.3), 0 1px 3px 1px rgba(60, 64, 67, 0.15);\n",
              "    fill: var(--button-hover-fill-color);\n",
              "  }\n",
              "\n",
              "  .colab-df-quickchart-complete:disabled,\n",
              "  .colab-df-quickchart-complete:disabled:hover {\n",
              "    background-color: var(--disabled-bg-color);\n",
              "    fill: var(--disabled-fill-color);\n",
              "    box-shadow: none;\n",
              "  }\n",
              "\n",
              "  .colab-df-spinner {\n",
              "    border: 2px solid var(--fill-color);\n",
              "    border-color: transparent;\n",
              "    border-bottom-color: var(--fill-color);\n",
              "    animation:\n",
              "      spin 1s steps(1) infinite;\n",
              "  }\n",
              "\n",
              "  @keyframes spin {\n",
              "    0% {\n",
              "      border-color: transparent;\n",
              "      border-bottom-color: var(--fill-color);\n",
              "      border-left-color: var(--fill-color);\n",
              "    }\n",
              "    20% {\n",
              "      border-color: transparent;\n",
              "      border-left-color: var(--fill-color);\n",
              "      border-top-color: var(--fill-color);\n",
              "    }\n",
              "    30% {\n",
              "      border-color: transparent;\n",
              "      border-left-color: var(--fill-color);\n",
              "      border-top-color: var(--fill-color);\n",
              "      border-right-color: var(--fill-color);\n",
              "    }\n",
              "    40% {\n",
              "      border-color: transparent;\n",
              "      border-right-color: var(--fill-color);\n",
              "      border-top-color: var(--fill-color);\n",
              "    }\n",
              "    60% {\n",
              "      border-color: transparent;\n",
              "      border-right-color: var(--fill-color);\n",
              "    }\n",
              "    80% {\n",
              "      border-color: transparent;\n",
              "      border-right-color: var(--fill-color);\n",
              "      border-bottom-color: var(--fill-color);\n",
              "    }\n",
              "    90% {\n",
              "      border-color: transparent;\n",
              "      border-bottom-color: var(--fill-color);\n",
              "    }\n",
              "  }\n",
              "</style>\n",
              "\n",
              "  <script>\n",
              "    async function quickchart(key) {\n",
              "      const quickchartButtonEl =\n",
              "        document.querySelector('#' + key + ' button');\n",
              "      quickchartButtonEl.disabled = true;  // To prevent multiple clicks.\n",
              "      quickchartButtonEl.classList.add('colab-df-spinner');\n",
              "      try {\n",
              "        const charts = await google.colab.kernel.invokeFunction(\n",
              "            'suggestCharts', [key], {});\n",
              "      } catch (error) {\n",
              "        console.error('Error during call to suggestCharts:', error);\n",
              "      }\n",
              "      quickchartButtonEl.classList.remove('colab-df-spinner');\n",
              "      quickchartButtonEl.classList.add('colab-df-quickchart-complete');\n",
              "    }\n",
              "    (() => {\n",
              "      let quickchartButtonEl =\n",
              "        document.querySelector('#df-61605402-5890-4108-8977-721776301f3f button');\n",
              "      quickchartButtonEl.style.display =\n",
              "        google.colab.kernel.accessAllowed ? 'block' : 'none';\n",
              "    })();\n",
              "  </script>\n",
              "</div>\n",
              "\n",
              "    </div>\n",
              "  </div>\n"
            ],
            "text/plain": [
              "         0         1         2         3         4         5         6   \\\n",
              "0 -1.432206 -0.516309 -1.344701  0.414627  0.832075 -0.551733 -0.749818   \n",
              "1 -0.478057  1.936826 -0.270580  1.526360 -1.212261 -0.551733 -0.749818   \n",
              "2 -1.750256 -0.516309 -1.344701 -0.141240  0.719543 -0.551733  0.491306   \n",
              "3 -0.584074  1.936826  0.803541  0.303453 -0.574578 -0.551733 -0.749818   \n",
              "4  0.052026 -0.516309 -0.270580  0.970493 -0.930931 -0.551733 -0.749818   \n",
              "\n",
              "         7         8         9         10  \n",
              "0  1.383339 -0.824310 -0.831502 -1.051095  \n",
              "1  0.754736 -0.824310  0.106251  0.596519  \n",
              "2 -1.523953 -0.824310 -0.831502 -1.051095  \n",
              "3 -1.131075  1.213136  0.575128  0.596519  \n",
              "4 -0.581047 -0.824310 -0.831502 -1.051095  "
            ]
          },
          "execution_count": 12,
          "metadata": {},
          "output_type": "execute_result"
        }
      ],
      "source": [
        "previsores_df = pd.DataFrame(previsores_esc)\n",
        "previsores_df.head()"
      ]
    },
    {
      "cell_type": "code",
      "execution_count": null,
      "metadata": {
        "colab": {
          "base_uri": "https://localhost:8080/"
        },
        "id": "EbbMswZFVFa9",
        "outputId": "da7a9b8e-b3a5-4e22-8873-b57ed74d3a24"
      },
      "outputs": [
        {
          "data": {
            "text/html": [
              "\n",
              "  <div id=\"df-ed617e85-1b18-4624-8a55-bae28cd62341\" class=\"colab-df-container\">\n",
              "    <div>\n",
              "<style scoped>\n",
              "    .dataframe tbody tr th:only-of-type {\n",
              "        vertical-align: middle;\n",
              "    }\n",
              "\n",
              "    .dataframe tbody tr th {\n",
              "        vertical-align: top;\n",
              "    }\n",
              "\n",
              "    .dataframe thead th {\n",
              "        text-align: right;\n",
              "    }\n",
              "</style>\n",
              "<table border=\"1\" class=\"dataframe\">\n",
              "  <thead>\n",
              "    <tr style=\"text-align: right;\">\n",
              "      <th></th>\n",
              "      <th>0</th>\n",
              "      <th>1</th>\n",
              "      <th>2</th>\n",
              "      <th>3</th>\n",
              "      <th>4</th>\n",
              "      <th>5</th>\n",
              "      <th>6</th>\n",
              "      <th>7</th>\n",
              "      <th>8</th>\n",
              "      <th>9</th>\n",
              "      <th>10</th>\n",
              "    </tr>\n",
              "  </thead>\n",
              "  <tbody>\n",
              "    <tr>\n",
              "      <th>count</th>\n",
              "      <td>9.170000e+02</td>\n",
              "      <td>9.170000e+02</td>\n",
              "      <td>9.170000e+02</td>\n",
              "      <td>9.170000e+02</td>\n",
              "      <td>9.170000e+02</td>\n",
              "      <td>9.170000e+02</td>\n",
              "      <td>917.000000</td>\n",
              "      <td>9.170000e+02</td>\n",
              "      <td>9.170000e+02</td>\n",
              "      <td>9.170000e+02</td>\n",
              "      <td>9.170000e+02</td>\n",
              "    </tr>\n",
              "    <tr>\n",
              "      <th>mean</th>\n",
              "      <td>1.859654e-16</td>\n",
              "      <td>7.748558e-18</td>\n",
              "      <td>1.046055e-16</td>\n",
              "      <td>7.767929e-16</td>\n",
              "      <td>-1.869340e-16</td>\n",
              "      <td>4.649135e-17</td>\n",
              "      <td>0.000000</td>\n",
              "      <td>-5.114048e-16</td>\n",
              "      <td>-1.046055e-16</td>\n",
              "      <td>7.748558e-17</td>\n",
              "      <td>-3.874279e-17</td>\n",
              "    </tr>\n",
              "    <tr>\n",
              "      <th>std</th>\n",
              "      <td>1.000546e+00</td>\n",
              "      <td>1.000546e+00</td>\n",
              "      <td>1.000546e+00</td>\n",
              "      <td>1.000546e+00</td>\n",
              "      <td>1.000546e+00</td>\n",
              "      <td>1.000546e+00</td>\n",
              "      <td>1.000546</td>\n",
              "      <td>1.000546e+00</td>\n",
              "      <td>1.000546e+00</td>\n",
              "      <td>1.000546e+00</td>\n",
              "      <td>1.000546e+00</td>\n",
              "    </tr>\n",
              "    <tr>\n",
              "      <th>min</th>\n",
              "      <td>-2.704405e+00</td>\n",
              "      <td>-5.163086e-01</td>\n",
              "      <td>-2.418822e+00</td>\n",
              "      <td>-2.920572e+00</td>\n",
              "      <td>-2.994023e+00</td>\n",
              "      <td>-5.517333e-01</td>\n",
              "      <td>-0.749818</td>\n",
              "      <td>-3.016886e+00</td>\n",
              "      <td>-8.243101e-01</td>\n",
              "      <td>-3.269662e+00</td>\n",
              "      <td>-1.051095e+00</td>\n",
              "    </tr>\n",
              "    <tr>\n",
              "      <th>25%</th>\n",
              "      <td>-6.900904e-01</td>\n",
              "      <td>-5.163086e-01</td>\n",
              "      <td>-2.705801e-01</td>\n",
              "      <td>-6.971063e-01</td>\n",
              "      <td>-5.745784e-01</td>\n",
              "      <td>-5.517333e-01</td>\n",
              "      <td>-0.749818</td>\n",
              "      <td>-6.596226e-01</td>\n",
              "      <td>-8.243101e-01</td>\n",
              "      <td>-8.315022e-01</td>\n",
              "      <td>-1.051095e+00</td>\n",
              "    </tr>\n",
              "    <tr>\n",
              "      <th>50%</th>\n",
              "      <td>5.202558e-02</td>\n",
              "      <td>-5.163086e-01</td>\n",
              "      <td>8.035410e-01</td>\n",
              "      <td>-1.412398e-01</td>\n",
              "      <td>0.000000e+00</td>\n",
              "      <td>-5.517333e-01</td>\n",
              "      <td>-0.749818</td>\n",
              "      <td>4.755658e-02</td>\n",
              "      <td>-8.243101e-01</td>\n",
              "      <td>-2.688500e-01</td>\n",
              "      <td>5.965186e-01</td>\n",
              "    </tr>\n",
              "    <tr>\n",
              "      <th>75%</th>\n",
              "      <td>6.881250e-01</td>\n",
              "      <td>-5.163086e-01</td>\n",
              "      <td>8.035410e-01</td>\n",
              "      <td>4.146267e-01</td>\n",
              "      <td>4.194568e-01</td>\n",
              "      <td>-5.517333e-01</td>\n",
              "      <td>0.491306</td>\n",
              "      <td>7.547357e-01</td>\n",
              "      <td>1.213136e+00</td>\n",
              "      <td>5.751284e-01</td>\n",
              "      <td>5.965186e-01</td>\n",
              "    </tr>\n",
              "    <tr>\n",
              "      <th>max</th>\n",
              "      <td>2.490407e+00</td>\n",
              "      <td>1.936826e+00</td>\n",
              "      <td>8.035410e-01</td>\n",
              "      <td>3.749826e+00</td>\n",
              "      <td>6.721265e+00</td>\n",
              "      <td>1.812470e+00</td>\n",
              "      <td>1.732430</td>\n",
              "      <td>2.561971e+00</td>\n",
              "      <td>1.213136e+00</td>\n",
              "      <td>4.982571e+00</td>\n",
              "      <td>2.244132e+00</td>\n",
              "    </tr>\n",
              "  </tbody>\n",
              "</table>\n",
              "</div>\n",
              "    <div class=\"colab-df-buttons\">\n",
              "\n",
              "  <div class=\"colab-df-container\">\n",
              "    <button class=\"colab-df-convert\" onclick=\"convertToInteractive('df-ed617e85-1b18-4624-8a55-bae28cd62341')\"\n",
              "            title=\"Convert this dataframe to an interactive table.\"\n",
              "            style=\"display:none;\">\n",
              "\n",
              "  <svg xmlns=\"http://www.w3.org/2000/svg\" height=\"24px\" viewBox=\"0 -960 960 960\">\n",
              "    <path d=\"M120-120v-720h720v720H120Zm60-500h600v-160H180v160Zm220 220h160v-160H400v160Zm0 220h160v-160H400v160ZM180-400h160v-160H180v160Zm440 0h160v-160H620v160ZM180-180h160v-160H180v160Zm440 0h160v-160H620v160Z\"/>\n",
              "  </svg>\n",
              "    </button>\n",
              "\n",
              "  <style>\n",
              "    .colab-df-container {\n",
              "      display:flex;\n",
              "      gap: 12px;\n",
              "    }\n",
              "\n",
              "    .colab-df-convert {\n",
              "      background-color: #E8F0FE;\n",
              "      border: none;\n",
              "      border-radius: 50%;\n",
              "      cursor: pointer;\n",
              "      display: none;\n",
              "      fill: #1967D2;\n",
              "      height: 32px;\n",
              "      padding: 0 0 0 0;\n",
              "      width: 32px;\n",
              "    }\n",
              "\n",
              "    .colab-df-convert:hover {\n",
              "      background-color: #E2EBFA;\n",
              "      box-shadow: 0px 1px 2px rgba(60, 64, 67, 0.3), 0px 1px 3px 1px rgba(60, 64, 67, 0.15);\n",
              "      fill: #174EA6;\n",
              "    }\n",
              "\n",
              "    .colab-df-buttons div {\n",
              "      margin-bottom: 4px;\n",
              "    }\n",
              "\n",
              "    [theme=dark] .colab-df-convert {\n",
              "      background-color: #3B4455;\n",
              "      fill: #D2E3FC;\n",
              "    }\n",
              "\n",
              "    [theme=dark] .colab-df-convert:hover {\n",
              "      background-color: #434B5C;\n",
              "      box-shadow: 0px 1px 3px 1px rgba(0, 0, 0, 0.15);\n",
              "      filter: drop-shadow(0px 1px 2px rgba(0, 0, 0, 0.3));\n",
              "      fill: #FFFFFF;\n",
              "    }\n",
              "  </style>\n",
              "\n",
              "    <script>\n",
              "      const buttonEl =\n",
              "        document.querySelector('#df-ed617e85-1b18-4624-8a55-bae28cd62341 button.colab-df-convert');\n",
              "      buttonEl.style.display =\n",
              "        google.colab.kernel.accessAllowed ? 'block' : 'none';\n",
              "\n",
              "      async function convertToInteractive(key) {\n",
              "        const element = document.querySelector('#df-ed617e85-1b18-4624-8a55-bae28cd62341');\n",
              "        const dataTable =\n",
              "          await google.colab.kernel.invokeFunction('convertToInteractive',\n",
              "                                                    [key], {});\n",
              "        if (!dataTable) return;\n",
              "\n",
              "        const docLinkHtml = 'Like what you see? Visit the ' +\n",
              "          '<a target=\"_blank\" href=https://colab.research.google.com/notebooks/data_table.ipynb>data table notebook</a>'\n",
              "          + ' to learn more about interactive tables.';\n",
              "        element.innerHTML = '';\n",
              "        dataTable['output_type'] = 'display_data';\n",
              "        await google.colab.output.renderOutput(dataTable, element);\n",
              "        const docLink = document.createElement('div');\n",
              "        docLink.innerHTML = docLinkHtml;\n",
              "        element.appendChild(docLink);\n",
              "      }\n",
              "    </script>\n",
              "  </div>\n",
              "\n",
              "\n",
              "<div id=\"df-829d4e01-0c55-49a3-8830-381add981796\">\n",
              "  <button class=\"colab-df-quickchart\" onclick=\"quickchart('df-829d4e01-0c55-49a3-8830-381add981796')\"\n",
              "            title=\"Suggest charts\"\n",
              "            style=\"display:none;\">\n",
              "\n",
              "<svg xmlns=\"http://www.w3.org/2000/svg\" height=\"24px\"viewBox=\"0 0 24 24\"\n",
              "     width=\"24px\">\n",
              "    <g>\n",
              "        <path d=\"M19 3H5c-1.1 0-2 .9-2 2v14c0 1.1.9 2 2 2h14c1.1 0 2-.9 2-2V5c0-1.1-.9-2-2-2zM9 17H7v-7h2v7zm4 0h-2V7h2v10zm4 0h-2v-4h2v4z\"/>\n",
              "    </g>\n",
              "</svg>\n",
              "  </button>\n",
              "\n",
              "<style>\n",
              "  .colab-df-quickchart {\n",
              "      --bg-color: #E8F0FE;\n",
              "      --fill-color: #1967D2;\n",
              "      --hover-bg-color: #E2EBFA;\n",
              "      --hover-fill-color: #174EA6;\n",
              "      --disabled-fill-color: #AAA;\n",
              "      --disabled-bg-color: #DDD;\n",
              "  }\n",
              "\n",
              "  [theme=dark] .colab-df-quickchart {\n",
              "      --bg-color: #3B4455;\n",
              "      --fill-color: #D2E3FC;\n",
              "      --hover-bg-color: #434B5C;\n",
              "      --hover-fill-color: #FFFFFF;\n",
              "      --disabled-bg-color: #3B4455;\n",
              "      --disabled-fill-color: #666;\n",
              "  }\n",
              "\n",
              "  .colab-df-quickchart {\n",
              "    background-color: var(--bg-color);\n",
              "    border: none;\n",
              "    border-radius: 50%;\n",
              "    cursor: pointer;\n",
              "    display: none;\n",
              "    fill: var(--fill-color);\n",
              "    height: 32px;\n",
              "    padding: 0;\n",
              "    width: 32px;\n",
              "  }\n",
              "\n",
              "  .colab-df-quickchart:hover {\n",
              "    background-color: var(--hover-bg-color);\n",
              "    box-shadow: 0 1px 2px rgba(60, 64, 67, 0.3), 0 1px 3px 1px rgba(60, 64, 67, 0.15);\n",
              "    fill: var(--button-hover-fill-color);\n",
              "  }\n",
              "\n",
              "  .colab-df-quickchart-complete:disabled,\n",
              "  .colab-df-quickchart-complete:disabled:hover {\n",
              "    background-color: var(--disabled-bg-color);\n",
              "    fill: var(--disabled-fill-color);\n",
              "    box-shadow: none;\n",
              "  }\n",
              "\n",
              "  .colab-df-spinner {\n",
              "    border: 2px solid var(--fill-color);\n",
              "    border-color: transparent;\n",
              "    border-bottom-color: var(--fill-color);\n",
              "    animation:\n",
              "      spin 1s steps(1) infinite;\n",
              "  }\n",
              "\n",
              "  @keyframes spin {\n",
              "    0% {\n",
              "      border-color: transparent;\n",
              "      border-bottom-color: var(--fill-color);\n",
              "      border-left-color: var(--fill-color);\n",
              "    }\n",
              "    20% {\n",
              "      border-color: transparent;\n",
              "      border-left-color: var(--fill-color);\n",
              "      border-top-color: var(--fill-color);\n",
              "    }\n",
              "    30% {\n",
              "      border-color: transparent;\n",
              "      border-left-color: var(--fill-color);\n",
              "      border-top-color: var(--fill-color);\n",
              "      border-right-color: var(--fill-color);\n",
              "    }\n",
              "    40% {\n",
              "      border-color: transparent;\n",
              "      border-right-color: var(--fill-color);\n",
              "      border-top-color: var(--fill-color);\n",
              "    }\n",
              "    60% {\n",
              "      border-color: transparent;\n",
              "      border-right-color: var(--fill-color);\n",
              "    }\n",
              "    80% {\n",
              "      border-color: transparent;\n",
              "      border-right-color: var(--fill-color);\n",
              "      border-bottom-color: var(--fill-color);\n",
              "    }\n",
              "    90% {\n",
              "      border-color: transparent;\n",
              "      border-bottom-color: var(--fill-color);\n",
              "    }\n",
              "  }\n",
              "</style>\n",
              "\n",
              "  <script>\n",
              "    async function quickchart(key) {\n",
              "      const quickchartButtonEl =\n",
              "        document.querySelector('#' + key + ' button');\n",
              "      quickchartButtonEl.disabled = true;  // To prevent multiple clicks.\n",
              "      quickchartButtonEl.classList.add('colab-df-spinner');\n",
              "      try {\n",
              "        const charts = await google.colab.kernel.invokeFunction(\n",
              "            'suggestCharts', [key], {});\n",
              "      } catch (error) {\n",
              "        console.error('Error during call to suggestCharts:', error);\n",
              "      }\n",
              "      quickchartButtonEl.classList.remove('colab-df-spinner');\n",
              "      quickchartButtonEl.classList.add('colab-df-quickchart-complete');\n",
              "    }\n",
              "    (() => {\n",
              "      let quickchartButtonEl =\n",
              "        document.querySelector('#df-829d4e01-0c55-49a3-8830-381add981796 button');\n",
              "      quickchartButtonEl.style.display =\n",
              "        google.colab.kernel.accessAllowed ? 'block' : 'none';\n",
              "    })();\n",
              "  </script>\n",
              "</div>\n",
              "\n",
              "    </div>\n",
              "  </div>\n"
            ],
            "text/plain": [
              "                 0             1             2             3             4   \\\n",
              "count  9.170000e+02  9.170000e+02  9.170000e+02  9.170000e+02  9.170000e+02   \n",
              "mean   1.859654e-16  7.748558e-18  1.046055e-16  7.767929e-16 -1.869340e-16   \n",
              "std    1.000546e+00  1.000546e+00  1.000546e+00  1.000546e+00  1.000546e+00   \n",
              "min   -2.704405e+00 -5.163086e-01 -2.418822e+00 -2.920572e+00 -2.994023e+00   \n",
              "25%   -6.900904e-01 -5.163086e-01 -2.705801e-01 -6.971063e-01 -5.745784e-01   \n",
              "50%    5.202558e-02 -5.163086e-01  8.035410e-01 -1.412398e-01  0.000000e+00   \n",
              "75%    6.881250e-01 -5.163086e-01  8.035410e-01  4.146267e-01  4.194568e-01   \n",
              "max    2.490407e+00  1.936826e+00  8.035410e-01  3.749826e+00  6.721265e+00   \n",
              "\n",
              "                 5           6             7             8             9   \\\n",
              "count  9.170000e+02  917.000000  9.170000e+02  9.170000e+02  9.170000e+02   \n",
              "mean   4.649135e-17    0.000000 -5.114048e-16 -1.046055e-16  7.748558e-17   \n",
              "std    1.000546e+00    1.000546  1.000546e+00  1.000546e+00  1.000546e+00   \n",
              "min   -5.517333e-01   -0.749818 -3.016886e+00 -8.243101e-01 -3.269662e+00   \n",
              "25%   -5.517333e-01   -0.749818 -6.596226e-01 -8.243101e-01 -8.315022e-01   \n",
              "50%   -5.517333e-01   -0.749818  4.755658e-02 -8.243101e-01 -2.688500e-01   \n",
              "75%   -5.517333e-01    0.491306  7.547357e-01  1.213136e+00  5.751284e-01   \n",
              "max    1.812470e+00    1.732430  2.561971e+00  1.213136e+00  4.982571e+00   \n",
              "\n",
              "                 10  \n",
              "count  9.170000e+02  \n",
              "mean  -3.874279e-17  \n",
              "std    1.000546e+00  \n",
              "min   -1.051095e+00  \n",
              "25%   -1.051095e+00  \n",
              "50%    5.965186e-01  \n",
              "75%    5.965186e-01  \n",
              "max    2.244132e+00  "
            ]
          },
          "execution_count": 14,
          "metadata": {},
          "output_type": "execute_result"
        }
      ],
      "source": [
        "previsores_df.describe()"
      ]
    },
    {
      "cell_type": "markdown",
      "metadata": {
        "id": "_ZUP5bdnZlpz"
      },
      "source": [
        "# LabelEncoder\n",
        "## transformação de variáveis categóricas em numéricas"
      ]
    },
    {
      "cell_type": "code",
      "execution_count": null,
      "metadata": {
        "id": "C7M_N83KZ0Yi"
      },
      "outputs": [],
      "source": [
        "previsores2 = df.copy()"
      ]
    },
    {
      "cell_type": "code",
      "execution_count": null,
      "metadata": {
        "colab": {
          "base_uri": "https://localhost:8080/"
        },
        "id": "JYA5SVCRcSjk",
        "outputId": "a06d7561-5e4b-4a0a-9e89-8eda92ce3980"
      },
      "outputs": [
        {
          "data": {
            "text/html": [
              "\n",
              "  <div id=\"df-5183ae86-250a-42f8-a07d-15aaaab2b2c3\" class=\"colab-df-container\">\n",
              "    <div>\n",
              "<style scoped>\n",
              "    .dataframe tbody tr th:only-of-type {\n",
              "        vertical-align: middle;\n",
              "    }\n",
              "\n",
              "    .dataframe tbody tr th {\n",
              "        vertical-align: top;\n",
              "    }\n",
              "\n",
              "    .dataframe thead th {\n",
              "        text-align: right;\n",
              "    }\n",
              "</style>\n",
              "<table border=\"1\" class=\"dataframe\">\n",
              "  <thead>\n",
              "    <tr style=\"text-align: right;\">\n",
              "      <th></th>\n",
              "      <th>Age</th>\n",
              "      <th>Sex</th>\n",
              "      <th>ChestPainType</th>\n",
              "      <th>RestingBP</th>\n",
              "      <th>Cholesterol</th>\n",
              "      <th>FastingBS</th>\n",
              "      <th>RestingECG</th>\n",
              "      <th>MaxHR</th>\n",
              "      <th>ExerciseAngina</th>\n",
              "      <th>Oldpeak</th>\n",
              "      <th>ST_Slope</th>\n",
              "      <th>HeartDisease</th>\n",
              "    </tr>\n",
              "  </thead>\n",
              "  <tbody>\n",
              "    <tr>\n",
              "      <th>0</th>\n",
              "      <td>40</td>\n",
              "      <td>M</td>\n",
              "      <td>ATA</td>\n",
              "      <td>140</td>\n",
              "      <td>289.0</td>\n",
              "      <td>0</td>\n",
              "      <td>Normal</td>\n",
              "      <td>172</td>\n",
              "      <td>N</td>\n",
              "      <td>0.0</td>\n",
              "      <td>Up</td>\n",
              "      <td>0</td>\n",
              "    </tr>\n",
              "    <tr>\n",
              "      <th>1</th>\n",
              "      <td>49</td>\n",
              "      <td>F</td>\n",
              "      <td>NAP</td>\n",
              "      <td>160</td>\n",
              "      <td>180.0</td>\n",
              "      <td>0</td>\n",
              "      <td>Normal</td>\n",
              "      <td>156</td>\n",
              "      <td>N</td>\n",
              "      <td>1.0</td>\n",
              "      <td>Flat</td>\n",
              "      <td>1</td>\n",
              "    </tr>\n",
              "    <tr>\n",
              "      <th>2</th>\n",
              "      <td>37</td>\n",
              "      <td>M</td>\n",
              "      <td>ATA</td>\n",
              "      <td>130</td>\n",
              "      <td>283.0</td>\n",
              "      <td>0</td>\n",
              "      <td>ST</td>\n",
              "      <td>98</td>\n",
              "      <td>N</td>\n",
              "      <td>0.0</td>\n",
              "      <td>Up</td>\n",
              "      <td>0</td>\n",
              "    </tr>\n",
              "    <tr>\n",
              "      <th>3</th>\n",
              "      <td>48</td>\n",
              "      <td>F</td>\n",
              "      <td>ASY</td>\n",
              "      <td>138</td>\n",
              "      <td>214.0</td>\n",
              "      <td>0</td>\n",
              "      <td>Normal</td>\n",
              "      <td>108</td>\n",
              "      <td>Y</td>\n",
              "      <td>1.5</td>\n",
              "      <td>Flat</td>\n",
              "      <td>1</td>\n",
              "    </tr>\n",
              "    <tr>\n",
              "      <th>4</th>\n",
              "      <td>54</td>\n",
              "      <td>M</td>\n",
              "      <td>NAP</td>\n",
              "      <td>150</td>\n",
              "      <td>195.0</td>\n",
              "      <td>0</td>\n",
              "      <td>Normal</td>\n",
              "      <td>122</td>\n",
              "      <td>N</td>\n",
              "      <td>0.0</td>\n",
              "      <td>Up</td>\n",
              "      <td>0</td>\n",
              "    </tr>\n",
              "  </tbody>\n",
              "</table>\n",
              "</div>\n",
              "    <div class=\"colab-df-buttons\">\n",
              "\n",
              "  <div class=\"colab-df-container\">\n",
              "    <button class=\"colab-df-convert\" onclick=\"convertToInteractive('df-5183ae86-250a-42f8-a07d-15aaaab2b2c3')\"\n",
              "            title=\"Convert this dataframe to an interactive table.\"\n",
              "            style=\"display:none;\">\n",
              "\n",
              "  <svg xmlns=\"http://www.w3.org/2000/svg\" height=\"24px\" viewBox=\"0 -960 960 960\">\n",
              "    <path d=\"M120-120v-720h720v720H120Zm60-500h600v-160H180v160Zm220 220h160v-160H400v160Zm0 220h160v-160H400v160ZM180-400h160v-160H180v160Zm440 0h160v-160H620v160ZM180-180h160v-160H180v160Zm440 0h160v-160H620v160Z\"/>\n",
              "  </svg>\n",
              "    </button>\n",
              "\n",
              "  <style>\n",
              "    .colab-df-container {\n",
              "      display:flex;\n",
              "      gap: 12px;\n",
              "    }\n",
              "\n",
              "    .colab-df-convert {\n",
              "      background-color: #E8F0FE;\n",
              "      border: none;\n",
              "      border-radius: 50%;\n",
              "      cursor: pointer;\n",
              "      display: none;\n",
              "      fill: #1967D2;\n",
              "      height: 32px;\n",
              "      padding: 0 0 0 0;\n",
              "      width: 32px;\n",
              "    }\n",
              "\n",
              "    .colab-df-convert:hover {\n",
              "      background-color: #E2EBFA;\n",
              "      box-shadow: 0px 1px 2px rgba(60, 64, 67, 0.3), 0px 1px 3px 1px rgba(60, 64, 67, 0.15);\n",
              "      fill: #174EA6;\n",
              "    }\n",
              "\n",
              "    .colab-df-buttons div {\n",
              "      margin-bottom: 4px;\n",
              "    }\n",
              "\n",
              "    [theme=dark] .colab-df-convert {\n",
              "      background-color: #3B4455;\n",
              "      fill: #D2E3FC;\n",
              "    }\n",
              "\n",
              "    [theme=dark] .colab-df-convert:hover {\n",
              "      background-color: #434B5C;\n",
              "      box-shadow: 0px 1px 3px 1px rgba(0, 0, 0, 0.15);\n",
              "      filter: drop-shadow(0px 1px 2px rgba(0, 0, 0, 0.3));\n",
              "      fill: #FFFFFF;\n",
              "    }\n",
              "  </style>\n",
              "\n",
              "    <script>\n",
              "      const buttonEl =\n",
              "        document.querySelector('#df-5183ae86-250a-42f8-a07d-15aaaab2b2c3 button.colab-df-convert');\n",
              "      buttonEl.style.display =\n",
              "        google.colab.kernel.accessAllowed ? 'block' : 'none';\n",
              "\n",
              "      async function convertToInteractive(key) {\n",
              "        const element = document.querySelector('#df-5183ae86-250a-42f8-a07d-15aaaab2b2c3');\n",
              "        const dataTable =\n",
              "          await google.colab.kernel.invokeFunction('convertToInteractive',\n",
              "                                                    [key], {});\n",
              "        if (!dataTable) return;\n",
              "\n",
              "        const docLinkHtml = 'Like what you see? Visit the ' +\n",
              "          '<a target=\"_blank\" href=https://colab.research.google.com/notebooks/data_table.ipynb>data table notebook</a>'\n",
              "          + ' to learn more about interactive tables.';\n",
              "        element.innerHTML = '';\n",
              "        dataTable['output_type'] = 'display_data';\n",
              "        await google.colab.output.renderOutput(dataTable, element);\n",
              "        const docLink = document.createElement('div');\n",
              "        docLink.innerHTML = docLinkHtml;\n",
              "        element.appendChild(docLink);\n",
              "      }\n",
              "    </script>\n",
              "  </div>\n",
              "\n",
              "\n",
              "<div id=\"df-05274459-99e5-4955-9758-7906c21b28ca\">\n",
              "  <button class=\"colab-df-quickchart\" onclick=\"quickchart('df-05274459-99e5-4955-9758-7906c21b28ca')\"\n",
              "            title=\"Suggest charts\"\n",
              "            style=\"display:none;\">\n",
              "\n",
              "<svg xmlns=\"http://www.w3.org/2000/svg\" height=\"24px\"viewBox=\"0 0 24 24\"\n",
              "     width=\"24px\">\n",
              "    <g>\n",
              "        <path d=\"M19 3H5c-1.1 0-2 .9-2 2v14c0 1.1.9 2 2 2h14c1.1 0 2-.9 2-2V5c0-1.1-.9-2-2-2zM9 17H7v-7h2v7zm4 0h-2V7h2v10zm4 0h-2v-4h2v4z\"/>\n",
              "    </g>\n",
              "</svg>\n",
              "  </button>\n",
              "\n",
              "<style>\n",
              "  .colab-df-quickchart {\n",
              "      --bg-color: #E8F0FE;\n",
              "      --fill-color: #1967D2;\n",
              "      --hover-bg-color: #E2EBFA;\n",
              "      --hover-fill-color: #174EA6;\n",
              "      --disabled-fill-color: #AAA;\n",
              "      --disabled-bg-color: #DDD;\n",
              "  }\n",
              "\n",
              "  [theme=dark] .colab-df-quickchart {\n",
              "      --bg-color: #3B4455;\n",
              "      --fill-color: #D2E3FC;\n",
              "      --hover-bg-color: #434B5C;\n",
              "      --hover-fill-color: #FFFFFF;\n",
              "      --disabled-bg-color: #3B4455;\n",
              "      --disabled-fill-color: #666;\n",
              "  }\n",
              "\n",
              "  .colab-df-quickchart {\n",
              "    background-color: var(--bg-color);\n",
              "    border: none;\n",
              "    border-radius: 50%;\n",
              "    cursor: pointer;\n",
              "    display: none;\n",
              "    fill: var(--fill-color);\n",
              "    height: 32px;\n",
              "    padding: 0;\n",
              "    width: 32px;\n",
              "  }\n",
              "\n",
              "  .colab-df-quickchart:hover {\n",
              "    background-color: var(--hover-bg-color);\n",
              "    box-shadow: 0 1px 2px rgba(60, 64, 67, 0.3), 0 1px 3px 1px rgba(60, 64, 67, 0.15);\n",
              "    fill: var(--button-hover-fill-color);\n",
              "  }\n",
              "\n",
              "  .colab-df-quickchart-complete:disabled,\n",
              "  .colab-df-quickchart-complete:disabled:hover {\n",
              "    background-color: var(--disabled-bg-color);\n",
              "    fill: var(--disabled-fill-color);\n",
              "    box-shadow: none;\n",
              "  }\n",
              "\n",
              "  .colab-df-spinner {\n",
              "    border: 2px solid var(--fill-color);\n",
              "    border-color: transparent;\n",
              "    border-bottom-color: var(--fill-color);\n",
              "    animation:\n",
              "      spin 1s steps(1) infinite;\n",
              "  }\n",
              "\n",
              "  @keyframes spin {\n",
              "    0% {\n",
              "      border-color: transparent;\n",
              "      border-bottom-color: var(--fill-color);\n",
              "      border-left-color: var(--fill-color);\n",
              "    }\n",
              "    20% {\n",
              "      border-color: transparent;\n",
              "      border-left-color: var(--fill-color);\n",
              "      border-top-color: var(--fill-color);\n",
              "    }\n",
              "    30% {\n",
              "      border-color: transparent;\n",
              "      border-left-color: var(--fill-color);\n",
              "      border-top-color: var(--fill-color);\n",
              "      border-right-color: var(--fill-color);\n",
              "    }\n",
              "    40% {\n",
              "      border-color: transparent;\n",
              "      border-right-color: var(--fill-color);\n",
              "      border-top-color: var(--fill-color);\n",
              "    }\n",
              "    60% {\n",
              "      border-color: transparent;\n",
              "      border-right-color: var(--fill-color);\n",
              "    }\n",
              "    80% {\n",
              "      border-color: transparent;\n",
              "      border-right-color: var(--fill-color);\n",
              "      border-bottom-color: var(--fill-color);\n",
              "    }\n",
              "    90% {\n",
              "      border-color: transparent;\n",
              "      border-bottom-color: var(--fill-color);\n",
              "    }\n",
              "  }\n",
              "</style>\n",
              "\n",
              "  <script>\n",
              "    async function quickchart(key) {\n",
              "      const quickchartButtonEl =\n",
              "        document.querySelector('#' + key + ' button');\n",
              "      quickchartButtonEl.disabled = true;  // To prevent multiple clicks.\n",
              "      quickchartButtonEl.classList.add('colab-df-spinner');\n",
              "      try {\n",
              "        const charts = await google.colab.kernel.invokeFunction(\n",
              "            'suggestCharts', [key], {});\n",
              "      } catch (error) {\n",
              "        console.error('Error during call to suggestCharts:', error);\n",
              "      }\n",
              "      quickchartButtonEl.classList.remove('colab-df-spinner');\n",
              "      quickchartButtonEl.classList.add('colab-df-quickchart-complete');\n",
              "    }\n",
              "    (() => {\n",
              "      let quickchartButtonEl =\n",
              "        document.querySelector('#df-05274459-99e5-4955-9758-7906c21b28ca button');\n",
              "      quickchartButtonEl.style.display =\n",
              "        google.colab.kernel.accessAllowed ? 'block' : 'none';\n",
              "    })();\n",
              "  </script>\n",
              "</div>\n",
              "\n",
              "    </div>\n",
              "  </div>\n"
            ],
            "text/plain": [
              "   Age Sex ChestPainType  RestingBP  Cholesterol  FastingBS RestingECG  MaxHR  \\\n",
              "0   40   M           ATA        140        289.0          0     Normal    172   \n",
              "1   49   F           NAP        160        180.0          0     Normal    156   \n",
              "2   37   M           ATA        130        283.0          0         ST     98   \n",
              "3   48   F           ASY        138        214.0          0     Normal    108   \n",
              "4   54   M           NAP        150        195.0          0     Normal    122   \n",
              "\n",
              "  ExerciseAngina  Oldpeak ST_Slope  HeartDisease  \n",
              "0              N      0.0       Up             0  \n",
              "1              N      1.0     Flat             1  \n",
              "2              N      0.0       Up             0  \n",
              "3              Y      1.5     Flat             1  \n",
              "4              N      0.0       Up             0  "
            ]
          },
          "execution_count": 13,
          "metadata": {},
          "output_type": "execute_result"
        }
      ],
      "source": [
        "df.head()"
      ]
    },
    {
      "cell_type": "code",
      "execution_count": null,
      "metadata": {
        "id": "SPIkefG6bDiT"
      },
      "outputs": [],
      "source": [
        "# previsores2.drop('Sex', axis=1)\n",
        "previsores2['Sex'] = LabelEncoder().fit_transform(df['Sex'])\n",
        "previsores2['ChestPainType'] = LabelEncoder().fit_transform(df['ChestPainType'])\n",
        "previsores2['RestingECG'] = LabelEncoder().fit_transform(df['RestingECG'])\n",
        "previsores2['ExerciseAngina'] = LabelEncoder().fit_transform(df['ExerciseAngina'])\n",
        "previsores2['ST_Slope'] = LabelEncoder().fit_transform(df['ST_Slope'])"
      ]
    },
    {
      "cell_type": "code",
      "execution_count": null,
      "metadata": {
        "colab": {
          "base_uri": "https://localhost:8080/"
        },
        "id": "mJ_Pn_mVbj6K",
        "outputId": "9e7ee3da-675e-4f95-991f-6b93e91e0975"
      },
      "outputs": [
        {
          "data": {
            "text/html": [
              "\n",
              "  <div id=\"df-f80cb2fc-9933-4fbf-a9d7-d6e8c3eb4222\" class=\"colab-df-container\">\n",
              "    <div>\n",
              "<style scoped>\n",
              "    .dataframe tbody tr th:only-of-type {\n",
              "        vertical-align: middle;\n",
              "    }\n",
              "\n",
              "    .dataframe tbody tr th {\n",
              "        vertical-align: top;\n",
              "    }\n",
              "\n",
              "    .dataframe thead th {\n",
              "        text-align: right;\n",
              "    }\n",
              "</style>\n",
              "<table border=\"1\" class=\"dataframe\">\n",
              "  <thead>\n",
              "    <tr style=\"text-align: right;\">\n",
              "      <th></th>\n",
              "      <th>Age</th>\n",
              "      <th>Sex</th>\n",
              "      <th>ChestPainType</th>\n",
              "      <th>RestingBP</th>\n",
              "      <th>Cholesterol</th>\n",
              "      <th>FastingBS</th>\n",
              "      <th>RestingECG</th>\n",
              "      <th>MaxHR</th>\n",
              "      <th>ExerciseAngina</th>\n",
              "      <th>Oldpeak</th>\n",
              "      <th>ST_Slope</th>\n",
              "      <th>HeartDisease</th>\n",
              "    </tr>\n",
              "  </thead>\n",
              "  <tbody>\n",
              "    <tr>\n",
              "      <th>0</th>\n",
              "      <td>40</td>\n",
              "      <td>1</td>\n",
              "      <td>1</td>\n",
              "      <td>140</td>\n",
              "      <td>289.0</td>\n",
              "      <td>0</td>\n",
              "      <td>1</td>\n",
              "      <td>172</td>\n",
              "      <td>0</td>\n",
              "      <td>0.0</td>\n",
              "      <td>2</td>\n",
              "      <td>0</td>\n",
              "    </tr>\n",
              "    <tr>\n",
              "      <th>1</th>\n",
              "      <td>49</td>\n",
              "      <td>0</td>\n",
              "      <td>2</td>\n",
              "      <td>160</td>\n",
              "      <td>180.0</td>\n",
              "      <td>0</td>\n",
              "      <td>1</td>\n",
              "      <td>156</td>\n",
              "      <td>0</td>\n",
              "      <td>1.0</td>\n",
              "      <td>1</td>\n",
              "      <td>1</td>\n",
              "    </tr>\n",
              "    <tr>\n",
              "      <th>2</th>\n",
              "      <td>37</td>\n",
              "      <td>1</td>\n",
              "      <td>1</td>\n",
              "      <td>130</td>\n",
              "      <td>283.0</td>\n",
              "      <td>0</td>\n",
              "      <td>2</td>\n",
              "      <td>98</td>\n",
              "      <td>0</td>\n",
              "      <td>0.0</td>\n",
              "      <td>2</td>\n",
              "      <td>0</td>\n",
              "    </tr>\n",
              "    <tr>\n",
              "      <th>3</th>\n",
              "      <td>48</td>\n",
              "      <td>0</td>\n",
              "      <td>0</td>\n",
              "      <td>138</td>\n",
              "      <td>214.0</td>\n",
              "      <td>0</td>\n",
              "      <td>1</td>\n",
              "      <td>108</td>\n",
              "      <td>1</td>\n",
              "      <td>1.5</td>\n",
              "      <td>1</td>\n",
              "      <td>1</td>\n",
              "    </tr>\n",
              "    <tr>\n",
              "      <th>4</th>\n",
              "      <td>54</td>\n",
              "      <td>1</td>\n",
              "      <td>2</td>\n",
              "      <td>150</td>\n",
              "      <td>195.0</td>\n",
              "      <td>0</td>\n",
              "      <td>1</td>\n",
              "      <td>122</td>\n",
              "      <td>0</td>\n",
              "      <td>0.0</td>\n",
              "      <td>2</td>\n",
              "      <td>0</td>\n",
              "    </tr>\n",
              "  </tbody>\n",
              "</table>\n",
              "</div>\n",
              "    <div class=\"colab-df-buttons\">\n",
              "\n",
              "  <div class=\"colab-df-container\">\n",
              "    <button class=\"colab-df-convert\" onclick=\"convertToInteractive('df-f80cb2fc-9933-4fbf-a9d7-d6e8c3eb4222')\"\n",
              "            title=\"Convert this dataframe to an interactive table.\"\n",
              "            style=\"display:none;\">\n",
              "\n",
              "  <svg xmlns=\"http://www.w3.org/2000/svg\" height=\"24px\" viewBox=\"0 -960 960 960\">\n",
              "    <path d=\"M120-120v-720h720v720H120Zm60-500h600v-160H180v160Zm220 220h160v-160H400v160Zm0 220h160v-160H400v160ZM180-400h160v-160H180v160Zm440 0h160v-160H620v160ZM180-180h160v-160H180v160Zm440 0h160v-160H620v160Z\"/>\n",
              "  </svg>\n",
              "    </button>\n",
              "\n",
              "  <style>\n",
              "    .colab-df-container {\n",
              "      display:flex;\n",
              "      gap: 12px;\n",
              "    }\n",
              "\n",
              "    .colab-df-convert {\n",
              "      background-color: #E8F0FE;\n",
              "      border: none;\n",
              "      border-radius: 50%;\n",
              "      cursor: pointer;\n",
              "      display: none;\n",
              "      fill: #1967D2;\n",
              "      height: 32px;\n",
              "      padding: 0 0 0 0;\n",
              "      width: 32px;\n",
              "    }\n",
              "\n",
              "    .colab-df-convert:hover {\n",
              "      background-color: #E2EBFA;\n",
              "      box-shadow: 0px 1px 2px rgba(60, 64, 67, 0.3), 0px 1px 3px 1px rgba(60, 64, 67, 0.15);\n",
              "      fill: #174EA6;\n",
              "    }\n",
              "\n",
              "    .colab-df-buttons div {\n",
              "      margin-bottom: 4px;\n",
              "    }\n",
              "\n",
              "    [theme=dark] .colab-df-convert {\n",
              "      background-color: #3B4455;\n",
              "      fill: #D2E3FC;\n",
              "    }\n",
              "\n",
              "    [theme=dark] .colab-df-convert:hover {\n",
              "      background-color: #434B5C;\n",
              "      box-shadow: 0px 1px 3px 1px rgba(0, 0, 0, 0.15);\n",
              "      filter: drop-shadow(0px 1px 2px rgba(0, 0, 0, 0.3));\n",
              "      fill: #FFFFFF;\n",
              "    }\n",
              "  </style>\n",
              "\n",
              "    <script>\n",
              "      const buttonEl =\n",
              "        document.querySelector('#df-f80cb2fc-9933-4fbf-a9d7-d6e8c3eb4222 button.colab-df-convert');\n",
              "      buttonEl.style.display =\n",
              "        google.colab.kernel.accessAllowed ? 'block' : 'none';\n",
              "\n",
              "      async function convertToInteractive(key) {\n",
              "        const element = document.querySelector('#df-f80cb2fc-9933-4fbf-a9d7-d6e8c3eb4222');\n",
              "        const dataTable =\n",
              "          await google.colab.kernel.invokeFunction('convertToInteractive',\n",
              "                                                    [key], {});\n",
              "        if (!dataTable) return;\n",
              "\n",
              "        const docLinkHtml = 'Like what you see? Visit the ' +\n",
              "          '<a target=\"_blank\" href=https://colab.research.google.com/notebooks/data_table.ipynb>data table notebook</a>'\n",
              "          + ' to learn more about interactive tables.';\n",
              "        element.innerHTML = '';\n",
              "        dataTable['output_type'] = 'display_data';\n",
              "        await google.colab.output.renderOutput(dataTable, element);\n",
              "        const docLink = document.createElement('div');\n",
              "        docLink.innerHTML = docLinkHtml;\n",
              "        element.appendChild(docLink);\n",
              "      }\n",
              "    </script>\n",
              "  </div>\n",
              "\n",
              "\n",
              "<div id=\"df-dfbcedd0-1d67-4079-99fc-8ae535c09f75\">\n",
              "  <button class=\"colab-df-quickchart\" onclick=\"quickchart('df-dfbcedd0-1d67-4079-99fc-8ae535c09f75')\"\n",
              "            title=\"Suggest charts\"\n",
              "            style=\"display:none;\">\n",
              "\n",
              "<svg xmlns=\"http://www.w3.org/2000/svg\" height=\"24px\"viewBox=\"0 0 24 24\"\n",
              "     width=\"24px\">\n",
              "    <g>\n",
              "        <path d=\"M19 3H5c-1.1 0-2 .9-2 2v14c0 1.1.9 2 2 2h14c1.1 0 2-.9 2-2V5c0-1.1-.9-2-2-2zM9 17H7v-7h2v7zm4 0h-2V7h2v10zm4 0h-2v-4h2v4z\"/>\n",
              "    </g>\n",
              "</svg>\n",
              "  </button>\n",
              "\n",
              "<style>\n",
              "  .colab-df-quickchart {\n",
              "      --bg-color: #E8F0FE;\n",
              "      --fill-color: #1967D2;\n",
              "      --hover-bg-color: #E2EBFA;\n",
              "      --hover-fill-color: #174EA6;\n",
              "      --disabled-fill-color: #AAA;\n",
              "      --disabled-bg-color: #DDD;\n",
              "  }\n",
              "\n",
              "  [theme=dark] .colab-df-quickchart {\n",
              "      --bg-color: #3B4455;\n",
              "      --fill-color: #D2E3FC;\n",
              "      --hover-bg-color: #434B5C;\n",
              "      --hover-fill-color: #FFFFFF;\n",
              "      --disabled-bg-color: #3B4455;\n",
              "      --disabled-fill-color: #666;\n",
              "  }\n",
              "\n",
              "  .colab-df-quickchart {\n",
              "    background-color: var(--bg-color);\n",
              "    border: none;\n",
              "    border-radius: 50%;\n",
              "    cursor: pointer;\n",
              "    display: none;\n",
              "    fill: var(--fill-color);\n",
              "    height: 32px;\n",
              "    padding: 0;\n",
              "    width: 32px;\n",
              "  }\n",
              "\n",
              "  .colab-df-quickchart:hover {\n",
              "    background-color: var(--hover-bg-color);\n",
              "    box-shadow: 0 1px 2px rgba(60, 64, 67, 0.3), 0 1px 3px 1px rgba(60, 64, 67, 0.15);\n",
              "    fill: var(--button-hover-fill-color);\n",
              "  }\n",
              "\n",
              "  .colab-df-quickchart-complete:disabled,\n",
              "  .colab-df-quickchart-complete:disabled:hover {\n",
              "    background-color: var(--disabled-bg-color);\n",
              "    fill: var(--disabled-fill-color);\n",
              "    box-shadow: none;\n",
              "  }\n",
              "\n",
              "  .colab-df-spinner {\n",
              "    border: 2px solid var(--fill-color);\n",
              "    border-color: transparent;\n",
              "    border-bottom-color: var(--fill-color);\n",
              "    animation:\n",
              "      spin 1s steps(1) infinite;\n",
              "  }\n",
              "\n",
              "  @keyframes spin {\n",
              "    0% {\n",
              "      border-color: transparent;\n",
              "      border-bottom-color: var(--fill-color);\n",
              "      border-left-color: var(--fill-color);\n",
              "    }\n",
              "    20% {\n",
              "      border-color: transparent;\n",
              "      border-left-color: var(--fill-color);\n",
              "      border-top-color: var(--fill-color);\n",
              "    }\n",
              "    30% {\n",
              "      border-color: transparent;\n",
              "      border-left-color: var(--fill-color);\n",
              "      border-top-color: var(--fill-color);\n",
              "      border-right-color: var(--fill-color);\n",
              "    }\n",
              "    40% {\n",
              "      border-color: transparent;\n",
              "      border-right-color: var(--fill-color);\n",
              "      border-top-color: var(--fill-color);\n",
              "    }\n",
              "    60% {\n",
              "      border-color: transparent;\n",
              "      border-right-color: var(--fill-color);\n",
              "    }\n",
              "    80% {\n",
              "      border-color: transparent;\n",
              "      border-right-color: var(--fill-color);\n",
              "      border-bottom-color: var(--fill-color);\n",
              "    }\n",
              "    90% {\n",
              "      border-color: transparent;\n",
              "      border-bottom-color: var(--fill-color);\n",
              "    }\n",
              "  }\n",
              "</style>\n",
              "\n",
              "  <script>\n",
              "    async function quickchart(key) {\n",
              "      const quickchartButtonEl =\n",
              "        document.querySelector('#' + key + ' button');\n",
              "      quickchartButtonEl.disabled = true;  // To prevent multiple clicks.\n",
              "      quickchartButtonEl.classList.add('colab-df-spinner');\n",
              "      try {\n",
              "        const charts = await google.colab.kernel.invokeFunction(\n",
              "            'suggestCharts', [key], {});\n",
              "      } catch (error) {\n",
              "        console.error('Error during call to suggestCharts:', error);\n",
              "      }\n",
              "      quickchartButtonEl.classList.remove('colab-df-spinner');\n",
              "      quickchartButtonEl.classList.add('colab-df-quickchart-complete');\n",
              "    }\n",
              "    (() => {\n",
              "      let quickchartButtonEl =\n",
              "        document.querySelector('#df-dfbcedd0-1d67-4079-99fc-8ae535c09f75 button');\n",
              "      quickchartButtonEl.style.display =\n",
              "        google.colab.kernel.accessAllowed ? 'block' : 'none';\n",
              "    })();\n",
              "  </script>\n",
              "</div>\n",
              "\n",
              "    </div>\n",
              "  </div>\n"
            ],
            "text/plain": [
              "   Age  Sex  ChestPainType  RestingBP  Cholesterol  FastingBS  RestingECG  \\\n",
              "0   40    1              1        140        289.0          0           1   \n",
              "1   49    0              2        160        180.0          0           1   \n",
              "2   37    1              1        130        283.0          0           2   \n",
              "3   48    0              0        138        214.0          0           1   \n",
              "4   54    1              2        150        195.0          0           1   \n",
              "\n",
              "   MaxHR  ExerciseAngina  Oldpeak  ST_Slope  HeartDisease  \n",
              "0    172               0      0.0         2             0  \n",
              "1    156               0      1.0         1             1  \n",
              "2     98               0      0.0         2             0  \n",
              "3    108               1      1.5         1             1  \n",
              "4    122               0      0.0         2             0  "
            ]
          },
          "execution_count": 15,
          "metadata": {},
          "output_type": "execute_result"
        }
      ],
      "source": [
        "previsores2.head()"
      ]
    },
    {
      "cell_type": "code",
      "execution_count": null,
      "metadata": {
        "colab": {
          "base_uri": "https://localhost:8080/"
        },
        "id": "eIyPozD9cs8h",
        "outputId": "5d1b62b3-3ac8-4b84-f372-8374595d5f78"
      },
      "outputs": [
        {
          "data": {
            "text/plain": [
              "(917, 12)"
            ]
          },
          "execution_count": 16,
          "metadata": {},
          "output_type": "execute_result"
        }
      ],
      "source": [
        "previsores2.shape"
      ]
    },
    {
      "cell_type": "markdown",
      "metadata": {
        "id": "jABRFeTVdeBz"
      },
      "source": [
        "## ColumnTransformer"
      ]
    },
    {
      "cell_type": "code",
      "execution_count": null,
      "metadata": {
        "id": "VSuXXsyxuZNL"
      },
      "outputs": [],
      "source": [
        "previsores2.drop('HeartDisease', axis=1, inplace=True)"
      ]
    },
    {
      "cell_type": "code",
      "execution_count": null,
      "metadata": {
        "colab": {
          "base_uri": "https://localhost:8080/"
        },
        "id": "l9vTiT4cdhZj",
        "outputId": "01945fb9-e3d4-4909-f29d-8bdca37e840f"
      },
      "outputs": [
        {
          "name": "stdout",
          "output_type": "stream",
          "text": [
            "[ColumnTransformer] ........ (1 of 2) Processing OneHot, total=   0.0s\n",
            "[ColumnTransformer] ..... (2 of 2) Processing remainder, total=   0.0s\n"
          ]
        }
      ],
      "source": [
        "previsores3 = ColumnTransformer(\n",
        "    transformers=[('OneHot', OneHotEncoder(), ['Sex', 'ChestPainType', 'RestingECG', 'ExerciseAngina', 'ST_Slope'])],\n",
        "    remainder='passthrough', verbose=True\n",
        "    ).fit_transform(previsores2)"
      ]
    },
    {
      "cell_type": "code",
      "execution_count": null,
      "metadata": {
        "colab": {
          "base_uri": "https://localhost:8080/"
        },
        "id": "iTZgxynuczo4",
        "outputId": "081b8634-5c22-46e7-ef23-ec0124beab9f"
      },
      "outputs": [
        {
          "data": {
            "text/html": [
              "\n",
              "  <div id=\"df-954ff8a4-b9ef-4a71-bed4-7af2a4e478ad\" class=\"colab-df-container\">\n",
              "    <div>\n",
              "<style scoped>\n",
              "    .dataframe tbody tr th:only-of-type {\n",
              "        vertical-align: middle;\n",
              "    }\n",
              "\n",
              "    .dataframe tbody tr th {\n",
              "        vertical-align: top;\n",
              "    }\n",
              "\n",
              "    .dataframe thead th {\n",
              "        text-align: right;\n",
              "    }\n",
              "</style>\n",
              "<table border=\"1\" class=\"dataframe\">\n",
              "  <thead>\n",
              "    <tr style=\"text-align: right;\">\n",
              "      <th></th>\n",
              "      <th>0</th>\n",
              "      <th>1</th>\n",
              "      <th>2</th>\n",
              "      <th>3</th>\n",
              "      <th>4</th>\n",
              "      <th>5</th>\n",
              "      <th>6</th>\n",
              "      <th>7</th>\n",
              "      <th>8</th>\n",
              "      <th>9</th>\n",
              "      <th>10</th>\n",
              "      <th>11</th>\n",
              "      <th>12</th>\n",
              "      <th>13</th>\n",
              "      <th>14</th>\n",
              "      <th>15</th>\n",
              "      <th>16</th>\n",
              "      <th>17</th>\n",
              "      <th>18</th>\n",
              "      <th>19</th>\n",
              "    </tr>\n",
              "  </thead>\n",
              "  <tbody>\n",
              "    <tr>\n",
              "      <th>0</th>\n",
              "      <td>0.0</td>\n",
              "      <td>1.0</td>\n",
              "      <td>0.0</td>\n",
              "      <td>1.0</td>\n",
              "      <td>0.0</td>\n",
              "      <td>0.0</td>\n",
              "      <td>0.0</td>\n",
              "      <td>1.0</td>\n",
              "      <td>0.0</td>\n",
              "      <td>1.0</td>\n",
              "      <td>0.0</td>\n",
              "      <td>0.0</td>\n",
              "      <td>0.0</td>\n",
              "      <td>1.0</td>\n",
              "      <td>40.0</td>\n",
              "      <td>140.0</td>\n",
              "      <td>289.0</td>\n",
              "      <td>0.0</td>\n",
              "      <td>172.0</td>\n",
              "      <td>0.0</td>\n",
              "    </tr>\n",
              "    <tr>\n",
              "      <th>1</th>\n",
              "      <td>1.0</td>\n",
              "      <td>0.0</td>\n",
              "      <td>0.0</td>\n",
              "      <td>0.0</td>\n",
              "      <td>1.0</td>\n",
              "      <td>0.0</td>\n",
              "      <td>0.0</td>\n",
              "      <td>1.0</td>\n",
              "      <td>0.0</td>\n",
              "      <td>1.0</td>\n",
              "      <td>0.0</td>\n",
              "      <td>0.0</td>\n",
              "      <td>1.0</td>\n",
              "      <td>0.0</td>\n",
              "      <td>49.0</td>\n",
              "      <td>160.0</td>\n",
              "      <td>180.0</td>\n",
              "      <td>0.0</td>\n",
              "      <td>156.0</td>\n",
              "      <td>1.0</td>\n",
              "    </tr>\n",
              "    <tr>\n",
              "      <th>2</th>\n",
              "      <td>0.0</td>\n",
              "      <td>1.0</td>\n",
              "      <td>0.0</td>\n",
              "      <td>1.0</td>\n",
              "      <td>0.0</td>\n",
              "      <td>0.0</td>\n",
              "      <td>0.0</td>\n",
              "      <td>0.0</td>\n",
              "      <td>1.0</td>\n",
              "      <td>1.0</td>\n",
              "      <td>0.0</td>\n",
              "      <td>0.0</td>\n",
              "      <td>0.0</td>\n",
              "      <td>1.0</td>\n",
              "      <td>37.0</td>\n",
              "      <td>130.0</td>\n",
              "      <td>283.0</td>\n",
              "      <td>0.0</td>\n",
              "      <td>98.0</td>\n",
              "      <td>0.0</td>\n",
              "    </tr>\n",
              "    <tr>\n",
              "      <th>3</th>\n",
              "      <td>1.0</td>\n",
              "      <td>0.0</td>\n",
              "      <td>1.0</td>\n",
              "      <td>0.0</td>\n",
              "      <td>0.0</td>\n",
              "      <td>0.0</td>\n",
              "      <td>0.0</td>\n",
              "      <td>1.0</td>\n",
              "      <td>0.0</td>\n",
              "      <td>0.0</td>\n",
              "      <td>1.0</td>\n",
              "      <td>0.0</td>\n",
              "      <td>1.0</td>\n",
              "      <td>0.0</td>\n",
              "      <td>48.0</td>\n",
              "      <td>138.0</td>\n",
              "      <td>214.0</td>\n",
              "      <td>0.0</td>\n",
              "      <td>108.0</td>\n",
              "      <td>1.5</td>\n",
              "    </tr>\n",
              "    <tr>\n",
              "      <th>4</th>\n",
              "      <td>0.0</td>\n",
              "      <td>1.0</td>\n",
              "      <td>0.0</td>\n",
              "      <td>0.0</td>\n",
              "      <td>1.0</td>\n",
              "      <td>0.0</td>\n",
              "      <td>0.0</td>\n",
              "      <td>1.0</td>\n",
              "      <td>0.0</td>\n",
              "      <td>1.0</td>\n",
              "      <td>0.0</td>\n",
              "      <td>0.0</td>\n",
              "      <td>0.0</td>\n",
              "      <td>1.0</td>\n",
              "      <td>54.0</td>\n",
              "      <td>150.0</td>\n",
              "      <td>195.0</td>\n",
              "      <td>0.0</td>\n",
              "      <td>122.0</td>\n",
              "      <td>0.0</td>\n",
              "    </tr>\n",
              "  </tbody>\n",
              "</table>\n",
              "</div>\n",
              "    <div class=\"colab-df-buttons\">\n",
              "\n",
              "  <div class=\"colab-df-container\">\n",
              "    <button class=\"colab-df-convert\" onclick=\"convertToInteractive('df-954ff8a4-b9ef-4a71-bed4-7af2a4e478ad')\"\n",
              "            title=\"Convert this dataframe to an interactive table.\"\n",
              "            style=\"display:none;\">\n",
              "\n",
              "  <svg xmlns=\"http://www.w3.org/2000/svg\" height=\"24px\" viewBox=\"0 -960 960 960\">\n",
              "    <path d=\"M120-120v-720h720v720H120Zm60-500h600v-160H180v160Zm220 220h160v-160H400v160Zm0 220h160v-160H400v160ZM180-400h160v-160H180v160Zm440 0h160v-160H620v160ZM180-180h160v-160H180v160Zm440 0h160v-160H620v160Z\"/>\n",
              "  </svg>\n",
              "    </button>\n",
              "\n",
              "  <style>\n",
              "    .colab-df-container {\n",
              "      display:flex;\n",
              "      gap: 12px;\n",
              "    }\n",
              "\n",
              "    .colab-df-convert {\n",
              "      background-color: #E8F0FE;\n",
              "      border: none;\n",
              "      border-radius: 50%;\n",
              "      cursor: pointer;\n",
              "      display: none;\n",
              "      fill: #1967D2;\n",
              "      height: 32px;\n",
              "      padding: 0 0 0 0;\n",
              "      width: 32px;\n",
              "    }\n",
              "\n",
              "    .colab-df-convert:hover {\n",
              "      background-color: #E2EBFA;\n",
              "      box-shadow: 0px 1px 2px rgba(60, 64, 67, 0.3), 0px 1px 3px 1px rgba(60, 64, 67, 0.15);\n",
              "      fill: #174EA6;\n",
              "    }\n",
              "\n",
              "    .colab-df-buttons div {\n",
              "      margin-bottom: 4px;\n",
              "    }\n",
              "\n",
              "    [theme=dark] .colab-df-convert {\n",
              "      background-color: #3B4455;\n",
              "      fill: #D2E3FC;\n",
              "    }\n",
              "\n",
              "    [theme=dark] .colab-df-convert:hover {\n",
              "      background-color: #434B5C;\n",
              "      box-shadow: 0px 1px 3px 1px rgba(0, 0, 0, 0.15);\n",
              "      filter: drop-shadow(0px 1px 2px rgba(0, 0, 0, 0.3));\n",
              "      fill: #FFFFFF;\n",
              "    }\n",
              "  </style>\n",
              "\n",
              "    <script>\n",
              "      const buttonEl =\n",
              "        document.querySelector('#df-954ff8a4-b9ef-4a71-bed4-7af2a4e478ad button.colab-df-convert');\n",
              "      buttonEl.style.display =\n",
              "        google.colab.kernel.accessAllowed ? 'block' : 'none';\n",
              "\n",
              "      async function convertToInteractive(key) {\n",
              "        const element = document.querySelector('#df-954ff8a4-b9ef-4a71-bed4-7af2a4e478ad');\n",
              "        const dataTable =\n",
              "          await google.colab.kernel.invokeFunction('convertToInteractive',\n",
              "                                                    [key], {});\n",
              "        if (!dataTable) return;\n",
              "\n",
              "        const docLinkHtml = 'Like what you see? Visit the ' +\n",
              "          '<a target=\"_blank\" href=https://colab.research.google.com/notebooks/data_table.ipynb>data table notebook</a>'\n",
              "          + ' to learn more about interactive tables.';\n",
              "        element.innerHTML = '';\n",
              "        dataTable['output_type'] = 'display_data';\n",
              "        await google.colab.output.renderOutput(dataTable, element);\n",
              "        const docLink = document.createElement('div');\n",
              "        docLink.innerHTML = docLinkHtml;\n",
              "        element.appendChild(docLink);\n",
              "      }\n",
              "    </script>\n",
              "  </div>\n",
              "\n",
              "\n",
              "<div id=\"df-8ff7e1a3-8fef-435a-9e33-4ecdabeacba0\">\n",
              "  <button class=\"colab-df-quickchart\" onclick=\"quickchart('df-8ff7e1a3-8fef-435a-9e33-4ecdabeacba0')\"\n",
              "            title=\"Suggest charts\"\n",
              "            style=\"display:none;\">\n",
              "\n",
              "<svg xmlns=\"http://www.w3.org/2000/svg\" height=\"24px\"viewBox=\"0 0 24 24\"\n",
              "     width=\"24px\">\n",
              "    <g>\n",
              "        <path d=\"M19 3H5c-1.1 0-2 .9-2 2v14c0 1.1.9 2 2 2h14c1.1 0 2-.9 2-2V5c0-1.1-.9-2-2-2zM9 17H7v-7h2v7zm4 0h-2V7h2v10zm4 0h-2v-4h2v4z\"/>\n",
              "    </g>\n",
              "</svg>\n",
              "  </button>\n",
              "\n",
              "<style>\n",
              "  .colab-df-quickchart {\n",
              "      --bg-color: #E8F0FE;\n",
              "      --fill-color: #1967D2;\n",
              "      --hover-bg-color: #E2EBFA;\n",
              "      --hover-fill-color: #174EA6;\n",
              "      --disabled-fill-color: #AAA;\n",
              "      --disabled-bg-color: #DDD;\n",
              "  }\n",
              "\n",
              "  [theme=dark] .colab-df-quickchart {\n",
              "      --bg-color: #3B4455;\n",
              "      --fill-color: #D2E3FC;\n",
              "      --hover-bg-color: #434B5C;\n",
              "      --hover-fill-color: #FFFFFF;\n",
              "      --disabled-bg-color: #3B4455;\n",
              "      --disabled-fill-color: #666;\n",
              "  }\n",
              "\n",
              "  .colab-df-quickchart {\n",
              "    background-color: var(--bg-color);\n",
              "    border: none;\n",
              "    border-radius: 50%;\n",
              "    cursor: pointer;\n",
              "    display: none;\n",
              "    fill: var(--fill-color);\n",
              "    height: 32px;\n",
              "    padding: 0;\n",
              "    width: 32px;\n",
              "  }\n",
              "\n",
              "  .colab-df-quickchart:hover {\n",
              "    background-color: var(--hover-bg-color);\n",
              "    box-shadow: 0 1px 2px rgba(60, 64, 67, 0.3), 0 1px 3px 1px rgba(60, 64, 67, 0.15);\n",
              "    fill: var(--button-hover-fill-color);\n",
              "  }\n",
              "\n",
              "  .colab-df-quickchart-complete:disabled,\n",
              "  .colab-df-quickchart-complete:disabled:hover {\n",
              "    background-color: var(--disabled-bg-color);\n",
              "    fill: var(--disabled-fill-color);\n",
              "    box-shadow: none;\n",
              "  }\n",
              "\n",
              "  .colab-df-spinner {\n",
              "    border: 2px solid var(--fill-color);\n",
              "    border-color: transparent;\n",
              "    border-bottom-color: var(--fill-color);\n",
              "    animation:\n",
              "      spin 1s steps(1) infinite;\n",
              "  }\n",
              "\n",
              "  @keyframes spin {\n",
              "    0% {\n",
              "      border-color: transparent;\n",
              "      border-bottom-color: var(--fill-color);\n",
              "      border-left-color: var(--fill-color);\n",
              "    }\n",
              "    20% {\n",
              "      border-color: transparent;\n",
              "      border-left-color: var(--fill-color);\n",
              "      border-top-color: var(--fill-color);\n",
              "    }\n",
              "    30% {\n",
              "      border-color: transparent;\n",
              "      border-left-color: var(--fill-color);\n",
              "      border-top-color: var(--fill-color);\n",
              "      border-right-color: var(--fill-color);\n",
              "    }\n",
              "    40% {\n",
              "      border-color: transparent;\n",
              "      border-right-color: var(--fill-color);\n",
              "      border-top-color: var(--fill-color);\n",
              "    }\n",
              "    60% {\n",
              "      border-color: transparent;\n",
              "      border-right-color: var(--fill-color);\n",
              "    }\n",
              "    80% {\n",
              "      border-color: transparent;\n",
              "      border-right-color: var(--fill-color);\n",
              "      border-bottom-color: var(--fill-color);\n",
              "    }\n",
              "    90% {\n",
              "      border-color: transparent;\n",
              "      border-bottom-color: var(--fill-color);\n",
              "    }\n",
              "  }\n",
              "</style>\n",
              "\n",
              "  <script>\n",
              "    async function quickchart(key) {\n",
              "      const quickchartButtonEl =\n",
              "        document.querySelector('#' + key + ' button');\n",
              "      quickchartButtonEl.disabled = true;  // To prevent multiple clicks.\n",
              "      quickchartButtonEl.classList.add('colab-df-spinner');\n",
              "      try {\n",
              "        const charts = await google.colab.kernel.invokeFunction(\n",
              "            'suggestCharts', [key], {});\n",
              "      } catch (error) {\n",
              "        console.error('Error during call to suggestCharts:', error);\n",
              "      }\n",
              "      quickchartButtonEl.classList.remove('colab-df-spinner');\n",
              "      quickchartButtonEl.classList.add('colab-df-quickchart-complete');\n",
              "    }\n",
              "    (() => {\n",
              "      let quickchartButtonEl =\n",
              "        document.querySelector('#df-8ff7e1a3-8fef-435a-9e33-4ecdabeacba0 button');\n",
              "      quickchartButtonEl.style.display =\n",
              "        google.colab.kernel.accessAllowed ? 'block' : 'none';\n",
              "    })();\n",
              "  </script>\n",
              "</div>\n",
              "\n",
              "    </div>\n",
              "  </div>\n"
            ],
            "text/plain": [
              "    0    1    2    3    4    5    6    7    8    9    10   11   12   13    14  \\\n",
              "0  0.0  1.0  0.0  1.0  0.0  0.0  0.0  1.0  0.0  1.0  0.0  0.0  0.0  1.0  40.0   \n",
              "1  1.0  0.0  0.0  0.0  1.0  0.0  0.0  1.0  0.0  1.0  0.0  0.0  1.0  0.0  49.0   \n",
              "2  0.0  1.0  0.0  1.0  0.0  0.0  0.0  0.0  1.0  1.0  0.0  0.0  0.0  1.0  37.0   \n",
              "3  1.0  0.0  1.0  0.0  0.0  0.0  0.0  1.0  0.0  0.0  1.0  0.0  1.0  0.0  48.0   \n",
              "4  0.0  1.0  0.0  0.0  1.0  0.0  0.0  1.0  0.0  1.0  0.0  0.0  0.0  1.0  54.0   \n",
              "\n",
              "      15     16   17     18   19  \n",
              "0  140.0  289.0  0.0  172.0  0.0  \n",
              "1  160.0  180.0  0.0  156.0  1.0  \n",
              "2  130.0  283.0  0.0   98.0  0.0  \n",
              "3  138.0  214.0  0.0  108.0  1.5  \n",
              "4  150.0  195.0  0.0  122.0  0.0  "
            ]
          },
          "execution_count": 19,
          "metadata": {},
          "output_type": "execute_result"
        }
      ],
      "source": [
        "pd.DataFrame(previsores3).head()"
      ]
    },
    {
      "cell_type": "code",
      "execution_count": null,
      "metadata": {
        "colab": {
          "base_uri": "https://localhost:8080/"
        },
        "id": "0wNEVpAMwRkz",
        "outputId": "ca3a79e2-0a9d-4387-b356-608ce1be911c"
      },
      "outputs": [
        {
          "data": {
            "text/plain": [
              "(917, 20)"
            ]
          },
          "execution_count": 20,
          "metadata": {},
          "output_type": "execute_result"
        }
      ],
      "source": [
        "previsores3.shape"
      ]
    },
    {
      "cell_type": "markdown",
      "metadata": {
        "id": "7k4G9nJPg-Bn"
      },
      "source": [
        "## Escalonamento Again"
      ]
    },
    {
      "cell_type": "code",
      "execution_count": null,
      "metadata": {
        "id": "o_jEtC4Rg_u5"
      },
      "outputs": [],
      "source": [
        "previsores3_esc = StandardScaler().fit_transform(previsores3)"
      ]
    },
    {
      "cell_type": "code",
      "execution_count": null,
      "metadata": {
        "id": "hIOd6RIkhGmc"
      },
      "outputs": [],
      "source": [
        "previsores3_df = pd.DataFrame(previsores3_esc)"
      ]
    },
    {
      "cell_type": "code",
      "execution_count": null,
      "metadata": {
        "colab": {
          "base_uri": "https://localhost:8080/"
        },
        "id": "eXob7sJXhPvz",
        "outputId": "68c597b9-779f-4ff2-948a-add5092ae109"
      },
      "outputs": [
        {
          "data": {
            "text/html": [
              "\n",
              "  <div id=\"df-d8b0967c-fb4e-4db0-96ab-743563c646d6\" class=\"colab-df-container\">\n",
              "    <div>\n",
              "<style scoped>\n",
              "    .dataframe tbody tr th:only-of-type {\n",
              "        vertical-align: middle;\n",
              "    }\n",
              "\n",
              "    .dataframe tbody tr th {\n",
              "        vertical-align: top;\n",
              "    }\n",
              "\n",
              "    .dataframe thead th {\n",
              "        text-align: right;\n",
              "    }\n",
              "</style>\n",
              "<table border=\"1\" class=\"dataframe\">\n",
              "  <thead>\n",
              "    <tr style=\"text-align: right;\">\n",
              "      <th></th>\n",
              "      <th>0</th>\n",
              "      <th>1</th>\n",
              "      <th>2</th>\n",
              "      <th>3</th>\n",
              "      <th>4</th>\n",
              "      <th>5</th>\n",
              "      <th>6</th>\n",
              "      <th>7</th>\n",
              "      <th>8</th>\n",
              "      <th>9</th>\n",
              "      <th>10</th>\n",
              "      <th>11</th>\n",
              "      <th>12</th>\n",
              "      <th>13</th>\n",
              "      <th>14</th>\n",
              "      <th>15</th>\n",
              "      <th>16</th>\n",
              "      <th>17</th>\n",
              "      <th>18</th>\n",
              "      <th>19</th>\n",
              "    </tr>\n",
              "  </thead>\n",
              "  <tbody>\n",
              "    <tr>\n",
              "      <th>count</th>\n",
              "      <td>9.170000e+02</td>\n",
              "      <td>9.170000e+02</td>\n",
              "      <td>9.170000e+02</td>\n",
              "      <td>9.170000e+02</td>\n",
              "      <td>9.170000e+02</td>\n",
              "      <td>9.170000e+02</td>\n",
              "      <td>917.000000</td>\n",
              "      <td>9.170000e+02</td>\n",
              "      <td>9.170000e+02</td>\n",
              "      <td>9.170000e+02</td>\n",
              "      <td>9.170000e+02</td>\n",
              "      <td>9.170000e+02</td>\n",
              "      <td>917.000000</td>\n",
              "      <td>9.170000e+02</td>\n",
              "      <td>9.170000e+02</td>\n",
              "      <td>9.170000e+02</td>\n",
              "      <td>9.170000e+02</td>\n",
              "      <td>9.170000e+02</td>\n",
              "      <td>9.170000e+02</td>\n",
              "      <td>9.170000e+02</td>\n",
              "    </tr>\n",
              "    <tr>\n",
              "      <th>mean</th>\n",
              "      <td>1.084798e-16</td>\n",
              "      <td>-1.472226e-16</td>\n",
              "      <td>1.937139e-17</td>\n",
              "      <td>-3.874279e-17</td>\n",
              "      <td>3.874279e-17</td>\n",
              "      <td>6.973702e-17</td>\n",
              "      <td>0.000000</td>\n",
              "      <td>-9.298269e-17</td>\n",
              "      <td>1.549712e-17</td>\n",
              "      <td>-4.261707e-17</td>\n",
              "      <td>4.261707e-17</td>\n",
              "      <td>8.523413e-17</td>\n",
              "      <td>0.000000</td>\n",
              "      <td>-3.874279e-17</td>\n",
              "      <td>1.859654e-16</td>\n",
              "      <td>7.884157e-16</td>\n",
              "      <td>3.014189e-15</td>\n",
              "      <td>-1.549712e-17</td>\n",
              "      <td>-5.114048e-16</td>\n",
              "      <td>-1.859654e-16</td>\n",
              "    </tr>\n",
              "    <tr>\n",
              "      <th>std</th>\n",
              "      <td>1.000546e+00</td>\n",
              "      <td>1.000546e+00</td>\n",
              "      <td>1.000546e+00</td>\n",
              "      <td>1.000546e+00</td>\n",
              "      <td>1.000546e+00</td>\n",
              "      <td>1.000546e+00</td>\n",
              "      <td>1.000546</td>\n",
              "      <td>1.000546e+00</td>\n",
              "      <td>1.000546e+00</td>\n",
              "      <td>1.000546e+00</td>\n",
              "      <td>1.000546e+00</td>\n",
              "      <td>1.000546e+00</td>\n",
              "      <td>1.000546</td>\n",
              "      <td>1.000546e+00</td>\n",
              "      <td>1.000546e+00</td>\n",
              "      <td>1.000546e+00</td>\n",
              "      <td>1.000546e+00</td>\n",
              "      <td>1.000546e+00</td>\n",
              "      <td>1.000546e+00</td>\n",
              "      <td>1.000546e+00</td>\n",
              "    </tr>\n",
              "    <tr>\n",
              "      <th>min</th>\n",
              "      <td>-5.163086e-01</td>\n",
              "      <td>-1.936826e+00</td>\n",
              "      <td>-1.085425e+00</td>\n",
              "      <td>-4.822104e-01</td>\n",
              "      <td>-5.315237e-01</td>\n",
              "      <td>-2.298105e-01</td>\n",
              "      <td>-0.507826</td>\n",
              "      <td>-1.226974e+00</td>\n",
              "      <td>-4.907810e-01</td>\n",
              "      <td>-1.213136e+00</td>\n",
              "      <td>-8.243101e-01</td>\n",
              "      <td>-2.716072e-01</td>\n",
              "      <td>-1.001091</td>\n",
              "      <td>-8.698879e-01</td>\n",
              "      <td>-2.704405e+00</td>\n",
              "      <td>-2.920572e+00</td>\n",
              "      <td>-2.994023e+00</td>\n",
              "      <td>-5.517333e-01</td>\n",
              "      <td>-3.016886e+00</td>\n",
              "      <td>-3.269662e+00</td>\n",
              "    </tr>\n",
              "    <tr>\n",
              "      <th>25%</th>\n",
              "      <td>-5.163086e-01</td>\n",
              "      <td>5.163086e-01</td>\n",
              "      <td>-1.085425e+00</td>\n",
              "      <td>-4.822104e-01</td>\n",
              "      <td>-5.315237e-01</td>\n",
              "      <td>-2.298105e-01</td>\n",
              "      <td>-0.507826</td>\n",
              "      <td>-1.226974e+00</td>\n",
              "      <td>-4.907810e-01</td>\n",
              "      <td>-1.213136e+00</td>\n",
              "      <td>-8.243101e-01</td>\n",
              "      <td>-2.716072e-01</td>\n",
              "      <td>-1.001091</td>\n",
              "      <td>-8.698879e-01</td>\n",
              "      <td>-6.900904e-01</td>\n",
              "      <td>-6.971063e-01</td>\n",
              "      <td>-5.745784e-01</td>\n",
              "      <td>-5.517333e-01</td>\n",
              "      <td>-6.596226e-01</td>\n",
              "      <td>-8.315022e-01</td>\n",
              "    </tr>\n",
              "    <tr>\n",
              "      <th>50%</th>\n",
              "      <td>-5.163086e-01</td>\n",
              "      <td>5.163086e-01</td>\n",
              "      <td>9.212982e-01</td>\n",
              "      <td>-4.822104e-01</td>\n",
              "      <td>-5.315237e-01</td>\n",
              "      <td>-2.298105e-01</td>\n",
              "      <td>-0.507826</td>\n",
              "      <td>8.150134e-01</td>\n",
              "      <td>-4.907810e-01</td>\n",
              "      <td>8.243101e-01</td>\n",
              "      <td>-8.243101e-01</td>\n",
              "      <td>-2.716072e-01</td>\n",
              "      <td>0.998910</td>\n",
              "      <td>-8.698879e-01</td>\n",
              "      <td>5.202558e-02</td>\n",
              "      <td>-1.412398e-01</td>\n",
              "      <td>3.198360e-15</td>\n",
              "      <td>-5.517333e-01</td>\n",
              "      <td>4.755658e-02</td>\n",
              "      <td>-2.688500e-01</td>\n",
              "    </tr>\n",
              "    <tr>\n",
              "      <th>75%</th>\n",
              "      <td>-5.163086e-01</td>\n",
              "      <td>5.163086e-01</td>\n",
              "      <td>9.212982e-01</td>\n",
              "      <td>-4.822104e-01</td>\n",
              "      <td>-5.315237e-01</td>\n",
              "      <td>-2.298105e-01</td>\n",
              "      <td>-0.507826</td>\n",
              "      <td>8.150134e-01</td>\n",
              "      <td>-4.907810e-01</td>\n",
              "      <td>8.243101e-01</td>\n",
              "      <td>1.213136e+00</td>\n",
              "      <td>-2.716072e-01</td>\n",
              "      <td>0.998910</td>\n",
              "      <td>1.149573e+00</td>\n",
              "      <td>6.881250e-01</td>\n",
              "      <td>4.146267e-01</td>\n",
              "      <td>4.194568e-01</td>\n",
              "      <td>-5.517333e-01</td>\n",
              "      <td>7.547357e-01</td>\n",
              "      <td>5.751284e-01</td>\n",
              "    </tr>\n",
              "    <tr>\n",
              "      <th>max</th>\n",
              "      <td>1.936826e+00</td>\n",
              "      <td>5.163086e-01</td>\n",
              "      <td>9.212982e-01</td>\n",
              "      <td>2.073784e+00</td>\n",
              "      <td>1.881384e+00</td>\n",
              "      <td>4.351412e+00</td>\n",
              "      <td>1.969177</td>\n",
              "      <td>8.150134e-01</td>\n",
              "      <td>2.037569e+00</td>\n",
              "      <td>8.243101e-01</td>\n",
              "      <td>1.213136e+00</td>\n",
              "      <td>3.681787e+00</td>\n",
              "      <td>0.998910</td>\n",
              "      <td>1.149573e+00</td>\n",
              "      <td>2.490407e+00</td>\n",
              "      <td>3.749826e+00</td>\n",
              "      <td>6.721265e+00</td>\n",
              "      <td>1.812470e+00</td>\n",
              "      <td>2.561971e+00</td>\n",
              "      <td>4.982571e+00</td>\n",
              "    </tr>\n",
              "  </tbody>\n",
              "</table>\n",
              "</div>\n",
              "    <div class=\"colab-df-buttons\">\n",
              "\n",
              "  <div class=\"colab-df-container\">\n",
              "    <button class=\"colab-df-convert\" onclick=\"convertToInteractive('df-d8b0967c-fb4e-4db0-96ab-743563c646d6')\"\n",
              "            title=\"Convert this dataframe to an interactive table.\"\n",
              "            style=\"display:none;\">\n",
              "\n",
              "  <svg xmlns=\"http://www.w3.org/2000/svg\" height=\"24px\" viewBox=\"0 -960 960 960\">\n",
              "    <path d=\"M120-120v-720h720v720H120Zm60-500h600v-160H180v160Zm220 220h160v-160H400v160Zm0 220h160v-160H400v160ZM180-400h160v-160H180v160Zm440 0h160v-160H620v160ZM180-180h160v-160H180v160Zm440 0h160v-160H620v160Z\"/>\n",
              "  </svg>\n",
              "    </button>\n",
              "\n",
              "  <style>\n",
              "    .colab-df-container {\n",
              "      display:flex;\n",
              "      gap: 12px;\n",
              "    }\n",
              "\n",
              "    .colab-df-convert {\n",
              "      background-color: #E8F0FE;\n",
              "      border: none;\n",
              "      border-radius: 50%;\n",
              "      cursor: pointer;\n",
              "      display: none;\n",
              "      fill: #1967D2;\n",
              "      height: 32px;\n",
              "      padding: 0 0 0 0;\n",
              "      width: 32px;\n",
              "    }\n",
              "\n",
              "    .colab-df-convert:hover {\n",
              "      background-color: #E2EBFA;\n",
              "      box-shadow: 0px 1px 2px rgba(60, 64, 67, 0.3), 0px 1px 3px 1px rgba(60, 64, 67, 0.15);\n",
              "      fill: #174EA6;\n",
              "    }\n",
              "\n",
              "    .colab-df-buttons div {\n",
              "      margin-bottom: 4px;\n",
              "    }\n",
              "\n",
              "    [theme=dark] .colab-df-convert {\n",
              "      background-color: #3B4455;\n",
              "      fill: #D2E3FC;\n",
              "    }\n",
              "\n",
              "    [theme=dark] .colab-df-convert:hover {\n",
              "      background-color: #434B5C;\n",
              "      box-shadow: 0px 1px 3px 1px rgba(0, 0, 0, 0.15);\n",
              "      filter: drop-shadow(0px 1px 2px rgba(0, 0, 0, 0.3));\n",
              "      fill: #FFFFFF;\n",
              "    }\n",
              "  </style>\n",
              "\n",
              "    <script>\n",
              "      const buttonEl =\n",
              "        document.querySelector('#df-d8b0967c-fb4e-4db0-96ab-743563c646d6 button.colab-df-convert');\n",
              "      buttonEl.style.display =\n",
              "        google.colab.kernel.accessAllowed ? 'block' : 'none';\n",
              "\n",
              "      async function convertToInteractive(key) {\n",
              "        const element = document.querySelector('#df-d8b0967c-fb4e-4db0-96ab-743563c646d6');\n",
              "        const dataTable =\n",
              "          await google.colab.kernel.invokeFunction('convertToInteractive',\n",
              "                                                    [key], {});\n",
              "        if (!dataTable) return;\n",
              "\n",
              "        const docLinkHtml = 'Like what you see? Visit the ' +\n",
              "          '<a target=\"_blank\" href=https://colab.research.google.com/notebooks/data_table.ipynb>data table notebook</a>'\n",
              "          + ' to learn more about interactive tables.';\n",
              "        element.innerHTML = '';\n",
              "        dataTable['output_type'] = 'display_data';\n",
              "        await google.colab.output.renderOutput(dataTable, element);\n",
              "        const docLink = document.createElement('div');\n",
              "        docLink.innerHTML = docLinkHtml;\n",
              "        element.appendChild(docLink);\n",
              "      }\n",
              "    </script>\n",
              "  </div>\n",
              "\n",
              "\n",
              "<div id=\"df-66167e76-3a5a-4e3d-b3c4-fab32bddce08\">\n",
              "  <button class=\"colab-df-quickchart\" onclick=\"quickchart('df-66167e76-3a5a-4e3d-b3c4-fab32bddce08')\"\n",
              "            title=\"Suggest charts\"\n",
              "            style=\"display:none;\">\n",
              "\n",
              "<svg xmlns=\"http://www.w3.org/2000/svg\" height=\"24px\"viewBox=\"0 0 24 24\"\n",
              "     width=\"24px\">\n",
              "    <g>\n",
              "        <path d=\"M19 3H5c-1.1 0-2 .9-2 2v14c0 1.1.9 2 2 2h14c1.1 0 2-.9 2-2V5c0-1.1-.9-2-2-2zM9 17H7v-7h2v7zm4 0h-2V7h2v10zm4 0h-2v-4h2v4z\"/>\n",
              "    </g>\n",
              "</svg>\n",
              "  </button>\n",
              "\n",
              "<style>\n",
              "  .colab-df-quickchart {\n",
              "      --bg-color: #E8F0FE;\n",
              "      --fill-color: #1967D2;\n",
              "      --hover-bg-color: #E2EBFA;\n",
              "      --hover-fill-color: #174EA6;\n",
              "      --disabled-fill-color: #AAA;\n",
              "      --disabled-bg-color: #DDD;\n",
              "  }\n",
              "\n",
              "  [theme=dark] .colab-df-quickchart {\n",
              "      --bg-color: #3B4455;\n",
              "      --fill-color: #D2E3FC;\n",
              "      --hover-bg-color: #434B5C;\n",
              "      --hover-fill-color: #FFFFFF;\n",
              "      --disabled-bg-color: #3B4455;\n",
              "      --disabled-fill-color: #666;\n",
              "  }\n",
              "\n",
              "  .colab-df-quickchart {\n",
              "    background-color: var(--bg-color);\n",
              "    border: none;\n",
              "    border-radius: 50%;\n",
              "    cursor: pointer;\n",
              "    display: none;\n",
              "    fill: var(--fill-color);\n",
              "    height: 32px;\n",
              "    padding: 0;\n",
              "    width: 32px;\n",
              "  }\n",
              "\n",
              "  .colab-df-quickchart:hover {\n",
              "    background-color: var(--hover-bg-color);\n",
              "    box-shadow: 0 1px 2px rgba(60, 64, 67, 0.3), 0 1px 3px 1px rgba(60, 64, 67, 0.15);\n",
              "    fill: var(--button-hover-fill-color);\n",
              "  }\n",
              "\n",
              "  .colab-df-quickchart-complete:disabled,\n",
              "  .colab-df-quickchart-complete:disabled:hover {\n",
              "    background-color: var(--disabled-bg-color);\n",
              "    fill: var(--disabled-fill-color);\n",
              "    box-shadow: none;\n",
              "  }\n",
              "\n",
              "  .colab-df-spinner {\n",
              "    border: 2px solid var(--fill-color);\n",
              "    border-color: transparent;\n",
              "    border-bottom-color: var(--fill-color);\n",
              "    animation:\n",
              "      spin 1s steps(1) infinite;\n",
              "  }\n",
              "\n",
              "  @keyframes spin {\n",
              "    0% {\n",
              "      border-color: transparent;\n",
              "      border-bottom-color: var(--fill-color);\n",
              "      border-left-color: var(--fill-color);\n",
              "    }\n",
              "    20% {\n",
              "      border-color: transparent;\n",
              "      border-left-color: var(--fill-color);\n",
              "      border-top-color: var(--fill-color);\n",
              "    }\n",
              "    30% {\n",
              "      border-color: transparent;\n",
              "      border-left-color: var(--fill-color);\n",
              "      border-top-color: var(--fill-color);\n",
              "      border-right-color: var(--fill-color);\n",
              "    }\n",
              "    40% {\n",
              "      border-color: transparent;\n",
              "      border-right-color: var(--fill-color);\n",
              "      border-top-color: var(--fill-color);\n",
              "    }\n",
              "    60% {\n",
              "      border-color: transparent;\n",
              "      border-right-color: var(--fill-color);\n",
              "    }\n",
              "    80% {\n",
              "      border-color: transparent;\n",
              "      border-right-color: var(--fill-color);\n",
              "      border-bottom-color: var(--fill-color);\n",
              "    }\n",
              "    90% {\n",
              "      border-color: transparent;\n",
              "      border-bottom-color: var(--fill-color);\n",
              "    }\n",
              "  }\n",
              "</style>\n",
              "\n",
              "  <script>\n",
              "    async function quickchart(key) {\n",
              "      const quickchartButtonEl =\n",
              "        document.querySelector('#' + key + ' button');\n",
              "      quickchartButtonEl.disabled = true;  // To prevent multiple clicks.\n",
              "      quickchartButtonEl.classList.add('colab-df-spinner');\n",
              "      try {\n",
              "        const charts = await google.colab.kernel.invokeFunction(\n",
              "            'suggestCharts', [key], {});\n",
              "      } catch (error) {\n",
              "        console.error('Error during call to suggestCharts:', error);\n",
              "      }\n",
              "      quickchartButtonEl.classList.remove('colab-df-spinner');\n",
              "      quickchartButtonEl.classList.add('colab-df-quickchart-complete');\n",
              "    }\n",
              "    (() => {\n",
              "      let quickchartButtonEl =\n",
              "        document.querySelector('#df-66167e76-3a5a-4e3d-b3c4-fab32bddce08 button');\n",
              "      quickchartButtonEl.style.display =\n",
              "        google.colab.kernel.accessAllowed ? 'block' : 'none';\n",
              "    })();\n",
              "  </script>\n",
              "</div>\n",
              "\n",
              "    </div>\n",
              "  </div>\n"
            ],
            "text/plain": [
              "                 0             1             2             3             4   \\\n",
              "count  9.170000e+02  9.170000e+02  9.170000e+02  9.170000e+02  9.170000e+02   \n",
              "mean   1.084798e-16 -1.472226e-16  1.937139e-17 -3.874279e-17  3.874279e-17   \n",
              "std    1.000546e+00  1.000546e+00  1.000546e+00  1.000546e+00  1.000546e+00   \n",
              "min   -5.163086e-01 -1.936826e+00 -1.085425e+00 -4.822104e-01 -5.315237e-01   \n",
              "25%   -5.163086e-01  5.163086e-01 -1.085425e+00 -4.822104e-01 -5.315237e-01   \n",
              "50%   -5.163086e-01  5.163086e-01  9.212982e-01 -4.822104e-01 -5.315237e-01   \n",
              "75%   -5.163086e-01  5.163086e-01  9.212982e-01 -4.822104e-01 -5.315237e-01   \n",
              "max    1.936826e+00  5.163086e-01  9.212982e-01  2.073784e+00  1.881384e+00   \n",
              "\n",
              "                 5           6             7             8             9   \\\n",
              "count  9.170000e+02  917.000000  9.170000e+02  9.170000e+02  9.170000e+02   \n",
              "mean   6.973702e-17    0.000000 -9.298269e-17  1.549712e-17 -4.261707e-17   \n",
              "std    1.000546e+00    1.000546  1.000546e+00  1.000546e+00  1.000546e+00   \n",
              "min   -2.298105e-01   -0.507826 -1.226974e+00 -4.907810e-01 -1.213136e+00   \n",
              "25%   -2.298105e-01   -0.507826 -1.226974e+00 -4.907810e-01 -1.213136e+00   \n",
              "50%   -2.298105e-01   -0.507826  8.150134e-01 -4.907810e-01  8.243101e-01   \n",
              "75%   -2.298105e-01   -0.507826  8.150134e-01 -4.907810e-01  8.243101e-01   \n",
              "max    4.351412e+00    1.969177  8.150134e-01  2.037569e+00  8.243101e-01   \n",
              "\n",
              "                 10            11          12            13            14  \\\n",
              "count  9.170000e+02  9.170000e+02  917.000000  9.170000e+02  9.170000e+02   \n",
              "mean   4.261707e-17  8.523413e-17    0.000000 -3.874279e-17  1.859654e-16   \n",
              "std    1.000546e+00  1.000546e+00    1.000546  1.000546e+00  1.000546e+00   \n",
              "min   -8.243101e-01 -2.716072e-01   -1.001091 -8.698879e-01 -2.704405e+00   \n",
              "25%   -8.243101e-01 -2.716072e-01   -1.001091 -8.698879e-01 -6.900904e-01   \n",
              "50%   -8.243101e-01 -2.716072e-01    0.998910 -8.698879e-01  5.202558e-02   \n",
              "75%    1.213136e+00 -2.716072e-01    0.998910  1.149573e+00  6.881250e-01   \n",
              "max    1.213136e+00  3.681787e+00    0.998910  1.149573e+00  2.490407e+00   \n",
              "\n",
              "                 15            16            17            18            19  \n",
              "count  9.170000e+02  9.170000e+02  9.170000e+02  9.170000e+02  9.170000e+02  \n",
              "mean   7.884157e-16  3.014189e-15 -1.549712e-17 -5.114048e-16 -1.859654e-16  \n",
              "std    1.000546e+00  1.000546e+00  1.000546e+00  1.000546e+00  1.000546e+00  \n",
              "min   -2.920572e+00 -2.994023e+00 -5.517333e-01 -3.016886e+00 -3.269662e+00  \n",
              "25%   -6.971063e-01 -5.745784e-01 -5.517333e-01 -6.596226e-01 -8.315022e-01  \n",
              "50%   -1.412398e-01  3.198360e-15 -5.517333e-01  4.755658e-02 -2.688500e-01  \n",
              "75%    4.146267e-01  4.194568e-01 -5.517333e-01  7.547357e-01  5.751284e-01  \n",
              "max    3.749826e+00  6.721265e+00  1.812470e+00  2.561971e+00  4.982571e+00  "
            ]
          },
          "execution_count": 23,
          "metadata": {},
          "output_type": "execute_result"
        }
      ],
      "source": [
        "previsores3_df.describe()"
      ]
    },
    {
      "cell_type": "markdown",
      "metadata": {
        "id": "UKENEa5LiVSt"
      },
      "source": [
        "# Treino & Teste"
      ]
    },
    {
      "cell_type": "markdown",
      "metadata": {
        "id": "UpuJ3CFZyedA"
      },
      "source": [
        "**alvo** = variável que se pretende atingir (tem ou não doença cardíaca).\n",
        "\n",
        "**previsores** = conjunto de variáveis previsoras com as variáveis categóricas transformadas em numéricas manualmente, sem escalonar.\n",
        "\n",
        "**previsores_esc** = conjunto de variáveis previsoras com as variáveis categóricas transformadas em numéricas, escalonada.\n",
        "\n",
        "**previsores2** = conjunto de variáveis previsoras com as variáveis categóricas transformadas em numéricas pelo labelencoder.\n",
        "\n",
        "**previsores3** = conjunto de variáveis previsoras transformadas pelo labelencoder e onehotencoder, sem escalonar.\n",
        "\n",
        "**previsores3_esc** = conjunto de variáveis previsoras transformadas pelo labelencoder e onehotencoder escalonada."
      ]
    },
    {
      "cell_type": "code",
      "execution_count": null,
      "metadata": {
        "id": "ScmkMJrpiXo0"
      },
      "outputs": [],
      "source": [
        "X_train, X_test, y_train, y_test = train_test_split(\n",
        "    previsores2, alvo, test_size=0.3, random_state=0)"
      ]
    },
    {
      "cell_type": "code",
      "execution_count": null,
      "metadata": {
        "colab": {
          "base_uri": "https://localhost:8080/"
        },
        "id": "frpQnM_ErZRy",
        "outputId": "04bea2f1-5990-4f27-80d6-719296cbcec1"
      },
      "outputs": [
        {
          "data": {
            "text/plain": [
              "array([1, 0, 1, 1, 1, 1, 0, 0, 0, 0, 1, 0, 1, 0, 1, 0, 0, 0, 0, 1, 0, 0,\n",
              "       1, 1, 1, 0, 0, 1, 1, 1, 1, 0, 1, 1, 0, 1, 1, 1, 0, 1, 0, 1, 0, 0,\n",
              "       1, 1, 0, 1, 1, 1, 0, 1, 1, 0, 1, 1, 1, 0, 1, 0, 0, 0, 1, 0, 1, 0,\n",
              "       0, 0, 1, 0, 1, 1, 1, 1, 0, 0, 1, 1, 1, 1, 0, 1, 1, 1, 0, 1, 1, 1,\n",
              "       1, 1, 0, 0, 0, 0, 1, 1, 1, 1, 1, 1, 1, 1, 0, 0, 1, 1, 1, 0, 1, 1,\n",
              "       0, 0, 1, 0, 1, 0, 1, 0, 1, 0, 0, 0, 0, 1, 0, 1, 0, 0, 1, 1, 1, 0,\n",
              "       1, 1, 0, 1, 1, 0, 1, 0, 0, 1, 0, 1, 1, 1, 0, 0, 0, 1, 1, 1, 1, 0,\n",
              "       1, 0, 0, 1, 1, 0, 1, 0, 0, 0, 1, 1, 1, 0, 0, 0, 0, 1, 1, 0, 1, 0,\n",
              "       0, 1, 0, 0, 0, 0, 0, 0, 0, 1, 1, 1, 1, 1, 0, 1, 1, 0, 0, 0, 1, 1,\n",
              "       1, 1, 0, 0, 0, 1, 1, 0, 1, 1, 0, 0, 1, 0, 1, 1, 1, 0, 1, 0, 0, 0,\n",
              "       1, 1, 0, 1, 1, 0, 1, 1, 0, 1, 1, 1, 0, 1, 1, 0, 1, 0, 1, 0, 1, 0,\n",
              "       1, 1, 1, 0, 0, 1, 1, 1, 0, 1, 0, 0, 0, 0, 0, 0, 0, 0, 1, 0, 1, 0,\n",
              "       1, 0, 1, 1, 1, 1, 1, 1, 0, 0, 0, 1, 1, 0, 0, 0, 1, 0, 0, 0, 0, 1,\n",
              "       1, 1, 1, 1, 1, 0, 1, 1, 0, 1, 0, 0, 0, 1, 1, 0, 0, 1, 0, 0, 1, 1,\n",
              "       1, 0, 1, 0, 1, 0, 1, 0, 1, 1, 1, 1, 1, 1, 1, 1, 0, 1, 1, 1, 1, 0,\n",
              "       0, 0, 1, 0, 0, 0, 1, 1, 0, 1, 1, 1, 1, 1, 1, 0, 1, 1, 0, 1, 0, 1,\n",
              "       0, 0, 0, 1, 0, 1, 1, 1, 0, 0, 0, 1, 1, 0, 0, 0, 0, 0, 1, 1, 0, 1,\n",
              "       0, 1, 1, 1, 0, 1, 1, 1, 0, 1, 0, 1, 0, 0, 1, 1, 0, 0, 1, 1, 1, 1,\n",
              "       0, 1, 0, 1, 1, 1, 1, 0, 1, 1, 1, 1, 0, 0, 0, 1, 0, 1, 1, 1, 0, 0,\n",
              "       0, 1, 1, 0, 1, 1, 1, 1, 0, 1, 0, 0, 0, 1, 1, 0, 1, 1, 1, 1, 1, 1,\n",
              "       0, 0, 1, 1, 0, 1, 0, 1, 0, 0, 1, 0, 1, 1, 1, 1, 0, 0, 0, 1, 0, 1,\n",
              "       1, 1, 1, 1, 1, 0, 1, 0, 1, 1, 1, 1, 1, 1, 1, 0, 0, 0, 1, 0, 0, 0,\n",
              "       0, 0, 1, 0, 1, 1, 0, 0, 0, 1, 1, 0, 0, 1, 1, 0, 1, 1, 0, 0, 1, 1,\n",
              "       1, 1, 0, 0, 1, 1, 1, 1, 0, 1, 0, 0, 1, 0, 0, 1, 1, 1, 0, 1, 1, 0,\n",
              "       1, 0, 0, 0, 1, 0, 1, 0, 1, 0, 1, 1, 0, 1, 1, 1, 1, 1, 0, 1, 1, 0,\n",
              "       0, 1, 1, 0, 1, 0, 0, 1, 1, 0, 1, 1, 0, 1, 0, 1, 1, 0, 1, 1, 0, 0,\n",
              "       1, 1, 0, 1, 1, 0, 0, 0, 0, 0, 0, 0, 1, 1, 1, 0, 1, 0, 0, 0, 0, 0,\n",
              "       0, 0, 0, 0, 0, 0, 0, 0, 0, 0, 1, 0, 1, 1, 0, 1, 1, 1, 1, 1, 0, 1,\n",
              "       1, 1, 0, 1, 1, 1, 0, 1, 1, 1, 1, 0, 0, 1, 1, 0, 0, 1, 1, 0, 1, 0,\n",
              "       0, 0, 1])"
            ]
          },
          "execution_count": 26,
          "metadata": {},
          "output_type": "execute_result"
        }
      ],
      "source": [
        "y_train"
      ]
    },
    {
      "cell_type": "markdown",
      "metadata": {
        "id": "Epo7eXK2r8_U"
      },
      "source": [
        "# NAIVE BAYES"
      ]
    },
    {
      "cell_type": "code",
      "execution_count": null,
      "metadata": {
        "colab": {
          "base_uri": "https://localhost:8080/",
          "height": 74
        },
        "id": "pI2InzJMr-s1",
        "outputId": "23dd0e95-f88c-4ae3-8894-fd45997508b6"
      },
      "outputs": [
        {
          "data": {
            "text/html": [
              "<style>#sk-container-id-1 {color: black;background-color: white;}#sk-container-id-1 pre{padding: 0;}#sk-container-id-1 div.sk-toggleable {background-color: white;}#sk-container-id-1 label.sk-toggleable__label {cursor: pointer;display: block;width: 100%;margin-bottom: 0;padding: 0.3em;box-sizing: border-box;text-align: center;}#sk-container-id-1 label.sk-toggleable__label-arrow:before {content: \"▸\";float: left;margin-right: 0.25em;color: #696969;}#sk-container-id-1 label.sk-toggleable__label-arrow:hover:before {color: black;}#sk-container-id-1 div.sk-estimator:hover label.sk-toggleable__label-arrow:before {color: black;}#sk-container-id-1 div.sk-toggleable__content {max-height: 0;max-width: 0;overflow: hidden;text-align: left;background-color: #f0f8ff;}#sk-container-id-1 div.sk-toggleable__content pre {margin: 0.2em;color: black;border-radius: 0.25em;background-color: #f0f8ff;}#sk-container-id-1 input.sk-toggleable__control:checked~div.sk-toggleable__content {max-height: 200px;max-width: 100%;overflow: auto;}#sk-container-id-1 input.sk-toggleable__control:checked~label.sk-toggleable__label-arrow:before {content: \"▾\";}#sk-container-id-1 div.sk-estimator input.sk-toggleable__control:checked~label.sk-toggleable__label {background-color: #d4ebff;}#sk-container-id-1 div.sk-label input.sk-toggleable__control:checked~label.sk-toggleable__label {background-color: #d4ebff;}#sk-container-id-1 input.sk-hidden--visually {border: 0;clip: rect(1px 1px 1px 1px);clip: rect(1px, 1px, 1px, 1px);height: 1px;margin: -1px;overflow: hidden;padding: 0;position: absolute;width: 1px;}#sk-container-id-1 div.sk-estimator {font-family: monospace;background-color: #f0f8ff;border: 1px dotted black;border-radius: 0.25em;box-sizing: border-box;margin-bottom: 0.5em;}#sk-container-id-1 div.sk-estimator:hover {background-color: #d4ebff;}#sk-container-id-1 div.sk-parallel-item::after {content: \"\";width: 100%;border-bottom: 1px solid gray;flex-grow: 1;}#sk-container-id-1 div.sk-label:hover label.sk-toggleable__label {background-color: #d4ebff;}#sk-container-id-1 div.sk-serial::before {content: \"\";position: absolute;border-left: 1px solid gray;box-sizing: border-box;top: 0;bottom: 0;left: 50%;z-index: 0;}#sk-container-id-1 div.sk-serial {display: flex;flex-direction: column;align-items: center;background-color: white;padding-right: 0.2em;padding-left: 0.2em;position: relative;}#sk-container-id-1 div.sk-item {position: relative;z-index: 1;}#sk-container-id-1 div.sk-parallel {display: flex;align-items: stretch;justify-content: center;background-color: white;position: relative;}#sk-container-id-1 div.sk-item::before, #sk-container-id-1 div.sk-parallel-item::before {content: \"\";position: absolute;border-left: 1px solid gray;box-sizing: border-box;top: 0;bottom: 0;left: 50%;z-index: -1;}#sk-container-id-1 div.sk-parallel-item {display: flex;flex-direction: column;z-index: 1;position: relative;background-color: white;}#sk-container-id-1 div.sk-parallel-item:first-child::after {align-self: flex-end;width: 50%;}#sk-container-id-1 div.sk-parallel-item:last-child::after {align-self: flex-start;width: 50%;}#sk-container-id-1 div.sk-parallel-item:only-child::after {width: 0;}#sk-container-id-1 div.sk-dashed-wrapped {border: 1px dashed gray;margin: 0 0.4em 0.5em 0.4em;box-sizing: border-box;padding-bottom: 0.4em;background-color: white;}#sk-container-id-1 div.sk-label label {font-family: monospace;font-weight: bold;display: inline-block;line-height: 1.2em;}#sk-container-id-1 div.sk-label-container {text-align: center;}#sk-container-id-1 div.sk-container {/* jupyter's `normalize.less` sets `[hidden] { display: none; }` but bootstrap.min.css set `[hidden] { display: none !important; }` so we also need the `!important` here to be able to override the default hidden behavior on the sphinx rendered scikit-learn.org. See: https://github.com/scikit-learn/scikit-learn/issues/21755 */display: inline-block !important;position: relative;}#sk-container-id-1 div.sk-text-repr-fallback {display: none;}</style><div id=\"sk-container-id-1\" class=\"sk-top-container\"><div class=\"sk-text-repr-fallback\"><pre>GaussianNB()</pre><b>In a Jupyter environment, please rerun this cell to show the HTML representation or trust the notebook. <br />On GitHub, the HTML representation is unable to render, please try loading this page with nbviewer.org.</b></div><div class=\"sk-container\" hidden><div class=\"sk-item\"><div class=\"sk-estimator sk-toggleable\"><input class=\"sk-toggleable__control sk-hidden--visually\" id=\"sk-estimator-id-1\" type=\"checkbox\" checked><label for=\"sk-estimator-id-1\" class=\"sk-toggleable__label sk-toggleable__label-arrow\">GaussianNB</label><div class=\"sk-toggleable__content\"><pre>GaussianNB()</pre></div></div></div></div></div>"
            ],
            "text/plain": [
              "GaussianNB()"
            ]
          },
          "execution_count": 61,
          "metadata": {},
          "output_type": "execute_result"
        }
      ],
      "source": [
        "naive = GaussianNB()\n",
        "naive.fit(X_train, y_train)"
      ]
    },
    {
      "cell_type": "code",
      "execution_count": null,
      "metadata": {
        "colab": {
          "base_uri": "https://localhost:8080/"
        },
        "id": "stwrZtUpyzXH",
        "outputId": "e8e8f5e0-a10d-4b97-873a-01d9d1f26ec6"
      },
      "outputs": [
        {
          "data": {
            "text/plain": [
              "array([1, 1, 1, 0, 0, 0, 0, 0, 0, 0, 1, 1, 1, 1, 0, 1, 1, 1, 1, 0, 1, 1,\n",
              "       1, 0, 0, 0, 1, 1, 0, 1, 1, 0, 0, 0, 1, 0, 0, 0, 1, 0, 0, 1, 1, 1,\n",
              "       1, 0, 0, 1, 0, 1, 0, 0, 0, 1, 1, 0, 0, 0, 0, 0, 1, 0, 1, 0, 1, 1,\n",
              "       1, 0, 1, 0, 1, 1, 0, 1, 1, 1, 1, 1, 1, 1, 0, 1, 0, 0, 1, 1, 1, 1,\n",
              "       1, 0, 1, 0, 0, 0, 1, 0, 1, 0, 0, 0, 0, 0, 1, 1, 0, 1, 1, 0, 0, 1,\n",
              "       1, 1, 1, 1, 1, 1, 0, 1, 1, 1, 1, 1, 1, 0, 1, 1, 0, 1, 0, 1, 0, 1,\n",
              "       1, 1, 1, 1, 1, 1, 1, 0, 0, 1, 0, 1, 0, 0, 1, 1, 0, 0, 0, 1, 0, 0,\n",
              "       1, 0, 1, 1, 1, 0, 1, 1, 1, 0, 1, 0, 1, 0, 1, 0, 1, 1, 0, 0, 0, 1,\n",
              "       1, 0, 0, 1, 1, 1, 0, 1, 1, 1, 0, 1, 1, 0, 0, 0, 1, 1, 1, 1, 0, 0,\n",
              "       1, 0, 1, 1, 0, 1, 1, 0, 0, 0, 1, 0, 1, 1, 0, 0, 0, 0, 1, 0, 1, 1,\n",
              "       1, 0, 0, 1, 1, 1, 0, 1, 1, 1, 0, 1, 1, 1, 0, 1, 1, 1, 0, 1, 1, 0,\n",
              "       1, 0, 0, 0, 0, 0, 1, 0, 1, 0, 1, 0, 0, 0, 1, 0, 0, 1, 0, 1, 1, 0,\n",
              "       0, 0, 0, 0, 1, 0, 0, 0, 1, 1, 1, 0])"
            ]
          },
          "execution_count": 63,
          "metadata": {},
          "output_type": "execute_result"
        }
      ],
      "source": [
        "previsoes_naive = naive.predict(X_test)\n",
        "previsoes_naive"
      ]
    },
    {
      "cell_type": "code",
      "execution_count": null,
      "metadata": {
        "colab": {
          "base_uri": "https://localhost:8080/"
        },
        "id": "g6t8wWtRzQ2o",
        "outputId": "3854c187-8b20-4e51-aac9-d5a7d9e7ba35"
      },
      "outputs": [
        {
          "data": {
            "text/plain": [
              "0.8442028985507246"
            ]
          },
          "execution_count": 75,
          "metadata": {},
          "output_type": "execute_result"
        }
      ],
      "source": [
        "# accuracy_score(y_test, previsoes_naive)\n",
        "accuracy_score(y_test, naive.predict(X_test))"
      ]
    },
    {
      "cell_type": "code",
      "execution_count": null,
      "metadata": {
        "colab": {
          "base_uri": "https://localhost:8080/"
        },
        "id": "MIb5ZWZIzmbT",
        "outputId": "b8ec9536-8ae4-47a8-ac89-b0a4ffa95508"
      },
      "outputs": [
        {
          "data": {
            "text/plain": [
              "array([[102,  19],\n",
              "       [ 24, 131]])"
            ]
          },
          "execution_count": 76,
          "metadata": {},
          "output_type": "execute_result"
        }
      ],
      "source": [
        "confusion_matrix(y_test, previsoes_naive)"
      ]
    },
    {
      "cell_type": "code",
      "execution_count": null,
      "metadata": {
        "colab": {
          "base_uri": "https://localhost:8080/"
        },
        "id": "pWZRW7j60Pif",
        "outputId": "32e441f7-abce-41f0-babe-40e1a7143aae"
      },
      "outputs": [
        {
          "name": "stdout",
          "output_type": "stream",
          "text": [
            "              precision    recall  f1-score   support\n",
            "\n",
            "           0       0.81      0.84      0.83       121\n",
            "           1       0.87      0.85      0.86       155\n",
            "\n",
            "    accuracy                           0.84       276\n",
            "   macro avg       0.84      0.84      0.84       276\n",
            "weighted avg       0.85      0.84      0.84       276\n",
            "\n"
          ]
        }
      ],
      "source": [
        "print(classification_report(y_test, previsoes_naive))"
      ]
    },
    {
      "cell_type": "markdown",
      "metadata": {
        "id": "gh9Yo8sM0T1W"
      },
      "source": [
        "## Dados de Treino"
      ]
    },
    {
      "cell_type": "code",
      "execution_count": null,
      "metadata": {
        "id": "IiUbi7J00VnR"
      },
      "outputs": [],
      "source": [
        "previsoes_treino = naive.predict(X_train)"
      ]
    },
    {
      "cell_type": "code",
      "execution_count": null,
      "metadata": {
        "colab": {
          "base_uri": "https://localhost:8080/"
        },
        "id": "ehCfATb02jwI",
        "outputId": "804ac4b3-713e-4de2-e133-935a01c1c6a6"
      },
      "outputs": [
        {
          "data": {
            "text/plain": [
              "0.8361934477379095"
            ]
          },
          "execution_count": 81,
          "metadata": {},
          "output_type": "execute_result"
        }
      ],
      "source": [
        "accuracy_score(y_train, previsoes_treino)"
      ]
    },
    {
      "cell_type": "code",
      "execution_count": null,
      "metadata": {
        "colab": {
          "base_uri": "https://localhost:8080/"
        },
        "id": "v8C6VcyG2qP5",
        "outputId": "1092264a-1b59-4bb0-f4fe-86b0edb7aaeb"
      },
      "outputs": [
        {
          "data": {
            "text/plain": [
              "array([[243,  46],\n",
              "       [ 59, 293]])"
            ]
          },
          "execution_count": 82,
          "metadata": {},
          "output_type": "execute_result"
        }
      ],
      "source": [
        "confusion_matrix(y_train, previsoes_treino)"
      ]
    },
    {
      "cell_type": "markdown",
      "metadata": {
        "id": "GTKiUmUz2u8e"
      },
      "source": [
        "## Validação Cruzada"
      ]
    },
    {
      "cell_type": "code",
      "execution_count": null,
      "metadata": {
        "id": "REXd8PrD2wiQ"
      },
      "outputs": [],
      "source": [
        "#Separando os dados em folds\n",
        "kfold = KFold(n_splits=30, shuffle=True, random_state=5)"
      ]
    },
    {
      "cell_type": "code",
      "execution_count": null,
      "metadata": {
        "colab": {
          "base_uri": "https://localhost:8080/"
        },
        "id": "mp6Ot7S93HOL",
        "outputId": "4011a0c6-8d06-48b9-9984-45faff6769c2"
      },
      "outputs": [
        {
          "data": {
            "text/plain": [
              "array([0.87096774, 0.87096774, 0.90322581, 0.80645161, 0.77419355,\n",
              "       0.90322581, 0.70967742, 0.87096774, 0.77419355, 0.87096774,\n",
              "       0.90322581, 0.77419355, 0.93548387, 0.90322581, 0.87096774,\n",
              "       0.87096774, 0.87096774, 0.93333333, 0.93333333, 0.9       ,\n",
              "       0.76666667, 0.83333333, 0.8       , 0.7       , 0.83333333,\n",
              "       0.93333333, 0.86666667, 0.9       , 0.86666667, 0.8       ])"
            ]
          },
          "execution_count": 88,
          "metadata": {},
          "output_type": "execute_result"
        }
      ],
      "source": [
        "#CCriando o modelo\n",
        "modelo = GaussianNB()\n",
        "resultado = cross_val_score(modelo, previsores3_esc, alvo, cv=kfold)\n",
        "resultado"
      ]
    },
    {
      "cell_type": "code",
      "execution_count": null,
      "metadata": {
        "colab": {
          "base_uri": "https://localhost:8080/"
        },
        "id": "HGw25gbQ38oC",
        "outputId": "dde796c1-eb8a-401f-b45a-e49caf3d1266"
      },
      "outputs": [
        {
          "data": {
            "text/plain": [
              "0.8516845878136201"
            ]
          },
          "execution_count": 89,
          "metadata": {},
          "output_type": "execute_result"
        }
      ],
      "source": [
        "#média e desvio padrão\n",
        "resultado.mean()"
      ]
    },
    {
      "cell_type": "markdown",
      "metadata": {
        "id": "dnNNThxt3vSJ"
      },
      "source": [
        "Nas validações cruzadas, os resultados não podem diferir muito comparado com a acurácia do modelo.\n",
        "No caso do modelo, a acurácia foi de *85,42%*\n",
        "No caso da validação cruzada, a acurácia foi de *85,16*"
      ]
    },
    {
      "cell_type": "markdown",
      "metadata": {
        "id": "t0o2sXJnujTy"
      },
      "source": [
        "# SVM"
      ]
    },
    {
      "cell_type": "code",
      "execution_count": null,
      "metadata": {
        "id": "I3a7EZWuukij"
      },
      "outputs": [],
      "source": [
        "svm = SVC(kernel='rbf', C=2, random_state=1)"
      ]
    },
    {
      "cell_type": "code",
      "execution_count": null,
      "metadata": {
        "colab": {
          "base_uri": "https://localhost:8080/",
          "height": 74
        },
        "id": "6kK_GECKvO2e",
        "outputId": "4fc76545-0824-454a-e922-de41df398845"
      },
      "outputs": [
        {
          "data": {
            "text/html": [
              "<style>#sk-container-id-2 {color: black;background-color: white;}#sk-container-id-2 pre{padding: 0;}#sk-container-id-2 div.sk-toggleable {background-color: white;}#sk-container-id-2 label.sk-toggleable__label {cursor: pointer;display: block;width: 100%;margin-bottom: 0;padding: 0.3em;box-sizing: border-box;text-align: center;}#sk-container-id-2 label.sk-toggleable__label-arrow:before {content: \"▸\";float: left;margin-right: 0.25em;color: #696969;}#sk-container-id-2 label.sk-toggleable__label-arrow:hover:before {color: black;}#sk-container-id-2 div.sk-estimator:hover label.sk-toggleable__label-arrow:before {color: black;}#sk-container-id-2 div.sk-toggleable__content {max-height: 0;max-width: 0;overflow: hidden;text-align: left;background-color: #f0f8ff;}#sk-container-id-2 div.sk-toggleable__content pre {margin: 0.2em;color: black;border-radius: 0.25em;background-color: #f0f8ff;}#sk-container-id-2 input.sk-toggleable__control:checked~div.sk-toggleable__content {max-height: 200px;max-width: 100%;overflow: auto;}#sk-container-id-2 input.sk-toggleable__control:checked~label.sk-toggleable__label-arrow:before {content: \"▾\";}#sk-container-id-2 div.sk-estimator input.sk-toggleable__control:checked~label.sk-toggleable__label {background-color: #d4ebff;}#sk-container-id-2 div.sk-label input.sk-toggleable__control:checked~label.sk-toggleable__label {background-color: #d4ebff;}#sk-container-id-2 input.sk-hidden--visually {border: 0;clip: rect(1px 1px 1px 1px);clip: rect(1px, 1px, 1px, 1px);height: 1px;margin: -1px;overflow: hidden;padding: 0;position: absolute;width: 1px;}#sk-container-id-2 div.sk-estimator {font-family: monospace;background-color: #f0f8ff;border: 1px dotted black;border-radius: 0.25em;box-sizing: border-box;margin-bottom: 0.5em;}#sk-container-id-2 div.sk-estimator:hover {background-color: #d4ebff;}#sk-container-id-2 div.sk-parallel-item::after {content: \"\";width: 100%;border-bottom: 1px solid gray;flex-grow: 1;}#sk-container-id-2 div.sk-label:hover label.sk-toggleable__label {background-color: #d4ebff;}#sk-container-id-2 div.sk-serial::before {content: \"\";position: absolute;border-left: 1px solid gray;box-sizing: border-box;top: 0;bottom: 0;left: 50%;z-index: 0;}#sk-container-id-2 div.sk-serial {display: flex;flex-direction: column;align-items: center;background-color: white;padding-right: 0.2em;padding-left: 0.2em;position: relative;}#sk-container-id-2 div.sk-item {position: relative;z-index: 1;}#sk-container-id-2 div.sk-parallel {display: flex;align-items: stretch;justify-content: center;background-color: white;position: relative;}#sk-container-id-2 div.sk-item::before, #sk-container-id-2 div.sk-parallel-item::before {content: \"\";position: absolute;border-left: 1px solid gray;box-sizing: border-box;top: 0;bottom: 0;left: 50%;z-index: -1;}#sk-container-id-2 div.sk-parallel-item {display: flex;flex-direction: column;z-index: 1;position: relative;background-color: white;}#sk-container-id-2 div.sk-parallel-item:first-child::after {align-self: flex-end;width: 50%;}#sk-container-id-2 div.sk-parallel-item:last-child::after {align-self: flex-start;width: 50%;}#sk-container-id-2 div.sk-parallel-item:only-child::after {width: 0;}#sk-container-id-2 div.sk-dashed-wrapped {border: 1px dashed gray;margin: 0 0.4em 0.5em 0.4em;box-sizing: border-box;padding-bottom: 0.4em;background-color: white;}#sk-container-id-2 div.sk-label label {font-family: monospace;font-weight: bold;display: inline-block;line-height: 1.2em;}#sk-container-id-2 div.sk-label-container {text-align: center;}#sk-container-id-2 div.sk-container {/* jupyter's `normalize.less` sets `[hidden] { display: none; }` but bootstrap.min.css set `[hidden] { display: none !important; }` so we also need the `!important` here to be able to override the default hidden behavior on the sphinx rendered scikit-learn.org. See: https://github.com/scikit-learn/scikit-learn/issues/21755 */display: inline-block !important;position: relative;}#sk-container-id-2 div.sk-text-repr-fallback {display: none;}</style><div id=\"sk-container-id-2\" class=\"sk-top-container\"><div class=\"sk-text-repr-fallback\"><pre>SVC(C=2, random_state=1)</pre><b>In a Jupyter environment, please rerun this cell to show the HTML representation or trust the notebook. <br />On GitHub, the HTML representation is unable to render, please try loading this page with nbviewer.org.</b></div><div class=\"sk-container\" hidden><div class=\"sk-item\"><div class=\"sk-estimator sk-toggleable\"><input class=\"sk-toggleable__control sk-hidden--visually\" id=\"sk-estimator-id-2\" type=\"checkbox\" checked><label for=\"sk-estimator-id-2\" class=\"sk-toggleable__label sk-toggleable__label-arrow\">SVC</label><div class=\"sk-toggleable__content\"><pre>SVC(C=2, random_state=1)</pre></div></div></div></div></div>"
            ],
            "text/plain": [
              "SVC(C=2, random_state=1)"
            ]
          },
          "execution_count": 36,
          "metadata": {},
          "output_type": "execute_result"
        }
      ],
      "source": [
        "svm.fit(X_train, y_train)"
      ]
    },
    {
      "cell_type": "code",
      "execution_count": null,
      "metadata": {
        "id": "xZQWaZPmvRST"
      },
      "outputs": [],
      "source": [
        "previsoes_svm = svm.predict(X_train)"
      ]
    },
    {
      "cell_type": "code",
      "execution_count": null,
      "metadata": {
        "colab": {
          "base_uri": "https://localhost:8080/"
        },
        "id": "zoKYUchjvmmN",
        "outputId": "e2e5df58-b727-4e11-dcb4-7b8ec7b71f39"
      },
      "outputs": [
        {
          "data": {
            "text/plain": [
              "0.9282371294851794"
            ]
          },
          "execution_count": 39,
          "metadata": {},
          "output_type": "execute_result"
        }
      ],
      "source": [
        "accuracy_score(y_train, previsoes_svm)"
      ]
    },
    {
      "cell_type": "code",
      "execution_count": null,
      "metadata": {
        "colab": {
          "base_uri": "https://localhost:8080/"
        },
        "id": "u7b2yDkXvpur",
        "outputId": "5f8a7e14-a819-470a-d891-fe5ee041b382"
      },
      "outputs": [
        {
          "data": {
            "text/plain": [
              "array([[257,  32],\n",
              "       [ 14, 338]])"
            ]
          },
          "execution_count": 42,
          "metadata": {},
          "output_type": "execute_result"
        }
      ],
      "source": [
        "confusion_matrix(y_train, previsoes_svm)"
      ]
    },
    {
      "cell_type": "code",
      "execution_count": null,
      "metadata": {
        "colab": {
          "base_uri": "https://localhost:8080/"
        },
        "id": "eK-1HLsdwMHu",
        "outputId": "9b414468-6b49-4b45-b143-2f58ec142c0f"
      },
      "outputs": [
        {
          "name": "stdout",
          "output_type": "stream",
          "text": [
            "              precision    recall  f1-score   support\n",
            "\n",
            "           0       0.95      0.89      0.92       289\n",
            "           1       0.91      0.96      0.94       352\n",
            "\n",
            "    accuracy                           0.93       641\n",
            "   macro avg       0.93      0.92      0.93       641\n",
            "weighted avg       0.93      0.93      0.93       641\n",
            "\n"
          ]
        }
      ],
      "source": [
        "print(classification_report(y_train, previsoes_svm))"
      ]
    },
    {
      "cell_type": "markdown",
      "metadata": {
        "id": "qlT30On0wpeG"
      },
      "source": [
        "## Análise dados de treino"
      ]
    },
    {
      "cell_type": "code",
      "execution_count": null,
      "metadata": {
        "id": "UzDOlkG0wrXI"
      },
      "outputs": [],
      "source": [
        "previsoes_treino = svm.predict(X_train)"
      ]
    },
    {
      "cell_type": "code",
      "execution_count": null,
      "metadata": {
        "colab": {
          "base_uri": "https://localhost:8080/"
        },
        "id": "hCc09gGYwwZe",
        "outputId": "368e5cf6-334e-46c0-ecd3-b2c6cf5a88d7"
      },
      "outputs": [
        {
          "data": {
            "text/plain": [
              "0.9282371294851794"
            ]
          },
          "execution_count": 46,
          "metadata": {},
          "output_type": "execute_result"
        }
      ],
      "source": [
        "accuracy_score(y_train, previsoes_treino)"
      ]
    },
    {
      "cell_type": "code",
      "execution_count": null,
      "metadata": {
        "colab": {
          "base_uri": "https://localhost:8080/"
        },
        "id": "Rs5DOEx1wzvG",
        "outputId": "302dfef5-7cf2-4070-d32c-0ac390c7b956"
      },
      "outputs": [
        {
          "data": {
            "text/plain": [
              "array([[257,  32],\n",
              "       [ 14, 338]])"
            ]
          },
          "execution_count": 47,
          "metadata": {},
          "output_type": "execute_result"
        }
      ],
      "source": [
        "confusion_matrix(y_train, previsoes_treino)"
      ]
    },
    {
      "cell_type": "markdown",
      "metadata": {
        "id": "-_qxCiYjw9e4"
      },
      "source": [
        "## Validação Cruzada"
      ]
    },
    {
      "cell_type": "code",
      "execution_count": null,
      "metadata": {
        "id": "jhyhHv0Vw_Xw"
      },
      "outputs": [],
      "source": [
        "kfold = KFold(n_splits=30, shuffle=True, random_state=5)"
      ]
    },
    {
      "cell_type": "code",
      "execution_count": null,
      "metadata": {
        "colab": {
          "base_uri": "https://localhost:8080/"
        },
        "id": "qJ403MdVxNo4",
        "outputId": "52def2ea-81a8-4a72-a8e9-9426852f75fc"
      },
      "outputs": [
        {
          "data": {
            "text/plain": [
              "array([0.96774194, 0.83870968, 0.87096774, 0.90322581, 0.83870968,\n",
              "       0.87096774, 0.70967742, 0.87096774, 0.80645161, 0.80645161,\n",
              "       0.87096774, 0.80645161, 0.96774194, 0.90322581, 0.80645161,\n",
              "       0.83870968, 0.80645161, 0.93333333, 0.86666667, 0.93333333,\n",
              "       0.83333333, 0.86666667, 0.86666667, 0.63333333, 0.83333333,\n",
              "       0.93333333, 0.9       , 0.86666667, 0.9       , 0.86666667])"
            ]
          },
          "execution_count": 50,
          "metadata": {},
          "output_type": "execute_result"
        }
      ],
      "source": [
        "modelo = SVC(kernel='rbf', C=2, random_state=1)\n",
        "result = cross_val_score(modelo, previsores3_esc, alvo, cv=kfold)\n",
        "result"
      ]
    },
    {
      "cell_type": "code",
      "execution_count": null,
      "metadata": {
        "colab": {
          "base_uri": "https://localhost:8080/"
        },
        "id": "075icnTXxeWR",
        "outputId": "c86f5a0a-e11b-409c-e9e9-28b1e8aa71a0"
      },
      "outputs": [
        {
          "data": {
            "text/plain": [
              "0.8572401433691755"
            ]
          },
          "execution_count": 51,
          "metadata": {},
          "output_type": "execute_result"
        }
      ],
      "source": [
        "result.mean()"
      ]
    },
    {
      "cell_type": "markdown",
      "metadata": {
        "id": "Y9CaN5_-JZ4A"
      },
      "source": [
        "# Regressão Logística"
      ]
    },
    {
      "cell_type": "code",
      "execution_count": null,
      "metadata": {
        "id": "wJjZn0l1JcTR"
      },
      "outputs": [],
      "source": [
        "from sklearn.linear_model import LogisticRegression"
      ]
    },
    {
      "cell_type": "code",
      "execution_count": null,
      "metadata": {
        "id": "NEmcW-TdJ2hu"
      },
      "outputs": [],
      "source": [
        "logistica = LogisticRegression(random_state=1, max_iter=500\n",
        "                               , penalty='l2', tol=0.0001, C=1,\n",
        "                               solver='lbfgs')"
      ]
    },
    {
      "cell_type": "code",
      "execution_count": null,
      "metadata": {
        "id": "XM9nFkEPKNPm"
      },
      "outputs": [],
      "source": [
        "logistica.fit(X_train, y_train);"
      ]
    },
    {
      "cell_type": "code",
      "execution_count": null,
      "metadata": {
        "colab": {
          "base_uri": "https://localhost:8080/"
        },
        "id": "yzFLNfU5KPbJ",
        "outputId": "eb192381-df69-4e78-975e-fb9fa5d00563"
      },
      "outputs": [
        {
          "data": {
            "text/plain": [
              "array([0.38745198])"
            ]
          },
          "execution_count": 119,
          "metadata": {},
          "output_type": "execute_result"
        }
      ],
      "source": [
        "logistica.intercept_"
      ]
    },
    {
      "cell_type": "code",
      "execution_count": null,
      "metadata": {
        "colab": {
          "base_uri": "https://localhost:8080/"
        },
        "id": "Bs4eaAVjKV12",
        "outputId": "75498c58-0375-4012-d61a-cc037e77e6f6"
      },
      "outputs": [
        {
          "data": {
            "text/plain": [
              "array([[ 0.0123781 , -1.27430395,  0.66527539,  0.00315881,  0.00427309,\n",
              "         0.92061278,  0.09485448, -0.01172447,  1.02708424,  0.24925175,\n",
              "         1.64750739]])"
            ]
          },
          "execution_count": 57,
          "metadata": {},
          "output_type": "execute_result"
        }
      ],
      "source": [
        "logistica.coef_"
      ]
    },
    {
      "cell_type": "code",
      "execution_count": null,
      "metadata": {
        "id": "DlTG52OAKW-H"
      },
      "outputs": [],
      "source": [
        "previsoes_logistica = logistica.predict(X_test)"
      ]
    },
    {
      "cell_type": "code",
      "execution_count": null,
      "metadata": {
        "colab": {
          "base_uri": "https://localhost:8080/"
        },
        "id": "U9p3fYy3Kfuu",
        "outputId": "d64cf85a-2c3c-4e8c-ae9d-4e3e1eecf051"
      },
      "outputs": [
        {
          "data": {
            "text/plain": [
              "0.8623188405797102"
            ]
          },
          "execution_count": 197,
          "metadata": {},
          "output_type": "execute_result"
        }
      ],
      "source": [
        "accuracy_score(y_test, previsoes_logistica)"
      ]
    },
    {
      "cell_type": "code",
      "execution_count": null,
      "metadata": {
        "colab": {
          "base_uri": "https://localhost:8080/"
        },
        "id": "ayAcAvXBL5IA",
        "outputId": "bc3b34e9-2555-4af2-af97-56dfabaad673"
      },
      "outputs": [
        {
          "data": {
            "text/plain": [
              "array([[ 99,  22],\n",
              "       [ 18, 137]])"
            ]
          },
          "execution_count": 83,
          "metadata": {},
          "output_type": "execute_result"
        }
      ],
      "source": [
        "confusion_matrix(y_test, previsoes_logistica)"
      ]
    },
    {
      "cell_type": "code",
      "execution_count": null,
      "metadata": {
        "colab": {
          "base_uri": "https://localhost:8080/"
        },
        "id": "OgMPxY6NLYew",
        "outputId": "504dd4a8-089b-4cfb-ec84-d0dfd631c50b"
      },
      "outputs": [
        {
          "data": {
            "text/plain": [
              "array([[ 97,  24],\n",
              "       [ 17, 138]])"
            ]
          },
          "execution_count": 47,
          "metadata": {},
          "output_type": "execute_result"
        }
      ],
      "source": [
        "confusion_matrix(y_test, previsoes_logistica)"
      ]
    },
    {
      "cell_type": "code",
      "execution_count": null,
      "metadata": {
        "colab": {
          "base_uri": "https://localhost:8080/"
        },
        "id": "DYgEbtczLiWB",
        "outputId": "336e486e-eef2-4ea9-a81a-70aad364313c"
      },
      "outputs": [
        {
          "name": "stdout",
          "output_type": "stream",
          "text": [
            "              precision    recall  f1-score   support\n",
            "\n",
            "           0       0.85      0.80      0.83       121\n",
            "           1       0.85      0.89      0.87       155\n",
            "\n",
            "    accuracy                           0.85       276\n",
            "   macro avg       0.85      0.85      0.85       276\n",
            "weighted avg       0.85      0.85      0.85       276\n",
            "\n"
          ]
        }
      ],
      "source": [
        "print(classification_report(y_test, previsoes_logistica))"
      ]
    },
    {
      "cell_type": "markdown",
      "metadata": {
        "id": "eR_qXJaaNGDe"
      },
      "source": [
        "- variável: *previsores*\n",
        " - **lbfgs com l2**: 82.97%\n",
        " - **newton-cg com l2**: 85.50%\n",
        "\n",
        "- variável: *previsores_esc*\n",
        " - **lbfgs com l2 com max_iter=500**: 85.69%\n",
        " - **lbfgs com l2 com max_iter=100**: 85.86%\n",
        "\n",
        "- variável: *previsores3*\n",
        " - **lbfgs com l2 com max_iter=1000**: 86.23%\n",
        "\n",
        "- variável: *previsores3_esc*\n",
        " - **lbfgs com l2 com max_iter=500**: 86.23% 🏆"
      ]
    },
    {
      "cell_type": "markdown",
      "metadata": {
        "id": "EMavhHLmMH4-"
      },
      "source": [
        "## Análise dados de treino"
      ]
    },
    {
      "cell_type": "code",
      "execution_count": null,
      "metadata": {
        "id": "sJmSv3jcMJmz"
      },
      "outputs": [],
      "source": [
        "previsoes_treino = logistica.predict(X_train)"
      ]
    },
    {
      "cell_type": "code",
      "execution_count": null,
      "metadata": {
        "colab": {
          "base_uri": "https://localhost:8080/"
        },
        "id": "7N5vKVaFMXb_",
        "outputId": "3c5dcbc9-d794-4d77-c4a9-a7fe83b0bdca"
      },
      "outputs": [
        {
          "data": {
            "text/plain": [
              "0.858034321372855"
            ]
          },
          "execution_count": 201,
          "metadata": {},
          "output_type": "execute_result"
        }
      ],
      "source": [
        "accuracy_score(y_train, previsoes_treino)"
      ]
    },
    {
      "cell_type": "code",
      "execution_count": null,
      "metadata": {
        "colab": {
          "base_uri": "https://localhost:8080/"
        },
        "id": "F5LiQQrFMbXP",
        "outputId": "006f52bd-a544-4544-bf3a-bf2959a4238e"
      },
      "outputs": [
        {
          "data": {
            "text/plain": [
              "array([[237,  52],\n",
              "       [ 39, 313]])"
            ]
          },
          "execution_count": 202,
          "metadata": {},
          "output_type": "execute_result"
        }
      ],
      "source": [
        "confusion_matrix(y_train, previsoes_treino)"
      ]
    },
    {
      "cell_type": "markdown",
      "metadata": {
        "id": "7i9rxLNrSurD"
      },
      "source": [
        "## Validação Cruzada"
      ]
    },
    {
      "cell_type": "code",
      "execution_count": null,
      "metadata": {
        "id": "J7bDPMUvSxIv"
      },
      "outputs": [],
      "source": [
        "kfold = KFold(n_splits=30, shuffle=True, random_state=5)"
      ]
    },
    {
      "cell_type": "code",
      "execution_count": null,
      "metadata": {
        "id": "uVFBjUlGS2yE"
      },
      "outputs": [],
      "source": [
        "modelo = LogisticRegression(random_state=1, max_iter=500\n",
        "                               , penalty='l2', tol=0.0001, C=1,\n",
        "                               solver='lbfgs')"
      ]
    },
    {
      "cell_type": "code",
      "execution_count": null,
      "metadata": {
        "id": "im4EwhYQS6t4"
      },
      "outputs": [],
      "source": [
        "result = cross_val_score(modelo, previsores3_esc, alvo, cv=kfold)"
      ]
    },
    {
      "cell_type": "code",
      "execution_count": null,
      "metadata": {
        "colab": {
          "base_uri": "https://localhost:8080/"
        },
        "id": "gosTSOcgS_nD",
        "outputId": "061036e6-9df3-4694-a802-c4ca52145998"
      },
      "outputs": [
        {
          "data": {
            "text/plain": [
              "0.8583154121863799"
            ]
          },
          "execution_count": 211,
          "metadata": {},
          "output_type": "execute_result"
        }
      ],
      "source": [
        "result.mean()"
      ]
    },
    {
      "cell_type": "markdown",
      "metadata": {
        "id": "dsVm9uIuXM5L"
      },
      "source": [
        "# KNN"
      ]
    },
    {
      "cell_type": "code",
      "execution_count": null,
      "metadata": {
        "id": "ThqY_LtFXOmc"
      },
      "outputs": [],
      "source": [
        "from sklearn.neighbors import KNeighborsClassifier"
      ]
    },
    {
      "cell_type": "code",
      "execution_count": null,
      "metadata": {
        "id": "XIpIUrL8XagT"
      },
      "outputs": [],
      "source": [
        "knn = KNeighborsClassifier(n_neighbors=10, metric='minkowski')\n",
        "knn.fit(X_train, y_train);"
      ]
    },
    {
      "cell_type": "code",
      "execution_count": null,
      "metadata": {
        "id": "hDan-fv6XqeF"
      },
      "outputs": [],
      "source": [
        "previsao_knn = knn.predict(X_test)"
      ]
    },
    {
      "cell_type": "code",
      "execution_count": null,
      "metadata": {
        "colab": {
          "base_uri": "https://localhost:8080/"
        },
        "id": "H3hwwgBWX0ab",
        "outputId": "ce3f40a0-24dd-404d-b456-4bd4fae6a7cb"
      },
      "outputs": [
        {
          "data": {
            "text/plain": [
              "0.6811594202898551"
            ]
          },
          "execution_count": 220,
          "metadata": {},
          "output_type": "execute_result"
        }
      ],
      "source": [
        "accuracy_score(y_test, previsao_knn)"
      ]
    },
    {
      "cell_type": "code",
      "execution_count": null,
      "metadata": {
        "colab": {
          "base_uri": "https://localhost:8080/"
        },
        "id": "jDjcQ4Viq6TM",
        "outputId": "8994a023-b89a-4fb1-aadb-6d408bfaec67"
      },
      "outputs": [
        {
          "name": "stdout",
          "output_type": "stream",
          "text": [
            "3 81.88405797101449\n",
            "4 80.79710144927536\n",
            "5 82.6086956521739\n",
            "6 83.33333333333334\n",
            "7 84.05797101449275\n",
            "8 83.69565217391305\n",
            "9 84.42028985507247\n",
            "10 84.05797101449275\n",
            "11 85.5072463768116\n",
            "12 85.5072463768116\n",
            "13 84.78260869565217\n",
            "14 85.5072463768116\n",
            "15 85.14492753623189\n",
            "16 84.42028985507247\n",
            "17 85.14492753623189\n",
            "18 85.14492753623189\n",
            "19 85.86956521739131\n",
            "20 85.5072463768116\n",
            "21 85.5072463768116\n",
            "22 85.14492753623189\n",
            "23 85.14492753623189\n",
            "24 84.78260869565217\n",
            "25 85.14492753623189\n",
            "26 85.14492753623189\n",
            "27 85.5072463768116\n",
            "28 84.42028985507247\n",
            "29 85.14492753623189\n",
            "30 84.42028985507247\n",
            "31 84.78260869565217\n",
            "32 84.42028985507247\n",
            "33 84.78260869565217\n",
            "34 84.42028985507247\n",
            "35 84.78260869565217\n",
            "36 84.42028985507247\n",
            "37 84.42028985507247\n",
            "38 84.78260869565217\n",
            "39 84.78260869565217\n",
            "40 84.78260869565217\n",
            "41 84.78260869565217\n",
            "42 84.42028985507247\n",
            "43 84.42028985507247\n",
            "44 84.05797101449275\n",
            "45 84.05797101449275\n",
            "46 84.42028985507247\n",
            "47 84.42028985507247\n",
            "48 84.05797101449275\n",
            "49 84.05797101449275\n",
            "50 84.05797101449275\n",
            "51 83.69565217391305\n",
            "52 84.42028985507247\n",
            "53 84.42028985507247\n",
            "54 84.78260869565217\n",
            "55 84.05797101449275\n",
            "56 83.69565217391305\n",
            "57 83.69565217391305\n",
            "58 83.69565217391305\n",
            "59 83.69565217391305\n",
            "60 84.05797101449275\n",
            "61 84.05797101449275\n",
            "62 84.05797101449275\n",
            "63 84.42028985507247\n",
            "64 83.69565217391305\n",
            "65 83.69565217391305\n",
            "66 82.97101449275362\n",
            "67 83.69565217391305\n",
            "68 82.97101449275362\n",
            "69 83.33333333333334\n",
            "70 83.33333333333334\n",
            "71 84.05797101449275\n",
            "72 83.69565217391305\n",
            "73 83.69565217391305\n",
            "74 84.05797101449275\n",
            "75 84.05797101449275\n",
            "76 83.69565217391305\n",
            "77 83.69565217391305\n",
            "78 83.69565217391305\n",
            "79 84.05797101449275\n",
            "80 84.05797101449275\n",
            "81 84.05797101449275\n",
            "82 84.05797101449275\n",
            "83 83.69565217391305\n",
            "84 83.33333333333334\n",
            "85 83.33333333333334\n",
            "86 82.97101449275362\n",
            "87 83.33333333333334\n",
            "88 83.33333333333334\n",
            "89 83.33333333333334\n",
            "90 82.97101449275362\n",
            "91 83.33333333333334\n",
            "92 83.33333333333334\n",
            "93 83.69565217391305\n",
            "94 83.69565217391305\n",
            "95 83.69565217391305\n",
            "96 83.69565217391305\n",
            "97 83.69565217391305\n",
            "98 83.69565217391305\n",
            "99 83.69565217391305\n",
            "100 83.69565217391305\n",
            "101 83.69565217391305\n",
            "102 83.33333333333334\n",
            "103 83.69565217391305\n",
            "104 84.05797101449275\n",
            "105 84.05797101449275\n"
          ]
        },
        {
          "data": {
            "text/plain": [
              "85.86956521739131"
            ]
          },
          "execution_count": 337,
          "metadata": {},
          "output_type": "execute_result"
        }
      ],
      "source": [
        "list = []\n",
        "\n",
        "for x in range(3, 106):\n",
        "  knn = KNeighborsClassifier(n_neighbors=x, metric='euclidean')\n",
        "  knn.fit(X_train, y_train)\n",
        "\n",
        "  accuracy = (accuracy_score(y_test, knn.predict(X_test)) * 100)\n",
        "\n",
        "  print(x, accuracy)\n",
        "\n",
        "  list.append(accuracy)\n",
        "\n",
        "max(list)"
      ]
    },
    {
      "cell_type": "code",
      "execution_count": null,
      "metadata": {
        "colab": {
          "base_uri": "https://localhost:8080/"
        },
        "id": "53fWZiJlYD3Y",
        "outputId": "cf326b7c-c743-4d33-eaa6-9ec0d30b8b14"
      },
      "outputs": [
        {
          "name": "stdout",
          "output_type": "stream",
          "text": [
            "   posicao  %\n",
            "0        0  0\n",
            "Vizinhos 27 - 69.20%\n",
            "Vizinhos 28 - 69.20%\n",
            "Vizinhos 29 - 68.84%\n",
            "Vizinhos 30 - 69.57%\n",
            "Vizinhos 31 - 69.93%\n",
            "Vizinhos 32 - 69.20%\n",
            "   posicao  %\n",
            "0        0  0\n"
          ]
        }
      ],
      "source": [
        "# Tentando automatizar\n",
        "# Uma forma de não precisar dar um ctrl f para ver o número de vizinhos de maior número\n",
        "# pegando somente a maior porcentagem\n",
        "\n",
        "# Ainda não funciona :(\n",
        "list = pd.DataFrame([{'posicao': 0, '%': 0}])\n",
        "pd.concat([list, pd.DataFrame([{'posicao': 1, '%': 1}])], ignore_index=True)\n",
        "print(list)\n",
        "for x in range(27, 33):\n",
        "  knn = KNeighborsClassifier(n_neighbors=x, metric='minkowski')\n",
        "  knn.fit(X_train, y_train)\n",
        "\n",
        "  accuracy = (accuracy_score(y_test, knn.predict(X_test)) * 100)\n",
        "\n",
        "\n",
        "\n",
        "  # list.update({'posicao': x, '%': accuracy})\n",
        "  # list['posicao'] = x\n",
        "  # list['%'] = accuracy\n",
        "\n",
        "  print('Vizinhos {} - {:.2f}%'.format(x, accuracy))\n",
        "\n",
        "print(list)"
      ]
    },
    {
      "cell_type": "markdown",
      "metadata": {
        "id": "4c_hfY7Jr0qw"
      },
      "source": [
        "- **previsores**\n",
        " - 45 vizinhos: 71.37% (euclidean)\n",
        " - 23 vizinhos: 73.55% (cityblock)\n",
        "\n",
        "- **previsores_esc**\n",
        " - 19 vizinhos: 85.86% (euclidean)\n",
        " - 17 vizinhos: 87.31% (cityblock)\n",
        "\n",
        "- **previsores2**\n",
        " - péssimos resultados\n",
        "\n",
        "- **previsores3**\n",
        "  - péssimos resultados\n",
        "\n",
        "- **previsores3_esc**\n",
        "  - péssimos resultados"
      ]
    },
    {
      "cell_type": "code",
      "execution_count": null,
      "metadata": {
        "colab": {
          "base_uri": "https://localhost:8080/"
        },
        "id": "1mvPsfRVw2V5",
        "outputId": "ce2c42db-e8b7-4344-e360-1b29acfcfdea"
      },
      "outputs": [
        {
          "data": {
            "text/plain": [
              "87.31884057971014"
            ]
          },
          "execution_count": 338,
          "metadata": {},
          "output_type": "execute_result"
        }
      ],
      "source": [
        "knn = KNeighborsClassifier(n_neighbors=17, metric='cityblock')\n",
        "knn.fit(X_train, y_train)\n",
        "previsao_knn = knn.predict(X_test)\n",
        "\n",
        "(accuracy_score(y_test, knn.predict(X_test)) * 100)"
      ]
    },
    {
      "cell_type": "code",
      "execution_count": null,
      "metadata": {
        "colab": {
          "base_uri": "https://localhost:8080/"
        },
        "id": "B9oHxZMbwtiM",
        "outputId": "074e4332-94fb-45f5-aba8-cdb529a9b410"
      },
      "outputs": [
        {
          "data": {
            "text/plain": [
              "array([[103,  18],\n",
              "       [ 17, 138]])"
            ]
          },
          "execution_count": 339,
          "metadata": {},
          "output_type": "execute_result"
        }
      ],
      "source": [
        "confusion_matrix(y_test, previsao_knn)"
      ]
    },
    {
      "cell_type": "markdown",
      "metadata": {
        "id": "L9sjVMsyyWWs"
      },
      "source": [
        "## Avaliação dos dados de treino"
      ]
    },
    {
      "cell_type": "code",
      "execution_count": null,
      "metadata": {
        "id": "YguJXWkJyYdB"
      },
      "outputs": [],
      "source": [
        "previsoes_treino = knn.predict(X_train)"
      ]
    },
    {
      "cell_type": "code",
      "execution_count": null,
      "metadata": {
        "colab": {
          "base_uri": "https://localhost:8080/"
        },
        "id": "xM9a8XCxyeDy",
        "outputId": "a732e45f-3314-4c6b-d598-5b70bd766b0d"
      },
      "outputs": [
        {
          "data": {
            "text/plain": [
              "0.8673946957878315"
            ]
          },
          "execution_count": 343,
          "metadata": {},
          "output_type": "execute_result"
        }
      ],
      "source": [
        "accuracy_score(y_train, previsoes_treino)"
      ]
    },
    {
      "cell_type": "code",
      "execution_count": null,
      "metadata": {
        "colab": {
          "base_uri": "https://localhost:8080/"
        },
        "id": "a-Yq6CdgygvD",
        "outputId": "1e04cc89-12f5-45ec-a6ed-21b7a4856295"
      },
      "outputs": [
        {
          "data": {
            "text/plain": [
              "array([[242,  47],\n",
              "       [ 38, 314]])"
            ]
          },
          "execution_count": 344,
          "metadata": {},
          "output_type": "execute_result"
        }
      ],
      "source": [
        "confusion_matrix(y_train, previsoes_treino)"
      ]
    },
    {
      "cell_type": "markdown",
      "metadata": {
        "id": "e4dh9KWoyrhb"
      },
      "source": [
        "## Validação cruzada"
      ]
    },
    {
      "cell_type": "code",
      "execution_count": null,
      "metadata": {
        "id": "64sAM8XWys2N"
      },
      "outputs": [],
      "source": [
        "kfold = KFold(n_splits=30, shuffle=True, random_state=5)"
      ]
    },
    {
      "cell_type": "code",
      "execution_count": null,
      "metadata": {
        "colab": {
          "base_uri": "https://localhost:8080/"
        },
        "id": "qiLCCqTLy2bM",
        "outputId": "a3cc3fc3-da0c-4ad4-8942-09a4827de171"
      },
      "outputs": [
        {
          "data": {
            "text/plain": [
              "0.8592831541218636"
            ]
          },
          "execution_count": 347,
          "metadata": {},
          "output_type": "execute_result"
        }
      ],
      "source": [
        "modelo = KNeighborsClassifier(n_neighbors=17, metric='cityblock')\n",
        "result = cross_val_score(modelo, previsores_esc, alvo, cv=kfold)\n",
        "\n",
        "result.mean()"
      ]
    },
    {
      "cell_type": "markdown",
      "metadata": {
        "id": "OIUbwcKqGtRb"
      },
      "source": [
        "# Árvore de Decisão"
      ]
    },
    {
      "cell_type": "code",
      "execution_count": null,
      "metadata": {
        "id": "SMmrK0G-GzGA"
      },
      "outputs": [],
      "source": [
        "from sklearn.tree import DecisionTreeClassifier"
      ]
    },
    {
      "cell_type": "code",
      "execution_count": null,
      "metadata": {
        "id": "ty1eOyVJJz_6"
      },
      "outputs": [],
      "source": [
        "arvore = DecisionTreeClassifier(criterion='entropy', random_state=0, max_depth=3)\n",
        "arvore.fit(X_train, y_train);"
      ]
    },
    {
      "cell_type": "code",
      "execution_count": null,
      "metadata": {
        "id": "ygDIdVGHKBhj"
      },
      "outputs": [],
      "source": [
        "previsores_arvore = arvore.predict(X_test)"
      ]
    },
    {
      "cell_type": "code",
      "execution_count": null,
      "metadata": {
        "colab": {
          "base_uri": "https://localhost:8080/"
        },
        "id": "XxijshvCK2tQ",
        "outputId": "bea486b4-0d4c-4479-b03f-e8a87694d422"
      },
      "outputs": [
        {
          "name": "stdout",
          "output_type": "stream",
          "text": [
            "None\n"
          ]
        }
      ],
      "source": [
        "print(arvore.class_weight)"
      ]
    },
    {
      "cell_type": "markdown",
      "metadata": {
        "id": "ipksCy7OKLJr"
      },
      "source": [
        "## Acurácia"
      ]
    },
    {
      "cell_type": "code",
      "execution_count": null,
      "metadata": {
        "colab": {
          "base_uri": "https://localhost:8080/"
        },
        "id": "CdctyBo2KMtB",
        "outputId": "340988d3-2bf5-45fd-cd09-baeab15dd0a3"
      },
      "outputs": [
        {
          "data": {
            "text/plain": [
              "0.782608695652174"
            ]
          },
          "execution_count": 98,
          "metadata": {},
          "output_type": "execute_result"
        }
      ],
      "source": [
        "accuracy_score(y_test, previsores_arvore)"
      ]
    },
    {
      "cell_type": "code",
      "execution_count": null,
      "metadata": {
        "colab": {
          "base_uri": "https://localhost:8080/"
        },
        "id": "8gibVf__KSBO",
        "outputId": "43e7f56d-88af-4cee-9b06-d4ce32dc2295"
      },
      "outputs": [
        {
          "data": {
            "text/plain": [
              "array([[ 98,  23],\n",
              "       [ 22, 133]])"
            ]
          },
          "execution_count": 52,
          "metadata": {},
          "output_type": "execute_result"
        }
      ],
      "source": [
        "confusion_matrix(y_test, previsores_arvore)"
      ]
    },
    {
      "cell_type": "code",
      "execution_count": null,
      "metadata": {
        "colab": {
          "base_uri": "https://localhost:8080/"
        },
        "id": "M-62AwwlLXwT",
        "outputId": "1a8f6ba6-d07b-44e4-ff78-7ee4f5a5b0cf"
      },
      "outputs": [
        {
          "name": "stdout",
          "output_type": "stream",
          "text": [
            "              precision    recall  f1-score   support\n",
            "\n",
            "           0       0.82      0.81      0.81       121\n",
            "           1       0.85      0.86      0.86       155\n",
            "\n",
            "    accuracy                           0.84       276\n",
            "   macro avg       0.83      0.83      0.83       276\n",
            "weighted avg       0.84      0.84      0.84       276\n",
            "\n"
          ]
        }
      ],
      "source": [
        "print(classification_report(y_test, previsores_arvore))"
      ]
    },
    {
      "cell_type": "markdown",
      "metadata": {
        "id": "_f2n_SQyLPAZ"
      },
      "source": [
        "- previsores\n",
        "  - Diminuindo a profundidade (max_depth) o overfitting diminui\n",
        "    - Entropy: 81.15% (aparente overfitting)\n",
        "    - Gini: 76.44% (aparente overfitting)\n",
        "\n",
        "- previsores_esc (max_depth = 3)\n",
        "  - Entropy: 83.69%\n",
        "  - Gini: 83.69%\n",
        "\n",
        "- previsores2, previsores3, previsores3_esc\n",
        "  - Entropy 83.69%"
      ]
    },
    {
      "cell_type": "markdown",
      "metadata": {
        "id": "HVgHFLHFhFDX"
      },
      "source": [
        "## Análise dados de treino"
      ]
    },
    {
      "cell_type": "code",
      "execution_count": null,
      "metadata": {
        "id": "cu289JbphDPU"
      },
      "outputs": [],
      "source": [
        "previsoes_treino = arvore.predict(X_train)"
      ]
    },
    {
      "cell_type": "code",
      "execution_count": null,
      "metadata": {
        "colab": {
          "base_uri": "https://localhost:8080/"
        },
        "id": "7E-wz3j7hMXr",
        "outputId": "f7863d7d-ffa7-4cf0-f128-f01df6cf4632"
      },
      "outputs": [
        {
          "data": {
            "text/plain": [
              "1.0"
            ]
          },
          "execution_count": 94,
          "metadata": {},
          "output_type": "execute_result"
        }
      ],
      "source": [
        "accuracy_score(y_train, previsoes_treino)"
      ]
    },
    {
      "cell_type": "code",
      "execution_count": null,
      "metadata": {
        "colab": {
          "base_uri": "https://localhost:8080/"
        },
        "id": "YKe-zvjahQr7",
        "outputId": "9b63facb-f383-4ca2-cf7b-e2e8867f4dd5"
      },
      "outputs": [
        {
          "data": {
            "text/plain": [
              "array([[289,   0],\n",
              "       [  0, 352]])"
            ]
          },
          "execution_count": 42,
          "metadata": {},
          "output_type": "execute_result"
        }
      ],
      "source": [
        "confusion_matrix(y_train, previsoes_treino)"
      ]
    },
    {
      "cell_type": "markdown",
      "metadata": {
        "id": "rCkfPdnfhVVf"
      },
      "source": [
        "## Validação Cruzada"
      ]
    },
    {
      "cell_type": "code",
      "execution_count": null,
      "metadata": {
        "id": "3-60FuXfhUhj"
      },
      "outputs": [],
      "source": [
        "kfold = KFold(n_splits=30, shuffle=True, random_state=5)"
      ]
    },
    {
      "cell_type": "code",
      "execution_count": null,
      "metadata": {
        "colab": {
          "base_uri": "https://localhost:8080/"
        },
        "id": "B9h4F_rxiaZ7",
        "outputId": "606fa996-73e9-485d-da52-22ce3a7299fb"
      },
      "outputs": [
        {
          "data": {
            "text/plain": [
              "0.8342293906810034"
            ]
          },
          "execution_count": 101,
          "metadata": {},
          "output_type": "execute_result"
        }
      ],
      "source": [
        "modelo = DecisionTreeClassifier(criterion='entropy', random_state=0, max_depth=3)\n",
        "result = cross_val_score(modelo, previsores, alvo, cv=kfold)\n",
        "\n",
        "result.mean()"
      ]
    },
    {
      "cell_type": "markdown",
      "metadata": {
        "id": "Rbq_82Blu1dn"
      },
      "source": [
        "# Random Forest"
      ]
    },
    {
      "cell_type": "code",
      "execution_count": null,
      "metadata": {
        "id": "c04wN6NHu288"
      },
      "outputs": [],
      "source": [
        "#Ensemble = É o resultado de um aglomerado de algoritmos executados\n",
        "#Podendo pegar a Moda para problemas de classificação ou Média para Regressão\n",
        "from sklearn.ensemble import RandomForestClassifier"
      ]
    },
    {
      "cell_type": "code",
      "execution_count": null,
      "metadata": {
        "id": "WdhMHVsYwYA7"
      },
      "outputs": [],
      "source": [
        "random = RandomForestClassifier(n_estimators=150, criterion='entropy',\n",
        "                                max_depth=4, random_state=0)\n",
        "random.fit(X_train, y_train);"
      ]
    },
    {
      "cell_type": "code",
      "execution_count": null,
      "metadata": {
        "id": "RtsDzslgwh90"
      },
      "outputs": [],
      "source": [
        "previsoes_random = random.predict(X_test)"
      ]
    },
    {
      "cell_type": "markdown",
      "metadata": {
        "id": "MjhJp_UDxaGC"
      },
      "source": [
        "## Acurácia"
      ]
    },
    {
      "cell_type": "code",
      "execution_count": null,
      "metadata": {
        "colab": {
          "base_uri": "https://localhost:8080/"
        },
        "id": "vlbcmvdXwzjB",
        "outputId": "8e1bf27d-98cd-47f4-dc18-a81c6774ad0d"
      },
      "outputs": [
        {
          "data": {
            "text/plain": [
              "0.8659420289855072"
            ]
          },
          "execution_count": 145,
          "metadata": {},
          "output_type": "execute_result"
        }
      ],
      "source": [
        "accuracy_score(y_test, previsoes_random)"
      ]
    },
    {
      "cell_type": "code",
      "execution_count": null,
      "metadata": {
        "colab": {
          "base_uri": "https://localhost:8080/"
        },
        "id": "4a49xgOQw59y",
        "outputId": "d1a0ff87-c844-4a12-e176-519b3e8ffd2d"
      },
      "outputs": [
        {
          "data": {
            "text/plain": [
              "array([[100,  21],\n",
              "       [ 20, 135]])"
            ]
          },
          "execution_count": 73,
          "metadata": {},
          "output_type": "execute_result"
        }
      ],
      "source": [
        "confusion_matrix(y_test, previsoes_random)"
      ]
    },
    {
      "cell_type": "code",
      "execution_count": null,
      "metadata": {
        "colab": {
          "base_uri": "https://localhost:8080/"
        },
        "id": "m9MDYRmAw8o9",
        "outputId": "09f5be0e-455e-4e40-f355-9887811f063b"
      },
      "outputs": [
        {
          "name": "stdout",
          "output_type": "stream",
          "text": [
            "              precision    recall  f1-score   support\n",
            "\n",
            "           0       0.81      0.84      0.83       121\n",
            "           1       0.87      0.85      0.86       155\n",
            "\n",
            "    accuracy                           0.84       276\n",
            "   macro avg       0.84      0.84      0.84       276\n",
            "weighted avg       0.85      0.84      0.84       276\n",
            "\n"
          ]
        }
      ],
      "source": [
        "print(classification_report(y_test, previsoes_random))"
      ]
    },
    {
      "cell_type": "markdown",
      "metadata": {
        "id": "cb4z1eJ4zwts"
      },
      "source": [
        "## Análise dados de treino"
      ]
    },
    {
      "cell_type": "code",
      "execution_count": null,
      "metadata": {
        "id": "c8D0Z_-2zy-T"
      },
      "outputs": [],
      "source": [
        "previsoes_treino = random.predict(X_train)"
      ]
    },
    {
      "cell_type": "code",
      "execution_count": null,
      "metadata": {
        "colab": {
          "base_uri": "https://localhost:8080/"
        },
        "id": "QVAV1HVy0RuL",
        "outputId": "ba03d613-73df-413c-ec2f-e2c58709948f"
      },
      "outputs": [
        {
          "data": {
            "text/plain": [
              "0.890795631825273"
            ]
          },
          "execution_count": 147,
          "metadata": {},
          "output_type": "execute_result"
        }
      ],
      "source": [
        "accuracy_score(y_train, previsoes_treino)"
      ]
    },
    {
      "cell_type": "code",
      "execution_count": null,
      "metadata": {
        "colab": {
          "base_uri": "https://localhost:8080/"
        },
        "id": "zxl-x3zj5Y6A",
        "outputId": "a2a89e78-32de-4f8f-c268-e56efa24f038"
      },
      "outputs": [
        {
          "data": {
            "text/plain": [
              "-2.4853602839765787"
            ]
          },
          "execution_count": 148,
          "metadata": {},
          "output_type": "execute_result"
        }
      ],
      "source": [
        "(0.8659420289855072 - 0.890795631825273) *100"
      ]
    },
    {
      "cell_type": "code",
      "execution_count": null,
      "metadata": {
        "colab": {
          "base_uri": "https://localhost:8080/"
        },
        "id": "_aBSjp3C0uBc",
        "outputId": "b4b98161-1102-4e88-9b4d-a939e71926f4"
      },
      "outputs": [
        {
          "data": {
            "text/plain": [
              "array([[239,  50],\n",
              "       [ 23, 329]])"
            ]
          },
          "execution_count": 46,
          "metadata": {},
          "output_type": "execute_result"
        }
      ],
      "source": [
        "confusion_matrix(y_train, previsoes_treino)"
      ]
    },
    {
      "cell_type": "markdown",
      "metadata": {
        "id": "06c34SmP9UzT"
      },
      "source": [
        "## Validação Cruzada\n"
      ]
    },
    {
      "cell_type": "code",
      "execution_count": null,
      "metadata": {
        "id": "IAnk35is5ilq"
      },
      "outputs": [],
      "source": [
        "kfold = KFold(n_splits=5, shuffle=True, random_state=5)"
      ]
    },
    {
      "cell_type": "code",
      "execution_count": null,
      "metadata": {
        "id": "HAg6o4225pUT"
      },
      "outputs": [],
      "source": [
        "modelo = RandomForestClassifier(n_estimators=150, criterion='entropy',\n",
        "                                max_depth=4, random_state=0)"
      ]
    },
    {
      "cell_type": "code",
      "execution_count": null,
      "metadata": {
        "colab": {
          "base_uri": "https://localhost:8080/"
        },
        "id": "sMh6WqqH5va_",
        "outputId": "af033b70-9459-4ac2-d145-1137849ec596"
      },
      "outputs": [
        {
          "data": {
            "text/plain": [
              "0.8604359705393205"
            ]
          },
          "execution_count": 150,
          "metadata": {},
          "output_type": "execute_result"
        }
      ],
      "source": [
        "resultado = cross_val_score(modelo, previsores, alvo, cv=kfold)\n",
        "resultado.mean()"
      ]
    },
    {
      "cell_type": "markdown",
      "metadata": {
        "id": "gceJO5sNzl-1"
      },
      "source": [
        "## Resultados"
      ]
    },
    {
      "cell_type": "markdown",
      "metadata": {
        "id": "eA7iS1AvzoSb"
      },
      "source": [
        "- previsores\n",
        "  - max_depth=4: *85.14%*\n",
        "  - max_depth=3: *84.42%*\n",
        "  - max_depth=4 & n_estimators=150 = *86.59%* 🏆\n",
        "\n",
        "- todas outras variáveis não obtiveram bons resultados"
      ]
    },
    {
      "cell_type": "markdown",
      "metadata": {
        "id": "JVinJurU6iuN"
      },
      "source": [
        "# XGBOOST"
      ]
    },
    {
      "cell_type": "code",
      "execution_count": null,
      "metadata": {
        "id": "xBMcEl4-6fvh"
      },
      "outputs": [],
      "source": [
        "from xgboost import XGBClassifier"
      ]
    },
    {
      "cell_type": "code",
      "execution_count": 189,
      "metadata": {
        "id": "i-lBWnuW8WCA"
      },
      "outputs": [],
      "source": [
        "xg = XGBClassifier(max_depth=2, learning_rate=0.05, n_estimators=130\n",
        "                   ,objective='binary:logistic', random_state=3)\n",
        "xg.fit(X_train, y_train);"
      ]
    },
    {
      "cell_type": "code",
      "execution_count": 190,
      "metadata": {
        "id": "PTu8i2-f8p1q"
      },
      "outputs": [],
      "source": [
        "previsoes_xg = xg.predict(X_test)"
      ]
    },
    {
      "cell_type": "markdown",
      "metadata": {
        "id": "MmUp66XR9LBY"
      },
      "source": [
        "## Acurácia"
      ]
    },
    {
      "cell_type": "code",
      "execution_count": 191,
      "metadata": {
        "id": "z7GtdorS8vLL",
        "colab": {
          "base_uri": "https://localhost:8080/"
        },
        "outputId": "14cd9792-52a3-470e-ebc9-dbb287eae6e4"
      },
      "outputs": [
        {
          "output_type": "execute_result",
          "data": {
            "text/plain": [
              "0.8586956521739131"
            ]
          },
          "metadata": {},
          "execution_count": 191
        }
      ],
      "source": [
        "accuracy_score(y_test, previsoes_xg)"
      ]
    },
    {
      "cell_type": "code",
      "execution_count": null,
      "metadata": {
        "colab": {
          "base_uri": "https://localhost:8080/"
        },
        "id": "EPdMME9Y9NTx",
        "outputId": "12f5e8af-c0d6-4deb-b9ca-ef04921ddb21"
      },
      "outputs": [
        {
          "data": {
            "text/plain": [
              "array([[101,  20],\n",
              "       [ 19, 136]])"
            ]
          },
          "execution_count": 330,
          "metadata": {},
          "output_type": "execute_result"
        }
      ],
      "source": [
        "confusion_matrix(y_test, previsoes_xg)"
      ]
    },
    {
      "cell_type": "code",
      "execution_count": null,
      "metadata": {
        "id": "Z1JtsdUl9QP5"
      },
      "outputs": [],
      "source": [
        "print(classification_report(y_test, previsoes_xg))"
      ]
    },
    {
      "cell_type": "markdown",
      "metadata": {
        "id": "xGx0V6KW9gZk"
      },
      "source": [
        "## Análise dados de treino"
      ]
    },
    {
      "cell_type": "code",
      "execution_count": 192,
      "metadata": {
        "id": "VTPa-T8A9jW6"
      },
      "outputs": [],
      "source": [
        "previsoes_treino = xg.predict(X_train)"
      ]
    },
    {
      "cell_type": "code",
      "execution_count": 193,
      "metadata": {
        "colab": {
          "base_uri": "https://localhost:8080/"
        },
        "id": "wdkCAn2w9p4x",
        "outputId": "14f7ab99-4a4c-4fa6-d0ae-2c4af5758d9c"
      },
      "outputs": [
        {
          "output_type": "execute_result",
          "data": {
            "text/plain": [
              "0.9001560062402496"
            ]
          },
          "metadata": {},
          "execution_count": 193
        }
      ],
      "source": [
        "accuracy_score(y_train, previsoes_treino)"
      ]
    },
    {
      "cell_type": "code",
      "execution_count": null,
      "metadata": {
        "colab": {
          "base_uri": "https://localhost:8080/"
        },
        "id": "q6em1E5K9tG-",
        "outputId": "19a92060-eec6-42eb-b32b-f60b70f51ae6"
      },
      "outputs": [
        {
          "output_type": "execute_result",
          "data": {
            "text/plain": [
              "array([[260,  29],\n",
              "       [ 42, 310]])"
            ]
          },
          "metadata": {},
          "execution_count": 172
        }
      ],
      "source": [
        "confusion_matrix(y_train, previsoes_treino)"
      ]
    },
    {
      "cell_type": "code",
      "execution_count": 194,
      "metadata": {
        "colab": {
          "base_uri": "https://localhost:8080/"
        },
        "id": "RjM2FOff_ps6",
        "outputId": "1d7f0768-5ed0-4e45-ccaa-c89d9428fca3"
      },
      "outputs": [
        {
          "output_type": "execute_result",
          "data": {
            "text/plain": [
              "-4.146035406633652"
            ]
          },
          "metadata": {},
          "execution_count": 194
        }
      ],
      "source": [
        "(0.8586956521739131 - 0.9001560062402496) * 100"
      ]
    },
    {
      "cell_type": "markdown",
      "metadata": {
        "id": "lcP0gm2dXAWS"
      },
      "source": [
        "## Validação cruzada"
      ]
    },
    {
      "cell_type": "code",
      "execution_count": null,
      "metadata": {
        "id": "jMhzWVacXL3H"
      },
      "outputs": [],
      "source": [
        "kfold = KFold(n_splits=30, shuffle=True, random_state=5)"
      ]
    },
    {
      "cell_type": "code",
      "execution_count": null,
      "metadata": {
        "id": "POhvUyLPXSnI"
      },
      "outputs": [],
      "source": [
        "modelo = XGBClassifier(max_depth=2, learning_rate=0.05, n_estimators=250\n",
        "                   ,objective='binary:logistic', random_state=3)\n",
        "\n",
        "resultado = cross_val_score(modelo, previsores, alvo, cv=kfold)"
      ]
    },
    {
      "cell_type": "code",
      "execution_count": null,
      "metadata": {
        "colab": {
          "base_uri": "https://localhost:8080/"
        },
        "id": "FLlQIJETXffr",
        "outputId": "6104529d-704b-44d8-b8a7-6b1371f41b4e"
      },
      "outputs": [
        {
          "data": {
            "text/plain": [
              "0.8702150537634407"
            ]
          },
          "execution_count": 378,
          "metadata": {},
          "output_type": "execute_result"
        }
      ],
      "source": [
        "resultado.mean()"
      ]
    },
    {
      "cell_type": "markdown",
      "metadata": {
        "id": "-FnFjcL9XGpQ"
      },
      "source": [
        "## Resultado"
      ]
    },
    {
      "cell_type": "markdown",
      "metadata": {
        "id": "Ts4JYerJXFuk"
      },
      "source": [
        "- previsores (binary:logistic)\n",
        " - max_depth=2, learning_rate=0.05, n_estimators=130: *85.86%* (4.3 pontos de diferença) 🏆\n",
        "\n",
        "- previsores (binary:logistic)\n",
        " - Não se mostrou mais eficaz que o binary:logistic"
      ]
    },
    {
      "cell_type": "markdown",
      "metadata": {
        "id": "BOEGyIz1mtQ-"
      },
      "source": [
        "# LIGHTGBM"
      ]
    },
    {
      "cell_type": "code",
      "execution_count": null,
      "metadata": {
        "colab": {
          "base_uri": "https://localhost:8080/"
        },
        "id": "hIe2gJZwmwek",
        "outputId": "44134928-ef08-4495-9499-514f68053b92"
      },
      "outputs": [
        {
          "name": "stdout",
          "output_type": "stream",
          "text": [
            "Requirement already satisfied: lightgbm in /usr/local/lib/python3.10/dist-packages (4.1.0)\n",
            "Requirement already satisfied: numpy in /usr/local/lib/python3.10/dist-packages (from lightgbm) (1.23.5)\n",
            "Requirement already satisfied: scipy in /usr/local/lib/python3.10/dist-packages (from lightgbm) (1.11.4)\n"
          ]
        }
      ],
      "source": [
        "!pip install lightgbm"
      ]
    },
    {
      "cell_type": "code",
      "execution_count": null,
      "metadata": {
        "id": "7UmvGp66m20v"
      },
      "outputs": [],
      "source": [
        "import lightgbm as lgb"
      ]
    },
    {
      "cell_type": "code",
      "execution_count": null,
      "metadata": {
        "id": "X8bfCZ-0no3x"
      },
      "outputs": [],
      "source": [
        "dataset = lgb.Dataset(X_train, label=y_train)"
      ]
    },
    {
      "cell_type": "code",
      "execution_count": null,
      "metadata": {
        "id": "fRiu7zQLnw7r"
      },
      "outputs": [],
      "source": [
        "parametros = {\n",
        "    'num_leaves': 151,\n",
        "    'objective': 'binary',\n",
        "    'max-depth': 2,\n",
        "    'learning_rate': .02,\n",
        "    'max_bin': 200\n",
        "}"
      ]
    },
    {
      "cell_type": "code",
      "execution_count": null,
      "metadata": {
        "colab": {
          "base_uri": "https://localhost:8080/"
        },
        "id": "w_5J5Cv-ojO1",
        "outputId": "9b769402-8556-425e-de89-245f15c936f1"
      },
      "outputs": [
        {
          "name": "stdout",
          "output_type": "stream",
          "text": [
            "[LightGBM] [Warning] Unknown parameter: max-depth\n",
            "[LightGBM] [Warning] Unknown parameter: max-depth\n",
            "[LightGBM] [Warning] Unknown parameter: max-depth\n",
            "[LightGBM] [Info] Number of positive: 352, number of negative: 289\n",
            "[LightGBM] [Info] Auto-choosing row-wise multi-threading, the overhead of testing was 0.000097 seconds.\n",
            "You can set `force_row_wise=true` to remove the overhead.\n",
            "And if memory is not enough, you can set `force_col_wise=true`.\n",
            "[LightGBM] [Info] Total Bins 405\n",
            "[LightGBM] [Info] Number of data points in the train set: 641, number of used features: 11\n",
            "[LightGBM] [Info] [binary:BoostFromScore]: pavg=0.549142 -> initscore=0.197204\n",
            "[LightGBM] [Info] Start training from score 0.197204\n",
            "[LightGBM] [Warning] No further splits with positive gain, best gain: -inf\n",
            "[LightGBM] [Warning] No further splits with positive gain, best gain: -inf\n",
            "[LightGBM] [Warning] No further splits with positive gain, best gain: -inf\n",
            "[LightGBM] [Warning] No further splits with positive gain, best gain: -inf\n",
            "[LightGBM] [Warning] No further splits with positive gain, best gain: -inf\n",
            "[LightGBM] [Warning] No further splits with positive gain, best gain: -inf\n",
            "[LightGBM] [Warning] No further splits with positive gain, best gain: -inf\n",
            "[LightGBM] [Warning] No further splits with positive gain, best gain: -inf\n",
            "[LightGBM] [Warning] No further splits with positive gain, best gain: -inf\n",
            "[LightGBM] [Warning] No further splits with positive gain, best gain: -inf\n",
            "[LightGBM] [Warning] No further splits with positive gain, best gain: -inf\n",
            "[LightGBM] [Warning] No further splits with positive gain, best gain: -inf\n",
            "[LightGBM] [Warning] No further splits with positive gain, best gain: -inf\n",
            "[LightGBM] [Warning] No further splits with positive gain, best gain: -inf\n",
            "[LightGBM] [Warning] No further splits with positive gain, best gain: -inf\n",
            "[LightGBM] [Warning] No further splits with positive gain, best gain: -inf\n",
            "[LightGBM] [Warning] No further splits with positive gain, best gain: -inf\n",
            "[LightGBM] [Warning] No further splits with positive gain, best gain: -inf\n",
            "[LightGBM] [Warning] No further splits with positive gain, best gain: -inf\n",
            "[LightGBM] [Warning] No further splits with positive gain, best gain: -inf\n",
            "[LightGBM] [Warning] No further splits with positive gain, best gain: -inf\n",
            "[LightGBM] [Warning] No further splits with positive gain, best gain: -inf\n",
            "[LightGBM] [Warning] No further splits with positive gain, best gain: -inf\n",
            "[LightGBM] [Warning] No further splits with positive gain, best gain: -inf\n",
            "[LightGBM] [Warning] No further splits with positive gain, best gain: -inf\n",
            "[LightGBM] [Warning] No further splits with positive gain, best gain: -inf\n",
            "[LightGBM] [Warning] No further splits with positive gain, best gain: -inf\n",
            "[LightGBM] [Warning] No further splits with positive gain, best gain: -inf\n",
            "[LightGBM] [Warning] No further splits with positive gain, best gain: -inf\n",
            "[LightGBM] [Warning] No further splits with positive gain, best gain: -inf\n",
            "[LightGBM] [Warning] No further splits with positive gain, best gain: -inf\n",
            "[LightGBM] [Warning] No further splits with positive gain, best gain: -inf\n",
            "[LightGBM] [Warning] No further splits with positive gain, best gain: -inf\n",
            "[LightGBM] [Warning] No further splits with positive gain, best gain: -inf\n",
            "[LightGBM] [Warning] No further splits with positive gain, best gain: -inf\n",
            "[LightGBM] [Warning] No further splits with positive gain, best gain: -inf\n",
            "[LightGBM] [Warning] No further splits with positive gain, best gain: -inf\n",
            "[LightGBM] [Warning] No further splits with positive gain, best gain: -inf\n",
            "[LightGBM] [Warning] No further splits with positive gain, best gain: -inf\n",
            "[LightGBM] [Warning] No further splits with positive gain, best gain: -inf\n",
            "[LightGBM] [Warning] No further splits with positive gain, best gain: -inf\n",
            "[LightGBM] [Warning] No further splits with positive gain, best gain: -inf\n",
            "[LightGBM] [Warning] No further splits with positive gain, best gain: -inf\n",
            "[LightGBM] [Warning] No further splits with positive gain, best gain: -inf\n",
            "[LightGBM] [Warning] No further splits with positive gain, best gain: -inf\n",
            "[LightGBM] [Warning] No further splits with positive gain, best gain: -inf\n",
            "[LightGBM] [Warning] No further splits with positive gain, best gain: -inf\n",
            "[LightGBM] [Warning] No further splits with positive gain, best gain: -inf\n",
            "[LightGBM] [Warning] No further splits with positive gain, best gain: -inf\n",
            "[LightGBM] [Warning] No further splits with positive gain, best gain: -inf\n",
            "[LightGBM] [Warning] No further splits with positive gain, best gain: -inf\n",
            "[LightGBM] [Warning] No further splits with positive gain, best gain: -inf\n",
            "[LightGBM] [Warning] No further splits with positive gain, best gain: -inf\n",
            "[LightGBM] [Warning] No further splits with positive gain, best gain: -inf\n",
            "[LightGBM] [Warning] No further splits with positive gain, best gain: -inf\n",
            "[LightGBM] [Warning] No further splits with positive gain, best gain: -inf\n",
            "[LightGBM] [Warning] No further splits with positive gain, best gain: -inf\n",
            "[LightGBM] [Warning] No further splits with positive gain, best gain: -inf\n",
            "[LightGBM] [Warning] No further splits with positive gain, best gain: -inf\n",
            "[LightGBM] [Warning] No further splits with positive gain, best gain: -inf\n",
            "[LightGBM] [Warning] No further splits with positive gain, best gain: -inf\n",
            "[LightGBM] [Warning] No further splits with positive gain, best gain: -inf\n",
            "[LightGBM] [Warning] No further splits with positive gain, best gain: -inf\n",
            "[LightGBM] [Warning] No further splits with positive gain, best gain: -inf\n",
            "[LightGBM] [Warning] No further splits with positive gain, best gain: -inf\n",
            "[LightGBM] [Warning] No further splits with positive gain, best gain: -inf\n",
            "[LightGBM] [Warning] No further splits with positive gain, best gain: -inf\n",
            "[LightGBM] [Warning] No further splits with positive gain, best gain: -inf\n",
            "[LightGBM] [Warning] No further splits with positive gain, best gain: -inf\n",
            "[LightGBM] [Warning] No further splits with positive gain, best gain: -inf\n",
            "[LightGBM] [Warning] No further splits with positive gain, best gain: -inf\n",
            "[LightGBM] [Warning] No further splits with positive gain, best gain: -inf\n",
            "[LightGBM] [Warning] No further splits with positive gain, best gain: -inf\n",
            "[LightGBM] [Warning] No further splits with positive gain, best gain: -inf\n",
            "[LightGBM] [Warning] No further splits with positive gain, best gain: -inf\n",
            "[LightGBM] [Warning] No further splits with positive gain, best gain: -inf\n",
            "[LightGBM] [Warning] No further splits with positive gain, best gain: -inf\n",
            "[LightGBM] [Warning] No further splits with positive gain, best gain: -inf\n",
            "[LightGBM] [Warning] No further splits with positive gain, best gain: -inf\n",
            "[LightGBM] [Warning] No further splits with positive gain, best gain: -inf\n",
            "[LightGBM] [Warning] No further splits with positive gain, best gain: -inf\n",
            "[LightGBM] [Warning] No further splits with positive gain, best gain: -inf\n",
            "[LightGBM] [Warning] No further splits with positive gain, best gain: -inf\n",
            "[LightGBM] [Warning] No further splits with positive gain, best gain: -inf\n",
            "[LightGBM] [Warning] No further splits with positive gain, best gain: -inf\n",
            "[LightGBM] [Warning] No further splits with positive gain, best gain: -inf\n",
            "[LightGBM] [Warning] No further splits with positive gain, best gain: -inf\n",
            "[LightGBM] [Warning] No further splits with positive gain, best gain: -inf\n",
            "[LightGBM] [Warning] No further splits with positive gain, best gain: -inf\n",
            "[LightGBM] [Warning] No further splits with positive gain, best gain: -inf\n",
            "[LightGBM] [Warning] No further splits with positive gain, best gain: -inf\n",
            "[LightGBM] [Warning] No further splits with positive gain, best gain: -inf\n",
            "[LightGBM] [Warning] No further splits with positive gain, best gain: -inf\n",
            "[LightGBM] [Warning] No further splits with positive gain, best gain: -inf\n",
            "[LightGBM] [Warning] No further splits with positive gain, best gain: -inf\n",
            "[LightGBM] [Warning] No further splits with positive gain, best gain: -inf\n",
            "[LightGBM] [Warning] No further splits with positive gain, best gain: -inf\n",
            "[LightGBM] [Warning] No further splits with positive gain, best gain: -inf\n",
            "[LightGBM] [Warning] No further splits with positive gain, best gain: -inf\n",
            "[LightGBM] [Warning] No further splits with positive gain, best gain: -inf\n",
            "[LightGBM] [Warning] No further splits with positive gain, best gain: -inf\n",
            "[LightGBM] [Warning] No further splits with positive gain, best gain: -inf\n",
            "[LightGBM] [Warning] No further splits with positive gain, best gain: -inf\n",
            "[LightGBM] [Warning] No further splits with positive gain, best gain: -inf\n",
            "[LightGBM] [Warning] No further splits with positive gain, best gain: -inf\n",
            "[LightGBM] [Warning] No further splits with positive gain, best gain: -inf\n",
            "[LightGBM] [Warning] No further splits with positive gain, best gain: -inf\n",
            "[LightGBM] [Warning] No further splits with positive gain, best gain: -inf\n",
            "[LightGBM] [Warning] No further splits with positive gain, best gain: -inf\n",
            "[LightGBM] [Warning] No further splits with positive gain, best gain: -inf\n",
            "[LightGBM] [Warning] No further splits with positive gain, best gain: -inf\n",
            "[LightGBM] [Warning] No further splits with positive gain, best gain: -inf\n",
            "[LightGBM] [Warning] No further splits with positive gain, best gain: -inf\n",
            "[LightGBM] [Warning] No further splits with positive gain, best gain: -inf\n",
            "[LightGBM] [Warning] No further splits with positive gain, best gain: -inf\n",
            "[LightGBM] [Warning] No further splits with positive gain, best gain: -inf\n",
            "[LightGBM] [Warning] No further splits with positive gain, best gain: -inf\n",
            "[LightGBM] [Warning] No further splits with positive gain, best gain: -inf\n",
            "[LightGBM] [Warning] No further splits with positive gain, best gain: -inf\n",
            "[LightGBM] [Warning] No further splits with positive gain, best gain: -inf\n",
            "[LightGBM] [Warning] No further splits with positive gain, best gain: -inf\n",
            "[LightGBM] [Warning] No further splits with positive gain, best gain: -inf\n",
            "[LightGBM] [Warning] No further splits with positive gain, best gain: -inf\n",
            "[LightGBM] [Warning] No further splits with positive gain, best gain: -inf\n",
            "[LightGBM] [Warning] No further splits with positive gain, best gain: -inf\n",
            "[LightGBM] [Warning] No further splits with positive gain, best gain: -inf\n",
            "[LightGBM] [Warning] No further splits with positive gain, best gain: -inf\n",
            "[LightGBM] [Warning] No further splits with positive gain, best gain: -inf\n",
            "[LightGBM] [Warning] No further splits with positive gain, best gain: -inf\n",
            "[LightGBM] [Warning] No further splits with positive gain, best gain: -inf\n",
            "[LightGBM] [Warning] No further splits with positive gain, best gain: -inf\n",
            "[LightGBM] [Warning] No further splits with positive gain, best gain: -inf\n",
            "[LightGBM] [Warning] No further splits with positive gain, best gain: -inf\n",
            "[LightGBM] [Warning] No further splits with positive gain, best gain: -inf\n",
            "[LightGBM] [Warning] No further splits with positive gain, best gain: -inf\n",
            "[LightGBM] [Warning] No further splits with positive gain, best gain: -inf\n",
            "[LightGBM] [Warning] No further splits with positive gain, best gain: -inf\n",
            "[LightGBM] [Warning] No further splits with positive gain, best gain: -inf\n",
            "[LightGBM] [Warning] No further splits with positive gain, best gain: -inf\n",
            "[LightGBM] [Warning] No further splits with positive gain, best gain: -inf\n",
            "[LightGBM] [Warning] No further splits with positive gain, best gain: -inf\n",
            "[LightGBM] [Warning] No further splits with positive gain, best gain: -inf\n",
            "[LightGBM] [Warning] No further splits with positive gain, best gain: -inf\n",
            "[LightGBM] [Warning] No further splits with positive gain, best gain: -inf\n",
            "[LightGBM] [Warning] No further splits with positive gain, best gain: -inf\n",
            "[LightGBM] [Warning] No further splits with positive gain, best gain: -inf\n",
            "[LightGBM] [Warning] No further splits with positive gain, best gain: -inf\n",
            "[LightGBM] [Warning] No further splits with positive gain, best gain: -inf\n",
            "[LightGBM] [Warning] No further splits with positive gain, best gain: -inf\n",
            "[LightGBM] [Warning] No further splits with positive gain, best gain: -inf\n"
          ]
        }
      ],
      "source": [
        "lgbm = lgb.train(parametros, dataset, num_boost_round=150);"
      ]
    },
    {
      "cell_type": "code",
      "execution_count": null,
      "metadata": {
        "id": "Vlnwd-BzotqW"
      },
      "outputs": [],
      "source": [
        "previsoes_lgbm = lgbm.predict(X_test)"
      ]
    },
    {
      "cell_type": "code",
      "execution_count": null,
      "metadata": {
        "id": "Ij2o05yLGEmC"
      },
      "outputs": [],
      "source": [
        "for i in range (0, previsoes_lgbm.shape[0]):\n",
        "  if previsoes_lgbm[i] >= 0.5:\n",
        "    previsoes_lgbm[i] = 1\n",
        "  else:\n",
        "    previsoes_lgbm[i] = 0"
      ]
    },
    {
      "cell_type": "code",
      "execution_count": null,
      "metadata": {
        "colab": {
          "base_uri": "https://localhost:8080/"
        },
        "id": "y__-ZibUGU64",
        "outputId": "439f5e30-7115-4cab-ce1d-f7ef0c5f4da6"
      },
      "outputs": [
        {
          "data": {
            "text/plain": [
              "array([1., 1., 1., 0., 0., 0., 1., 0., 0., 0., 1., 1., 1., 1., 0., 1., 1.,\n",
              "       1., 1., 0., 1., 1., 1., 0., 0., 0., 1., 1., 1., 1., 1., 0., 0., 0.,\n",
              "       1., 0., 0., 0., 1., 0., 0., 1., 1., 1., 1., 0., 0., 1., 0., 1., 1.,\n",
              "       0., 0., 0., 1., 0., 0., 0., 1., 0., 1., 1., 1., 0., 1., 1., 1., 1.,\n",
              "       1., 0., 1., 1., 1., 1., 1., 1., 1., 1., 1., 1., 1., 1., 0., 0., 1.,\n",
              "       1., 1., 1., 1., 0., 1., 0., 0., 0., 1., 0., 1., 0., 0., 0., 0., 1.,\n",
              "       1., 1., 0., 1., 0., 0., 0., 1., 0., 1., 1., 1., 0., 1., 0., 1., 1.,\n",
              "       1., 1., 1., 1., 0., 1., 0., 0., 1., 0., 1., 1., 1., 1., 1., 0., 1.,\n",
              "       0., 1., 1., 0., 0., 1., 0., 1., 0., 0., 1., 1., 1., 1., 0., 1., 0.,\n",
              "       0., 1., 0., 1., 1., 1., 0., 1., 1., 1., 1., 1., 0., 1., 0., 1., 0.,\n",
              "       1., 1., 0., 0., 1., 0., 1., 1., 0., 1., 1., 1., 0., 1., 1., 1., 0.,\n",
              "       1., 1., 0., 1., 0., 1., 1., 1., 1., 0., 0., 1., 0., 1., 1., 0., 1.,\n",
              "       1., 0., 0., 0., 1., 0., 1., 1., 0., 1., 0., 0., 1., 0., 1., 1., 1.,\n",
              "       0., 1., 1., 1., 1., 0., 1., 0., 1., 0., 1., 1., 1., 0., 1., 0., 1.,\n",
              "       0., 1., 1., 0., 1., 0., 0., 0., 0., 0., 1., 0., 1., 0., 1., 0., 0.,\n",
              "       0., 1., 0., 0., 1., 0., 0., 1., 0., 1., 1., 0., 0., 1., 0., 0., 1.,\n",
              "       1., 1., 1., 1.])"
            ]
          },
          "execution_count": 60,
          "metadata": {},
          "output_type": "execute_result"
        }
      ],
      "source": [
        "previsoes_lgbm"
      ]
    },
    {
      "cell_type": "markdown",
      "metadata": {
        "id": "IhERiNNmGqcx"
      },
      "source": [
        "## Acurácia"
      ]
    },
    {
      "cell_type": "code",
      "execution_count": null,
      "metadata": {
        "colab": {
          "base_uri": "https://localhost:8080/"
        },
        "id": "xsUJWiLtGoFq",
        "outputId": "4cae1c91-fd58-4674-a8e1-b595af78eb28"
      },
      "outputs": [
        {
          "data": {
            "text/plain": [
              "0.855072463768116"
            ]
          },
          "execution_count": 92,
          "metadata": {},
          "output_type": "execute_result"
        }
      ],
      "source": [
        "accuracy_score(y_test, previsoes_lgbm)"
      ]
    },
    {
      "cell_type": "markdown",
      "metadata": {
        "id": "qBqTXQtJHanN"
      },
      "source": [
        "## Análise dados de treino"
      ]
    },
    {
      "cell_type": "code",
      "execution_count": null,
      "metadata": {
        "id": "gukWION_HcXi"
      },
      "outputs": [],
      "source": [
        "previsoes_treino = lgbm.predict(X_train)"
      ]
    },
    {
      "cell_type": "code",
      "execution_count": null,
      "metadata": {
        "id": "o9ljSTV1Hmyu"
      },
      "outputs": [],
      "source": [
        "for i in range (0, previsoes_treino.shape[0]):\n",
        "  if previsoes_treino[i] >= 0.5:\n",
        "    previsoes_treino[i] = 1\n",
        "  else:\n",
        "    previsoes_treino[i] = 0"
      ]
    },
    {
      "cell_type": "code",
      "execution_count": null,
      "metadata": {
        "colab": {
          "base_uri": "https://localhost:8080/"
        },
        "id": "6pOl4EzrHqYu",
        "outputId": "863f2997-508b-4261-8f9b-94250c545fad"
      },
      "outputs": [
        {
          "data": {
            "text/plain": [
              "0.9344773790951638"
            ]
          },
          "execution_count": 95,
          "metadata": {},
          "output_type": "execute_result"
        }
      ],
      "source": [
        "accuracy_score(y_train, previsoes_treino)"
      ]
    },
    {
      "cell_type": "markdown",
      "metadata": {
        "id": "3lFzx3TPMX-P"
      },
      "source": [
        "## Validação cruzada"
      ]
    },
    {
      "cell_type": "code",
      "execution_count": null,
      "metadata": {
        "id": "ffU-GLROMXOZ"
      },
      "outputs": [],
      "source": [
        "kfold = KFold(n_splits=30, shuffle=True, random_state=5)"
      ]
    },
    {
      "cell_type": "code",
      "execution_count": null,
      "metadata": {
        "id": "3AZXxj6cMgFW"
      },
      "outputs": [],
      "source": [
        "modelo = lgb.LGBMClassifier(num_leaves=151, objective='binary',\n",
        "    max_depth=2, learning_rate=.02, max_bin= 200)\n",
        "\n",
        "resultado = cross_val_score(modelo, previsores, alvo, cv=kfold)"
      ]
    },
    {
      "cell_type": "code",
      "execution_count": null,
      "metadata": {
        "colab": {
          "base_uri": "https://localhost:8080/"
        },
        "id": "u_2uzHIeM6B-",
        "outputId": "59d9a3e0-3075-4760-ea1a-a78e9c648d7e"
      },
      "outputs": [
        {
          "data": {
            "text/plain": [
              "0.8483512544802866"
            ]
          },
          "execution_count": 100,
          "metadata": {},
          "output_type": "execute_result"
        }
      ],
      "source": [
        "resultado.mean()"
      ]
    },
    {
      "cell_type": "markdown",
      "metadata": {
        "id": "la6sH-xAJRxC"
      },
      "source": [
        "## Resultado"
      ]
    },
    {
      "cell_type": "markdown",
      "metadata": {
        "id": "nwKu3LeaJUYU"
      },
      "source": [
        "- previsores\n",
        " -  'num_leaves': 151,\n",
        "    'objective': 'binary',\n",
        "    'max-depth': 2,\n",
        "    'learning_rate': .02,\n",
        "    'max_bin': 200'\n",
        "    *85.50%* 🏆"
      ]
    },
    {
      "cell_type": "markdown",
      "metadata": {
        "id": "ofnrWTEKNQtQ"
      },
      "source": [
        "# Catboost"
      ]
    },
    {
      "cell_type": "code",
      "execution_count": null,
      "metadata": {
        "colab": {
          "base_uri": "https://localhost:8080/"
        },
        "id": "fw1zQfcANS44",
        "outputId": "43608b1f-06e5-452f-dba0-0e0cf82b7712"
      },
      "outputs": [
        {
          "name": "stdout",
          "output_type": "stream",
          "text": [
            "Collecting catboost\n",
            "  Downloading catboost-1.2.2-cp310-cp310-manylinux2014_x86_64.whl (98.7 MB)\n",
            "\u001b[2K     \u001b[90m━━━━━━━━━━━━━━━━━━━━━━━━━━━━━━━━━━━━━━━━\u001b[0m \u001b[32m98.7/98.7 MB\u001b[0m \u001b[31m2.5 MB/s\u001b[0m eta \u001b[36m0:00:00\u001b[0m\n",
            "\u001b[?25hRequirement already satisfied: graphviz in /usr/local/lib/python3.10/dist-packages (from catboost) (0.20.1)\n",
            "Requirement already satisfied: matplotlib in /usr/local/lib/python3.10/dist-packages (from catboost) (3.7.1)\n",
            "Requirement already satisfied: numpy>=1.16.0 in /usr/local/lib/python3.10/dist-packages (from catboost) (1.23.5)\n",
            "Requirement already satisfied: pandas>=0.24 in /usr/local/lib/python3.10/dist-packages (from catboost) (1.5.3)\n",
            "Requirement already satisfied: scipy in /usr/local/lib/python3.10/dist-packages (from catboost) (1.11.4)\n",
            "Requirement already satisfied: plotly in /usr/local/lib/python3.10/dist-packages (from catboost) (5.15.0)\n",
            "Requirement already satisfied: six in /usr/local/lib/python3.10/dist-packages (from catboost) (1.16.0)\n",
            "Requirement already satisfied: python-dateutil>=2.8.1 in /usr/local/lib/python3.10/dist-packages (from pandas>=0.24->catboost) (2.8.2)\n",
            "Requirement already satisfied: pytz>=2020.1 in /usr/local/lib/python3.10/dist-packages (from pandas>=0.24->catboost) (2023.3.post1)\n",
            "Requirement already satisfied: contourpy>=1.0.1 in /usr/local/lib/python3.10/dist-packages (from matplotlib->catboost) (1.2.0)\n",
            "Requirement already satisfied: cycler>=0.10 in /usr/local/lib/python3.10/dist-packages (from matplotlib->catboost) (0.12.1)\n",
            "Requirement already satisfied: fonttools>=4.22.0 in /usr/local/lib/python3.10/dist-packages (from matplotlib->catboost) (4.47.2)\n",
            "Requirement already satisfied: kiwisolver>=1.0.1 in /usr/local/lib/python3.10/dist-packages (from matplotlib->catboost) (1.4.5)\n",
            "Requirement already satisfied: packaging>=20.0 in /usr/local/lib/python3.10/dist-packages (from matplotlib->catboost) (23.2)\n",
            "Requirement already satisfied: pillow>=6.2.0 in /usr/local/lib/python3.10/dist-packages (from matplotlib->catboost) (9.4.0)\n",
            "Requirement already satisfied: pyparsing>=2.3.1 in /usr/local/lib/python3.10/dist-packages (from matplotlib->catboost) (3.1.1)\n",
            "Requirement already satisfied: tenacity>=6.2.0 in /usr/local/lib/python3.10/dist-packages (from plotly->catboost) (8.2.3)\n",
            "Installing collected packages: catboost\n",
            "Successfully installed catboost-1.2.2\n"
          ]
        }
      ],
      "source": [
        "!pip install catboost"
      ]
    },
    {
      "cell_type": "code",
      "execution_count": null,
      "metadata": {
        "id": "41Np-aYlOist"
      },
      "outputs": [],
      "source": [
        "from catboost import CatBoostClassifier"
      ]
    },
    {
      "cell_type": "code",
      "execution_count": null,
      "metadata": {
        "id": "ZxVbSet0Om8v"
      },
      "outputs": [],
      "source": [
        "previsores_catboost = df.drop('HeartDisease', axis=1)\n",
        "alvo_catboost = df['HeartDisease']"
      ]
    },
    {
      "cell_type": "code",
      "execution_count": null,
      "metadata": {
        "id": "pzMa6r8rPDvG"
      },
      "outputs": [],
      "source": [
        "X_train, X_test, y_train, y_test = train_test_split(\n",
        "    previsores_catboost, alvo_catboost, test_size=0.3, random_state=0\n",
        "    )"
      ]
    },
    {
      "cell_type": "code",
      "execution_count": null,
      "metadata": {
        "id": "ek-CRURcPUH1"
      },
      "outputs": [],
      "source": [
        "categoricas = ['Sex', 'ChestPainType', 'RestingECG', 'ExerciseAngina', 'ST_Slope']"
      ]
    },
    {
      "cell_type": "code",
      "execution_count": null,
      "metadata": {
        "id": "MtUiV0lVPcoh"
      },
      "outputs": [],
      "source": [
        "catboost = CatBoostClassifier(task_type='CPU', iterations=120, learning_rate=0.1\n",
        "                              ,depth=8, random_state=5, eval_metric='Accuracy')"
      ]
    },
    {
      "cell_type": "code",
      "execution_count": null,
      "metadata": {
        "colab": {
          "base_uri": "https://localhost:8080/",
          "height": 1000,
          "referenced_widgets": [
            "f09d7b42b5774730896d38c47cd78a93"
          ]
        },
        "id": "xnmDVmyvP_Jv",
        "outputId": "36cbbe3e-4a31-4a82-987c-0c801e9836a7"
      },
      "outputs": [
        {
          "data": {
            "application/vnd.jupyter.widget-view+json": {
              "model_id": "f09d7b42b5774730896d38c47cd78a93",
              "version_major": 2,
              "version_minor": 0
            },
            "text/plain": [
              "MetricVisualizer(layout=Layout(align_self='stretch', height='500px'))"
            ]
          },
          "metadata": {},
          "output_type": "display_data"
        },
        {
          "name": "stdout",
          "output_type": "stream",
          "text": [
            "0:\tlearn: 0.8861154\ttest: 0.7789855\tbest: 0.7789855 (0)\ttotal: 6.51ms\tremaining: 775ms\n",
            "1:\tlearn: 0.8689548\ttest: 0.7934783\tbest: 0.7934783 (1)\ttotal: 12.7ms\tremaining: 747ms\n",
            "2:\tlearn: 0.8471139\ttest: 0.7971014\tbest: 0.7971014 (2)\ttotal: 15.3ms\tremaining: 597ms\n",
            "3:\tlearn: 0.8549142\ttest: 0.8043478\tbest: 0.8043478 (3)\ttotal: 24.1ms\tremaining: 699ms\n",
            "4:\tlearn: 0.8517941\ttest: 0.8043478\tbest: 0.8043478 (3)\ttotal: 30.3ms\tremaining: 696ms\n",
            "5:\tlearn: 0.8486739\ttest: 0.8043478\tbest: 0.8043478 (3)\ttotal: 35.6ms\tremaining: 677ms\n",
            "6:\tlearn: 0.8580343\ttest: 0.8115942\tbest: 0.8115942 (6)\ttotal: 39.6ms\tremaining: 639ms\n",
            "7:\tlearn: 0.8642746\ttest: 0.8043478\tbest: 0.8115942 (6)\ttotal: 42.8ms\tremaining: 599ms\n",
            "8:\tlearn: 0.8533541\ttest: 0.8043478\tbest: 0.8115942 (6)\ttotal: 46.6ms\tremaining: 575ms\n",
            "9:\tlearn: 0.8611544\ttest: 0.8115942\tbest: 0.8115942 (6)\ttotal: 50ms\tremaining: 550ms\n",
            "10:\tlearn: 0.8642746\ttest: 0.8079710\tbest: 0.8115942 (6)\ttotal: 53.4ms\tremaining: 529ms\n",
            "11:\tlearn: 0.8658346\ttest: 0.8043478\tbest: 0.8115942 (6)\ttotal: 56.8ms\tremaining: 511ms\n",
            "12:\tlearn: 0.8689548\ttest: 0.8043478\tbest: 0.8115942 (6)\ttotal: 60.3ms\tremaining: 497ms\n",
            "13:\tlearn: 0.8611544\ttest: 0.8007246\tbest: 0.8115942 (6)\ttotal: 61.3ms\tremaining: 464ms\n",
            "14:\tlearn: 0.8611544\ttest: 0.8007246\tbest: 0.8115942 (6)\ttotal: 64.7ms\tremaining: 453ms\n",
            "15:\tlearn: 0.8658346\ttest: 0.7971014\tbest: 0.8115942 (6)\ttotal: 66.5ms\tremaining: 432ms\n",
            "16:\tlearn: 0.8673947\ttest: 0.7971014\tbest: 0.8115942 (6)\ttotal: 69.9ms\tremaining: 424ms\n",
            "17:\tlearn: 0.8689548\ttest: 0.8007246\tbest: 0.8115942 (6)\ttotal: 73.4ms\tremaining: 416ms\n",
            "18:\tlearn: 0.8720749\ttest: 0.8007246\tbest: 0.8115942 (6)\ttotal: 77ms\tremaining: 409ms\n",
            "19:\tlearn: 0.8767551\ttest: 0.8007246\tbest: 0.8115942 (6)\ttotal: 80.7ms\tremaining: 404ms\n",
            "20:\tlearn: 0.8767551\ttest: 0.8079710\tbest: 0.8115942 (6)\ttotal: 84.5ms\tremaining: 398ms\n",
            "21:\tlearn: 0.8798752\ttest: 0.8079710\tbest: 0.8115942 (6)\ttotal: 87.9ms\tremaining: 391ms\n",
            "22:\tlearn: 0.8814353\ttest: 0.8079710\tbest: 0.8115942 (6)\ttotal: 91.8ms\tremaining: 387ms\n",
            "23:\tlearn: 0.8814353\ttest: 0.8079710\tbest: 0.8115942 (6)\ttotal: 95.4ms\tremaining: 382ms\n",
            "24:\tlearn: 0.8814353\ttest: 0.8079710\tbest: 0.8115942 (6)\ttotal: 100ms\tremaining: 380ms\n",
            "25:\tlearn: 0.8829953\ttest: 0.8115942\tbest: 0.8115942 (6)\ttotal: 104ms\tremaining: 375ms\n",
            "26:\tlearn: 0.8845554\ttest: 0.8152174\tbest: 0.8152174 (26)\ttotal: 107ms\tremaining: 370ms\n",
            "27:\tlearn: 0.8829953\ttest: 0.8152174\tbest: 0.8152174 (26)\ttotal: 109ms\tremaining: 357ms\n",
            "28:\tlearn: 0.8861154\ttest: 0.8115942\tbest: 0.8152174 (26)\ttotal: 115ms\tremaining: 360ms\n",
            "29:\tlearn: 0.8939158\ttest: 0.8115942\tbest: 0.8152174 (26)\ttotal: 119ms\tremaining: 356ms\n",
            "30:\tlearn: 0.8954758\ttest: 0.8115942\tbest: 0.8152174 (26)\ttotal: 122ms\tremaining: 351ms\n",
            "31:\tlearn: 0.8954758\ttest: 0.8152174\tbest: 0.8152174 (26)\ttotal: 126ms\tremaining: 345ms\n",
            "32:\tlearn: 0.8970359\ttest: 0.8115942\tbest: 0.8152174 (26)\ttotal: 129ms\tremaining: 340ms\n",
            "33:\tlearn: 0.9001560\ttest: 0.8152174\tbest: 0.8152174 (26)\ttotal: 133ms\tremaining: 336ms\n",
            "34:\tlearn: 0.9048362\ttest: 0.8188406\tbest: 0.8188406 (34)\ttotal: 136ms\tremaining: 331ms\n",
            "35:\tlearn: 0.9095164\ttest: 0.8297101\tbest: 0.8297101 (35)\ttotal: 140ms\tremaining: 326ms\n",
            "36:\tlearn: 0.9110764\ttest: 0.8224638\tbest: 0.8297101 (35)\ttotal: 145ms\tremaining: 326ms\n",
            "37:\tlearn: 0.9157566\ttest: 0.8260870\tbest: 0.8297101 (35)\ttotal: 149ms\tremaining: 321ms\n",
            "38:\tlearn: 0.9157566\ttest: 0.8333333\tbest: 0.8333333 (38)\ttotal: 150ms\tremaining: 312ms\n",
            "39:\tlearn: 0.9173167\ttest: 0.8333333\tbest: 0.8333333 (38)\ttotal: 154ms\tremaining: 308ms\n",
            "40:\tlearn: 0.9141966\ttest: 0.8369565\tbest: 0.8369565 (40)\ttotal: 155ms\tremaining: 299ms\n",
            "41:\tlearn: 0.9141966\ttest: 0.8405797\tbest: 0.8405797 (41)\ttotal: 159ms\tremaining: 295ms\n",
            "42:\tlearn: 0.9173167\ttest: 0.8442029\tbest: 0.8442029 (42)\ttotal: 162ms\tremaining: 290ms\n",
            "43:\tlearn: 0.9173167\ttest: 0.8514493\tbest: 0.8514493 (43)\ttotal: 166ms\tremaining: 286ms\n",
            "44:\tlearn: 0.9173167\ttest: 0.8478261\tbest: 0.8514493 (43)\ttotal: 169ms\tremaining: 282ms\n",
            "45:\tlearn: 0.9188768\ttest: 0.8478261\tbest: 0.8514493 (43)\ttotal: 173ms\tremaining: 278ms\n",
            "46:\tlearn: 0.9204368\ttest: 0.8514493\tbest: 0.8514493 (43)\ttotal: 176ms\tremaining: 274ms\n",
            "47:\tlearn: 0.9204368\ttest: 0.8550725\tbest: 0.8550725 (47)\ttotal: 180ms\tremaining: 270ms\n",
            "48:\tlearn: 0.9219969\ttest: 0.8623188\tbest: 0.8623188 (48)\ttotal: 184ms\tremaining: 266ms\n",
            "49:\tlearn: 0.9188768\ttest: 0.8623188\tbest: 0.8623188 (48)\ttotal: 185ms\tremaining: 260ms\n",
            "50:\tlearn: 0.9204368\ttest: 0.8659420\tbest: 0.8659420 (50)\ttotal: 189ms\tremaining: 255ms\n",
            "51:\tlearn: 0.9235569\ttest: 0.8659420\tbest: 0.8659420 (50)\ttotal: 191ms\tremaining: 249ms\n",
            "52:\tlearn: 0.9235569\ttest: 0.8659420\tbest: 0.8659420 (50)\ttotal: 192ms\tremaining: 242ms\n",
            "53:\tlearn: 0.9251170\ttest: 0.8659420\tbest: 0.8659420 (50)\ttotal: 199ms\tremaining: 243ms\n",
            "54:\tlearn: 0.9235569\ttest: 0.8695652\tbest: 0.8695652 (54)\ttotal: 202ms\tremaining: 239ms\n",
            "55:\tlearn: 0.9204368\ttest: 0.8695652\tbest: 0.8695652 (54)\ttotal: 205ms\tremaining: 235ms\n",
            "56:\tlearn: 0.9219969\ttest: 0.8695652\tbest: 0.8695652 (54)\ttotal: 209ms\tremaining: 231ms\n",
            "57:\tlearn: 0.9251170\ttest: 0.8695652\tbest: 0.8695652 (54)\ttotal: 212ms\tremaining: 227ms\n",
            "58:\tlearn: 0.9266771\ttest: 0.8695652\tbest: 0.8695652 (54)\ttotal: 216ms\tremaining: 223ms\n",
            "59:\tlearn: 0.9282371\ttest: 0.8695652\tbest: 0.8695652 (54)\ttotal: 219ms\tremaining: 219ms\n",
            "60:\tlearn: 0.9282371\ttest: 0.8695652\tbest: 0.8695652 (54)\ttotal: 223ms\tremaining: 215ms\n",
            "61:\tlearn: 0.9282371\ttest: 0.8695652\tbest: 0.8695652 (54)\ttotal: 226ms\tremaining: 211ms\n",
            "62:\tlearn: 0.9251170\ttest: 0.8695652\tbest: 0.8695652 (54)\ttotal: 230ms\tremaining: 208ms\n",
            "63:\tlearn: 0.9251170\ttest: 0.8695652\tbest: 0.8695652 (54)\ttotal: 234ms\tremaining: 205ms\n",
            "64:\tlearn: 0.9251170\ttest: 0.8695652\tbest: 0.8695652 (54)\ttotal: 235ms\tremaining: 199ms\n",
            "65:\tlearn: 0.9251170\ttest: 0.8695652\tbest: 0.8695652 (54)\ttotal: 239ms\tremaining: 196ms\n",
            "66:\tlearn: 0.9251170\ttest: 0.8695652\tbest: 0.8695652 (54)\ttotal: 243ms\tremaining: 192ms\n",
            "67:\tlearn: 0.9266771\ttest: 0.8695652\tbest: 0.8695652 (54)\ttotal: 245ms\tremaining: 188ms\n",
            "68:\tlearn: 0.9266771\ttest: 0.8695652\tbest: 0.8695652 (54)\ttotal: 246ms\tremaining: 182ms\n",
            "69:\tlearn: 0.9266771\ttest: 0.8695652\tbest: 0.8695652 (54)\ttotal: 247ms\tremaining: 177ms\n",
            "70:\tlearn: 0.9266771\ttest: 0.8695652\tbest: 0.8695652 (54)\ttotal: 251ms\tremaining: 173ms\n",
            "71:\tlearn: 0.9266771\ttest: 0.8695652\tbest: 0.8695652 (54)\ttotal: 253ms\tremaining: 169ms\n",
            "72:\tlearn: 0.9266771\ttest: 0.8695652\tbest: 0.8695652 (54)\ttotal: 254ms\tremaining: 163ms\n",
            "73:\tlearn: 0.9251170\ttest: 0.8695652\tbest: 0.8695652 (54)\ttotal: 257ms\tremaining: 160ms\n",
            "74:\tlearn: 0.9251170\ttest: 0.8695652\tbest: 0.8695652 (54)\ttotal: 259ms\tremaining: 155ms\n",
            "75:\tlearn: 0.9266771\ttest: 0.8695652\tbest: 0.8695652 (54)\ttotal: 260ms\tremaining: 151ms\n",
            "76:\tlearn: 0.9266771\ttest: 0.8695652\tbest: 0.8695652 (54)\ttotal: 264ms\tremaining: 147ms\n",
            "77:\tlearn: 0.9266771\ttest: 0.8695652\tbest: 0.8695652 (54)\ttotal: 267ms\tremaining: 144ms\n",
            "78:\tlearn: 0.9266771\ttest: 0.8659420\tbest: 0.8695652 (54)\ttotal: 271ms\tremaining: 141ms\n",
            "79:\tlearn: 0.9266771\ttest: 0.8659420\tbest: 0.8695652 (54)\ttotal: 273ms\tremaining: 136ms\n",
            "80:\tlearn: 0.9266771\ttest: 0.8659420\tbest: 0.8695652 (54)\ttotal: 276ms\tremaining: 133ms\n",
            "81:\tlearn: 0.9266771\ttest: 0.8659420\tbest: 0.8695652 (54)\ttotal: 279ms\tremaining: 129ms\n",
            "82:\tlearn: 0.9266771\ttest: 0.8659420\tbest: 0.8695652 (54)\ttotal: 282ms\tremaining: 126ms\n",
            "83:\tlearn: 0.9266771\ttest: 0.8659420\tbest: 0.8695652 (54)\ttotal: 286ms\tremaining: 122ms\n",
            "84:\tlearn: 0.9297972\ttest: 0.8659420\tbest: 0.8695652 (54)\ttotal: 289ms\tremaining: 119ms\n",
            "85:\tlearn: 0.9297972\ttest: 0.8659420\tbest: 0.8695652 (54)\ttotal: 293ms\tremaining: 116ms\n",
            "86:\tlearn: 0.9282371\ttest: 0.8659420\tbest: 0.8695652 (54)\ttotal: 297ms\tremaining: 113ms\n",
            "87:\tlearn: 0.9282371\ttest: 0.8659420\tbest: 0.8695652 (54)\ttotal: 300ms\tremaining: 109ms\n",
            "88:\tlearn: 0.9282371\ttest: 0.8659420\tbest: 0.8695652 (54)\ttotal: 304ms\tremaining: 106ms\n",
            "89:\tlearn: 0.9282371\ttest: 0.8659420\tbest: 0.8695652 (54)\ttotal: 305ms\tremaining: 102ms\n",
            "90:\tlearn: 0.9282371\ttest: 0.8659420\tbest: 0.8695652 (54)\ttotal: 309ms\tremaining: 98.4ms\n",
            "91:\tlearn: 0.9282371\ttest: 0.8659420\tbest: 0.8695652 (54)\ttotal: 313ms\tremaining: 95.2ms\n",
            "92:\tlearn: 0.9282371\ttest: 0.8659420\tbest: 0.8695652 (54)\ttotal: 315ms\tremaining: 91.6ms\n",
            "93:\tlearn: 0.9282371\ttest: 0.8659420\tbest: 0.8695652 (54)\ttotal: 319ms\tremaining: 88.2ms\n",
            "94:\tlearn: 0.9282371\ttest: 0.8659420\tbest: 0.8695652 (54)\ttotal: 323ms\tremaining: 84.9ms\n",
            "95:\tlearn: 0.9282371\ttest: 0.8659420\tbest: 0.8695652 (54)\ttotal: 326ms\tremaining: 81.6ms\n",
            "96:\tlearn: 0.9282371\ttest: 0.8659420\tbest: 0.8695652 (54)\ttotal: 330ms\tremaining: 78.3ms\n",
            "97:\tlearn: 0.9282371\ttest: 0.8659420\tbest: 0.8695652 (54)\ttotal: 334ms\tremaining: 74.9ms\n",
            "98:\tlearn: 0.9282371\ttest: 0.8659420\tbest: 0.8695652 (54)\ttotal: 338ms\tremaining: 71.6ms\n",
            "99:\tlearn: 0.9297972\ttest: 0.8659420\tbest: 0.8695652 (54)\ttotal: 341ms\tremaining: 68.2ms\n",
            "100:\tlearn: 0.9282371\ttest: 0.8659420\tbest: 0.8695652 (54)\ttotal: 345ms\tremaining: 64.9ms\n",
            "101:\tlearn: 0.9282371\ttest: 0.8659420\tbest: 0.8695652 (54)\ttotal: 348ms\tremaining: 61.5ms\n",
            "102:\tlearn: 0.9282371\ttest: 0.8659420\tbest: 0.8695652 (54)\ttotal: 352ms\tremaining: 58.1ms\n",
            "103:\tlearn: 0.9282371\ttest: 0.8623188\tbest: 0.8695652 (54)\ttotal: 355ms\tremaining: 54.7ms\n",
            "104:\tlearn: 0.9282371\ttest: 0.8623188\tbest: 0.8695652 (54)\ttotal: 359ms\tremaining: 51.3ms\n",
            "105:\tlearn: 0.9282371\ttest: 0.8623188\tbest: 0.8695652 (54)\ttotal: 362ms\tremaining: 47.8ms\n",
            "106:\tlearn: 0.9282371\ttest: 0.8659420\tbest: 0.8695652 (54)\ttotal: 365ms\tremaining: 44.4ms\n",
            "107:\tlearn: 0.9282371\ttest: 0.8659420\tbest: 0.8695652 (54)\ttotal: 369ms\tremaining: 41ms\n",
            "108:\tlearn: 0.9282371\ttest: 0.8659420\tbest: 0.8695652 (54)\ttotal: 373ms\tremaining: 37.6ms\n",
            "109:\tlearn: 0.9282371\ttest: 0.8659420\tbest: 0.8695652 (54)\ttotal: 377ms\tremaining: 34.2ms\n",
            "110:\tlearn: 0.9297972\ttest: 0.8659420\tbest: 0.8695652 (54)\ttotal: 380ms\tremaining: 30.8ms\n",
            "111:\tlearn: 0.9297972\ttest: 0.8659420\tbest: 0.8695652 (54)\ttotal: 387ms\tremaining: 27.6ms\n",
            "112:\tlearn: 0.9282371\ttest: 0.8659420\tbest: 0.8695652 (54)\ttotal: 394ms\tremaining: 24.4ms\n",
            "113:\tlearn: 0.9282371\ttest: 0.8659420\tbest: 0.8695652 (54)\ttotal: 398ms\tremaining: 20.9ms\n",
            "114:\tlearn: 0.9282371\ttest: 0.8659420\tbest: 0.8695652 (54)\ttotal: 401ms\tremaining: 17.4ms\n",
            "115:\tlearn: 0.9282371\ttest: 0.8659420\tbest: 0.8695652 (54)\ttotal: 404ms\tremaining: 13.9ms\n",
            "116:\tlearn: 0.9297972\ttest: 0.8659420\tbest: 0.8695652 (54)\ttotal: 407ms\tremaining: 10.4ms\n",
            "117:\tlearn: 0.9297972\ttest: 0.8659420\tbest: 0.8695652 (54)\ttotal: 410ms\tremaining: 6.96ms\n",
            "118:\tlearn: 0.9297972\ttest: 0.8659420\tbest: 0.8695652 (54)\ttotal: 414ms\tremaining: 3.48ms\n",
            "119:\tlearn: 0.9297972\ttest: 0.8659420\tbest: 0.8695652 (54)\ttotal: 418ms\tremaining: 0us\n",
            "\n",
            "bestTest = 0.8695652174\n",
            "bestIteration = 54\n",
            "\n",
            "Shrink model to first 55 iterations.\n"
          ]
        },
        {
          "data": {
            "text/plain": [
              "<catboost.core.CatBoostClassifier at 0x7ac5e6b14760>"
            ]
          },
          "execution_count": 122,
          "metadata": {},
          "output_type": "execute_result"
        }
      ],
      "source": [
        "catboost.fit(\n",
        "    X_train, y_train, cat_features=categoricas\n",
        "    ,plot=True, eval_set=(X_test, y_test)\n",
        "    )"
      ]
    },
    {
      "cell_type": "markdown",
      "metadata": {
        "id": "dcrYoh8GRCxY"
      },
      "source": [
        "## Análise dados de treino"
      ]
    },
    {
      "cell_type": "code",
      "execution_count": null,
      "metadata": {
        "id": "NXIyPdWHRFUr"
      },
      "outputs": [],
      "source": [
        "previsoes_catboost_treino = catboost.predict(X_train)"
      ]
    },
    {
      "cell_type": "code",
      "execution_count": null,
      "metadata": {
        "colab": {
          "base_uri": "https://localhost:8080/"
        },
        "id": "te-wCQYKRbcd",
        "outputId": "e91e6177-dfa5-4468-b145-97fc6e59e814"
      },
      "outputs": [
        {
          "data": {
            "text/plain": [
              "0.9173166926677067"
            ]
          },
          "execution_count": 127,
          "metadata": {},
          "output_type": "execute_result"
        }
      ],
      "source": [
        "accuracy_score(y_train, previsoes_catboost_treino)"
      ]
    },
    {
      "cell_type": "markdown",
      "metadata": {
        "id": "vf-gNCcWSLUy"
      },
      "source": [
        "## Validação cruzada"
      ]
    },
    {
      "cell_type": "code",
      "execution_count": null,
      "metadata": {
        "id": "0OkUzCiZSQXz"
      },
      "outputs": [],
      "source": [
        "kfold = KFold(n_splits=30, shuffle=True, random_state=5)"
      ]
    },
    {
      "cell_type": "code",
      "execution_count": null,
      "metadata": {
        "colab": {
          "base_uri": "https://localhost:8080/"
        },
        "id": "AGwKLZk-SaPg",
        "outputId": "30a24031-f6c2-47f6-c4a9-4f522ce8dce9"
      },
      "outputs": [
        {
          "name": "stdout",
          "output_type": "stream",
          "text": [
            "0:\tlearn: 0.8803612\ttotal: 4.77ms\tremaining: 567ms\n",
            "1:\tlearn: 0.8758465\ttotal: 17.6ms\tremaining: 1.04s\n",
            "2:\tlearn: 0.8837472\ttotal: 23.1ms\tremaining: 899ms\n",
            "3:\tlearn: 0.8927765\ttotal: 32.6ms\tremaining: 946ms\n",
            "4:\tlearn: 0.8792325\ttotal: 35.9ms\tremaining: 825ms\n",
            "5:\tlearn: 0.8803612\ttotal: 40.4ms\tremaining: 767ms\n",
            "6:\tlearn: 0.8893905\ttotal: 47.2ms\tremaining: 763ms\n",
            "7:\tlearn: 0.8860045\ttotal: 58.8ms\tremaining: 823ms\n",
            "8:\tlearn: 0.8927765\ttotal: 72.8ms\tremaining: 898ms\n",
            "9:\tlearn: 0.8950339\ttotal: 79.6ms\tremaining: 876ms\n",
            "10:\tlearn: 0.8950339\ttotal: 94.3ms\tremaining: 934ms\n",
            "11:\tlearn: 0.8961625\ttotal: 101ms\tremaining: 905ms\n",
            "12:\tlearn: 0.8972912\ttotal: 106ms\tremaining: 872ms\n",
            "13:\tlearn: 0.8972912\ttotal: 117ms\tremaining: 886ms\n",
            "14:\tlearn: 0.8995485\ttotal: 126ms\tremaining: 885ms\n",
            "15:\tlearn: 0.9006772\ttotal: 133ms\tremaining: 862ms\n",
            "16:\tlearn: 0.9029345\ttotal: 145ms\tremaining: 878ms\n",
            "17:\tlearn: 0.9040632\ttotal: 152ms\tremaining: 861ms\n",
            "18:\tlearn: 0.9018059\ttotal: 155ms\tremaining: 824ms\n",
            "19:\tlearn: 0.9051919\ttotal: 163ms\tremaining: 817ms\n",
            "20:\tlearn: 0.9029345\ttotal: 177ms\tremaining: 835ms\n",
            "21:\tlearn: 0.9074492\ttotal: 186ms\tremaining: 828ms\n",
            "22:\tlearn: 0.9063205\ttotal: 191ms\tremaining: 805ms\n",
            "23:\tlearn: 0.9085779\ttotal: 196ms\tremaining: 786ms\n",
            "24:\tlearn: 0.9097065\ttotal: 208ms\tremaining: 789ms\n",
            "25:\tlearn: 0.9085779\ttotal: 214ms\tremaining: 773ms\n",
            "26:\tlearn: 0.9097065\ttotal: 220ms\tremaining: 759ms\n",
            "27:\tlearn: 0.9097065\ttotal: 227ms\tremaining: 747ms\n",
            "28:\tlearn: 0.9130926\ttotal: 234ms\tremaining: 734ms\n",
            "29:\tlearn: 0.9119639\ttotal: 238ms\tremaining: 714ms\n",
            "30:\tlearn: 0.9130926\ttotal: 245ms\tremaining: 704ms\n",
            "31:\tlearn: 0.9130926\ttotal: 252ms\tremaining: 693ms\n",
            "32:\tlearn: 0.9130926\ttotal: 261ms\tremaining: 687ms\n",
            "33:\tlearn: 0.9119639\ttotal: 267ms\tremaining: 676ms\n",
            "34:\tlearn: 0.9142212\ttotal: 273ms\tremaining: 664ms\n",
            "35:\tlearn: 0.9142212\ttotal: 291ms\tremaining: 678ms\n",
            "36:\tlearn: 0.9142212\ttotal: 306ms\tremaining: 685ms\n",
            "37:\tlearn: 0.9187359\ttotal: 315ms\tremaining: 679ms\n",
            "38:\tlearn: 0.9164786\ttotal: 325ms\tremaining: 674ms\n",
            "39:\tlearn: 0.9187359\ttotal: 344ms\tremaining: 688ms\n",
            "40:\tlearn: 0.9198646\ttotal: 353ms\tremaining: 681ms\n",
            "41:\tlearn: 0.9209932\ttotal: 368ms\tremaining: 684ms\n",
            "42:\tlearn: 0.9221219\ttotal: 376ms\tremaining: 672ms\n",
            "43:\tlearn: 0.9243792\ttotal: 387ms\tremaining: 668ms\n",
            "44:\tlearn: 0.9232506\ttotal: 407ms\tremaining: 678ms\n",
            "45:\tlearn: 0.9266366\ttotal: 423ms\tremaining: 680ms\n",
            "46:\tlearn: 0.9266366\ttotal: 430ms\tremaining: 667ms\n",
            "47:\tlearn: 0.9277652\ttotal: 437ms\tremaining: 656ms\n",
            "48:\tlearn: 0.9277652\ttotal: 441ms\tremaining: 640ms\n",
            "49:\tlearn: 0.9277652\ttotal: 452ms\tremaining: 633ms\n",
            "50:\tlearn: 0.9266366\ttotal: 464ms\tremaining: 627ms\n",
            "51:\tlearn: 0.9277652\ttotal: 477ms\tremaining: 624ms\n",
            "52:\tlearn: 0.9277652\ttotal: 485ms\tremaining: 613ms\n",
            "53:\tlearn: 0.9277652\ttotal: 496ms\tremaining: 606ms\n",
            "54:\tlearn: 0.9277652\ttotal: 506ms\tremaining: 598ms\n",
            "55:\tlearn: 0.9266366\ttotal: 515ms\tremaining: 589ms\n",
            "56:\tlearn: 0.9277652\ttotal: 525ms\tremaining: 580ms\n",
            "57:\tlearn: 0.9288939\ttotal: 543ms\tremaining: 580ms\n",
            "58:\tlearn: 0.9277652\ttotal: 555ms\tremaining: 573ms\n",
            "59:\tlearn: 0.9277652\ttotal: 561ms\tremaining: 561ms\n",
            "60:\tlearn: 0.9288939\ttotal: 570ms\tremaining: 551ms\n",
            "61:\tlearn: 0.9300226\ttotal: 583ms\tremaining: 546ms\n",
            "62:\tlearn: 0.9300226\ttotal: 588ms\tremaining: 532ms\n",
            "63:\tlearn: 0.9300226\ttotal: 594ms\tremaining: 520ms\n",
            "64:\tlearn: 0.9288939\ttotal: 607ms\tremaining: 513ms\n",
            "65:\tlearn: 0.9300226\ttotal: 620ms\tremaining: 507ms\n",
            "66:\tlearn: 0.9300226\ttotal: 626ms\tremaining: 495ms\n",
            "67:\tlearn: 0.9300226\ttotal: 631ms\tremaining: 482ms\n",
            "68:\tlearn: 0.9300226\ttotal: 641ms\tremaining: 474ms\n",
            "69:\tlearn: 0.9288939\ttotal: 646ms\tremaining: 461ms\n",
            "70:\tlearn: 0.9300226\ttotal: 655ms\tremaining: 452ms\n",
            "71:\tlearn: 0.9300226\ttotal: 667ms\tremaining: 445ms\n",
            "72:\tlearn: 0.9322799\ttotal: 672ms\tremaining: 432ms\n",
            "73:\tlearn: 0.9334086\ttotal: 684ms\tremaining: 425ms\n",
            "74:\tlearn: 0.9334086\ttotal: 688ms\tremaining: 413ms\n",
            "75:\tlearn: 0.9334086\ttotal: 693ms\tremaining: 401ms\n",
            "76:\tlearn: 0.9367946\ttotal: 700ms\tremaining: 391ms\n",
            "77:\tlearn: 0.9367946\ttotal: 707ms\tremaining: 381ms\n",
            "78:\tlearn: 0.9367946\ttotal: 714ms\tremaining: 371ms\n",
            "79:\tlearn: 0.9367946\ttotal: 723ms\tremaining: 362ms\n",
            "80:\tlearn: 0.9356659\ttotal: 732ms\tremaining: 352ms\n",
            "81:\tlearn: 0.9356659\ttotal: 739ms\tremaining: 343ms\n",
            "82:\tlearn: 0.9356659\ttotal: 758ms\tremaining: 338ms\n",
            "83:\tlearn: 0.9356659\ttotal: 766ms\tremaining: 328ms\n",
            "84:\tlearn: 0.9356659\ttotal: 772ms\tremaining: 318ms\n",
            "85:\tlearn: 0.9367946\ttotal: 779ms\tremaining: 308ms\n",
            "86:\tlearn: 0.9367946\ttotal: 784ms\tremaining: 297ms\n",
            "87:\tlearn: 0.9367946\ttotal: 789ms\tremaining: 287ms\n",
            "88:\tlearn: 0.9367946\ttotal: 793ms\tremaining: 276ms\n",
            "89:\tlearn: 0.9367946\ttotal: 801ms\tremaining: 267ms\n",
            "90:\tlearn: 0.9367946\ttotal: 806ms\tremaining: 257ms\n",
            "91:\tlearn: 0.9367946\ttotal: 810ms\tremaining: 247ms\n",
            "92:\tlearn: 0.9367946\ttotal: 816ms\tremaining: 237ms\n",
            "93:\tlearn: 0.9367946\ttotal: 822ms\tremaining: 227ms\n",
            "94:\tlearn: 0.9367946\ttotal: 828ms\tremaining: 218ms\n",
            "95:\tlearn: 0.9367946\ttotal: 832ms\tremaining: 208ms\n",
            "96:\tlearn: 0.9367946\ttotal: 840ms\tremaining: 199ms\n",
            "97:\tlearn: 0.9367946\ttotal: 851ms\tremaining: 191ms\n",
            "98:\tlearn: 0.9367946\ttotal: 857ms\tremaining: 182ms\n",
            "99:\tlearn: 0.9367946\ttotal: 862ms\tremaining: 172ms\n",
            "100:\tlearn: 0.9379233\ttotal: 867ms\tremaining: 163ms\n",
            "101:\tlearn: 0.9379233\ttotal: 876ms\tremaining: 155ms\n",
            "102:\tlearn: 0.9367946\ttotal: 887ms\tremaining: 146ms\n",
            "103:\tlearn: 0.9367946\ttotal: 892ms\tremaining: 137ms\n",
            "104:\tlearn: 0.9367946\ttotal: 898ms\tremaining: 128ms\n",
            "105:\tlearn: 0.9367946\ttotal: 909ms\tremaining: 120ms\n",
            "106:\tlearn: 0.9367946\ttotal: 918ms\tremaining: 112ms\n",
            "107:\tlearn: 0.9379233\ttotal: 923ms\tremaining: 103ms\n",
            "108:\tlearn: 0.9390519\ttotal: 939ms\tremaining: 94.8ms\n",
            "109:\tlearn: 0.9390519\ttotal: 945ms\tremaining: 85.9ms\n",
            "110:\tlearn: 0.9390519\ttotal: 955ms\tremaining: 77.4ms\n",
            "111:\tlearn: 0.9401806\ttotal: 961ms\tremaining: 68.6ms\n",
            "112:\tlearn: 0.9390519\ttotal: 967ms\tremaining: 59.9ms\n",
            "113:\tlearn: 0.9390519\ttotal: 974ms\tremaining: 51.3ms\n",
            "114:\tlearn: 0.9401806\ttotal: 979ms\tremaining: 42.6ms\n",
            "115:\tlearn: 0.9401806\ttotal: 993ms\tremaining: 34.2ms\n",
            "116:\tlearn: 0.9401806\ttotal: 998ms\tremaining: 25.6ms\n",
            "117:\tlearn: 0.9390519\ttotal: 1s\tremaining: 17ms\n",
            "118:\tlearn: 0.9390519\ttotal: 1.01s\tremaining: 8.51ms\n",
            "119:\tlearn: 0.9390519\ttotal: 1.02s\tremaining: 0us\n",
            "0:\tlearn: 0.8735892\ttotal: 3.07ms\tremaining: 365ms\n",
            "1:\tlearn: 0.8814898\ttotal: 15.3ms\tremaining: 905ms\n",
            "2:\tlearn: 0.8871332\ttotal: 19.2ms\tremaining: 750ms\n",
            "3:\tlearn: 0.8871332\ttotal: 22.9ms\tremaining: 663ms\n",
            "4:\tlearn: 0.8769752\ttotal: 24.3ms\tremaining: 559ms\n",
            "5:\tlearn: 0.8735892\ttotal: 25.4ms\tremaining: 482ms\n",
            "6:\tlearn: 0.8758465\ttotal: 26.1ms\tremaining: 421ms\n",
            "7:\tlearn: 0.8803612\ttotal: 34.5ms\tremaining: 483ms\n",
            "8:\tlearn: 0.8803612\ttotal: 37.6ms\tremaining: 464ms\n",
            "9:\tlearn: 0.8814898\ttotal: 46.2ms\tremaining: 508ms\n",
            "10:\tlearn: 0.8814898\ttotal: 49.9ms\tremaining: 494ms\n",
            "11:\tlearn: 0.8814898\ttotal: 56.8ms\tremaining: 511ms\n",
            "12:\tlearn: 0.8814898\ttotal: 66.8ms\tremaining: 550ms\n",
            "13:\tlearn: 0.8860045\ttotal: 73.8ms\tremaining: 558ms\n",
            "14:\tlearn: 0.8860045\ttotal: 77.3ms\tremaining: 541ms\n",
            "15:\tlearn: 0.8882619\ttotal: 86.8ms\tremaining: 564ms\n",
            "16:\tlearn: 0.8893905\ttotal: 102ms\tremaining: 615ms\n",
            "17:\tlearn: 0.8905192\ttotal: 110ms\tremaining: 621ms\n",
            "18:\tlearn: 0.8927765\ttotal: 116ms\tremaining: 618ms\n",
            "19:\tlearn: 0.8905192\ttotal: 122ms\tremaining: 612ms\n",
            "20:\tlearn: 0.8916479\ttotal: 129ms\tremaining: 608ms\n",
            "21:\tlearn: 0.8927765\ttotal: 136ms\tremaining: 605ms\n",
            "22:\tlearn: 0.8972912\ttotal: 143ms\tremaining: 603ms\n",
            "23:\tlearn: 0.8984199\ttotal: 151ms\tremaining: 603ms\n",
            "24:\tlearn: 0.8984199\ttotal: 156ms\tremaining: 593ms\n",
            "25:\tlearn: 0.9006772\ttotal: 159ms\tremaining: 575ms\n",
            "26:\tlearn: 0.9006772\ttotal: 164ms\tremaining: 566ms\n",
            "27:\tlearn: 0.9051919\ttotal: 168ms\tremaining: 551ms\n",
            "28:\tlearn: 0.9051919\ttotal: 178ms\tremaining: 560ms\n",
            "29:\tlearn: 0.9074492\ttotal: 183ms\tremaining: 550ms\n",
            "30:\tlearn: 0.9074492\ttotal: 192ms\tremaining: 551ms\n",
            "31:\tlearn: 0.9063205\ttotal: 201ms\tremaining: 553ms\n",
            "32:\tlearn: 0.9063205\ttotal: 205ms\tremaining: 541ms\n",
            "33:\tlearn: 0.9063205\ttotal: 214ms\tremaining: 542ms\n",
            "34:\tlearn: 0.9097065\ttotal: 221ms\tremaining: 536ms\n",
            "35:\tlearn: 0.9108352\ttotal: 239ms\tremaining: 559ms\n",
            "36:\tlearn: 0.9108352\ttotal: 245ms\tremaining: 550ms\n",
            "37:\tlearn: 0.9130926\ttotal: 253ms\tremaining: 546ms\n",
            "38:\tlearn: 0.9153499\ttotal: 263ms\tremaining: 546ms\n",
            "39:\tlearn: 0.9164786\ttotal: 277ms\tremaining: 553ms\n",
            "40:\tlearn: 0.9153499\ttotal: 287ms\tremaining: 554ms\n",
            "41:\tlearn: 0.9164786\ttotal: 297ms\tremaining: 552ms\n",
            "42:\tlearn: 0.9164786\ttotal: 315ms\tremaining: 563ms\n",
            "43:\tlearn: 0.9176072\ttotal: 322ms\tremaining: 556ms\n",
            "44:\tlearn: 0.9164786\ttotal: 330ms\tremaining: 549ms\n",
            "45:\tlearn: 0.9176072\ttotal: 339ms\tremaining: 545ms\n",
            "46:\tlearn: 0.9176072\ttotal: 349ms\tremaining: 543ms\n",
            "47:\tlearn: 0.9176072\ttotal: 358ms\tremaining: 537ms\n",
            "48:\tlearn: 0.9198646\ttotal: 372ms\tremaining: 539ms\n",
            "49:\tlearn: 0.9209932\ttotal: 378ms\tremaining: 530ms\n",
            "50:\tlearn: 0.9209932\ttotal: 388ms\tremaining: 525ms\n",
            "51:\tlearn: 0.9209932\ttotal: 397ms\tremaining: 519ms\n",
            "52:\tlearn: 0.9221219\ttotal: 414ms\tremaining: 524ms\n",
            "53:\tlearn: 0.9221219\ttotal: 423ms\tremaining: 517ms\n",
            "54:\tlearn: 0.9255079\ttotal: 431ms\tremaining: 509ms\n",
            "55:\tlearn: 0.9243792\ttotal: 445ms\tremaining: 509ms\n",
            "56:\tlearn: 0.9243792\ttotal: 454ms\tremaining: 501ms\n",
            "57:\tlearn: 0.9255079\ttotal: 465ms\tremaining: 497ms\n",
            "58:\tlearn: 0.9266366\ttotal: 473ms\tremaining: 489ms\n",
            "59:\tlearn: 0.9277652\ttotal: 484ms\tremaining: 484ms\n",
            "60:\tlearn: 0.9277652\ttotal: 491ms\tremaining: 475ms\n",
            "61:\tlearn: 0.9300226\ttotal: 505ms\tremaining: 472ms\n",
            "62:\tlearn: 0.9266366\ttotal: 508ms\tremaining: 460ms\n",
            "63:\tlearn: 0.9277652\ttotal: 514ms\tremaining: 450ms\n",
            "64:\tlearn: 0.9277652\ttotal: 527ms\tremaining: 446ms\n",
            "65:\tlearn: 0.9277652\ttotal: 541ms\tremaining: 442ms\n",
            "66:\tlearn: 0.9277652\ttotal: 548ms\tremaining: 433ms\n",
            "67:\tlearn: 0.9288939\ttotal: 558ms\tremaining: 427ms\n",
            "68:\tlearn: 0.9300226\ttotal: 570ms\tremaining: 421ms\n",
            "69:\tlearn: 0.9311512\ttotal: 582ms\tremaining: 416ms\n",
            "70:\tlearn: 0.9300226\ttotal: 587ms\tremaining: 405ms\n",
            "71:\tlearn: 0.9311512\ttotal: 597ms\tremaining: 398ms\n",
            "72:\tlearn: 0.9311512\ttotal: 609ms\tremaining: 392ms\n",
            "73:\tlearn: 0.9300226\ttotal: 614ms\tremaining: 382ms\n",
            "74:\tlearn: 0.9311512\ttotal: 621ms\tremaining: 373ms\n",
            "75:\tlearn: 0.9300226\ttotal: 635ms\tremaining: 368ms\n",
            "76:\tlearn: 0.9300226\ttotal: 643ms\tremaining: 359ms\n",
            "77:\tlearn: 0.9300226\ttotal: 648ms\tremaining: 349ms\n",
            "78:\tlearn: 0.9300226\ttotal: 659ms\tremaining: 342ms\n",
            "79:\tlearn: 0.9300226\ttotal: 665ms\tremaining: 333ms\n",
            "80:\tlearn: 0.9311512\ttotal: 671ms\tremaining: 323ms\n",
            "81:\tlearn: 0.9300226\ttotal: 678ms\tremaining: 314ms\n",
            "82:\tlearn: 0.9311512\ttotal: 682ms\tremaining: 304ms\n",
            "83:\tlearn: 0.9311512\ttotal: 689ms\tremaining: 295ms\n",
            "84:\tlearn: 0.9311512\ttotal: 697ms\tremaining: 287ms\n",
            "85:\tlearn: 0.9300226\ttotal: 702ms\tremaining: 277ms\n",
            "86:\tlearn: 0.9300226\ttotal: 708ms\tremaining: 269ms\n",
            "87:\tlearn: 0.9300226\ttotal: 713ms\tremaining: 259ms\n",
            "88:\tlearn: 0.9311512\ttotal: 716ms\tremaining: 249ms\n",
            "89:\tlearn: 0.9311512\ttotal: 725ms\tremaining: 242ms\n",
            "90:\tlearn: 0.9288939\ttotal: 737ms\tremaining: 235ms\n",
            "91:\tlearn: 0.9311512\ttotal: 742ms\tremaining: 226ms\n",
            "92:\tlearn: 0.9322799\ttotal: 749ms\tremaining: 217ms\n",
            "93:\tlearn: 0.9322799\ttotal: 756ms\tremaining: 209ms\n",
            "94:\tlearn: 0.9322799\ttotal: 760ms\tremaining: 200ms\n",
            "95:\tlearn: 0.9322799\ttotal: 762ms\tremaining: 190ms\n",
            "96:\tlearn: 0.9322799\ttotal: 764ms\tremaining: 181ms\n",
            "97:\tlearn: 0.9334086\ttotal: 774ms\tremaining: 174ms\n",
            "98:\tlearn: 0.9334086\ttotal: 786ms\tremaining: 167ms\n",
            "99:\tlearn: 0.9345372\ttotal: 797ms\tremaining: 159ms\n",
            "100:\tlearn: 0.9345372\ttotal: 810ms\tremaining: 152ms\n",
            "101:\tlearn: 0.9345372\ttotal: 817ms\tremaining: 144ms\n",
            "102:\tlearn: 0.9345372\ttotal: 830ms\tremaining: 137ms\n",
            "103:\tlearn: 0.9334086\ttotal: 836ms\tremaining: 129ms\n",
            "104:\tlearn: 0.9334086\ttotal: 840ms\tremaining: 120ms\n",
            "105:\tlearn: 0.9334086\ttotal: 849ms\tremaining: 112ms\n",
            "106:\tlearn: 0.9334086\ttotal: 858ms\tremaining: 104ms\n",
            "107:\tlearn: 0.9334086\ttotal: 869ms\tremaining: 96.6ms\n",
            "108:\tlearn: 0.9334086\ttotal: 875ms\tremaining: 88.3ms\n",
            "109:\tlearn: 0.9322799\ttotal: 880ms\tremaining: 80ms\n",
            "110:\tlearn: 0.9334086\ttotal: 887ms\tremaining: 71.9ms\n",
            "111:\tlearn: 0.9334086\ttotal: 893ms\tremaining: 63.8ms\n",
            "112:\tlearn: 0.9334086\ttotal: 899ms\tremaining: 55.7ms\n",
            "113:\tlearn: 0.9322799\ttotal: 905ms\tremaining: 47.6ms\n",
            "114:\tlearn: 0.9322799\ttotal: 909ms\tremaining: 39.5ms\n",
            "115:\tlearn: 0.9334086\ttotal: 913ms\tremaining: 31.5ms\n",
            "116:\tlearn: 0.9334086\ttotal: 919ms\tremaining: 23.6ms\n",
            "117:\tlearn: 0.9334086\ttotal: 924ms\tremaining: 15.7ms\n",
            "118:\tlearn: 0.9345372\ttotal: 930ms\tremaining: 7.82ms\n",
            "119:\tlearn: 0.9356659\ttotal: 940ms\tremaining: 0us\n",
            "0:\tlearn: 0.8634312\ttotal: 8.62ms\tremaining: 1.02s\n",
            "1:\tlearn: 0.8781038\ttotal: 17.5ms\tremaining: 1.03s\n",
            "2:\tlearn: 0.8837472\ttotal: 28ms\tremaining: 1.09s\n",
            "3:\tlearn: 0.8871332\ttotal: 35ms\tremaining: 1.01s\n",
            "4:\tlearn: 0.8781038\ttotal: 36.4ms\tremaining: 837ms\n",
            "5:\tlearn: 0.8826185\ttotal: 44.5ms\tremaining: 846ms\n",
            "6:\tlearn: 0.8905192\ttotal: 51.3ms\tremaining: 829ms\n",
            "7:\tlearn: 0.8893905\ttotal: 68.7ms\tremaining: 962ms\n",
            "8:\tlearn: 0.8961625\ttotal: 86.4ms\tremaining: 1.06s\n",
            "9:\tlearn: 0.8950339\ttotal: 94.7ms\tremaining: 1.04s\n",
            "10:\tlearn: 0.8939052\ttotal: 105ms\tremaining: 1.04s\n",
            "11:\tlearn: 0.8939052\ttotal: 115ms\tremaining: 1.03s\n",
            "12:\tlearn: 0.8950339\ttotal: 126ms\tremaining: 1.04s\n",
            "13:\tlearn: 0.8939052\ttotal: 131ms\tremaining: 994ms\n",
            "14:\tlearn: 0.8961625\ttotal: 145ms\tremaining: 1.01s\n",
            "15:\tlearn: 0.9018059\ttotal: 151ms\tremaining: 981ms\n",
            "16:\tlearn: 0.9051919\ttotal: 157ms\tremaining: 952ms\n",
            "17:\tlearn: 0.9029345\ttotal: 168ms\tremaining: 950ms\n",
            "18:\tlearn: 0.8995485\ttotal: 177ms\tremaining: 943ms\n",
            "19:\tlearn: 0.9029345\ttotal: 182ms\tremaining: 909ms\n",
            "20:\tlearn: 0.9040632\ttotal: 187ms\tremaining: 879ms\n",
            "21:\tlearn: 0.9018059\ttotal: 198ms\tremaining: 882ms\n",
            "22:\tlearn: 0.9051919\ttotal: 206ms\tremaining: 871ms\n",
            "23:\tlearn: 0.9074492\ttotal: 207ms\tremaining: 830ms\n",
            "24:\tlearn: 0.9063205\ttotal: 214ms\tremaining: 814ms\n",
            "25:\tlearn: 0.9119639\ttotal: 219ms\tremaining: 792ms\n",
            "26:\tlearn: 0.9108352\ttotal: 225ms\tremaining: 777ms\n",
            "27:\tlearn: 0.9119639\ttotal: 229ms\tremaining: 752ms\n",
            "28:\tlearn: 0.9097065\ttotal: 233ms\tremaining: 730ms\n",
            "29:\tlearn: 0.9130926\ttotal: 238ms\tremaining: 713ms\n",
            "30:\tlearn: 0.9142212\ttotal: 244ms\tremaining: 701ms\n",
            "31:\tlearn: 0.9142212\ttotal: 252ms\tremaining: 693ms\n",
            "32:\tlearn: 0.9164786\ttotal: 257ms\tremaining: 678ms\n",
            "33:\tlearn: 0.9176072\ttotal: 269ms\tremaining: 680ms\n",
            "34:\tlearn: 0.9187359\ttotal: 281ms\tremaining: 682ms\n",
            "35:\tlearn: 0.9187359\ttotal: 287ms\tremaining: 669ms\n",
            "36:\tlearn: 0.9198646\ttotal: 300ms\tremaining: 674ms\n",
            "37:\tlearn: 0.9198646\ttotal: 313ms\tremaining: 675ms\n",
            "38:\tlearn: 0.9198646\ttotal: 319ms\tremaining: 662ms\n",
            "39:\tlearn: 0.9221219\ttotal: 324ms\tremaining: 648ms\n",
            "40:\tlearn: 0.9221219\ttotal: 337ms\tremaining: 649ms\n",
            "41:\tlearn: 0.9232506\ttotal: 340ms\tremaining: 631ms\n",
            "42:\tlearn: 0.9221219\ttotal: 347ms\tremaining: 621ms\n",
            "43:\tlearn: 0.9221219\ttotal: 354ms\tremaining: 611ms\n",
            "44:\tlearn: 0.9221219\ttotal: 361ms\tremaining: 601ms\n",
            "45:\tlearn: 0.9232506\ttotal: 374ms\tremaining: 602ms\n",
            "46:\tlearn: 0.9255079\ttotal: 385ms\tremaining: 598ms\n",
            "47:\tlearn: 0.9232506\ttotal: 401ms\tremaining: 602ms\n",
            "48:\tlearn: 0.9243792\ttotal: 408ms\tremaining: 591ms\n",
            "49:\tlearn: 0.9243792\ttotal: 413ms\tremaining: 579ms\n",
            "50:\tlearn: 0.9243792\ttotal: 424ms\tremaining: 573ms\n",
            "51:\tlearn: 0.9266366\ttotal: 429ms\tremaining: 561ms\n",
            "52:\tlearn: 0.9277652\ttotal: 439ms\tremaining: 556ms\n",
            "53:\tlearn: 0.9288939\ttotal: 444ms\tremaining: 542ms\n",
            "54:\tlearn: 0.9288939\ttotal: 451ms\tremaining: 533ms\n",
            "55:\tlearn: 0.9288939\ttotal: 457ms\tremaining: 523ms\n",
            "56:\tlearn: 0.9288939\ttotal: 464ms\tremaining: 513ms\n",
            "57:\tlearn: 0.9288939\ttotal: 471ms\tremaining: 503ms\n",
            "58:\tlearn: 0.9277652\ttotal: 477ms\tremaining: 494ms\n",
            "59:\tlearn: 0.9288939\ttotal: 483ms\tremaining: 483ms\n",
            "60:\tlearn: 0.9288939\ttotal: 491ms\tremaining: 475ms\n",
            "61:\tlearn: 0.9300226\ttotal: 501ms\tremaining: 468ms\n",
            "62:\tlearn: 0.9300226\ttotal: 504ms\tremaining: 456ms\n",
            "63:\tlearn: 0.9300226\ttotal: 513ms\tremaining: 449ms\n",
            "64:\tlearn: 0.9311512\ttotal: 522ms\tremaining: 442ms\n",
            "65:\tlearn: 0.9322799\ttotal: 529ms\tremaining: 433ms\n",
            "66:\tlearn: 0.9334086\ttotal: 535ms\tremaining: 423ms\n",
            "67:\tlearn: 0.9322799\ttotal: 548ms\tremaining: 419ms\n",
            "68:\tlearn: 0.9322799\ttotal: 562ms\tremaining: 415ms\n",
            "69:\tlearn: 0.9334086\ttotal: 576ms\tremaining: 411ms\n",
            "70:\tlearn: 0.9322799\ttotal: 582ms\tremaining: 402ms\n",
            "71:\tlearn: 0.9334086\ttotal: 596ms\tremaining: 397ms\n",
            "72:\tlearn: 0.9322799\ttotal: 603ms\tremaining: 388ms\n",
            "73:\tlearn: 0.9345372\ttotal: 615ms\tremaining: 383ms\n",
            "74:\tlearn: 0.9356659\ttotal: 622ms\tremaining: 373ms\n",
            "75:\tlearn: 0.9345372\ttotal: 635ms\tremaining: 367ms\n",
            "76:\tlearn: 0.9356659\ttotal: 646ms\tremaining: 361ms\n",
            "77:\tlearn: 0.9367946\ttotal: 656ms\tremaining: 353ms\n",
            "78:\tlearn: 0.9356659\ttotal: 661ms\tremaining: 343ms\n",
            "79:\tlearn: 0.9345372\ttotal: 665ms\tremaining: 332ms\n",
            "80:\tlearn: 0.9379233\ttotal: 672ms\tremaining: 324ms\n",
            "81:\tlearn: 0.9367946\ttotal: 675ms\tremaining: 313ms\n",
            "82:\tlearn: 0.9367946\ttotal: 679ms\tremaining: 303ms\n",
            "83:\tlearn: 0.9390519\ttotal: 686ms\tremaining: 294ms\n",
            "84:\tlearn: 0.9390519\ttotal: 692ms\tremaining: 285ms\n",
            "85:\tlearn: 0.9379233\ttotal: 699ms\tremaining: 276ms\n",
            "86:\tlearn: 0.9379233\ttotal: 703ms\tremaining: 267ms\n",
            "87:\tlearn: 0.9379233\ttotal: 711ms\tremaining: 259ms\n",
            "88:\tlearn: 0.9379233\ttotal: 715ms\tremaining: 249ms\n",
            "89:\tlearn: 0.9379233\ttotal: 720ms\tremaining: 240ms\n",
            "90:\tlearn: 0.9379233\ttotal: 731ms\tremaining: 233ms\n",
            "91:\tlearn: 0.9379233\ttotal: 738ms\tremaining: 225ms\n",
            "92:\tlearn: 0.9379233\ttotal: 747ms\tremaining: 217ms\n",
            "93:\tlearn: 0.9379233\ttotal: 761ms\tremaining: 210ms\n",
            "94:\tlearn: 0.9390519\ttotal: 766ms\tremaining: 202ms\n",
            "95:\tlearn: 0.9401806\ttotal: 777ms\tremaining: 194ms\n",
            "96:\tlearn: 0.9401806\ttotal: 786ms\tremaining: 186ms\n",
            "97:\tlearn: 0.9413093\ttotal: 792ms\tremaining: 178ms\n",
            "98:\tlearn: 0.9424379\ttotal: 802ms\tremaining: 170ms\n",
            "99:\tlearn: 0.9424379\ttotal: 813ms\tremaining: 163ms\n",
            "100:\tlearn: 0.9424379\ttotal: 820ms\tremaining: 154ms\n",
            "101:\tlearn: 0.9424379\ttotal: 830ms\tremaining: 146ms\n",
            "102:\tlearn: 0.9413093\ttotal: 839ms\tremaining: 139ms\n",
            "103:\tlearn: 0.9413093\ttotal: 843ms\tremaining: 130ms\n",
            "104:\tlearn: 0.9413093\ttotal: 845ms\tremaining: 121ms\n",
            "105:\tlearn: 0.9413093\ttotal: 851ms\tremaining: 112ms\n",
            "106:\tlearn: 0.9413093\ttotal: 860ms\tremaining: 105ms\n",
            "107:\tlearn: 0.9413093\ttotal: 866ms\tremaining: 96.2ms\n",
            "108:\tlearn: 0.9413093\ttotal: 873ms\tremaining: 88.1ms\n",
            "109:\tlearn: 0.9413093\ttotal: 879ms\tremaining: 79.9ms\n",
            "110:\tlearn: 0.9424379\ttotal: 892ms\tremaining: 72.3ms\n",
            "111:\tlearn: 0.9424379\ttotal: 898ms\tremaining: 64.2ms\n",
            "112:\tlearn: 0.9435666\ttotal: 907ms\tremaining: 56.2ms\n",
            "113:\tlearn: 0.9435666\ttotal: 915ms\tremaining: 48.2ms\n",
            "114:\tlearn: 0.9435666\ttotal: 934ms\tremaining: 40.6ms\n",
            "115:\tlearn: 0.9435666\ttotal: 942ms\tremaining: 32.5ms\n",
            "116:\tlearn: 0.9435666\ttotal: 950ms\tremaining: 24.4ms\n",
            "117:\tlearn: 0.9435666\ttotal: 964ms\tremaining: 16.3ms\n",
            "118:\tlearn: 0.9435666\ttotal: 978ms\tremaining: 8.22ms\n",
            "119:\tlearn: 0.9435666\ttotal: 987ms\tremaining: 0us\n",
            "0:\tlearn: 0.8713318\ttotal: 4.41ms\tremaining: 524ms\n",
            "1:\tlearn: 0.8781038\ttotal: 12.9ms\tremaining: 764ms\n",
            "2:\tlearn: 0.8950339\ttotal: 23.3ms\tremaining: 909ms\n",
            "3:\tlearn: 0.8995485\ttotal: 31.2ms\tremaining: 905ms\n",
            "4:\tlearn: 0.8848758\ttotal: 33.2ms\tremaining: 763ms\n",
            "5:\tlearn: 0.8826185\ttotal: 41.8ms\tremaining: 794ms\n",
            "6:\tlearn: 0.8803612\ttotal: 43.7ms\tremaining: 705ms\n",
            "7:\tlearn: 0.8792325\ttotal: 56.7ms\tremaining: 794ms\n",
            "8:\tlearn: 0.8826185\ttotal: 64.5ms\tremaining: 796ms\n",
            "9:\tlearn: 0.8826185\ttotal: 71.5ms\tremaining: 787ms\n",
            "10:\tlearn: 0.8871332\ttotal: 82.2ms\tremaining: 815ms\n",
            "11:\tlearn: 0.8837472\ttotal: 95.6ms\tremaining: 861ms\n",
            "12:\tlearn: 0.8871332\ttotal: 108ms\tremaining: 892ms\n",
            "13:\tlearn: 0.8860045\ttotal: 113ms\tremaining: 853ms\n",
            "14:\tlearn: 0.8848758\ttotal: 117ms\tremaining: 819ms\n",
            "15:\tlearn: 0.8860045\ttotal: 125ms\tremaining: 810ms\n",
            "16:\tlearn: 0.8837472\ttotal: 131ms\tremaining: 793ms\n",
            "17:\tlearn: 0.8871332\ttotal: 137ms\tremaining: 777ms\n",
            "18:\tlearn: 0.8893905\ttotal: 145ms\tremaining: 769ms\n",
            "19:\tlearn: 0.8905192\ttotal: 151ms\tremaining: 754ms\n",
            "20:\tlearn: 0.8916479\ttotal: 157ms\tremaining: 740ms\n",
            "21:\tlearn: 0.8961625\ttotal: 168ms\tremaining: 748ms\n",
            "22:\tlearn: 0.8961625\ttotal: 173ms\tremaining: 730ms\n",
            "23:\tlearn: 0.9018059\ttotal: 183ms\tremaining: 733ms\n",
            "24:\tlearn: 0.9029345\ttotal: 189ms\tremaining: 719ms\n",
            "25:\tlearn: 0.9040632\ttotal: 193ms\tremaining: 698ms\n",
            "26:\tlearn: 0.9051919\ttotal: 196ms\tremaining: 674ms\n",
            "27:\tlearn: 0.9074492\ttotal: 201ms\tremaining: 659ms\n",
            "28:\tlearn: 0.9108352\ttotal: 208ms\tremaining: 653ms\n",
            "29:\tlearn: 0.9108352\ttotal: 211ms\tremaining: 633ms\n",
            "30:\tlearn: 0.9108352\ttotal: 221ms\tremaining: 633ms\n",
            "31:\tlearn: 0.9108352\ttotal: 225ms\tremaining: 618ms\n",
            "32:\tlearn: 0.9108352\ttotal: 230ms\tremaining: 606ms\n",
            "33:\tlearn: 0.9097065\ttotal: 234ms\tremaining: 591ms\n",
            "34:\tlearn: 0.9130926\ttotal: 237ms\tremaining: 576ms\n",
            "35:\tlearn: 0.9130926\ttotal: 240ms\tremaining: 560ms\n",
            "36:\tlearn: 0.9164786\ttotal: 243ms\tremaining: 545ms\n",
            "37:\tlearn: 0.9164786\ttotal: 247ms\tremaining: 532ms\n",
            "38:\tlearn: 0.9164786\ttotal: 250ms\tremaining: 518ms\n",
            "39:\tlearn: 0.9176072\ttotal: 252ms\tremaining: 505ms\n",
            "40:\tlearn: 0.9187359\ttotal: 255ms\tremaining: 492ms\n",
            "41:\tlearn: 0.9187359\ttotal: 258ms\tremaining: 479ms\n",
            "42:\tlearn: 0.9198646\ttotal: 261ms\tremaining: 467ms\n",
            "43:\tlearn: 0.9198646\ttotal: 264ms\tremaining: 456ms\n",
            "44:\tlearn: 0.9209932\ttotal: 267ms\tremaining: 444ms\n",
            "45:\tlearn: 0.9232506\ttotal: 273ms\tremaining: 440ms\n",
            "46:\tlearn: 0.9232506\ttotal: 276ms\tremaining: 428ms\n",
            "47:\tlearn: 0.9232506\ttotal: 279ms\tremaining: 418ms\n",
            "48:\tlearn: 0.9232506\ttotal: 282ms\tremaining: 408ms\n",
            "49:\tlearn: 0.9243792\ttotal: 285ms\tremaining: 398ms\n",
            "50:\tlearn: 0.9243792\ttotal: 288ms\tremaining: 390ms\n",
            "51:\tlearn: 0.9243792\ttotal: 294ms\tremaining: 384ms\n",
            "52:\tlearn: 0.9243792\ttotal: 299ms\tremaining: 377ms\n",
            "53:\tlearn: 0.9243792\ttotal: 302ms\tremaining: 369ms\n",
            "54:\tlearn: 0.9243792\ttotal: 305ms\tremaining: 360ms\n",
            "55:\tlearn: 0.9255079\ttotal: 308ms\tremaining: 352ms\n",
            "56:\tlearn: 0.9232506\ttotal: 312ms\tremaining: 345ms\n",
            "57:\tlearn: 0.9232506\ttotal: 318ms\tremaining: 340ms\n",
            "58:\tlearn: 0.9209932\ttotal: 325ms\tremaining: 336ms\n",
            "59:\tlearn: 0.9243792\ttotal: 332ms\tremaining: 332ms\n",
            "60:\tlearn: 0.9255079\ttotal: 338ms\tremaining: 327ms\n",
            "61:\tlearn: 0.9255079\ttotal: 344ms\tremaining: 322ms\n",
            "62:\tlearn: 0.9266366\ttotal: 348ms\tremaining: 315ms\n",
            "63:\tlearn: 0.9266366\ttotal: 352ms\tremaining: 308ms\n",
            "64:\tlearn: 0.9277652\ttotal: 360ms\tremaining: 304ms\n",
            "65:\tlearn: 0.9277652\ttotal: 365ms\tremaining: 298ms\n",
            "66:\tlearn: 0.9277652\ttotal: 377ms\tremaining: 298ms\n",
            "67:\tlearn: 0.9288939\ttotal: 385ms\tremaining: 294ms\n",
            "68:\tlearn: 0.9277652\ttotal: 396ms\tremaining: 293ms\n",
            "69:\tlearn: 0.9300226\ttotal: 410ms\tremaining: 293ms\n",
            "70:\tlearn: 0.9300226\ttotal: 417ms\tremaining: 288ms\n",
            "71:\tlearn: 0.9311512\ttotal: 423ms\tremaining: 282ms\n",
            "72:\tlearn: 0.9300226\ttotal: 433ms\tremaining: 279ms\n",
            "73:\tlearn: 0.9311512\ttotal: 441ms\tremaining: 274ms\n",
            "74:\tlearn: 0.9322799\ttotal: 448ms\tremaining: 269ms\n",
            "75:\tlearn: 0.9311512\ttotal: 464ms\tremaining: 269ms\n",
            "76:\tlearn: 0.9311512\ttotal: 477ms\tremaining: 266ms\n",
            "77:\tlearn: 0.9311512\ttotal: 495ms\tremaining: 266ms\n",
            "78:\tlearn: 0.9311512\ttotal: 504ms\tremaining: 262ms\n",
            "79:\tlearn: 0.9311512\ttotal: 522ms\tremaining: 261ms\n",
            "80:\tlearn: 0.9311512\ttotal: 528ms\tremaining: 254ms\n",
            "81:\tlearn: 0.9311512\ttotal: 543ms\tremaining: 252ms\n",
            "82:\tlearn: 0.9311512\ttotal: 545ms\tremaining: 243ms\n",
            "83:\tlearn: 0.9311512\ttotal: 569ms\tremaining: 244ms\n",
            "84:\tlearn: 0.9322799\ttotal: 580ms\tremaining: 239ms\n",
            "85:\tlearn: 0.9334086\ttotal: 583ms\tremaining: 230ms\n",
            "86:\tlearn: 0.9334086\ttotal: 593ms\tremaining: 225ms\n",
            "87:\tlearn: 0.9334086\ttotal: 599ms\tremaining: 218ms\n",
            "88:\tlearn: 0.9345372\ttotal: 607ms\tremaining: 212ms\n",
            "89:\tlearn: 0.9334086\ttotal: 616ms\tremaining: 205ms\n",
            "90:\tlearn: 0.9334086\ttotal: 619ms\tremaining: 197ms\n",
            "91:\tlearn: 0.9334086\ttotal: 629ms\tremaining: 191ms\n",
            "92:\tlearn: 0.9334086\ttotal: 634ms\tremaining: 184ms\n",
            "93:\tlearn: 0.9322799\ttotal: 641ms\tremaining: 177ms\n",
            "94:\tlearn: 0.9334086\ttotal: 646ms\tremaining: 170ms\n",
            "95:\tlearn: 0.9334086\ttotal: 651ms\tremaining: 163ms\n",
            "96:\tlearn: 0.9334086\ttotal: 664ms\tremaining: 157ms\n",
            "97:\tlearn: 0.9345372\ttotal: 666ms\tremaining: 150ms\n",
            "98:\tlearn: 0.9345372\ttotal: 674ms\tremaining: 143ms\n",
            "99:\tlearn: 0.9345372\ttotal: 676ms\tremaining: 135ms\n",
            "100:\tlearn: 0.9345372\ttotal: 685ms\tremaining: 129ms\n",
            "101:\tlearn: 0.9345372\ttotal: 690ms\tremaining: 122ms\n",
            "102:\tlearn: 0.9345372\ttotal: 696ms\tremaining: 115ms\n",
            "103:\tlearn: 0.9345372\ttotal: 707ms\tremaining: 109ms\n",
            "104:\tlearn: 0.9345372\ttotal: 720ms\tremaining: 103ms\n",
            "105:\tlearn: 0.9356659\ttotal: 735ms\tremaining: 97.1ms\n",
            "106:\tlearn: 0.9345372\ttotal: 741ms\tremaining: 90ms\n",
            "107:\tlearn: 0.9356659\ttotal: 749ms\tremaining: 83.2ms\n",
            "108:\tlearn: 0.9356659\ttotal: 757ms\tremaining: 76.4ms\n",
            "109:\tlearn: 0.9356659\ttotal: 768ms\tremaining: 69.9ms\n",
            "110:\tlearn: 0.9379233\ttotal: 780ms\tremaining: 63.3ms\n",
            "111:\tlearn: 0.9367946\ttotal: 796ms\tremaining: 56.8ms\n",
            "112:\tlearn: 0.9390519\ttotal: 804ms\tremaining: 49.8ms\n",
            "113:\tlearn: 0.9401806\ttotal: 812ms\tremaining: 42.7ms\n",
            "114:\tlearn: 0.9401806\ttotal: 825ms\tremaining: 35.9ms\n",
            "115:\tlearn: 0.9401806\ttotal: 836ms\tremaining: 28.8ms\n",
            "116:\tlearn: 0.9401806\ttotal: 842ms\tremaining: 21.6ms\n",
            "117:\tlearn: 0.9401806\ttotal: 853ms\tremaining: 14.4ms\n",
            "118:\tlearn: 0.9401806\ttotal: 875ms\tremaining: 7.35ms\n",
            "119:\tlearn: 0.9401806\ttotal: 882ms\tremaining: 0us\n",
            "0:\tlearn: 0.8690745\ttotal: 4.37ms\tremaining: 521ms\n",
            "1:\tlearn: 0.8803612\ttotal: 12.1ms\tremaining: 711ms\n",
            "2:\tlearn: 0.8927765\ttotal: 23.1ms\tremaining: 903ms\n",
            "3:\tlearn: 0.8916479\ttotal: 31.5ms\tremaining: 915ms\n",
            "4:\tlearn: 0.8724605\ttotal: 33.2ms\tremaining: 764ms\n",
            "5:\tlearn: 0.8803612\ttotal: 35.2ms\tremaining: 668ms\n",
            "6:\tlearn: 0.8758465\ttotal: 43.9ms\tremaining: 709ms\n",
            "7:\tlearn: 0.8814898\ttotal: 48.8ms\tremaining: 683ms\n",
            "8:\tlearn: 0.8814898\ttotal: 62.3ms\tremaining: 768ms\n",
            "9:\tlearn: 0.8837472\ttotal: 67.2ms\tremaining: 739ms\n",
            "10:\tlearn: 0.8826185\ttotal: 73.5ms\tremaining: 729ms\n",
            "11:\tlearn: 0.8860045\ttotal: 82.7ms\tremaining: 744ms\n",
            "12:\tlearn: 0.8848758\ttotal: 90.5ms\tremaining: 745ms\n",
            "13:\tlearn: 0.8814898\ttotal: 94ms\tremaining: 712ms\n",
            "14:\tlearn: 0.8837472\ttotal: 101ms\tremaining: 710ms\n",
            "15:\tlearn: 0.8848758\ttotal: 108ms\tremaining: 700ms\n",
            "16:\tlearn: 0.8848758\ttotal: 111ms\tremaining: 672ms\n",
            "17:\tlearn: 0.8826185\ttotal: 116ms\tremaining: 659ms\n",
            "18:\tlearn: 0.8871332\ttotal: 126ms\tremaining: 670ms\n",
            "19:\tlearn: 0.8916479\ttotal: 131ms\tremaining: 657ms\n",
            "20:\tlearn: 0.8927765\ttotal: 137ms\tremaining: 645ms\n",
            "21:\tlearn: 0.8939052\ttotal: 144ms\tremaining: 641ms\n",
            "22:\tlearn: 0.8961625\ttotal: 156ms\tremaining: 658ms\n",
            "23:\tlearn: 0.8984199\ttotal: 163ms\tremaining: 651ms\n",
            "24:\tlearn: 0.8995485\ttotal: 179ms\tremaining: 679ms\n",
            "25:\tlearn: 0.9040632\ttotal: 186ms\tremaining: 672ms\n",
            "26:\tlearn: 0.9040632\ttotal: 200ms\tremaining: 690ms\n",
            "27:\tlearn: 0.9063205\ttotal: 208ms\tremaining: 682ms\n",
            "28:\tlearn: 0.9051919\ttotal: 219ms\tremaining: 686ms\n",
            "29:\tlearn: 0.9051919\ttotal: 225ms\tremaining: 674ms\n",
            "30:\tlearn: 0.9074492\ttotal: 238ms\tremaining: 684ms\n",
            "31:\tlearn: 0.9074492\ttotal: 245ms\tremaining: 674ms\n",
            "32:\tlearn: 0.9108352\ttotal: 251ms\tremaining: 662ms\n",
            "33:\tlearn: 0.9097065\ttotal: 258ms\tremaining: 653ms\n",
            "34:\tlearn: 0.9097065\ttotal: 265ms\tremaining: 644ms\n",
            "35:\tlearn: 0.9142212\ttotal: 271ms\tremaining: 633ms\n",
            "36:\tlearn: 0.9142212\ttotal: 278ms\tremaining: 623ms\n",
            "37:\tlearn: 0.9164786\ttotal: 288ms\tremaining: 622ms\n",
            "38:\tlearn: 0.9176072\ttotal: 296ms\tremaining: 614ms\n",
            "39:\tlearn: 0.9187359\ttotal: 304ms\tremaining: 608ms\n",
            "40:\tlearn: 0.9176072\ttotal: 313ms\tremaining: 602ms\n",
            "41:\tlearn: 0.9187359\ttotal: 317ms\tremaining: 589ms\n",
            "42:\tlearn: 0.9209932\ttotal: 325ms\tremaining: 582ms\n",
            "43:\tlearn: 0.9221219\ttotal: 331ms\tremaining: 572ms\n",
            "44:\tlearn: 0.9232506\ttotal: 339ms\tremaining: 565ms\n",
            "45:\tlearn: 0.9243792\ttotal: 342ms\tremaining: 551ms\n",
            "46:\tlearn: 0.9266366\ttotal: 350ms\tremaining: 544ms\n",
            "47:\tlearn: 0.9255079\ttotal: 356ms\tremaining: 535ms\n",
            "48:\tlearn: 0.9255079\ttotal: 365ms\tremaining: 529ms\n",
            "49:\tlearn: 0.9277652\ttotal: 371ms\tremaining: 519ms\n",
            "50:\tlearn: 0.9266366\ttotal: 378ms\tremaining: 511ms\n",
            "51:\tlearn: 0.9277652\ttotal: 383ms\tremaining: 501ms\n",
            "52:\tlearn: 0.9266366\ttotal: 402ms\tremaining: 509ms\n",
            "53:\tlearn: 0.9266366\ttotal: 411ms\tremaining: 503ms\n",
            "54:\tlearn: 0.9266366\ttotal: 424ms\tremaining: 501ms\n",
            "55:\tlearn: 0.9266366\ttotal: 436ms\tremaining: 498ms\n",
            "56:\tlearn: 0.9277652\ttotal: 443ms\tremaining: 489ms\n",
            "57:\tlearn: 0.9288939\ttotal: 452ms\tremaining: 483ms\n",
            "58:\tlearn: 0.9277652\ttotal: 458ms\tremaining: 474ms\n",
            "59:\tlearn: 0.9311512\ttotal: 465ms\tremaining: 465ms\n",
            "60:\tlearn: 0.9300226\ttotal: 475ms\tremaining: 460ms\n",
            "61:\tlearn: 0.9322799\ttotal: 485ms\tremaining: 453ms\n",
            "62:\tlearn: 0.9322799\ttotal: 505ms\tremaining: 457ms\n",
            "63:\tlearn: 0.9322799\ttotal: 508ms\tremaining: 444ms\n",
            "64:\tlearn: 0.9322799\ttotal: 527ms\tremaining: 446ms\n",
            "65:\tlearn: 0.9322799\ttotal: 533ms\tremaining: 436ms\n",
            "66:\tlearn: 0.9334086\ttotal: 545ms\tremaining: 431ms\n",
            "67:\tlearn: 0.9345372\ttotal: 552ms\tremaining: 422ms\n",
            "68:\tlearn: 0.9334086\ttotal: 556ms\tremaining: 411ms\n",
            "69:\tlearn: 0.9334086\ttotal: 560ms\tremaining: 400ms\n",
            "70:\tlearn: 0.9334086\ttotal: 573ms\tremaining: 395ms\n",
            "71:\tlearn: 0.9356659\ttotal: 579ms\tremaining: 386ms\n",
            "72:\tlearn: 0.9356659\ttotal: 593ms\tremaining: 382ms\n",
            "73:\tlearn: 0.9356659\ttotal: 603ms\tremaining: 375ms\n",
            "74:\tlearn: 0.9356659\ttotal: 609ms\tremaining: 366ms\n",
            "75:\tlearn: 0.9367946\ttotal: 616ms\tremaining: 356ms\n",
            "76:\tlearn: 0.9356659\ttotal: 630ms\tremaining: 352ms\n",
            "77:\tlearn: 0.9356659\ttotal: 637ms\tremaining: 343ms\n",
            "78:\tlearn: 0.9356659\ttotal: 651ms\tremaining: 338ms\n",
            "79:\tlearn: 0.9356659\ttotal: 658ms\tremaining: 329ms\n",
            "80:\tlearn: 0.9356659\ttotal: 666ms\tremaining: 321ms\n",
            "81:\tlearn: 0.9356659\ttotal: 677ms\tremaining: 314ms\n",
            "82:\tlearn: 0.9367946\ttotal: 682ms\tremaining: 304ms\n",
            "83:\tlearn: 0.9356659\ttotal: 697ms\tremaining: 299ms\n",
            "84:\tlearn: 0.9356659\ttotal: 702ms\tremaining: 289ms\n",
            "85:\tlearn: 0.9356659\ttotal: 717ms\tremaining: 283ms\n",
            "86:\tlearn: 0.9356659\ttotal: 728ms\tremaining: 276ms\n",
            "87:\tlearn: 0.9367946\ttotal: 736ms\tremaining: 268ms\n",
            "88:\tlearn: 0.9367946\ttotal: 752ms\tremaining: 262ms\n",
            "89:\tlearn: 0.9367946\ttotal: 764ms\tremaining: 255ms\n",
            "90:\tlearn: 0.9367946\ttotal: 775ms\tremaining: 247ms\n",
            "91:\tlearn: 0.9367946\ttotal: 788ms\tremaining: 240ms\n",
            "92:\tlearn: 0.9367946\ttotal: 791ms\tremaining: 230ms\n",
            "93:\tlearn: 0.9367946\ttotal: 794ms\tremaining: 220ms\n",
            "94:\tlearn: 0.9367946\ttotal: 801ms\tremaining: 211ms\n",
            "95:\tlearn: 0.9367946\ttotal: 812ms\tremaining: 203ms\n",
            "96:\tlearn: 0.9379233\ttotal: 820ms\tremaining: 194ms\n",
            "97:\tlearn: 0.9379233\ttotal: 823ms\tremaining: 185ms\n",
            "98:\tlearn: 0.9379233\ttotal: 827ms\tremaining: 175ms\n",
            "99:\tlearn: 0.9379233\ttotal: 828ms\tremaining: 166ms\n",
            "100:\tlearn: 0.9379233\ttotal: 834ms\tremaining: 157ms\n",
            "101:\tlearn: 0.9379233\ttotal: 837ms\tremaining: 148ms\n",
            "102:\tlearn: 0.9379233\ttotal: 841ms\tremaining: 139ms\n",
            "103:\tlearn: 0.9379233\ttotal: 843ms\tremaining: 130ms\n",
            "104:\tlearn: 0.9379233\ttotal: 845ms\tremaining: 121ms\n",
            "105:\tlearn: 0.9379233\ttotal: 848ms\tremaining: 112ms\n",
            "106:\tlearn: 0.9390519\ttotal: 850ms\tremaining: 103ms\n",
            "107:\tlearn: 0.9390519\ttotal: 852ms\tremaining: 94.6ms\n",
            "108:\tlearn: 0.9390519\ttotal: 854ms\tremaining: 86.2ms\n",
            "109:\tlearn: 0.9367946\ttotal: 863ms\tremaining: 78.4ms\n",
            "110:\tlearn: 0.9367946\ttotal: 867ms\tremaining: 70.3ms\n",
            "111:\tlearn: 0.9379233\ttotal: 869ms\tremaining: 62.1ms\n",
            "112:\tlearn: 0.9379233\ttotal: 872ms\tremaining: 54ms\n",
            "113:\tlearn: 0.9379233\ttotal: 874ms\tremaining: 46ms\n",
            "114:\tlearn: 0.9390519\ttotal: 877ms\tremaining: 38.1ms\n",
            "115:\tlearn: 0.9390519\ttotal: 879ms\tremaining: 30.3ms\n",
            "116:\tlearn: 0.9367946\ttotal: 883ms\tremaining: 22.6ms\n",
            "117:\tlearn: 0.9367946\ttotal: 885ms\tremaining: 15ms\n",
            "118:\tlearn: 0.9367946\ttotal: 887ms\tremaining: 7.46ms\n",
            "119:\tlearn: 0.9379233\ttotal: 893ms\tremaining: 0us\n",
            "0:\tlearn: 0.8724605\ttotal: 7.21ms\tremaining: 858ms\n",
            "1:\tlearn: 0.8792325\ttotal: 9.57ms\tremaining: 564ms\n",
            "2:\tlearn: 0.8893905\ttotal: 11.8ms\tremaining: 462ms\n",
            "3:\tlearn: 0.8871332\ttotal: 14.5ms\tremaining: 422ms\n",
            "4:\tlearn: 0.8690745\ttotal: 15.1ms\tremaining: 347ms\n",
            "5:\tlearn: 0.8826185\ttotal: 17.4ms\tremaining: 330ms\n",
            "6:\tlearn: 0.8871332\ttotal: 20.9ms\tremaining: 338ms\n",
            "7:\tlearn: 0.8860045\ttotal: 23.5ms\tremaining: 329ms\n",
            "8:\tlearn: 0.8939052\ttotal: 25.8ms\tremaining: 318ms\n",
            "9:\tlearn: 0.8984199\ttotal: 28.6ms\tremaining: 315ms\n",
            "10:\tlearn: 0.8984199\ttotal: 31.7ms\tremaining: 314ms\n",
            "11:\tlearn: 0.8995485\ttotal: 34ms\tremaining: 306ms\n",
            "12:\tlearn: 0.8984199\ttotal: 37ms\tremaining: 305ms\n",
            "13:\tlearn: 0.8939052\ttotal: 39.2ms\tremaining: 297ms\n",
            "14:\tlearn: 0.8950339\ttotal: 41.5ms\tremaining: 291ms\n",
            "15:\tlearn: 0.8984199\ttotal: 45.3ms\tremaining: 294ms\n",
            "16:\tlearn: 0.8995485\ttotal: 47.6ms\tremaining: 288ms\n",
            "17:\tlearn: 0.9018059\ttotal: 49.9ms\tremaining: 283ms\n",
            "18:\tlearn: 0.8939052\ttotal: 50.5ms\tremaining: 268ms\n",
            "19:\tlearn: 0.8950339\ttotal: 52.7ms\tremaining: 264ms\n",
            "20:\tlearn: 0.8984199\ttotal: 55.6ms\tremaining: 262ms\n",
            "21:\tlearn: 0.8995485\ttotal: 58.5ms\tremaining: 261ms\n",
            "22:\tlearn: 0.9006772\ttotal: 60.8ms\tremaining: 256ms\n",
            "23:\tlearn: 0.9051919\ttotal: 63.7ms\tremaining: 255ms\n",
            "24:\tlearn: 0.9074492\ttotal: 66ms\tremaining: 251ms\n",
            "25:\tlearn: 0.9142212\ttotal: 69.4ms\tremaining: 251ms\n",
            "26:\tlearn: 0.9051919\ttotal: 69.9ms\tremaining: 241ms\n",
            "27:\tlearn: 0.9074492\ttotal: 72.2ms\tremaining: 237ms\n",
            "28:\tlearn: 0.9085779\ttotal: 74.6ms\tremaining: 234ms\n",
            "29:\tlearn: 0.9108352\ttotal: 78.7ms\tremaining: 236ms\n",
            "30:\tlearn: 0.9153499\ttotal: 82.4ms\tremaining: 237ms\n",
            "31:\tlearn: 0.9164786\ttotal: 86.3ms\tremaining: 237ms\n",
            "32:\tlearn: 0.9187359\ttotal: 88.9ms\tremaining: 234ms\n",
            "33:\tlearn: 0.9198646\ttotal: 91.4ms\tremaining: 231ms\n",
            "34:\tlearn: 0.9209932\ttotal: 96.9ms\tremaining: 235ms\n",
            "35:\tlearn: 0.9198646\ttotal: 99.2ms\tremaining: 231ms\n",
            "36:\tlearn: 0.9221219\ttotal: 102ms\tremaining: 228ms\n",
            "37:\tlearn: 0.9232506\ttotal: 105ms\tremaining: 226ms\n",
            "38:\tlearn: 0.9232506\ttotal: 108ms\tremaining: 224ms\n",
            "39:\tlearn: 0.9243792\ttotal: 110ms\tremaining: 221ms\n",
            "40:\tlearn: 0.9243792\ttotal: 113ms\tremaining: 217ms\n",
            "41:\tlearn: 0.9243792\ttotal: 115ms\tremaining: 214ms\n",
            "42:\tlearn: 0.9243792\ttotal: 118ms\tremaining: 211ms\n",
            "43:\tlearn: 0.9255079\ttotal: 121ms\tremaining: 209ms\n",
            "44:\tlearn: 0.9266366\ttotal: 128ms\tremaining: 214ms\n",
            "45:\tlearn: 0.9255079\ttotal: 132ms\tremaining: 213ms\n",
            "46:\tlearn: 0.9255079\ttotal: 136ms\tremaining: 212ms\n",
            "47:\tlearn: 0.9255079\ttotal: 139ms\tremaining: 208ms\n",
            "48:\tlearn: 0.9255079\ttotal: 141ms\tremaining: 204ms\n",
            "49:\tlearn: 0.9255079\ttotal: 143ms\tremaining: 201ms\n",
            "50:\tlearn: 0.9255079\ttotal: 147ms\tremaining: 199ms\n",
            "51:\tlearn: 0.9255079\ttotal: 149ms\tremaining: 195ms\n",
            "52:\tlearn: 0.9277652\ttotal: 152ms\tremaining: 192ms\n",
            "53:\tlearn: 0.9266366\ttotal: 154ms\tremaining: 189ms\n",
            "54:\tlearn: 0.9277652\ttotal: 157ms\tremaining: 186ms\n",
            "55:\tlearn: 0.9266366\ttotal: 160ms\tremaining: 183ms\n",
            "56:\tlearn: 0.9266366\ttotal: 163ms\tremaining: 180ms\n",
            "57:\tlearn: 0.9266366\ttotal: 166ms\tremaining: 178ms\n",
            "58:\tlearn: 0.9266366\ttotal: 168ms\tremaining: 174ms\n",
            "59:\tlearn: 0.9277652\ttotal: 171ms\tremaining: 171ms\n",
            "60:\tlearn: 0.9288939\ttotal: 173ms\tremaining: 168ms\n",
            "61:\tlearn: 0.9300226\ttotal: 176ms\tremaining: 164ms\n",
            "62:\tlearn: 0.9288939\ttotal: 176ms\tremaining: 160ms\n",
            "63:\tlearn: 0.9300226\ttotal: 179ms\tremaining: 157ms\n",
            "64:\tlearn: 0.9311512\ttotal: 182ms\tremaining: 154ms\n",
            "65:\tlearn: 0.9300226\ttotal: 185ms\tremaining: 151ms\n",
            "66:\tlearn: 0.9311512\ttotal: 197ms\tremaining: 156ms\n",
            "67:\tlearn: 0.9322799\ttotal: 200ms\tremaining: 153ms\n",
            "68:\tlearn: 0.9311512\ttotal: 203ms\tremaining: 150ms\n",
            "69:\tlearn: 0.9322799\ttotal: 212ms\tremaining: 152ms\n",
            "70:\tlearn: 0.9311512\ttotal: 215ms\tremaining: 148ms\n",
            "71:\tlearn: 0.9300226\ttotal: 217ms\tremaining: 145ms\n",
            "72:\tlearn: 0.9300226\ttotal: 220ms\tremaining: 142ms\n",
            "73:\tlearn: 0.9311512\ttotal: 223ms\tremaining: 139ms\n",
            "74:\tlearn: 0.9311512\ttotal: 225ms\tremaining: 135ms\n",
            "75:\tlearn: 0.9334086\ttotal: 227ms\tremaining: 132ms\n",
            "76:\tlearn: 0.9345372\ttotal: 230ms\tremaining: 128ms\n",
            "77:\tlearn: 0.9322799\ttotal: 232ms\tremaining: 125ms\n",
            "78:\tlearn: 0.9322799\ttotal: 235ms\tremaining: 122ms\n",
            "79:\tlearn: 0.9322799\ttotal: 238ms\tremaining: 119ms\n",
            "80:\tlearn: 0.9322799\ttotal: 244ms\tremaining: 117ms\n",
            "81:\tlearn: 0.9334086\ttotal: 247ms\tremaining: 115ms\n",
            "82:\tlearn: 0.9334086\ttotal: 250ms\tremaining: 111ms\n",
            "83:\tlearn: 0.9334086\ttotal: 251ms\tremaining: 107ms\n",
            "84:\tlearn: 0.9334086\ttotal: 254ms\tremaining: 104ms\n",
            "85:\tlearn: 0.9356659\ttotal: 256ms\tremaining: 101ms\n",
            "86:\tlearn: 0.9356659\ttotal: 260ms\tremaining: 98.6ms\n",
            "87:\tlearn: 0.9367946\ttotal: 262ms\tremaining: 95.4ms\n",
            "88:\tlearn: 0.9367946\ttotal: 265ms\tremaining: 92.2ms\n",
            "89:\tlearn: 0.9356659\ttotal: 266ms\tremaining: 88.7ms\n",
            "90:\tlearn: 0.9356659\ttotal: 267ms\tremaining: 85.2ms\n",
            "91:\tlearn: 0.9356659\ttotal: 268ms\tremaining: 81.6ms\n",
            "92:\tlearn: 0.9356659\ttotal: 271ms\tremaining: 78.6ms\n",
            "93:\tlearn: 0.9356659\ttotal: 273ms\tremaining: 75.6ms\n",
            "94:\tlearn: 0.9379233\ttotal: 277ms\tremaining: 72.8ms\n",
            "95:\tlearn: 0.9379233\ttotal: 278ms\tremaining: 69.6ms\n",
            "96:\tlearn: 0.9379233\ttotal: 281ms\tremaining: 66.5ms\n",
            "97:\tlearn: 0.9379233\ttotal: 282ms\tremaining: 63.3ms\n",
            "98:\tlearn: 0.9379233\ttotal: 284ms\tremaining: 60.3ms\n",
            "99:\tlearn: 0.9379233\ttotal: 286ms\tremaining: 57.3ms\n",
            "100:\tlearn: 0.9379233\ttotal: 288ms\tremaining: 54.1ms\n",
            "101:\tlearn: 0.9379233\ttotal: 291ms\tremaining: 51.3ms\n",
            "102:\tlearn: 0.9379233\ttotal: 293ms\tremaining: 48.4ms\n",
            "103:\tlearn: 0.9379233\ttotal: 295ms\tremaining: 45.4ms\n",
            "104:\tlearn: 0.9379233\ttotal: 298ms\tremaining: 42.5ms\n",
            "105:\tlearn: 0.9390519\ttotal: 300ms\tremaining: 39.6ms\n",
            "106:\tlearn: 0.9390519\ttotal: 311ms\tremaining: 37.8ms\n",
            "107:\tlearn: 0.9390519\ttotal: 312ms\tremaining: 34.7ms\n",
            "108:\tlearn: 0.9390519\ttotal: 315ms\tremaining: 31.8ms\n",
            "109:\tlearn: 0.9390519\ttotal: 316ms\tremaining: 28.7ms\n",
            "110:\tlearn: 0.9390519\ttotal: 318ms\tremaining: 25.8ms\n",
            "111:\tlearn: 0.9401806\ttotal: 327ms\tremaining: 23.3ms\n",
            "112:\tlearn: 0.9401806\ttotal: 329ms\tremaining: 20.4ms\n",
            "113:\tlearn: 0.9401806\ttotal: 330ms\tremaining: 17.4ms\n",
            "114:\tlearn: 0.9401806\ttotal: 331ms\tremaining: 14.4ms\n",
            "115:\tlearn: 0.9401806\ttotal: 332ms\tremaining: 11.5ms\n",
            "116:\tlearn: 0.9401806\ttotal: 335ms\tremaining: 8.58ms\n",
            "117:\tlearn: 0.9401806\ttotal: 338ms\tremaining: 5.72ms\n",
            "118:\tlearn: 0.9401806\ttotal: 341ms\tremaining: 2.86ms\n",
            "119:\tlearn: 0.9401806\ttotal: 341ms\tremaining: 0us\n",
            "0:\tlearn: 0.8826185\ttotal: 9.21ms\tremaining: 1.09s\n",
            "1:\tlearn: 0.8871332\ttotal: 11.7ms\tremaining: 690ms\n",
            "2:\tlearn: 0.8882619\ttotal: 17ms\tremaining: 664ms\n",
            "3:\tlearn: 0.8950339\ttotal: 19.8ms\tremaining: 573ms\n",
            "4:\tlearn: 0.8893905\ttotal: 23.8ms\tremaining: 548ms\n",
            "5:\tlearn: 0.8848758\ttotal: 25ms\tremaining: 475ms\n",
            "6:\tlearn: 0.8803612\ttotal: 25.5ms\tremaining: 412ms\n",
            "7:\tlearn: 0.8882619\ttotal: 28ms\tremaining: 392ms\n",
            "8:\tlearn: 0.8826185\ttotal: 31.6ms\tremaining: 390ms\n",
            "9:\tlearn: 0.8781038\ttotal: 32ms\tremaining: 352ms\n",
            "10:\tlearn: 0.8814898\ttotal: 34.9ms\tremaining: 346ms\n",
            "11:\tlearn: 0.8837472\ttotal: 37.4ms\tremaining: 336ms\n",
            "12:\tlearn: 0.8860045\ttotal: 39.8ms\tremaining: 328ms\n",
            "13:\tlearn: 0.8905192\ttotal: 42.8ms\tremaining: 324ms\n",
            "14:\tlearn: 0.8972912\ttotal: 45.9ms\tremaining: 321ms\n",
            "15:\tlearn: 0.8972912\ttotal: 49.2ms\tremaining: 319ms\n",
            "16:\tlearn: 0.8972912\ttotal: 51.6ms\tremaining: 313ms\n",
            "17:\tlearn: 0.8995485\ttotal: 54.1ms\tremaining: 307ms\n",
            "18:\tlearn: 0.9029345\ttotal: 57ms\tremaining: 303ms\n",
            "19:\tlearn: 0.9029345\ttotal: 59.2ms\tremaining: 296ms\n",
            "20:\tlearn: 0.9040632\ttotal: 61.5ms\tremaining: 290ms\n",
            "21:\tlearn: 0.9051919\ttotal: 63.7ms\tremaining: 284ms\n",
            "22:\tlearn: 0.9051919\ttotal: 66.2ms\tremaining: 279ms\n",
            "23:\tlearn: 0.9074492\ttotal: 69ms\tremaining: 276ms\n",
            "24:\tlearn: 0.9063205\ttotal: 71.3ms\tremaining: 271ms\n",
            "25:\tlearn: 0.9085779\ttotal: 74.1ms\tremaining: 268ms\n",
            "26:\tlearn: 0.9051919\ttotal: 74.8ms\tremaining: 258ms\n",
            "27:\tlearn: 0.9063205\ttotal: 77.8ms\tremaining: 256ms\n",
            "28:\tlearn: 0.9085779\ttotal: 80.1ms\tremaining: 251ms\n",
            "29:\tlearn: 0.9074492\ttotal: 82.5ms\tremaining: 247ms\n",
            "30:\tlearn: 0.9063205\ttotal: 85ms\tremaining: 244ms\n",
            "31:\tlearn: 0.9108352\ttotal: 94.3ms\tremaining: 259ms\n",
            "32:\tlearn: 0.9108352\ttotal: 102ms\tremaining: 270ms\n",
            "33:\tlearn: 0.9153499\ttotal: 107ms\tremaining: 271ms\n",
            "34:\tlearn: 0.9176072\ttotal: 110ms\tremaining: 266ms\n",
            "35:\tlearn: 0.9164786\ttotal: 112ms\tremaining: 262ms\n",
            "36:\tlearn: 0.9187359\ttotal: 118ms\tremaining: 265ms\n",
            "37:\tlearn: 0.9198646\ttotal: 121ms\tremaining: 260ms\n",
            "38:\tlearn: 0.9221219\ttotal: 124ms\tremaining: 257ms\n",
            "39:\tlearn: 0.9198646\ttotal: 127ms\tremaining: 254ms\n",
            "40:\tlearn: 0.9221219\ttotal: 131ms\tremaining: 253ms\n",
            "41:\tlearn: 0.9221219\ttotal: 135ms\tremaining: 251ms\n",
            "42:\tlearn: 0.9221219\ttotal: 138ms\tremaining: 247ms\n",
            "43:\tlearn: 0.9232506\ttotal: 140ms\tremaining: 242ms\n",
            "44:\tlearn: 0.9221219\ttotal: 141ms\tremaining: 235ms\n",
            "45:\tlearn: 0.9221219\ttotal: 143ms\tremaining: 231ms\n",
            "46:\tlearn: 0.9221219\ttotal: 146ms\tremaining: 227ms\n",
            "47:\tlearn: 0.9221219\ttotal: 150ms\tremaining: 224ms\n",
            "48:\tlearn: 0.9232506\ttotal: 152ms\tremaining: 220ms\n",
            "49:\tlearn: 0.9232506\ttotal: 155ms\tremaining: 216ms\n",
            "50:\tlearn: 0.9232506\ttotal: 157ms\tremaining: 212ms\n",
            "51:\tlearn: 0.9255079\ttotal: 160ms\tremaining: 209ms\n",
            "52:\tlearn: 0.9232506\ttotal: 163ms\tremaining: 206ms\n",
            "53:\tlearn: 0.9243792\ttotal: 166ms\tremaining: 202ms\n",
            "54:\tlearn: 0.9255079\ttotal: 168ms\tremaining: 199ms\n",
            "55:\tlearn: 0.9255079\ttotal: 170ms\tremaining: 195ms\n",
            "56:\tlearn: 0.9255079\ttotal: 174ms\tremaining: 192ms\n",
            "57:\tlearn: 0.9255079\ttotal: 176ms\tremaining: 189ms\n",
            "58:\tlearn: 0.9243792\ttotal: 179ms\tremaining: 185ms\n",
            "59:\tlearn: 0.9255079\ttotal: 181ms\tremaining: 181ms\n",
            "60:\tlearn: 0.9266366\ttotal: 184ms\tremaining: 178ms\n",
            "61:\tlearn: 0.9255079\ttotal: 187ms\tremaining: 175ms\n",
            "62:\tlearn: 0.9277652\ttotal: 190ms\tremaining: 172ms\n",
            "63:\tlearn: 0.9300226\ttotal: 192ms\tremaining: 168ms\n",
            "64:\tlearn: 0.9322799\ttotal: 194ms\tremaining: 164ms\n",
            "65:\tlearn: 0.9345372\ttotal: 197ms\tremaining: 162ms\n",
            "66:\tlearn: 0.9334086\ttotal: 201ms\tremaining: 159ms\n",
            "67:\tlearn: 0.9334086\ttotal: 217ms\tremaining: 166ms\n",
            "68:\tlearn: 0.9356659\ttotal: 227ms\tremaining: 168ms\n",
            "69:\tlearn: 0.9356659\ttotal: 236ms\tremaining: 168ms\n",
            "70:\tlearn: 0.9356659\ttotal: 242ms\tremaining: 167ms\n",
            "71:\tlearn: 0.9367946\ttotal: 248ms\tremaining: 166ms\n",
            "72:\tlearn: 0.9367946\ttotal: 255ms\tremaining: 164ms\n",
            "73:\tlearn: 0.9367946\ttotal: 263ms\tremaining: 163ms\n",
            "74:\tlearn: 0.9379233\ttotal: 278ms\tremaining: 167ms\n",
            "75:\tlearn: 0.9367946\ttotal: 284ms\tremaining: 164ms\n",
            "76:\tlearn: 0.9367946\ttotal: 292ms\tremaining: 163ms\n",
            "77:\tlearn: 0.9367946\ttotal: 309ms\tremaining: 167ms\n",
            "78:\tlearn: 0.9367946\ttotal: 315ms\tremaining: 164ms\n",
            "79:\tlearn: 0.9379233\ttotal: 322ms\tremaining: 161ms\n",
            "80:\tlearn: 0.9379233\ttotal: 329ms\tremaining: 158ms\n",
            "81:\tlearn: 0.9379233\ttotal: 336ms\tremaining: 156ms\n",
            "82:\tlearn: 0.9390519\ttotal: 340ms\tremaining: 152ms\n",
            "83:\tlearn: 0.9390519\ttotal: 359ms\tremaining: 154ms\n",
            "84:\tlearn: 0.9390519\ttotal: 367ms\tremaining: 151ms\n",
            "85:\tlearn: 0.9390519\ttotal: 373ms\tremaining: 147ms\n",
            "86:\tlearn: 0.9401806\ttotal: 379ms\tremaining: 144ms\n",
            "87:\tlearn: 0.9401806\ttotal: 386ms\tremaining: 140ms\n",
            "88:\tlearn: 0.9401806\ttotal: 392ms\tremaining: 137ms\n",
            "89:\tlearn: 0.9401806\ttotal: 399ms\tremaining: 133ms\n",
            "90:\tlearn: 0.9413093\ttotal: 406ms\tremaining: 129ms\n",
            "91:\tlearn: 0.9413093\ttotal: 413ms\tremaining: 126ms\n",
            "92:\tlearn: 0.9413093\ttotal: 415ms\tremaining: 121ms\n",
            "93:\tlearn: 0.9413093\ttotal: 420ms\tremaining: 116ms\n",
            "94:\tlearn: 0.9413093\ttotal: 427ms\tremaining: 112ms\n",
            "95:\tlearn: 0.9413093\ttotal: 435ms\tremaining: 109ms\n",
            "96:\tlearn: 0.9413093\ttotal: 440ms\tremaining: 104ms\n",
            "97:\tlearn: 0.9413093\ttotal: 447ms\tremaining: 100ms\n",
            "98:\tlearn: 0.9413093\ttotal: 454ms\tremaining: 96.2ms\n",
            "99:\tlearn: 0.9413093\ttotal: 469ms\tremaining: 93.8ms\n",
            "100:\tlearn: 0.9413093\ttotal: 475ms\tremaining: 89.4ms\n",
            "101:\tlearn: 0.9413093\ttotal: 478ms\tremaining: 84.3ms\n",
            "102:\tlearn: 0.9435666\ttotal: 484ms\tremaining: 79.8ms\n",
            "103:\tlearn: 0.9435666\ttotal: 503ms\tremaining: 77.3ms\n",
            "104:\tlearn: 0.9424379\ttotal: 508ms\tremaining: 72.5ms\n",
            "105:\tlearn: 0.9435666\ttotal: 516ms\tremaining: 68.2ms\n",
            "106:\tlearn: 0.9435666\ttotal: 521ms\tremaining: 63.3ms\n",
            "107:\tlearn: 0.9446953\ttotal: 529ms\tremaining: 58.7ms\n",
            "108:\tlearn: 0.9446953\ttotal: 535ms\tremaining: 54ms\n",
            "109:\tlearn: 0.9446953\ttotal: 537ms\tremaining: 48.9ms\n",
            "110:\tlearn: 0.9458239\ttotal: 540ms\tremaining: 43.8ms\n",
            "111:\tlearn: 0.9446953\ttotal: 543ms\tremaining: 38.8ms\n",
            "112:\tlearn: 0.9446953\ttotal: 545ms\tremaining: 33.8ms\n",
            "113:\tlearn: 0.9446953\ttotal: 547ms\tremaining: 28.8ms\n",
            "114:\tlearn: 0.9446953\ttotal: 551ms\tremaining: 23.9ms\n",
            "115:\tlearn: 0.9458239\ttotal: 554ms\tremaining: 19.1ms\n",
            "116:\tlearn: 0.9446953\ttotal: 556ms\tremaining: 14.3ms\n",
            "117:\tlearn: 0.9446953\ttotal: 558ms\tremaining: 9.46ms\n",
            "118:\tlearn: 0.9435666\ttotal: 561ms\tremaining: 4.71ms\n",
            "119:\tlearn: 0.9435666\ttotal: 564ms\tremaining: 0us\n",
            "0:\tlearn: 0.8724605\ttotal: 2.37ms\tremaining: 281ms\n",
            "1:\tlearn: 0.8803612\ttotal: 4.74ms\tremaining: 280ms\n",
            "2:\tlearn: 0.8916479\ttotal: 7.03ms\tremaining: 274ms\n",
            "3:\tlearn: 0.8905192\ttotal: 10.6ms\tremaining: 307ms\n",
            "4:\tlearn: 0.8792325\ttotal: 11.4ms\tremaining: 263ms\n",
            "5:\tlearn: 0.8893905\ttotal: 17.8ms\tremaining: 339ms\n",
            "6:\tlearn: 0.8950339\ttotal: 25.4ms\tremaining: 410ms\n",
            "7:\tlearn: 0.9063205\ttotal: 28.5ms\tremaining: 399ms\n",
            "8:\tlearn: 0.8995485\ttotal: 31.6ms\tremaining: 389ms\n",
            "9:\tlearn: 0.9029345\ttotal: 41.5ms\tremaining: 456ms\n",
            "10:\tlearn: 0.9051919\ttotal: 51.5ms\tremaining: 510ms\n",
            "11:\tlearn: 0.9040632\ttotal: 53.8ms\tremaining: 485ms\n",
            "12:\tlearn: 0.9051919\ttotal: 56.1ms\tremaining: 462ms\n",
            "13:\tlearn: 0.9085779\ttotal: 59.3ms\tremaining: 449ms\n",
            "14:\tlearn: 0.9097065\ttotal: 61.9ms\tremaining: 433ms\n",
            "15:\tlearn: 0.9018059\ttotal: 64.8ms\tremaining: 421ms\n",
            "16:\tlearn: 0.9063205\ttotal: 67.8ms\tremaining: 411ms\n",
            "17:\tlearn: 0.9085779\ttotal: 70.3ms\tremaining: 398ms\n",
            "18:\tlearn: 0.9051919\ttotal: 70.8ms\tremaining: 376ms\n",
            "19:\tlearn: 0.9040632\ttotal: 73.1ms\tremaining: 365ms\n",
            "20:\tlearn: 0.9097065\ttotal: 75.3ms\tremaining: 355ms\n",
            "21:\tlearn: 0.9074492\ttotal: 75.8ms\tremaining: 337ms\n",
            "22:\tlearn: 0.9063205\ttotal: 79ms\tremaining: 333ms\n",
            "23:\tlearn: 0.9074492\ttotal: 81.3ms\tremaining: 325ms\n",
            "24:\tlearn: 0.9074492\ttotal: 84.7ms\tremaining: 322ms\n",
            "25:\tlearn: 0.9074492\ttotal: 86.9ms\tremaining: 314ms\n",
            "26:\tlearn: 0.9074492\ttotal: 89.4ms\tremaining: 308ms\n",
            "27:\tlearn: 0.9119639\ttotal: 91.8ms\tremaining: 302ms\n",
            "28:\tlearn: 0.9119639\ttotal: 94.5ms\tremaining: 297ms\n",
            "29:\tlearn: 0.9153499\ttotal: 97.5ms\tremaining: 293ms\n",
            "30:\tlearn: 0.9164786\ttotal: 99.8ms\tremaining: 287ms\n",
            "31:\tlearn: 0.9176072\ttotal: 102ms\tremaining: 281ms\n",
            "32:\tlearn: 0.9187359\ttotal: 104ms\tremaining: 275ms\n",
            "33:\tlearn: 0.9209932\ttotal: 107ms\tremaining: 271ms\n",
            "34:\tlearn: 0.9209932\ttotal: 110ms\tremaining: 267ms\n",
            "35:\tlearn: 0.9221219\ttotal: 112ms\tremaining: 262ms\n",
            "36:\tlearn: 0.9243792\ttotal: 114ms\tremaining: 257ms\n",
            "37:\tlearn: 0.9221219\ttotal: 115ms\tremaining: 248ms\n",
            "38:\tlearn: 0.9209932\ttotal: 117ms\tremaining: 244ms\n",
            "39:\tlearn: 0.9221219\ttotal: 120ms\tremaining: 239ms\n",
            "40:\tlearn: 0.9221219\ttotal: 123ms\tremaining: 237ms\n",
            "41:\tlearn: 0.9232506\ttotal: 126ms\tremaining: 234ms\n",
            "42:\tlearn: 0.9221219\ttotal: 128ms\tremaining: 230ms\n",
            "43:\tlearn: 0.9232506\ttotal: 131ms\tremaining: 226ms\n",
            "44:\tlearn: 0.9243792\ttotal: 134ms\tremaining: 223ms\n",
            "45:\tlearn: 0.9266366\ttotal: 136ms\tremaining: 219ms\n",
            "46:\tlearn: 0.9277652\ttotal: 140ms\tremaining: 217ms\n",
            "47:\tlearn: 0.9277652\ttotal: 142ms\tremaining: 213ms\n",
            "48:\tlearn: 0.9277652\ttotal: 144ms\tremaining: 209ms\n",
            "49:\tlearn: 0.9288939\ttotal: 147ms\tremaining: 205ms\n",
            "50:\tlearn: 0.9288939\ttotal: 149ms\tremaining: 202ms\n",
            "51:\tlearn: 0.9288939\ttotal: 152ms\tremaining: 199ms\n",
            "52:\tlearn: 0.9300226\ttotal: 155ms\tremaining: 196ms\n",
            "53:\tlearn: 0.9300226\ttotal: 157ms\tremaining: 192ms\n",
            "54:\tlearn: 0.9300226\ttotal: 159ms\tremaining: 188ms\n",
            "55:\tlearn: 0.9311512\ttotal: 163ms\tremaining: 186ms\n",
            "56:\tlearn: 0.9322799\ttotal: 163ms\tremaining: 181ms\n",
            "57:\tlearn: 0.9322799\ttotal: 166ms\tremaining: 177ms\n",
            "58:\tlearn: 0.9322799\ttotal: 168ms\tremaining: 174ms\n",
            "59:\tlearn: 0.9322799\ttotal: 170ms\tremaining: 170ms\n",
            "60:\tlearn: 0.9311512\ttotal: 173ms\tremaining: 168ms\n",
            "61:\tlearn: 0.9311512\ttotal: 177ms\tremaining: 165ms\n",
            "62:\tlearn: 0.9322799\ttotal: 179ms\tremaining: 162ms\n",
            "63:\tlearn: 0.9311512\ttotal: 181ms\tremaining: 159ms\n",
            "64:\tlearn: 0.9311512\ttotal: 183ms\tremaining: 155ms\n",
            "65:\tlearn: 0.9345372\ttotal: 186ms\tremaining: 152ms\n",
            "66:\tlearn: 0.9334086\ttotal: 197ms\tremaining: 156ms\n",
            "67:\tlearn: 0.9334086\ttotal: 200ms\tremaining: 153ms\n",
            "68:\tlearn: 0.9334086\ttotal: 202ms\tremaining: 149ms\n",
            "69:\tlearn: 0.9345372\ttotal: 205ms\tremaining: 146ms\n",
            "70:\tlearn: 0.9356659\ttotal: 207ms\tremaining: 143ms\n",
            "71:\tlearn: 0.9356659\ttotal: 213ms\tremaining: 142ms\n",
            "72:\tlearn: 0.9356659\ttotal: 218ms\tremaining: 140ms\n",
            "73:\tlearn: 0.9367946\ttotal: 220ms\tremaining: 137ms\n",
            "74:\tlearn: 0.9367946\ttotal: 222ms\tremaining: 133ms\n",
            "75:\tlearn: 0.9367946\ttotal: 225ms\tremaining: 130ms\n",
            "76:\tlearn: 0.9367946\ttotal: 228ms\tremaining: 127ms\n",
            "77:\tlearn: 0.9379233\ttotal: 230ms\tremaining: 124ms\n",
            "78:\tlearn: 0.9379233\ttotal: 233ms\tremaining: 121ms\n",
            "79:\tlearn: 0.9379233\ttotal: 235ms\tremaining: 118ms\n",
            "80:\tlearn: 0.9379233\ttotal: 239ms\tremaining: 115ms\n",
            "81:\tlearn: 0.9379233\ttotal: 241ms\tremaining: 112ms\n",
            "82:\tlearn: 0.9379233\ttotal: 243ms\tremaining: 108ms\n",
            "83:\tlearn: 0.9390519\ttotal: 246ms\tremaining: 105ms\n",
            "84:\tlearn: 0.9390519\ttotal: 246ms\tremaining: 101ms\n",
            "85:\tlearn: 0.9379233\ttotal: 249ms\tremaining: 98.5ms\n",
            "86:\tlearn: 0.9379233\ttotal: 252ms\tremaining: 95.5ms\n",
            "87:\tlearn: 0.9379233\ttotal: 254ms\tremaining: 92.4ms\n",
            "88:\tlearn: 0.9379233\ttotal: 257ms\tremaining: 89.7ms\n",
            "89:\tlearn: 0.9413093\ttotal: 260ms\tremaining: 86.6ms\n",
            "90:\tlearn: 0.9424379\ttotal: 266ms\tremaining: 84.9ms\n",
            "91:\tlearn: 0.9424379\ttotal: 272ms\tremaining: 82.8ms\n",
            "92:\tlearn: 0.9424379\ttotal: 274ms\tremaining: 79.7ms\n",
            "93:\tlearn: 0.9424379\ttotal: 278ms\tremaining: 76.8ms\n",
            "94:\tlearn: 0.9413093\ttotal: 280ms\tremaining: 73.6ms\n",
            "95:\tlearn: 0.9424379\ttotal: 282ms\tremaining: 70.5ms\n",
            "96:\tlearn: 0.9424379\ttotal: 285ms\tremaining: 67.5ms\n",
            "97:\tlearn: 0.9424379\ttotal: 287ms\tremaining: 64.4ms\n",
            "98:\tlearn: 0.9424379\ttotal: 289ms\tremaining: 61.4ms\n",
            "99:\tlearn: 0.9424379\ttotal: 293ms\tremaining: 58.5ms\n",
            "100:\tlearn: 0.9413093\ttotal: 295ms\tremaining: 55.5ms\n",
            "101:\tlearn: 0.9435666\ttotal: 297ms\tremaining: 52.5ms\n",
            "102:\tlearn: 0.9424379\ttotal: 300ms\tremaining: 49.5ms\n",
            "103:\tlearn: 0.9435666\ttotal: 302ms\tremaining: 46.5ms\n",
            "104:\tlearn: 0.9435666\ttotal: 306ms\tremaining: 43.7ms\n",
            "105:\tlearn: 0.9435666\ttotal: 314ms\tremaining: 41.4ms\n",
            "106:\tlearn: 0.9435666\ttotal: 318ms\tremaining: 38.7ms\n",
            "107:\tlearn: 0.9435666\ttotal: 325ms\tremaining: 36.2ms\n",
            "108:\tlearn: 0.9435666\ttotal: 328ms\tremaining: 33.1ms\n",
            "109:\tlearn: 0.9435666\ttotal: 334ms\tremaining: 30.4ms\n",
            "110:\tlearn: 0.9435666\ttotal: 342ms\tremaining: 27.7ms\n",
            "111:\tlearn: 0.9435666\ttotal: 348ms\tremaining: 24.8ms\n",
            "112:\tlearn: 0.9435666\ttotal: 354ms\tremaining: 21.9ms\n",
            "113:\tlearn: 0.9435666\ttotal: 360ms\tremaining: 18.9ms\n",
            "114:\tlearn: 0.9435666\ttotal: 373ms\tremaining: 16.2ms\n",
            "115:\tlearn: 0.9435666\ttotal: 380ms\tremaining: 13.1ms\n",
            "116:\tlearn: 0.9446953\ttotal: 386ms\tremaining: 9.9ms\n",
            "117:\tlearn: 0.9446953\ttotal: 393ms\tremaining: 6.67ms\n",
            "118:\tlearn: 0.9446953\ttotal: 400ms\tremaining: 3.36ms\n",
            "119:\tlearn: 0.9446953\ttotal: 408ms\tremaining: 0us\n",
            "0:\tlearn: 0.8803612\ttotal: 4.49ms\tremaining: 535ms\n",
            "1:\tlearn: 0.8871332\ttotal: 8.31ms\tremaining: 490ms\n",
            "2:\tlearn: 0.8860045\ttotal: 11.2ms\tremaining: 437ms\n",
            "3:\tlearn: 0.8860045\ttotal: 13.7ms\tremaining: 396ms\n",
            "4:\tlearn: 0.8769752\ttotal: 14.2ms\tremaining: 327ms\n",
            "5:\tlearn: 0.8803612\ttotal: 16.8ms\tremaining: 319ms\n",
            "6:\tlearn: 0.8781038\ttotal: 19.1ms\tremaining: 309ms\n",
            "7:\tlearn: 0.8803612\ttotal: 22ms\tremaining: 308ms\n",
            "8:\tlearn: 0.8848758\ttotal: 25.1ms\tremaining: 309ms\n",
            "9:\tlearn: 0.8871332\ttotal: 27.3ms\tremaining: 301ms\n",
            "10:\tlearn: 0.8882619\ttotal: 29.8ms\tremaining: 295ms\n",
            "11:\tlearn: 0.8882619\ttotal: 32.6ms\tremaining: 293ms\n",
            "12:\tlearn: 0.8961625\ttotal: 35ms\tremaining: 288ms\n",
            "13:\tlearn: 0.8927765\ttotal: 38.5ms\tremaining: 292ms\n",
            "14:\tlearn: 0.8961625\ttotal: 41ms\tremaining: 287ms\n",
            "15:\tlearn: 0.9018059\ttotal: 43.6ms\tremaining: 283ms\n",
            "16:\tlearn: 0.9040632\ttotal: 45.9ms\tremaining: 278ms\n",
            "17:\tlearn: 0.9029345\ttotal: 48.2ms\tremaining: 273ms\n",
            "18:\tlearn: 0.8984199\ttotal: 48.9ms\tremaining: 260ms\n",
            "19:\tlearn: 0.9018059\ttotal: 52.1ms\tremaining: 261ms\n",
            "20:\tlearn: 0.9029345\ttotal: 54.7ms\tremaining: 258ms\n",
            "21:\tlearn: 0.9063205\ttotal: 57.1ms\tremaining: 254ms\n",
            "22:\tlearn: 0.9108352\ttotal: 59.6ms\tremaining: 251ms\n",
            "23:\tlearn: 0.9097065\ttotal: 60.3ms\tremaining: 241ms\n",
            "24:\tlearn: 0.9108352\ttotal: 63.4ms\tremaining: 241ms\n",
            "25:\tlearn: 0.9119639\ttotal: 71.1ms\tremaining: 257ms\n",
            "26:\tlearn: 0.9097065\ttotal: 74.2ms\tremaining: 256ms\n",
            "27:\tlearn: 0.9097065\ttotal: 77.4ms\tremaining: 254ms\n",
            "28:\tlearn: 0.9108352\ttotal: 79.9ms\tremaining: 251ms\n",
            "29:\tlearn: 0.9119639\ttotal: 82.2ms\tremaining: 247ms\n",
            "30:\tlearn: 0.9153499\ttotal: 84.8ms\tremaining: 244ms\n",
            "31:\tlearn: 0.9164786\ttotal: 87.5ms\tremaining: 241ms\n",
            "32:\tlearn: 0.9153499\ttotal: 89.8ms\tremaining: 237ms\n",
            "33:\tlearn: 0.9142212\ttotal: 98.9ms\tremaining: 250ms\n",
            "34:\tlearn: 0.9187359\ttotal: 101ms\tremaining: 246ms\n",
            "35:\tlearn: 0.9176072\ttotal: 104ms\tremaining: 242ms\n",
            "36:\tlearn: 0.9198646\ttotal: 113ms\tremaining: 252ms\n",
            "37:\tlearn: 0.9187359\ttotal: 120ms\tremaining: 260ms\n",
            "38:\tlearn: 0.9198646\ttotal: 123ms\tremaining: 255ms\n",
            "39:\tlearn: 0.9198646\ttotal: 126ms\tremaining: 253ms\n",
            "40:\tlearn: 0.9209932\ttotal: 129ms\tremaining: 249ms\n",
            "41:\tlearn: 0.9232506\ttotal: 134ms\tremaining: 249ms\n",
            "42:\tlearn: 0.9232506\ttotal: 136ms\tremaining: 244ms\n",
            "43:\tlearn: 0.9243792\ttotal: 139ms\tremaining: 240ms\n",
            "44:\tlearn: 0.9243792\ttotal: 141ms\tremaining: 236ms\n",
            "45:\tlearn: 0.9232506\ttotal: 145ms\tremaining: 233ms\n",
            "46:\tlearn: 0.9243792\ttotal: 148ms\tremaining: 229ms\n",
            "47:\tlearn: 0.9266366\ttotal: 151ms\tremaining: 226ms\n",
            "48:\tlearn: 0.9266366\ttotal: 153ms\tremaining: 222ms\n",
            "49:\tlearn: 0.9266366\ttotal: 156ms\tremaining: 218ms\n",
            "50:\tlearn: 0.9266366\ttotal: 159ms\tremaining: 215ms\n",
            "51:\tlearn: 0.9277652\ttotal: 161ms\tremaining: 211ms\n",
            "52:\tlearn: 0.9300226\ttotal: 164ms\tremaining: 207ms\n",
            "53:\tlearn: 0.9300226\ttotal: 166ms\tremaining: 203ms\n",
            "54:\tlearn: 0.9300226\ttotal: 169ms\tremaining: 199ms\n",
            "55:\tlearn: 0.9311512\ttotal: 172ms\tremaining: 196ms\n",
            "56:\tlearn: 0.9300226\ttotal: 174ms\tremaining: 192ms\n",
            "57:\tlearn: 0.9300226\ttotal: 176ms\tremaining: 188ms\n",
            "58:\tlearn: 0.9300226\ttotal: 185ms\tremaining: 192ms\n",
            "59:\tlearn: 0.9300226\ttotal: 189ms\tremaining: 189ms\n",
            "60:\tlearn: 0.9311512\ttotal: 192ms\tremaining: 185ms\n",
            "61:\tlearn: 0.9311512\ttotal: 194ms\tremaining: 182ms\n",
            "62:\tlearn: 0.9311512\ttotal: 195ms\tremaining: 176ms\n",
            "63:\tlearn: 0.9311512\ttotal: 197ms\tremaining: 173ms\n",
            "64:\tlearn: 0.9322799\ttotal: 200ms\tremaining: 169ms\n",
            "65:\tlearn: 0.9334086\ttotal: 202ms\tremaining: 165ms\n",
            "66:\tlearn: 0.9322799\ttotal: 205ms\tremaining: 162ms\n",
            "67:\tlearn: 0.9334086\ttotal: 208ms\tremaining: 159ms\n",
            "68:\tlearn: 0.9345372\ttotal: 210ms\tremaining: 156ms\n",
            "69:\tlearn: 0.9356659\ttotal: 213ms\tremaining: 152ms\n",
            "70:\tlearn: 0.9356659\ttotal: 219ms\tremaining: 151ms\n",
            "71:\tlearn: 0.9367946\ttotal: 226ms\tremaining: 151ms\n",
            "72:\tlearn: 0.9356659\ttotal: 228ms\tremaining: 147ms\n",
            "73:\tlearn: 0.9356659\ttotal: 230ms\tremaining: 143ms\n",
            "74:\tlearn: 0.9367946\ttotal: 233ms\tremaining: 140ms\n",
            "75:\tlearn: 0.9379233\ttotal: 236ms\tremaining: 137ms\n",
            "76:\tlearn: 0.9367946\ttotal: 239ms\tremaining: 133ms\n",
            "77:\tlearn: 0.9379233\ttotal: 241ms\tremaining: 130ms\n",
            "78:\tlearn: 0.9390519\ttotal: 243ms\tremaining: 126ms\n",
            "79:\tlearn: 0.9390519\ttotal: 246ms\tremaining: 123ms\n",
            "80:\tlearn: 0.9379233\ttotal: 249ms\tremaining: 120ms\n",
            "81:\tlearn: 0.9379233\ttotal: 252ms\tremaining: 117ms\n",
            "82:\tlearn: 0.9367946\ttotal: 255ms\tremaining: 113ms\n",
            "83:\tlearn: 0.9367946\ttotal: 257ms\tremaining: 110ms\n",
            "84:\tlearn: 0.9379233\ttotal: 260ms\tremaining: 107ms\n",
            "85:\tlearn: 0.9367946\ttotal: 270ms\tremaining: 107ms\n",
            "86:\tlearn: 0.9379233\ttotal: 272ms\tremaining: 103ms\n",
            "87:\tlearn: 0.9379233\ttotal: 275ms\tremaining: 99.9ms\n",
            "88:\tlearn: 0.9390519\ttotal: 277ms\tremaining: 96.5ms\n",
            "89:\tlearn: 0.9401806\ttotal: 279ms\tremaining: 93.1ms\n",
            "90:\tlearn: 0.9401806\ttotal: 283ms\tremaining: 90.1ms\n",
            "91:\tlearn: 0.9401806\ttotal: 285ms\tremaining: 86.7ms\n",
            "92:\tlearn: 0.9390519\ttotal: 287ms\tremaining: 83.4ms\n",
            "93:\tlearn: 0.9390519\ttotal: 290ms\tremaining: 80.1ms\n",
            "94:\tlearn: 0.9390519\ttotal: 293ms\tremaining: 77ms\n",
            "95:\tlearn: 0.9390519\ttotal: 296ms\tremaining: 73.9ms\n",
            "96:\tlearn: 0.9390519\ttotal: 298ms\tremaining: 70.6ms\n",
            "97:\tlearn: 0.9390519\ttotal: 300ms\tremaining: 67.4ms\n",
            "98:\tlearn: 0.9390519\ttotal: 302ms\tremaining: 64.1ms\n",
            "99:\tlearn: 0.9390519\ttotal: 305ms\tremaining: 61ms\n",
            "100:\tlearn: 0.9390519\ttotal: 306ms\tremaining: 57.5ms\n",
            "101:\tlearn: 0.9390519\ttotal: 308ms\tremaining: 54.4ms\n",
            "102:\tlearn: 0.9401806\ttotal: 311ms\tremaining: 51.4ms\n",
            "103:\tlearn: 0.9401806\ttotal: 314ms\tremaining: 48.2ms\n",
            "104:\tlearn: 0.9401806\ttotal: 315ms\tremaining: 45ms\n",
            "105:\tlearn: 0.9401806\ttotal: 318ms\tremaining: 42.1ms\n",
            "106:\tlearn: 0.9401806\ttotal: 321ms\tremaining: 39ms\n",
            "107:\tlearn: 0.9401806\ttotal: 323ms\tremaining: 35.9ms\n",
            "108:\tlearn: 0.9413093\ttotal: 325ms\tremaining: 32.8ms\n",
            "109:\tlearn: 0.9401806\ttotal: 327ms\tremaining: 29.8ms\n",
            "110:\tlearn: 0.9401806\ttotal: 330ms\tremaining: 26.8ms\n",
            "111:\tlearn: 0.9401806\ttotal: 332ms\tremaining: 23.7ms\n",
            "112:\tlearn: 0.9401806\ttotal: 334ms\tremaining: 20.7ms\n",
            "113:\tlearn: 0.9401806\ttotal: 336ms\tremaining: 17.7ms\n",
            "114:\tlearn: 0.9424379\ttotal: 339ms\tremaining: 14.7ms\n",
            "115:\tlearn: 0.9424379\ttotal: 340ms\tremaining: 11.7ms\n",
            "116:\tlearn: 0.9424379\ttotal: 343ms\tremaining: 8.8ms\n",
            "117:\tlearn: 0.9424379\ttotal: 346ms\tremaining: 5.87ms\n",
            "118:\tlearn: 0.9413093\ttotal: 348ms\tremaining: 2.93ms\n",
            "119:\tlearn: 0.9424379\ttotal: 351ms\tremaining: 0us\n",
            "0:\tlearn: 0.8702032\ttotal: 5.55ms\tremaining: 660ms\n",
            "1:\tlearn: 0.8781038\ttotal: 7.79ms\tremaining: 460ms\n",
            "2:\tlearn: 0.8905192\ttotal: 10.2ms\tremaining: 399ms\n",
            "3:\tlearn: 0.8916479\ttotal: 12.4ms\tremaining: 361ms\n",
            "4:\tlearn: 0.8758465\ttotal: 16.7ms\tremaining: 385ms\n",
            "5:\tlearn: 0.8848758\ttotal: 19.4ms\tremaining: 370ms\n",
            "6:\tlearn: 0.8905192\ttotal: 26ms\tremaining: 419ms\n",
            "7:\tlearn: 0.8995485\ttotal: 37.6ms\tremaining: 527ms\n",
            "8:\tlearn: 0.9006772\ttotal: 39.9ms\tremaining: 492ms\n",
            "9:\tlearn: 0.9029345\ttotal: 42.2ms\tremaining: 464ms\n",
            "10:\tlearn: 0.8995485\ttotal: 44.4ms\tremaining: 440ms\n",
            "11:\tlearn: 0.9006772\ttotal: 47.5ms\tremaining: 428ms\n",
            "12:\tlearn: 0.9040632\ttotal: 50.6ms\tremaining: 416ms\n",
            "13:\tlearn: 0.9051919\ttotal: 52.8ms\tremaining: 400ms\n",
            "14:\tlearn: 0.9051919\ttotal: 55.1ms\tremaining: 386ms\n",
            "15:\tlearn: 0.9074492\ttotal: 57.3ms\tremaining: 373ms\n",
            "16:\tlearn: 0.9130926\ttotal: 60.6ms\tremaining: 367ms\n",
            "17:\tlearn: 0.9119639\ttotal: 63.2ms\tremaining: 358ms\n",
            "18:\tlearn: 0.9074492\ttotal: 63.8ms\tremaining: 339ms\n",
            "19:\tlearn: 0.9074492\ttotal: 66.1ms\tremaining: 330ms\n",
            "20:\tlearn: 0.9063205\ttotal: 69.3ms\tremaining: 327ms\n",
            "21:\tlearn: 0.9097065\ttotal: 72ms\tremaining: 321ms\n",
            "22:\tlearn: 0.9130926\ttotal: 74.3ms\tremaining: 313ms\n",
            "23:\tlearn: 0.9142212\ttotal: 77.1ms\tremaining: 308ms\n",
            "24:\tlearn: 0.9153499\ttotal: 79.5ms\tremaining: 302ms\n",
            "25:\tlearn: 0.9164786\ttotal: 81.7ms\tremaining: 295ms\n",
            "26:\tlearn: 0.9142212\ttotal: 82.4ms\tremaining: 284ms\n",
            "27:\tlearn: 0.9153499\ttotal: 85.4ms\tremaining: 281ms\n",
            "28:\tlearn: 0.9153499\ttotal: 87.7ms\tremaining: 275ms\n",
            "29:\tlearn: 0.9142212\ttotal: 89.9ms\tremaining: 270ms\n",
            "30:\tlearn: 0.9187359\ttotal: 92.3ms\tremaining: 265ms\n",
            "31:\tlearn: 0.9198646\ttotal: 95ms\tremaining: 261ms\n",
            "32:\tlearn: 0.9198646\ttotal: 97.4ms\tremaining: 257ms\n",
            "33:\tlearn: 0.9209932\ttotal: 101ms\tremaining: 255ms\n",
            "34:\tlearn: 0.9209932\ttotal: 103ms\tremaining: 250ms\n",
            "35:\tlearn: 0.9209932\ttotal: 105ms\tremaining: 246ms\n",
            "36:\tlearn: 0.9221219\ttotal: 108ms\tremaining: 241ms\n",
            "37:\tlearn: 0.9255079\ttotal: 111ms\tremaining: 239ms\n",
            "38:\tlearn: 0.9243792\ttotal: 113ms\tremaining: 235ms\n",
            "39:\tlearn: 0.9266366\ttotal: 115ms\tremaining: 231ms\n",
            "40:\tlearn: 0.9288939\ttotal: 118ms\tremaining: 227ms\n",
            "41:\tlearn: 0.9277652\ttotal: 121ms\tremaining: 224ms\n",
            "42:\tlearn: 0.9288939\ttotal: 123ms\tremaining: 221ms\n",
            "43:\tlearn: 0.9288939\ttotal: 126ms\tremaining: 218ms\n",
            "44:\tlearn: 0.9277652\ttotal: 128ms\tremaining: 214ms\n",
            "45:\tlearn: 0.9277652\ttotal: 131ms\tremaining: 210ms\n",
            "46:\tlearn: 0.9288939\ttotal: 133ms\tremaining: 207ms\n",
            "47:\tlearn: 0.9300226\ttotal: 137ms\tremaining: 205ms\n",
            "48:\tlearn: 0.9311512\ttotal: 139ms\tremaining: 201ms\n",
            "49:\tlearn: 0.9322799\ttotal: 141ms\tremaining: 198ms\n",
            "50:\tlearn: 0.9322799\ttotal: 144ms\tremaining: 194ms\n",
            "51:\tlearn: 0.9345372\ttotal: 147ms\tremaining: 192ms\n",
            "52:\tlearn: 0.9356659\ttotal: 149ms\tremaining: 189ms\n",
            "53:\tlearn: 0.9356659\ttotal: 152ms\tremaining: 185ms\n",
            "54:\tlearn: 0.9345372\ttotal: 154ms\tremaining: 182ms\n",
            "55:\tlearn: 0.9345372\ttotal: 157ms\tremaining: 179ms\n",
            "56:\tlearn: 0.9356659\ttotal: 160ms\tremaining: 177ms\n",
            "57:\tlearn: 0.9345372\ttotal: 162ms\tremaining: 174ms\n",
            "58:\tlearn: 0.9367946\ttotal: 167ms\tremaining: 173ms\n",
            "59:\tlearn: 0.9367946\ttotal: 169ms\tremaining: 169ms\n",
            "60:\tlearn: 0.9356659\ttotal: 172ms\tremaining: 166ms\n",
            "61:\tlearn: 0.9367946\ttotal: 174ms\tremaining: 163ms\n",
            "62:\tlearn: 0.9367946\ttotal: 175ms\tremaining: 158ms\n",
            "63:\tlearn: 0.9356659\ttotal: 178ms\tremaining: 156ms\n",
            "64:\tlearn: 0.9356659\ttotal: 181ms\tremaining: 153ms\n",
            "65:\tlearn: 0.9356659\ttotal: 184ms\tremaining: 151ms\n",
            "66:\tlearn: 0.9356659\ttotal: 187ms\tremaining: 148ms\n",
            "67:\tlearn: 0.9356659\ttotal: 190ms\tremaining: 145ms\n",
            "68:\tlearn: 0.9345372\ttotal: 193ms\tremaining: 142ms\n",
            "69:\tlearn: 0.9356659\ttotal: 195ms\tremaining: 139ms\n",
            "70:\tlearn: 0.9356659\ttotal: 204ms\tremaining: 141ms\n",
            "71:\tlearn: 0.9379233\ttotal: 207ms\tremaining: 138ms\n",
            "72:\tlearn: 0.9379233\ttotal: 209ms\tremaining: 134ms\n",
            "73:\tlearn: 0.9390519\ttotal: 212ms\tremaining: 132ms\n",
            "74:\tlearn: 0.9390519\ttotal: 215ms\tremaining: 129ms\n",
            "75:\tlearn: 0.9401806\ttotal: 218ms\tremaining: 126ms\n",
            "76:\tlearn: 0.9401806\ttotal: 221ms\tremaining: 123ms\n",
            "77:\tlearn: 0.9413093\ttotal: 224ms\tremaining: 120ms\n",
            "78:\tlearn: 0.9413093\ttotal: 226ms\tremaining: 117ms\n",
            "79:\tlearn: 0.9413093\ttotal: 229ms\tremaining: 115ms\n",
            "80:\tlearn: 0.9413093\ttotal: 232ms\tremaining: 112ms\n",
            "81:\tlearn: 0.9413093\ttotal: 237ms\tremaining: 110ms\n",
            "82:\tlearn: 0.9413093\ttotal: 241ms\tremaining: 107ms\n",
            "83:\tlearn: 0.9413093\ttotal: 244ms\tremaining: 105ms\n",
            "84:\tlearn: 0.9424379\ttotal: 248ms\tremaining: 102ms\n",
            "85:\tlearn: 0.9424379\ttotal: 250ms\tremaining: 99ms\n",
            "86:\tlearn: 0.9413093\ttotal: 253ms\tremaining: 96.1ms\n",
            "87:\tlearn: 0.9424379\ttotal: 256ms\tremaining: 93ms\n",
            "88:\tlearn: 0.9424379\ttotal: 264ms\tremaining: 91.9ms\n",
            "89:\tlearn: 0.9424379\ttotal: 266ms\tremaining: 88.7ms\n",
            "90:\tlearn: 0.9424379\ttotal: 267ms\tremaining: 85.1ms\n",
            "91:\tlearn: 0.9424379\ttotal: 269ms\tremaining: 81.9ms\n",
            "92:\tlearn: 0.9424379\ttotal: 272ms\tremaining: 78.9ms\n",
            "93:\tlearn: 0.9424379\ttotal: 274ms\tremaining: 75.8ms\n",
            "94:\tlearn: 0.9424379\ttotal: 276ms\tremaining: 72.7ms\n",
            "95:\tlearn: 0.9424379\ttotal: 277ms\tremaining: 69.3ms\n",
            "96:\tlearn: 0.9424379\ttotal: 281ms\tremaining: 66.6ms\n",
            "97:\tlearn: 0.9424379\ttotal: 283ms\tremaining: 63.6ms\n",
            "98:\tlearn: 0.9435666\ttotal: 289ms\tremaining: 61.3ms\n",
            "99:\tlearn: 0.9435666\ttotal: 290ms\tremaining: 58ms\n",
            "100:\tlearn: 0.9446953\ttotal: 293ms\tremaining: 55.1ms\n",
            "101:\tlearn: 0.9446953\ttotal: 294ms\tremaining: 51.9ms\n",
            "102:\tlearn: 0.9446953\ttotal: 297ms\tremaining: 49.1ms\n",
            "103:\tlearn: 0.9446953\ttotal: 300ms\tremaining: 46.1ms\n",
            "104:\tlearn: 0.9446953\ttotal: 302ms\tremaining: 43.2ms\n",
            "105:\tlearn: 0.9446953\ttotal: 306ms\tremaining: 40.4ms\n",
            "106:\tlearn: 0.9446953\ttotal: 308ms\tremaining: 37.4ms\n",
            "107:\tlearn: 0.9446953\ttotal: 311ms\tremaining: 34.5ms\n",
            "108:\tlearn: 0.9446953\ttotal: 313ms\tremaining: 31.6ms\n",
            "109:\tlearn: 0.9446953\ttotal: 315ms\tremaining: 28.6ms\n",
            "110:\tlearn: 0.9446953\ttotal: 317ms\tremaining: 25.7ms\n",
            "111:\tlearn: 0.9446953\ttotal: 320ms\tremaining: 22.9ms\n",
            "112:\tlearn: 0.9458239\ttotal: 323ms\tremaining: 20ms\n",
            "113:\tlearn: 0.9458239\ttotal: 326ms\tremaining: 17.2ms\n",
            "114:\tlearn: 0.9446953\ttotal: 330ms\tremaining: 14.3ms\n",
            "115:\tlearn: 0.9446953\ttotal: 333ms\tremaining: 11.5ms\n",
            "116:\tlearn: 0.9446953\ttotal: 335ms\tremaining: 8.6ms\n",
            "117:\tlearn: 0.9446953\ttotal: 339ms\tremaining: 5.74ms\n",
            "118:\tlearn: 0.9446953\ttotal: 340ms\tremaining: 2.86ms\n",
            "119:\tlearn: 0.9446953\ttotal: 343ms\tremaining: 0us\n",
            "0:\tlearn: 0.8747178\ttotal: 5.13ms\tremaining: 610ms\n",
            "1:\tlearn: 0.8871332\ttotal: 16.1ms\tremaining: 948ms\n",
            "2:\tlearn: 0.8927765\ttotal: 19.4ms\tremaining: 755ms\n",
            "3:\tlearn: 0.8984199\ttotal: 22.4ms\tremaining: 649ms\n",
            "4:\tlearn: 0.8848758\ttotal: 22.9ms\tremaining: 528ms\n",
            "5:\tlearn: 0.8837472\ttotal: 23.6ms\tremaining: 449ms\n",
            "6:\tlearn: 0.8803612\ttotal: 24.1ms\tremaining: 390ms\n",
            "7:\tlearn: 0.8848758\ttotal: 26.6ms\tremaining: 372ms\n",
            "8:\tlearn: 0.8769752\ttotal: 28.8ms\tremaining: 355ms\n",
            "9:\tlearn: 0.8826185\ttotal: 31.1ms\tremaining: 342ms\n",
            "10:\tlearn: 0.8814898\ttotal: 34.5ms\tremaining: 342ms\n",
            "11:\tlearn: 0.8803612\ttotal: 36.8ms\tremaining: 331ms\n",
            "12:\tlearn: 0.8792325\ttotal: 39.1ms\tremaining: 322ms\n",
            "13:\tlearn: 0.8837472\ttotal: 41.3ms\tremaining: 313ms\n",
            "14:\tlearn: 0.8803612\ttotal: 44ms\tremaining: 308ms\n",
            "15:\tlearn: 0.8860045\ttotal: 46.9ms\tremaining: 305ms\n",
            "16:\tlearn: 0.8826185\ttotal: 47.4ms\tremaining: 287ms\n",
            "17:\tlearn: 0.8871332\ttotal: 49.7ms\tremaining: 282ms\n",
            "18:\tlearn: 0.8939052\ttotal: 55.6ms\tremaining: 296ms\n",
            "19:\tlearn: 0.8916479\ttotal: 57.4ms\tremaining: 287ms\n",
            "20:\tlearn: 0.8916479\ttotal: 59.8ms\tremaining: 282ms\n",
            "21:\tlearn: 0.8939052\ttotal: 62.1ms\tremaining: 277ms\n",
            "22:\tlearn: 0.8995485\ttotal: 65ms\tremaining: 274ms\n",
            "23:\tlearn: 0.9006772\ttotal: 67.9ms\tremaining: 272ms\n",
            "24:\tlearn: 0.9006772\ttotal: 70.8ms\tremaining: 269ms\n",
            "25:\tlearn: 0.8995485\ttotal: 73.1ms\tremaining: 264ms\n",
            "26:\tlearn: 0.8972912\ttotal: 73.6ms\tremaining: 254ms\n",
            "27:\tlearn: 0.8984199\ttotal: 75.9ms\tremaining: 249ms\n",
            "28:\tlearn: 0.9006772\ttotal: 79ms\tremaining: 248ms\n",
            "29:\tlearn: 0.9040632\ttotal: 82ms\tremaining: 246ms\n",
            "30:\tlearn: 0.9051919\ttotal: 84.3ms\tremaining: 242ms\n",
            "31:\tlearn: 0.9074492\ttotal: 86.7ms\tremaining: 239ms\n",
            "32:\tlearn: 0.9063205\ttotal: 90.6ms\tremaining: 239ms\n",
            "33:\tlearn: 0.9051919\ttotal: 93.6ms\tremaining: 237ms\n",
            "34:\tlearn: 0.9063205\ttotal: 96.7ms\tremaining: 235ms\n",
            "35:\tlearn: 0.9097065\ttotal: 99.5ms\tremaining: 232ms\n",
            "36:\tlearn: 0.9130926\ttotal: 102ms\tremaining: 229ms\n",
            "37:\tlearn: 0.9130926\ttotal: 105ms\tremaining: 226ms\n",
            "38:\tlearn: 0.9153499\ttotal: 108ms\tremaining: 224ms\n",
            "39:\tlearn: 0.9153499\ttotal: 110ms\tremaining: 220ms\n",
            "40:\tlearn: 0.9164786\ttotal: 112ms\tremaining: 216ms\n",
            "41:\tlearn: 0.9153499\ttotal: 115ms\tremaining: 213ms\n",
            "42:\tlearn: 0.9187359\ttotal: 118ms\tremaining: 211ms\n",
            "43:\tlearn: 0.9187359\ttotal: 120ms\tremaining: 208ms\n",
            "44:\tlearn: 0.9187359\ttotal: 123ms\tremaining: 205ms\n",
            "45:\tlearn: 0.9209932\ttotal: 130ms\tremaining: 209ms\n",
            "46:\tlearn: 0.9187359\ttotal: 132ms\tremaining: 205ms\n",
            "47:\tlearn: 0.9176072\ttotal: 136ms\tremaining: 204ms\n",
            "48:\tlearn: 0.9221219\ttotal: 139ms\tremaining: 201ms\n",
            "49:\tlearn: 0.9209932\ttotal: 142ms\tremaining: 198ms\n",
            "50:\tlearn: 0.9209932\ttotal: 145ms\tremaining: 197ms\n",
            "51:\tlearn: 0.9221219\ttotal: 155ms\tremaining: 203ms\n",
            "52:\tlearn: 0.9221219\ttotal: 160ms\tremaining: 203ms\n",
            "53:\tlearn: 0.9232506\ttotal: 163ms\tremaining: 199ms\n",
            "54:\tlearn: 0.9243792\ttotal: 166ms\tremaining: 196ms\n",
            "55:\tlearn: 0.9255079\ttotal: 168ms\tremaining: 192ms\n",
            "56:\tlearn: 0.9266366\ttotal: 168ms\tremaining: 186ms\n",
            "57:\tlearn: 0.9243792\ttotal: 171ms\tremaining: 183ms\n",
            "58:\tlearn: 0.9255079\ttotal: 176ms\tremaining: 182ms\n",
            "59:\tlearn: 0.9255079\ttotal: 179ms\tremaining: 179ms\n",
            "60:\tlearn: 0.9266366\ttotal: 181ms\tremaining: 175ms\n",
            "61:\tlearn: 0.9255079\ttotal: 184ms\tremaining: 172ms\n",
            "62:\tlearn: 0.9243792\ttotal: 187ms\tremaining: 169ms\n",
            "63:\tlearn: 0.9277652\ttotal: 189ms\tremaining: 165ms\n",
            "64:\tlearn: 0.9277652\ttotal: 191ms\tremaining: 162ms\n",
            "65:\tlearn: 0.9277652\ttotal: 194ms\tremaining: 159ms\n",
            "66:\tlearn: 0.9277652\ttotal: 197ms\tremaining: 156ms\n",
            "67:\tlearn: 0.9288939\ttotal: 200ms\tremaining: 153ms\n",
            "68:\tlearn: 0.9288939\ttotal: 203ms\tremaining: 150ms\n",
            "69:\tlearn: 0.9311512\ttotal: 205ms\tremaining: 146ms\n",
            "70:\tlearn: 0.9311512\ttotal: 208ms\tremaining: 143ms\n",
            "71:\tlearn: 0.9300226\ttotal: 211ms\tremaining: 141ms\n",
            "72:\tlearn: 0.9311512\ttotal: 214ms\tremaining: 138ms\n",
            "73:\tlearn: 0.9311512\ttotal: 216ms\tremaining: 134ms\n",
            "74:\tlearn: 0.9300226\ttotal: 219ms\tremaining: 131ms\n",
            "75:\tlearn: 0.9311512\ttotal: 221ms\tremaining: 128ms\n",
            "76:\tlearn: 0.9322799\ttotal: 224ms\tremaining: 125ms\n",
            "77:\tlearn: 0.9311512\ttotal: 227ms\tremaining: 122ms\n",
            "78:\tlearn: 0.9311512\ttotal: 229ms\tremaining: 119ms\n",
            "79:\tlearn: 0.9334086\ttotal: 231ms\tremaining: 116ms\n",
            "80:\tlearn: 0.9311512\ttotal: 233ms\tremaining: 112ms\n",
            "81:\tlearn: 0.9311512\ttotal: 236ms\tremaining: 109ms\n",
            "82:\tlearn: 0.9322799\ttotal: 239ms\tremaining: 107ms\n",
            "83:\tlearn: 0.9334086\ttotal: 242ms\tremaining: 104ms\n",
            "84:\tlearn: 0.9356659\ttotal: 245ms\tremaining: 101ms\n",
            "85:\tlearn: 0.9345372\ttotal: 247ms\tremaining: 97.8ms\n",
            "86:\tlearn: 0.9356659\ttotal: 251ms\tremaining: 95.2ms\n",
            "87:\tlearn: 0.9356659\ttotal: 253ms\tremaining: 92.1ms\n",
            "88:\tlearn: 0.9356659\ttotal: 256ms\tremaining: 89.1ms\n",
            "89:\tlearn: 0.9356659\ttotal: 258ms\tremaining: 86.1ms\n",
            "90:\tlearn: 0.9345372\ttotal: 261ms\tremaining: 83.1ms\n",
            "91:\tlearn: 0.9334086\ttotal: 264ms\tremaining: 80.4ms\n",
            "92:\tlearn: 0.9334086\ttotal: 267ms\tremaining: 77.6ms\n",
            "93:\tlearn: 0.9334086\ttotal: 268ms\tremaining: 74.2ms\n",
            "94:\tlearn: 0.9334086\ttotal: 271ms\tremaining: 71.4ms\n",
            "95:\tlearn: 0.9334086\ttotal: 274ms\tremaining: 68.4ms\n",
            "96:\tlearn: 0.9356659\ttotal: 276ms\tremaining: 65.5ms\n",
            "97:\tlearn: 0.9345372\ttotal: 279ms\tremaining: 62.5ms\n",
            "98:\tlearn: 0.9345372\ttotal: 282ms\tremaining: 59.8ms\n",
            "99:\tlearn: 0.9345372\ttotal: 284ms\tremaining: 56.7ms\n",
            "100:\tlearn: 0.9345372\ttotal: 286ms\tremaining: 53.8ms\n",
            "101:\tlearn: 0.9334086\ttotal: 288ms\tremaining: 50.9ms\n",
            "102:\tlearn: 0.9334086\ttotal: 291ms\tremaining: 48ms\n",
            "103:\tlearn: 0.9345372\ttotal: 294ms\tremaining: 45.2ms\n",
            "104:\tlearn: 0.9345372\ttotal: 297ms\tremaining: 42.4ms\n",
            "105:\tlearn: 0.9345372\ttotal: 299ms\tremaining: 39.5ms\n",
            "106:\tlearn: 0.9345372\ttotal: 301ms\tremaining: 36.6ms\n",
            "107:\tlearn: 0.9345372\ttotal: 304ms\tremaining: 33.8ms\n",
            "108:\tlearn: 0.9345372\ttotal: 305ms\tremaining: 30.8ms\n",
            "109:\tlearn: 0.9345372\ttotal: 309ms\tremaining: 28.1ms\n",
            "110:\tlearn: 0.9345372\ttotal: 312ms\tremaining: 25.3ms\n",
            "111:\tlearn: 0.9345372\ttotal: 315ms\tremaining: 22.5ms\n",
            "112:\tlearn: 0.9345372\ttotal: 318ms\tremaining: 19.7ms\n",
            "113:\tlearn: 0.9345372\ttotal: 321ms\tremaining: 16.9ms\n",
            "114:\tlearn: 0.9345372\ttotal: 324ms\tremaining: 14.1ms\n",
            "115:\tlearn: 0.9345372\ttotal: 326ms\tremaining: 11.3ms\n",
            "116:\tlearn: 0.9345372\ttotal: 329ms\tremaining: 8.43ms\n",
            "117:\tlearn: 0.9345372\ttotal: 336ms\tremaining: 5.69ms\n",
            "118:\tlearn: 0.9345372\ttotal: 339ms\tremaining: 2.85ms\n",
            "119:\tlearn: 0.9345372\ttotal: 341ms\tremaining: 0us\n",
            "0:\tlearn: 0.8792325\ttotal: 2.84ms\tremaining: 338ms\n",
            "1:\tlearn: 0.8814898\ttotal: 7.5ms\tremaining: 442ms\n",
            "2:\tlearn: 0.8871332\ttotal: 11.5ms\tremaining: 448ms\n",
            "3:\tlearn: 0.8916479\ttotal: 13.9ms\tremaining: 403ms\n",
            "4:\tlearn: 0.8826185\ttotal: 14.5ms\tremaining: 333ms\n",
            "5:\tlearn: 0.8837472\ttotal: 15.2ms\tremaining: 288ms\n",
            "6:\tlearn: 0.8769752\ttotal: 15.7ms\tremaining: 254ms\n",
            "7:\tlearn: 0.8848758\ttotal: 18ms\tremaining: 252ms\n",
            "8:\tlearn: 0.8724605\ttotal: 20.2ms\tremaining: 250ms\n",
            "9:\tlearn: 0.8781038\ttotal: 23ms\tremaining: 253ms\n",
            "10:\tlearn: 0.8769752\ttotal: 25.3ms\tremaining: 251ms\n",
            "11:\tlearn: 0.8814898\ttotal: 28.7ms\tremaining: 258ms\n",
            "12:\tlearn: 0.8837472\ttotal: 31.1ms\tremaining: 256ms\n",
            "13:\tlearn: 0.8826185\ttotal: 31.8ms\tremaining: 241ms\n",
            "14:\tlearn: 0.8860045\ttotal: 34.1ms\tremaining: 238ms\n",
            "15:\tlearn: 0.8916479\ttotal: 36.3ms\tremaining: 236ms\n",
            "16:\tlearn: 0.8905192\ttotal: 39.8ms\tremaining: 241ms\n",
            "17:\tlearn: 0.8905192\ttotal: 42.2ms\tremaining: 239ms\n",
            "18:\tlearn: 0.8893905\ttotal: 45.1ms\tremaining: 239ms\n",
            "19:\tlearn: 0.8893905\ttotal: 47.4ms\tremaining: 237ms\n",
            "20:\tlearn: 0.8882619\ttotal: 50.1ms\tremaining: 236ms\n",
            "21:\tlearn: 0.8905192\ttotal: 53.3ms\tremaining: 237ms\n",
            "22:\tlearn: 0.8916479\ttotal: 55.6ms\tremaining: 235ms\n",
            "23:\tlearn: 0.8927765\ttotal: 58.3ms\tremaining: 233ms\n",
            "24:\tlearn: 0.8927765\ttotal: 60.9ms\tremaining: 231ms\n",
            "25:\tlearn: 0.8950339\ttotal: 64.4ms\tremaining: 233ms\n",
            "26:\tlearn: 0.8950339\ttotal: 66.8ms\tremaining: 230ms\n",
            "27:\tlearn: 0.8961625\ttotal: 69.1ms\tremaining: 227ms\n",
            "28:\tlearn: 0.9006772\ttotal: 71.4ms\tremaining: 224ms\n",
            "29:\tlearn: 0.9029345\ttotal: 74.4ms\tremaining: 223ms\n",
            "30:\tlearn: 0.9051919\ttotal: 81.9ms\tremaining: 235ms\n",
            "31:\tlearn: 0.9040632\ttotal: 85.7ms\tremaining: 236ms\n",
            "32:\tlearn: 0.9029345\ttotal: 88.2ms\tremaining: 232ms\n",
            "33:\tlearn: 0.9040632\ttotal: 90.6ms\tremaining: 229ms\n",
            "34:\tlearn: 0.9074492\ttotal: 92.8ms\tremaining: 225ms\n",
            "35:\tlearn: 0.9063205\ttotal: 97.6ms\tremaining: 228ms\n",
            "36:\tlearn: 0.9074492\ttotal: 99.9ms\tremaining: 224ms\n",
            "37:\tlearn: 0.9108352\ttotal: 102ms\tremaining: 221ms\n",
            "38:\tlearn: 0.9130926\ttotal: 105ms\tremaining: 217ms\n",
            "39:\tlearn: 0.9142212\ttotal: 107ms\tremaining: 215ms\n",
            "40:\tlearn: 0.9153499\ttotal: 110ms\tremaining: 211ms\n",
            "41:\tlearn: 0.9142212\ttotal: 112ms\tremaining: 208ms\n",
            "42:\tlearn: 0.9164786\ttotal: 114ms\tremaining: 205ms\n",
            "43:\tlearn: 0.9164786\ttotal: 117ms\tremaining: 202ms\n",
            "44:\tlearn: 0.9187359\ttotal: 122ms\tremaining: 203ms\n",
            "45:\tlearn: 0.9198646\ttotal: 125ms\tremaining: 201ms\n",
            "46:\tlearn: 0.9198646\ttotal: 128ms\tremaining: 199ms\n",
            "47:\tlearn: 0.9209932\ttotal: 131ms\tremaining: 197ms\n",
            "48:\tlearn: 0.9209932\ttotal: 134ms\tremaining: 194ms\n",
            "49:\tlearn: 0.9198646\ttotal: 136ms\tremaining: 190ms\n",
            "50:\tlearn: 0.9209932\ttotal: 138ms\tremaining: 187ms\n",
            "51:\tlearn: 0.9221219\ttotal: 141ms\tremaining: 184ms\n",
            "52:\tlearn: 0.9221219\ttotal: 143ms\tremaining: 181ms\n",
            "53:\tlearn: 0.9221219\ttotal: 146ms\tremaining: 178ms\n",
            "54:\tlearn: 0.9221219\ttotal: 149ms\tremaining: 176ms\n",
            "55:\tlearn: 0.9221219\ttotal: 151ms\tremaining: 173ms\n",
            "56:\tlearn: 0.9243792\ttotal: 154ms\tremaining: 170ms\n",
            "57:\tlearn: 0.9243792\ttotal: 156ms\tremaining: 167ms\n",
            "58:\tlearn: 0.9243792\ttotal: 158ms\tremaining: 164ms\n",
            "59:\tlearn: 0.9243792\ttotal: 162ms\tremaining: 162ms\n",
            "60:\tlearn: 0.9243792\ttotal: 164ms\tremaining: 159ms\n",
            "61:\tlearn: 0.9243792\ttotal: 168ms\tremaining: 157ms\n",
            "62:\tlearn: 0.9255079\ttotal: 169ms\tremaining: 153ms\n",
            "63:\tlearn: 0.9232506\ttotal: 171ms\tremaining: 150ms\n",
            "64:\tlearn: 0.9221219\ttotal: 174ms\tremaining: 147ms\n",
            "65:\tlearn: 0.9232506\ttotal: 176ms\tremaining: 144ms\n",
            "66:\tlearn: 0.9232506\ttotal: 179ms\tremaining: 142ms\n",
            "67:\tlearn: 0.9243792\ttotal: 188ms\tremaining: 143ms\n",
            "68:\tlearn: 0.9232506\ttotal: 190ms\tremaining: 140ms\n",
            "69:\tlearn: 0.9243792\ttotal: 192ms\tremaining: 137ms\n",
            "70:\tlearn: 0.9266366\ttotal: 194ms\tremaining: 134ms\n",
            "71:\tlearn: 0.9255079\ttotal: 198ms\tremaining: 132ms\n",
            "72:\tlearn: 0.9300226\ttotal: 200ms\tremaining: 129ms\n",
            "73:\tlearn: 0.9311512\ttotal: 203ms\tremaining: 126ms\n",
            "74:\tlearn: 0.9311512\ttotal: 205ms\tremaining: 123ms\n",
            "75:\tlearn: 0.9322799\ttotal: 207ms\tremaining: 120ms\n",
            "76:\tlearn: 0.9322799\ttotal: 210ms\tremaining: 117ms\n",
            "77:\tlearn: 0.9322799\ttotal: 214ms\tremaining: 115ms\n",
            "78:\tlearn: 0.9322799\ttotal: 217ms\tremaining: 112ms\n",
            "79:\tlearn: 0.9322799\ttotal: 219ms\tremaining: 110ms\n",
            "80:\tlearn: 0.9334086\ttotal: 222ms\tremaining: 107ms\n",
            "81:\tlearn: 0.9322799\ttotal: 225ms\tremaining: 104ms\n",
            "82:\tlearn: 0.9322799\ttotal: 227ms\tremaining: 101ms\n",
            "83:\tlearn: 0.9322799\ttotal: 228ms\tremaining: 97.6ms\n",
            "84:\tlearn: 0.9322799\ttotal: 230ms\tremaining: 94.7ms\n",
            "85:\tlearn: 0.9322799\ttotal: 232ms\tremaining: 91.9ms\n",
            "86:\tlearn: 0.9311512\ttotal: 235ms\tremaining: 89.2ms\n",
            "87:\tlearn: 0.9311512\ttotal: 236ms\tremaining: 86ms\n",
            "88:\tlearn: 0.9300226\ttotal: 239ms\tremaining: 83.2ms\n",
            "89:\tlearn: 0.9311512\ttotal: 241ms\tremaining: 80.4ms\n",
            "90:\tlearn: 0.9300226\ttotal: 243ms\tremaining: 77.6ms\n",
            "91:\tlearn: 0.9300226\ttotal: 246ms\tremaining: 74.7ms\n",
            "92:\tlearn: 0.9300226\ttotal: 248ms\tremaining: 72.1ms\n",
            "93:\tlearn: 0.9300226\ttotal: 249ms\tremaining: 68.9ms\n",
            "94:\tlearn: 0.9311512\ttotal: 252ms\tremaining: 66.4ms\n",
            "95:\tlearn: 0.9311512\ttotal: 254ms\tremaining: 63.6ms\n",
            "96:\tlearn: 0.9311512\ttotal: 255ms\tremaining: 60.6ms\n",
            "97:\tlearn: 0.9322799\ttotal: 258ms\tremaining: 57.9ms\n",
            "98:\tlearn: 0.9322799\ttotal: 260ms\tremaining: 55.2ms\n",
            "99:\tlearn: 0.9322799\ttotal: 268ms\tremaining: 53.6ms\n",
            "100:\tlearn: 0.9322799\ttotal: 270ms\tremaining: 50.8ms\n",
            "101:\tlearn: 0.9322799\ttotal: 272ms\tremaining: 48.1ms\n",
            "102:\tlearn: 0.9322799\ttotal: 275ms\tremaining: 45.4ms\n",
            "103:\tlearn: 0.9322799\ttotal: 278ms\tremaining: 42.8ms\n",
            "104:\tlearn: 0.9322799\ttotal: 283ms\tremaining: 40.5ms\n",
            "105:\tlearn: 0.9322799\ttotal: 290ms\tremaining: 38.2ms\n",
            "106:\tlearn: 0.9322799\ttotal: 295ms\tremaining: 35.9ms\n",
            "107:\tlearn: 0.9322799\ttotal: 302ms\tremaining: 33.6ms\n",
            "108:\tlearn: 0.9322799\ttotal: 308ms\tremaining: 31.1ms\n",
            "109:\tlearn: 0.9334086\ttotal: 322ms\tremaining: 29.3ms\n",
            "110:\tlearn: 0.9322799\ttotal: 330ms\tremaining: 26.7ms\n",
            "111:\tlearn: 0.9334086\ttotal: 343ms\tremaining: 24.5ms\n",
            "112:\tlearn: 0.9356659\ttotal: 349ms\tremaining: 21.6ms\n",
            "113:\tlearn: 0.9367946\ttotal: 361ms\tremaining: 19ms\n",
            "114:\tlearn: 0.9367946\ttotal: 378ms\tremaining: 16.4ms\n",
            "115:\tlearn: 0.9367946\ttotal: 381ms\tremaining: 13.1ms\n",
            "116:\tlearn: 0.9367946\ttotal: 382ms\tremaining: 9.8ms\n",
            "117:\tlearn: 0.9367946\ttotal: 385ms\tremaining: 6.52ms\n",
            "118:\tlearn: 0.9367946\ttotal: 388ms\tremaining: 3.26ms\n",
            "119:\tlearn: 0.9390519\ttotal: 391ms\tremaining: 0us\n",
            "0:\tlearn: 0.8656885\ttotal: 2.41ms\tremaining: 287ms\n",
            "1:\tlearn: 0.8769752\ttotal: 4.99ms\tremaining: 294ms\n",
            "2:\tlearn: 0.8905192\ttotal: 7.36ms\tremaining: 287ms\n",
            "3:\tlearn: 0.8882619\ttotal: 10.3ms\tremaining: 298ms\n",
            "4:\tlearn: 0.8702032\ttotal: 10.8ms\tremaining: 248ms\n",
            "5:\tlearn: 0.8769752\ttotal: 13.1ms\tremaining: 249ms\n",
            "6:\tlearn: 0.8826185\ttotal: 16ms\tremaining: 258ms\n",
            "7:\tlearn: 0.8826185\ttotal: 19ms\tremaining: 267ms\n",
            "8:\tlearn: 0.8837472\ttotal: 21.9ms\tremaining: 270ms\n",
            "9:\tlearn: 0.8848758\ttotal: 24.9ms\tremaining: 274ms\n",
            "10:\tlearn: 0.8905192\ttotal: 27.2ms\tremaining: 270ms\n",
            "11:\tlearn: 0.8927765\ttotal: 29.9ms\tremaining: 270ms\n",
            "12:\tlearn: 0.8939052\ttotal: 32.3ms\tremaining: 266ms\n",
            "13:\tlearn: 0.8961625\ttotal: 35ms\tremaining: 265ms\n",
            "14:\tlearn: 0.8972912\ttotal: 38.3ms\tremaining: 268ms\n",
            "15:\tlearn: 0.8972912\ttotal: 42ms\tremaining: 273ms\n",
            "16:\tlearn: 0.8995485\ttotal: 50.6ms\tremaining: 306ms\n",
            "17:\tlearn: 0.8984199\ttotal: 53.2ms\tremaining: 302ms\n",
            "18:\tlearn: 0.8972912\ttotal: 53.8ms\tremaining: 286ms\n",
            "19:\tlearn: 0.8995485\ttotal: 56ms\tremaining: 280ms\n",
            "20:\tlearn: 0.9006772\ttotal: 58.3ms\tremaining: 275ms\n",
            "21:\tlearn: 0.8995485\ttotal: 60.9ms\tremaining: 271ms\n",
            "22:\tlearn: 0.9006772\ttotal: 66.8ms\tremaining: 282ms\n",
            "23:\tlearn: 0.9018059\ttotal: 69.1ms\tremaining: 276ms\n",
            "24:\tlearn: 0.9029345\ttotal: 71.5ms\tremaining: 272ms\n",
            "25:\tlearn: 0.9051919\ttotal: 73.9ms\tremaining: 267ms\n",
            "26:\tlearn: 0.9006772\ttotal: 74.3ms\tremaining: 256ms\n",
            "27:\tlearn: 0.9040632\ttotal: 81.9ms\tremaining: 269ms\n",
            "28:\tlearn: 0.9029345\ttotal: 84.3ms\tremaining: 265ms\n",
            "29:\tlearn: 0.9063205\ttotal: 86.8ms\tremaining: 260ms\n",
            "30:\tlearn: 0.9097065\ttotal: 90.2ms\tremaining: 259ms\n",
            "31:\tlearn: 0.9085779\ttotal: 93.8ms\tremaining: 258ms\n",
            "32:\tlearn: 0.9142212\ttotal: 98.2ms\tremaining: 259ms\n",
            "33:\tlearn: 0.9130926\ttotal: 102ms\tremaining: 258ms\n",
            "34:\tlearn: 0.9176072\ttotal: 105ms\tremaining: 256ms\n",
            "35:\tlearn: 0.9176072\ttotal: 108ms\tremaining: 252ms\n",
            "36:\tlearn: 0.9176072\ttotal: 121ms\tremaining: 270ms\n",
            "37:\tlearn: 0.9164786\ttotal: 123ms\tremaining: 265ms\n",
            "38:\tlearn: 0.9164786\ttotal: 132ms\tremaining: 274ms\n",
            "39:\tlearn: 0.9164786\ttotal: 134ms\tremaining: 269ms\n",
            "40:\tlearn: 0.9209932\ttotal: 137ms\tremaining: 264ms\n",
            "41:\tlearn: 0.9198646\ttotal: 139ms\tremaining: 259ms\n",
            "42:\tlearn: 0.9209932\ttotal: 142ms\tremaining: 255ms\n",
            "43:\tlearn: 0.9221219\ttotal: 145ms\tremaining: 250ms\n",
            "44:\tlearn: 0.9209932\ttotal: 147ms\tremaining: 245ms\n",
            "45:\tlearn: 0.9209932\ttotal: 150ms\tremaining: 241ms\n",
            "46:\tlearn: 0.9198646\ttotal: 152ms\tremaining: 237ms\n",
            "47:\tlearn: 0.9198646\ttotal: 156ms\tremaining: 234ms\n",
            "48:\tlearn: 0.9209932\ttotal: 158ms\tremaining: 229ms\n",
            "49:\tlearn: 0.9209932\ttotal: 161ms\tremaining: 225ms\n",
            "50:\tlearn: 0.9221219\ttotal: 163ms\tremaining: 221ms\n",
            "51:\tlearn: 0.9266366\ttotal: 168ms\tremaining: 220ms\n",
            "52:\tlearn: 0.9277652\ttotal: 180ms\tremaining: 228ms\n",
            "53:\tlearn: 0.9266366\ttotal: 182ms\tremaining: 223ms\n",
            "54:\tlearn: 0.9277652\ttotal: 185ms\tremaining: 218ms\n",
            "55:\tlearn: 0.9266366\ttotal: 187ms\tremaining: 214ms\n",
            "56:\tlearn: 0.9266366\ttotal: 190ms\tremaining: 210ms\n",
            "57:\tlearn: 0.9277652\ttotal: 193ms\tremaining: 206ms\n",
            "58:\tlearn: 0.9277652\ttotal: 195ms\tremaining: 201ms\n",
            "59:\tlearn: 0.9288939\ttotal: 197ms\tremaining: 197ms\n",
            "60:\tlearn: 0.9277652\ttotal: 200ms\tremaining: 193ms\n",
            "61:\tlearn: 0.9266366\ttotal: 202ms\tremaining: 189ms\n",
            "62:\tlearn: 0.9266366\ttotal: 203ms\tremaining: 184ms\n",
            "63:\tlearn: 0.9266366\ttotal: 206ms\tremaining: 180ms\n",
            "64:\tlearn: 0.9266366\ttotal: 208ms\tremaining: 176ms\n",
            "65:\tlearn: 0.9266366\ttotal: 211ms\tremaining: 172ms\n",
            "66:\tlearn: 0.9266366\ttotal: 225ms\tremaining: 178ms\n",
            "67:\tlearn: 0.9277652\ttotal: 232ms\tremaining: 178ms\n",
            "68:\tlearn: 0.9277652\ttotal: 235ms\tremaining: 174ms\n",
            "69:\tlearn: 0.9277652\ttotal: 237ms\tremaining: 170ms\n",
            "70:\tlearn: 0.9288939\ttotal: 240ms\tremaining: 165ms\n",
            "71:\tlearn: 0.9300226\ttotal: 242ms\tremaining: 161ms\n",
            "72:\tlearn: 0.9300226\ttotal: 244ms\tremaining: 157ms\n",
            "73:\tlearn: 0.9300226\ttotal: 247ms\tremaining: 153ms\n",
            "74:\tlearn: 0.9311512\ttotal: 249ms\tremaining: 150ms\n",
            "75:\tlearn: 0.9345372\ttotal: 252ms\tremaining: 146ms\n",
            "76:\tlearn: 0.9345372\ttotal: 254ms\tremaining: 142ms\n",
            "77:\tlearn: 0.9334086\ttotal: 256ms\tremaining: 138ms\n",
            "78:\tlearn: 0.9322799\ttotal: 259ms\tremaining: 134ms\n",
            "79:\tlearn: 0.9322799\ttotal: 262ms\tremaining: 131ms\n",
            "80:\tlearn: 0.9334086\ttotal: 265ms\tremaining: 127ms\n",
            "81:\tlearn: 0.9334086\ttotal: 268ms\tremaining: 124ms\n",
            "82:\tlearn: 0.9334086\ttotal: 270ms\tremaining: 120ms\n",
            "83:\tlearn: 0.9334086\ttotal: 274ms\tremaining: 117ms\n",
            "84:\tlearn: 0.9345372\ttotal: 276ms\tremaining: 114ms\n",
            "85:\tlearn: 0.9356659\ttotal: 279ms\tremaining: 110ms\n",
            "86:\tlearn: 0.9356659\ttotal: 281ms\tremaining: 107ms\n",
            "87:\tlearn: 0.9367946\ttotal: 283ms\tremaining: 103ms\n",
            "88:\tlearn: 0.9367946\ttotal: 287ms\tremaining: 99.9ms\n",
            "89:\tlearn: 0.9356659\ttotal: 290ms\tremaining: 96.6ms\n",
            "90:\tlearn: 0.9367946\ttotal: 292ms\tremaining: 93.1ms\n",
            "91:\tlearn: 0.9356659\ttotal: 294ms\tremaining: 89.6ms\n",
            "92:\tlearn: 0.9356659\ttotal: 297ms\tremaining: 86.2ms\n",
            "93:\tlearn: 0.9356659\ttotal: 300ms\tremaining: 83ms\n",
            "94:\tlearn: 0.9356659\ttotal: 306ms\tremaining: 80.7ms\n",
            "95:\tlearn: 0.9356659\ttotal: 313ms\tremaining: 78.3ms\n",
            "96:\tlearn: 0.9356659\ttotal: 320ms\tremaining: 75.9ms\n",
            "97:\tlearn: 0.9356659\ttotal: 327ms\tremaining: 73.4ms\n",
            "98:\tlearn: 0.9356659\ttotal: 334ms\tremaining: 70.8ms\n",
            "99:\tlearn: 0.9379233\ttotal: 342ms\tremaining: 68.3ms\n",
            "100:\tlearn: 0.9379233\ttotal: 345ms\tremaining: 64.9ms\n",
            "101:\tlearn: 0.9379233\ttotal: 353ms\tremaining: 62.2ms\n",
            "102:\tlearn: 0.9379233\ttotal: 359ms\tremaining: 59.3ms\n",
            "103:\tlearn: 0.9379233\ttotal: 367ms\tremaining: 56.4ms\n",
            "104:\tlearn: 0.9379233\ttotal: 384ms\tremaining: 54.9ms\n",
            "105:\tlearn: 0.9379233\ttotal: 395ms\tremaining: 52.1ms\n",
            "106:\tlearn: 0.9379233\ttotal: 407ms\tremaining: 49.4ms\n",
            "107:\tlearn: 0.9367946\ttotal: 431ms\tremaining: 47.9ms\n",
            "108:\tlearn: 0.9367946\ttotal: 438ms\tremaining: 44.2ms\n",
            "109:\tlearn: 0.9356659\ttotal: 442ms\tremaining: 40.2ms\n",
            "110:\tlearn: 0.9367946\ttotal: 452ms\tremaining: 36.7ms\n",
            "111:\tlearn: 0.9367946\ttotal: 462ms\tremaining: 33ms\n",
            "112:\tlearn: 0.9356659\ttotal: 471ms\tremaining: 29.2ms\n",
            "113:\tlearn: 0.9356659\ttotal: 477ms\tremaining: 25.1ms\n",
            "114:\tlearn: 0.9356659\ttotal: 484ms\tremaining: 21ms\n",
            "115:\tlearn: 0.9367946\ttotal: 490ms\tremaining: 16.9ms\n",
            "116:\tlearn: 0.9390519\ttotal: 497ms\tremaining: 12.7ms\n",
            "117:\tlearn: 0.9390519\ttotal: 503ms\tremaining: 8.52ms\n",
            "118:\tlearn: 0.9390519\ttotal: 508ms\tremaining: 4.27ms\n",
            "119:\tlearn: 0.9390519\ttotal: 515ms\tremaining: 0us\n",
            "0:\tlearn: 0.8724605\ttotal: 9.91ms\tremaining: 1.18s\n",
            "1:\tlearn: 0.8803612\ttotal: 17.5ms\tremaining: 1.03s\n",
            "2:\tlearn: 0.8848758\ttotal: 22.4ms\tremaining: 873ms\n",
            "3:\tlearn: 0.8792325\ttotal: 39.6ms\tremaining: 1.15s\n",
            "4:\tlearn: 0.8758465\ttotal: 43.1ms\tremaining: 992ms\n",
            "5:\tlearn: 0.8735892\ttotal: 47.1ms\tremaining: 895ms\n",
            "6:\tlearn: 0.8882619\ttotal: 54.2ms\tremaining: 875ms\n",
            "7:\tlearn: 0.8893905\ttotal: 60.7ms\tremaining: 850ms\n",
            "8:\tlearn: 0.8972912\ttotal: 68ms\tremaining: 838ms\n",
            "9:\tlearn: 0.8961625\ttotal: 75.7ms\tremaining: 833ms\n",
            "10:\tlearn: 0.8916479\ttotal: 87.9ms\tremaining: 871ms\n",
            "11:\tlearn: 0.8927765\ttotal: 97.2ms\tremaining: 875ms\n",
            "12:\tlearn: 0.8984199\ttotal: 110ms\tremaining: 906ms\n",
            "13:\tlearn: 0.8972912\ttotal: 113ms\tremaining: 855ms\n",
            "14:\tlearn: 0.8972912\ttotal: 116ms\tremaining: 809ms\n",
            "15:\tlearn: 0.8972912\ttotal: 122ms\tremaining: 794ms\n",
            "16:\tlearn: 0.9018059\ttotal: 129ms\tremaining: 784ms\n",
            "17:\tlearn: 0.9040632\ttotal: 136ms\tremaining: 770ms\n",
            "18:\tlearn: 0.9018059\ttotal: 139ms\tremaining: 739ms\n",
            "19:\tlearn: 0.9051919\ttotal: 144ms\tremaining: 720ms\n",
            "20:\tlearn: 0.9051919\ttotal: 150ms\tremaining: 709ms\n",
            "21:\tlearn: 0.9040632\ttotal: 152ms\tremaining: 677ms\n",
            "22:\tlearn: 0.9063205\ttotal: 156ms\tremaining: 658ms\n",
            "23:\tlearn: 0.9074492\ttotal: 163ms\tremaining: 654ms\n",
            "24:\tlearn: 0.9040632\ttotal: 168ms\tremaining: 638ms\n",
            "25:\tlearn: 0.9029345\ttotal: 175ms\tremaining: 633ms\n",
            "26:\tlearn: 0.9029345\ttotal: 183ms\tremaining: 630ms\n",
            "27:\tlearn: 0.9051919\ttotal: 190ms\tremaining: 624ms\n",
            "28:\tlearn: 0.9051919\ttotal: 196ms\tremaining: 616ms\n",
            "29:\tlearn: 0.9074492\ttotal: 201ms\tremaining: 602ms\n",
            "30:\tlearn: 0.9108352\ttotal: 208ms\tremaining: 598ms\n",
            "31:\tlearn: 0.9130926\ttotal: 215ms\tremaining: 590ms\n",
            "32:\tlearn: 0.9142212\ttotal: 221ms\tremaining: 584ms\n",
            "33:\tlearn: 0.9142212\ttotal: 228ms\tremaining: 577ms\n",
            "34:\tlearn: 0.9142212\ttotal: 235ms\tremaining: 570ms\n",
            "35:\tlearn: 0.9130926\ttotal: 242ms\tremaining: 564ms\n",
            "36:\tlearn: 0.9164786\ttotal: 249ms\tremaining: 558ms\n",
            "37:\tlearn: 0.9187359\ttotal: 256ms\tremaining: 551ms\n",
            "38:\tlearn: 0.9221219\ttotal: 265ms\tremaining: 550ms\n",
            "39:\tlearn: 0.9198646\ttotal: 275ms\tremaining: 549ms\n",
            "40:\tlearn: 0.9198646\ttotal: 280ms\tremaining: 539ms\n",
            "41:\tlearn: 0.9221219\ttotal: 289ms\tremaining: 536ms\n",
            "42:\tlearn: 0.9221219\ttotal: 296ms\tremaining: 530ms\n",
            "43:\tlearn: 0.9221219\ttotal: 303ms\tremaining: 524ms\n",
            "44:\tlearn: 0.9232506\ttotal: 319ms\tremaining: 532ms\n",
            "45:\tlearn: 0.9232506\ttotal: 324ms\tremaining: 522ms\n",
            "46:\tlearn: 0.9243792\ttotal: 334ms\tremaining: 519ms\n",
            "47:\tlearn: 0.9255079\ttotal: 341ms\tremaining: 511ms\n",
            "48:\tlearn: 0.9266366\ttotal: 347ms\tremaining: 503ms\n",
            "49:\tlearn: 0.9277652\ttotal: 354ms\tremaining: 495ms\n",
            "50:\tlearn: 0.9277652\ttotal: 362ms\tremaining: 490ms\n",
            "51:\tlearn: 0.9266366\ttotal: 368ms\tremaining: 481ms\n",
            "52:\tlearn: 0.9288939\ttotal: 375ms\tremaining: 474ms\n",
            "53:\tlearn: 0.9300226\ttotal: 387ms\tremaining: 472ms\n",
            "54:\tlearn: 0.9300226\ttotal: 393ms\tremaining: 465ms\n",
            "55:\tlearn: 0.9300226\ttotal: 400ms\tremaining: 457ms\n",
            "56:\tlearn: 0.9311512\ttotal: 407ms\tremaining: 450ms\n",
            "57:\tlearn: 0.9311512\ttotal: 414ms\tremaining: 442ms\n",
            "58:\tlearn: 0.9311512\ttotal: 420ms\tremaining: 435ms\n",
            "59:\tlearn: 0.9311512\ttotal: 427ms\tremaining: 427ms\n",
            "60:\tlearn: 0.9311512\ttotal: 433ms\tremaining: 419ms\n",
            "61:\tlearn: 0.9311512\ttotal: 440ms\tremaining: 412ms\n",
            "62:\tlearn: 0.9311512\ttotal: 446ms\tremaining: 404ms\n",
            "63:\tlearn: 0.9311512\ttotal: 454ms\tremaining: 398ms\n",
            "64:\tlearn: 0.9311512\ttotal: 460ms\tremaining: 389ms\n",
            "65:\tlearn: 0.9311512\ttotal: 467ms\tremaining: 382ms\n",
            "66:\tlearn: 0.9311512\ttotal: 478ms\tremaining: 378ms\n",
            "67:\tlearn: 0.9311512\ttotal: 484ms\tremaining: 370ms\n",
            "68:\tlearn: 0.9322799\ttotal: 491ms\tremaining: 363ms\n",
            "69:\tlearn: 0.9322799\ttotal: 498ms\tremaining: 356ms\n",
            "70:\tlearn: 0.9334086\ttotal: 503ms\tremaining: 347ms\n",
            "71:\tlearn: 0.9356659\ttotal: 511ms\tremaining: 341ms\n",
            "72:\tlearn: 0.9345372\ttotal: 515ms\tremaining: 332ms\n",
            "73:\tlearn: 0.9345372\ttotal: 523ms\tremaining: 325ms\n",
            "74:\tlearn: 0.9356659\ttotal: 530ms\tremaining: 318ms\n",
            "75:\tlearn: 0.9356659\ttotal: 536ms\tremaining: 310ms\n",
            "76:\tlearn: 0.9367946\ttotal: 543ms\tremaining: 303ms\n",
            "77:\tlearn: 0.9367946\ttotal: 552ms\tremaining: 297ms\n",
            "78:\tlearn: 0.9367946\ttotal: 557ms\tremaining: 289ms\n",
            "79:\tlearn: 0.9356659\ttotal: 564ms\tremaining: 282ms\n",
            "80:\tlearn: 0.9356659\ttotal: 567ms\tremaining: 273ms\n",
            "81:\tlearn: 0.9356659\ttotal: 572ms\tremaining: 265ms\n",
            "82:\tlearn: 0.9356659\ttotal: 580ms\tremaining: 259ms\n",
            "83:\tlearn: 0.9356659\ttotal: 587ms\tremaining: 251ms\n",
            "84:\tlearn: 0.9356659\ttotal: 594ms\tremaining: 244ms\n",
            "85:\tlearn: 0.9345372\ttotal: 596ms\tremaining: 236ms\n",
            "86:\tlearn: 0.9367946\ttotal: 601ms\tremaining: 228ms\n",
            "87:\tlearn: 0.9367946\ttotal: 608ms\tremaining: 221ms\n",
            "88:\tlearn: 0.9379233\ttotal: 616ms\tremaining: 215ms\n",
            "89:\tlearn: 0.9379233\ttotal: 621ms\tremaining: 207ms\n",
            "90:\tlearn: 0.9379233\ttotal: 628ms\tremaining: 200ms\n",
            "91:\tlearn: 0.9367946\ttotal: 634ms\tremaining: 193ms\n",
            "92:\tlearn: 0.9367946\ttotal: 639ms\tremaining: 186ms\n",
            "93:\tlearn: 0.9367946\ttotal: 654ms\tremaining: 181ms\n",
            "94:\tlearn: 0.9367946\ttotal: 658ms\tremaining: 173ms\n",
            "95:\tlearn: 0.9367946\ttotal: 665ms\tremaining: 166ms\n",
            "96:\tlearn: 0.9367946\ttotal: 669ms\tremaining: 159ms\n",
            "97:\tlearn: 0.9367946\ttotal: 673ms\tremaining: 151ms\n",
            "98:\tlearn: 0.9367946\ttotal: 680ms\tremaining: 144ms\n",
            "99:\tlearn: 0.9367946\ttotal: 686ms\tremaining: 137ms\n",
            "100:\tlearn: 0.9367946\ttotal: 691ms\tremaining: 130ms\n",
            "101:\tlearn: 0.9367946\ttotal: 697ms\tremaining: 123ms\n",
            "102:\tlearn: 0.9379233\ttotal: 702ms\tremaining: 116ms\n",
            "103:\tlearn: 0.9390519\ttotal: 709ms\tremaining: 109ms\n",
            "104:\tlearn: 0.9390519\ttotal: 715ms\tremaining: 102ms\n",
            "105:\tlearn: 0.9390519\ttotal: 724ms\tremaining: 95.6ms\n",
            "106:\tlearn: 0.9390519\ttotal: 733ms\tremaining: 89.1ms\n",
            "107:\tlearn: 0.9390519\ttotal: 739ms\tremaining: 82.1ms\n",
            "108:\tlearn: 0.9390519\ttotal: 751ms\tremaining: 75.8ms\n",
            "109:\tlearn: 0.9390519\ttotal: 757ms\tremaining: 68.8ms\n",
            "110:\tlearn: 0.9401806\ttotal: 763ms\tremaining: 61.8ms\n",
            "111:\tlearn: 0.9401806\ttotal: 768ms\tremaining: 54.9ms\n",
            "112:\tlearn: 0.9401806\ttotal: 776ms\tremaining: 48.1ms\n",
            "113:\tlearn: 0.9413093\ttotal: 783ms\tremaining: 41.2ms\n",
            "114:\tlearn: 0.9401806\ttotal: 787ms\tremaining: 34.2ms\n",
            "115:\tlearn: 0.9401806\ttotal: 794ms\tremaining: 27.4ms\n",
            "116:\tlearn: 0.9424379\ttotal: 801ms\tremaining: 20.5ms\n",
            "117:\tlearn: 0.9424379\ttotal: 808ms\tremaining: 13.7ms\n",
            "118:\tlearn: 0.9424379\ttotal: 821ms\tremaining: 6.9ms\n",
            "119:\tlearn: 0.9424379\ttotal: 828ms\tremaining: 0us\n",
            "0:\tlearn: 0.8668172\ttotal: 4.88ms\tremaining: 581ms\n",
            "1:\tlearn: 0.8758465\ttotal: 15.8ms\tremaining: 932ms\n",
            "2:\tlearn: 0.8871332\ttotal: 26ms\tremaining: 1.01s\n",
            "3:\tlearn: 0.8848758\ttotal: 29.9ms\tremaining: 866ms\n",
            "4:\tlearn: 0.8735892\ttotal: 30.4ms\tremaining: 700ms\n",
            "5:\tlearn: 0.8747178\ttotal: 31.4ms\tremaining: 597ms\n",
            "6:\tlearn: 0.8713318\ttotal: 32.2ms\tremaining: 519ms\n",
            "7:\tlearn: 0.8792325\ttotal: 34.8ms\tremaining: 487ms\n",
            "8:\tlearn: 0.8747178\ttotal: 37.5ms\tremaining: 462ms\n",
            "9:\tlearn: 0.8758465\ttotal: 40.1ms\tremaining: 441ms\n",
            "10:\tlearn: 0.8803612\ttotal: 42.7ms\tremaining: 423ms\n",
            "11:\tlearn: 0.8803612\ttotal: 45.4ms\tremaining: 409ms\n",
            "12:\tlearn: 0.8848758\ttotal: 48ms\tremaining: 395ms\n",
            "13:\tlearn: 0.8814898\ttotal: 49ms\tremaining: 371ms\n",
            "14:\tlearn: 0.8837472\ttotal: 51.6ms\tremaining: 361ms\n",
            "15:\tlearn: 0.8871332\ttotal: 54ms\tremaining: 351ms\n",
            "16:\tlearn: 0.8882619\ttotal: 56.7ms\tremaining: 344ms\n",
            "17:\tlearn: 0.8893905\ttotal: 59ms\tremaining: 334ms\n",
            "18:\tlearn: 0.8916479\ttotal: 61.6ms\tremaining: 328ms\n",
            "19:\tlearn: 0.8893905\ttotal: 64.3ms\tremaining: 321ms\n",
            "20:\tlearn: 0.8905192\ttotal: 66.8ms\tremaining: 315ms\n",
            "21:\tlearn: 0.8916479\ttotal: 69.3ms\tremaining: 309ms\n",
            "22:\tlearn: 0.8927765\ttotal: 73ms\tremaining: 308ms\n",
            "23:\tlearn: 0.8893905\ttotal: 75.2ms\tremaining: 301ms\n",
            "24:\tlearn: 0.8939052\ttotal: 77.6ms\tremaining: 295ms\n",
            "25:\tlearn: 0.8961625\ttotal: 80.1ms\tremaining: 289ms\n",
            "26:\tlearn: 0.8984199\ttotal: 82.5ms\tremaining: 284ms\n",
            "27:\tlearn: 0.9006772\ttotal: 85ms\tremaining: 279ms\n",
            "28:\tlearn: 0.9018059\ttotal: 87.5ms\tremaining: 274ms\n",
            "29:\tlearn: 0.9029345\ttotal: 90.2ms\tremaining: 271ms\n",
            "30:\tlearn: 0.9051919\ttotal: 92.8ms\tremaining: 267ms\n",
            "31:\tlearn: 0.9040632\ttotal: 95.5ms\tremaining: 263ms\n",
            "32:\tlearn: 0.9074492\ttotal: 98.1ms\tremaining: 259ms\n",
            "33:\tlearn: 0.9074492\ttotal: 101ms\tremaining: 255ms\n",
            "34:\tlearn: 0.9085779\ttotal: 104ms\tremaining: 252ms\n",
            "35:\tlearn: 0.9085779\ttotal: 106ms\tremaining: 248ms\n",
            "36:\tlearn: 0.9108352\ttotal: 109ms\tremaining: 245ms\n",
            "37:\tlearn: 0.9130926\ttotal: 112ms\tremaining: 243ms\n",
            "38:\tlearn: 0.9142212\ttotal: 115ms\tremaining: 239ms\n",
            "39:\tlearn: 0.9142212\ttotal: 117ms\tremaining: 235ms\n",
            "40:\tlearn: 0.9130926\ttotal: 120ms\tremaining: 232ms\n",
            "41:\tlearn: 0.9142212\ttotal: 123ms\tremaining: 228ms\n",
            "42:\tlearn: 0.9176072\ttotal: 125ms\tremaining: 224ms\n",
            "43:\tlearn: 0.9187359\ttotal: 128ms\tremaining: 221ms\n",
            "44:\tlearn: 0.9187359\ttotal: 130ms\tremaining: 217ms\n",
            "45:\tlearn: 0.9198646\ttotal: 132ms\tremaining: 213ms\n",
            "46:\tlearn: 0.9198646\ttotal: 135ms\tremaining: 210ms\n",
            "47:\tlearn: 0.9176072\ttotal: 138ms\tremaining: 207ms\n",
            "48:\tlearn: 0.9176072\ttotal: 141ms\tremaining: 204ms\n",
            "49:\tlearn: 0.9187359\ttotal: 143ms\tremaining: 201ms\n",
            "50:\tlearn: 0.9187359\ttotal: 146ms\tremaining: 197ms\n",
            "51:\tlearn: 0.9209932\ttotal: 149ms\tremaining: 195ms\n",
            "52:\tlearn: 0.9221219\ttotal: 152ms\tremaining: 192ms\n",
            "53:\tlearn: 0.9221219\ttotal: 154ms\tremaining: 189ms\n",
            "54:\tlearn: 0.9232506\ttotal: 157ms\tremaining: 186ms\n",
            "55:\tlearn: 0.9209932\ttotal: 160ms\tremaining: 182ms\n",
            "56:\tlearn: 0.9232506\ttotal: 162ms\tremaining: 179ms\n",
            "57:\tlearn: 0.9232506\ttotal: 165ms\tremaining: 176ms\n",
            "58:\tlearn: 0.9221219\ttotal: 168ms\tremaining: 173ms\n",
            "59:\tlearn: 0.9232506\ttotal: 170ms\tremaining: 170ms\n",
            "60:\tlearn: 0.9243792\ttotal: 173ms\tremaining: 167ms\n",
            "61:\tlearn: 0.9255079\ttotal: 175ms\tremaining: 164ms\n",
            "62:\tlearn: 0.9243792\ttotal: 176ms\tremaining: 160ms\n",
            "63:\tlearn: 0.9232506\ttotal: 179ms\tremaining: 157ms\n",
            "64:\tlearn: 0.9243792\ttotal: 182ms\tremaining: 154ms\n",
            "65:\tlearn: 0.9277652\ttotal: 184ms\tremaining: 151ms\n",
            "66:\tlearn: 0.9277652\ttotal: 187ms\tremaining: 148ms\n",
            "67:\tlearn: 0.9266366\ttotal: 192ms\tremaining: 147ms\n",
            "68:\tlearn: 0.9277652\ttotal: 195ms\tremaining: 144ms\n",
            "69:\tlearn: 0.9300226\ttotal: 198ms\tremaining: 141ms\n",
            "70:\tlearn: 0.9311512\ttotal: 202ms\tremaining: 139ms\n",
            "71:\tlearn: 0.9311512\ttotal: 205ms\tremaining: 137ms\n",
            "72:\tlearn: 0.9311512\ttotal: 208ms\tremaining: 134ms\n",
            "73:\tlearn: 0.9322799\ttotal: 212ms\tremaining: 132ms\n",
            "74:\tlearn: 0.9322799\ttotal: 215ms\tremaining: 129ms\n",
            "75:\tlearn: 0.9322799\ttotal: 221ms\tremaining: 128ms\n",
            "76:\tlearn: 0.9345372\ttotal: 223ms\tremaining: 125ms\n",
            "77:\tlearn: 0.9345372\ttotal: 226ms\tremaining: 121ms\n",
            "78:\tlearn: 0.9334086\ttotal: 228ms\tremaining: 118ms\n",
            "79:\tlearn: 0.9345372\ttotal: 230ms\tremaining: 115ms\n",
            "80:\tlearn: 0.9334086\ttotal: 233ms\tremaining: 112ms\n",
            "81:\tlearn: 0.9334086\ttotal: 236ms\tremaining: 109ms\n",
            "82:\tlearn: 0.9345372\ttotal: 242ms\tremaining: 108ms\n",
            "83:\tlearn: 0.9345372\ttotal: 244ms\tremaining: 105ms\n",
            "84:\tlearn: 0.9345372\ttotal: 246ms\tremaining: 101ms\n",
            "85:\tlearn: 0.9322799\ttotal: 249ms\tremaining: 98.3ms\n",
            "86:\tlearn: 0.9322799\ttotal: 251ms\tremaining: 95.2ms\n",
            "87:\tlearn: 0.9322799\ttotal: 253ms\tremaining: 91.9ms\n",
            "88:\tlearn: 0.9322799\ttotal: 255ms\tremaining: 89ms\n",
            "89:\tlearn: 0.9322799\ttotal: 258ms\tremaining: 86ms\n",
            "90:\tlearn: 0.9322799\ttotal: 259ms\tremaining: 82.5ms\n",
            "91:\tlearn: 0.9322799\ttotal: 261ms\tremaining: 79.5ms\n",
            "92:\tlearn: 0.9322799\ttotal: 264ms\tremaining: 76.5ms\n",
            "93:\tlearn: 0.9334086\ttotal: 266ms\tremaining: 73.6ms\n",
            "94:\tlearn: 0.9345372\ttotal: 269ms\tremaining: 70.7ms\n",
            "95:\tlearn: 0.9334086\ttotal: 271ms\tremaining: 67.8ms\n",
            "96:\tlearn: 0.9334086\ttotal: 274ms\tremaining: 64.9ms\n",
            "97:\tlearn: 0.9334086\ttotal: 276ms\tremaining: 62ms\n",
            "98:\tlearn: 0.9334086\ttotal: 279ms\tremaining: 59.1ms\n",
            "99:\tlearn: 0.9334086\ttotal: 281ms\tremaining: 56.2ms\n",
            "100:\tlearn: 0.9334086\ttotal: 284ms\tremaining: 53.3ms\n",
            "101:\tlearn: 0.9334086\ttotal: 286ms\tremaining: 50.5ms\n",
            "102:\tlearn: 0.9334086\ttotal: 288ms\tremaining: 47.6ms\n",
            "103:\tlearn: 0.9334086\ttotal: 291ms\tremaining: 44.7ms\n",
            "104:\tlearn: 0.9334086\ttotal: 293ms\tremaining: 41.9ms\n",
            "105:\tlearn: 0.9334086\ttotal: 296ms\tremaining: 39.1ms\n",
            "106:\tlearn: 0.9334086\ttotal: 298ms\tremaining: 36.2ms\n",
            "107:\tlearn: 0.9334086\ttotal: 301ms\tremaining: 33.4ms\n",
            "108:\tlearn: 0.9334086\ttotal: 303ms\tremaining: 30.6ms\n",
            "109:\tlearn: 0.9345372\ttotal: 306ms\tremaining: 27.8ms\n",
            "110:\tlearn: 0.9367946\ttotal: 308ms\tremaining: 25ms\n",
            "111:\tlearn: 0.9356659\ttotal: 311ms\tremaining: 22.2ms\n",
            "112:\tlearn: 0.9356659\ttotal: 314ms\tremaining: 19.4ms\n",
            "113:\tlearn: 0.9356659\ttotal: 316ms\tremaining: 16.6ms\n",
            "114:\tlearn: 0.9356659\ttotal: 319ms\tremaining: 13.9ms\n",
            "115:\tlearn: 0.9345372\ttotal: 321ms\tremaining: 11.1ms\n",
            "116:\tlearn: 0.9345372\ttotal: 324ms\tremaining: 8.3ms\n",
            "117:\tlearn: 0.9345372\ttotal: 327ms\tremaining: 5.53ms\n",
            "118:\tlearn: 0.9345372\ttotal: 329ms\tremaining: 2.76ms\n",
            "119:\tlearn: 0.9345372\ttotal: 331ms\tremaining: 0us\n",
            "0:\tlearn: 0.8623025\ttotal: 2.51ms\tremaining: 299ms\n",
            "1:\tlearn: 0.8758465\ttotal: 4.76ms\tremaining: 281ms\n",
            "2:\tlearn: 0.8871332\ttotal: 7.49ms\tremaining: 292ms\n",
            "3:\tlearn: 0.8848758\ttotal: 10.3ms\tremaining: 298ms\n",
            "4:\tlearn: 0.8792325\ttotal: 11.2ms\tremaining: 257ms\n",
            "5:\tlearn: 0.8747178\ttotal: 12.1ms\tremaining: 230ms\n",
            "6:\tlearn: 0.8814898\ttotal: 13ms\tremaining: 210ms\n",
            "7:\tlearn: 0.8837472\ttotal: 16.5ms\tremaining: 231ms\n",
            "8:\tlearn: 0.8814898\ttotal: 20.8ms\tremaining: 256ms\n",
            "9:\tlearn: 0.8814898\ttotal: 24.1ms\tremaining: 265ms\n",
            "10:\tlearn: 0.8758465\ttotal: 26.8ms\tremaining: 266ms\n",
            "11:\tlearn: 0.8814898\ttotal: 29.2ms\tremaining: 263ms\n",
            "12:\tlearn: 0.8837472\ttotal: 32.6ms\tremaining: 268ms\n",
            "13:\tlearn: 0.8814898\ttotal: 35.8ms\tremaining: 271ms\n",
            "14:\tlearn: 0.8860045\ttotal: 39.4ms\tremaining: 276ms\n",
            "15:\tlearn: 0.8860045\ttotal: 42ms\tremaining: 273ms\n",
            "16:\tlearn: 0.8860045\ttotal: 44.8ms\tremaining: 271ms\n",
            "17:\tlearn: 0.8905192\ttotal: 47.4ms\tremaining: 268ms\n",
            "18:\tlearn: 0.8916479\ttotal: 50ms\tremaining: 266ms\n",
            "19:\tlearn: 0.8893905\ttotal: 52.7ms\tremaining: 264ms\n",
            "20:\tlearn: 0.8916479\ttotal: 56.2ms\tremaining: 265ms\n",
            "21:\tlearn: 0.8950339\ttotal: 59.7ms\tremaining: 266ms\n",
            "22:\tlearn: 0.8927765\ttotal: 62.7ms\tremaining: 264ms\n",
            "23:\tlearn: 0.8995485\ttotal: 65.5ms\tremaining: 262ms\n",
            "24:\tlearn: 0.8995485\ttotal: 68.2ms\tremaining: 259ms\n",
            "25:\tlearn: 0.8972912\ttotal: 70.8ms\tremaining: 256ms\n",
            "26:\tlearn: 0.9018059\ttotal: 72.6ms\tremaining: 250ms\n",
            "27:\tlearn: 0.9006772\ttotal: 75.5ms\tremaining: 248ms\n",
            "28:\tlearn: 0.9018059\ttotal: 78.4ms\tremaining: 246ms\n",
            "29:\tlearn: 0.9006772\ttotal: 81.2ms\tremaining: 244ms\n",
            "30:\tlearn: 0.9074492\ttotal: 83.8ms\tremaining: 241ms\n",
            "31:\tlearn: 0.9074492\ttotal: 86.7ms\tremaining: 238ms\n",
            "32:\tlearn: 0.9074492\ttotal: 89.3ms\tremaining: 236ms\n",
            "33:\tlearn: 0.9108352\ttotal: 91.9ms\tremaining: 232ms\n",
            "34:\tlearn: 0.9142212\ttotal: 94.3ms\tremaining: 229ms\n",
            "35:\tlearn: 0.9176072\ttotal: 96.9ms\tremaining: 226ms\n",
            "36:\tlearn: 0.9187359\ttotal: 99.5ms\tremaining: 223ms\n",
            "37:\tlearn: 0.9187359\ttotal: 102ms\tremaining: 220ms\n",
            "38:\tlearn: 0.9176072\ttotal: 105ms\tremaining: 217ms\n",
            "39:\tlearn: 0.9187359\ttotal: 107ms\tremaining: 214ms\n",
            "40:\tlearn: 0.9187359\ttotal: 110ms\tremaining: 211ms\n",
            "41:\tlearn: 0.9209932\ttotal: 112ms\tremaining: 208ms\n",
            "42:\tlearn: 0.9221219\ttotal: 115ms\tremaining: 205ms\n",
            "43:\tlearn: 0.9232506\ttotal: 117ms\tremaining: 202ms\n",
            "44:\tlearn: 0.9243792\ttotal: 120ms\tremaining: 199ms\n",
            "45:\tlearn: 0.9243792\ttotal: 122ms\tremaining: 197ms\n",
            "46:\tlearn: 0.9255079\ttotal: 125ms\tremaining: 194ms\n",
            "47:\tlearn: 0.9255079\ttotal: 127ms\tremaining: 191ms\n",
            "48:\tlearn: 0.9243792\ttotal: 130ms\tremaining: 188ms\n",
            "49:\tlearn: 0.9255079\ttotal: 132ms\tremaining: 185ms\n",
            "50:\tlearn: 0.9266366\ttotal: 135ms\tremaining: 183ms\n",
            "51:\tlearn: 0.9266366\ttotal: 138ms\tremaining: 180ms\n",
            "52:\tlearn: 0.9266366\ttotal: 140ms\tremaining: 177ms\n",
            "53:\tlearn: 0.9266366\ttotal: 143ms\tremaining: 175ms\n",
            "54:\tlearn: 0.9266366\ttotal: 147ms\tremaining: 174ms\n",
            "55:\tlearn: 0.9277652\ttotal: 151ms\tremaining: 172ms\n",
            "56:\tlearn: 0.9300226\ttotal: 153ms\tremaining: 169ms\n",
            "57:\tlearn: 0.9300226\ttotal: 156ms\tremaining: 166ms\n",
            "58:\tlearn: 0.9288939\ttotal: 156ms\tremaining: 162ms\n",
            "59:\tlearn: 0.9300226\ttotal: 159ms\tremaining: 159ms\n",
            "60:\tlearn: 0.9322799\ttotal: 162ms\tremaining: 156ms\n",
            "61:\tlearn: 0.9311512\ttotal: 164ms\tremaining: 154ms\n",
            "62:\tlearn: 0.9300226\ttotal: 167ms\tremaining: 151ms\n",
            "63:\tlearn: 0.9322799\ttotal: 169ms\tremaining: 148ms\n",
            "64:\tlearn: 0.9345372\ttotal: 172ms\tremaining: 145ms\n",
            "65:\tlearn: 0.9345372\ttotal: 174ms\tremaining: 143ms\n",
            "66:\tlearn: 0.9356659\ttotal: 177ms\tremaining: 140ms\n",
            "67:\tlearn: 0.9356659\ttotal: 179ms\tremaining: 137ms\n",
            "68:\tlearn: 0.9345372\ttotal: 182ms\tremaining: 134ms\n",
            "69:\tlearn: 0.9345372\ttotal: 184ms\tremaining: 132ms\n",
            "70:\tlearn: 0.9345372\ttotal: 190ms\tremaining: 131ms\n",
            "71:\tlearn: 0.9345372\ttotal: 193ms\tremaining: 129ms\n",
            "72:\tlearn: 0.9345372\ttotal: 196ms\tremaining: 126ms\n",
            "73:\tlearn: 0.9345372\ttotal: 199ms\tremaining: 124ms\n",
            "74:\tlearn: 0.9345372\ttotal: 201ms\tremaining: 121ms\n",
            "75:\tlearn: 0.9322799\ttotal: 205ms\tremaining: 118ms\n",
            "76:\tlearn: 0.9334086\ttotal: 207ms\tremaining: 116ms\n",
            "77:\tlearn: 0.9345372\ttotal: 210ms\tremaining: 113ms\n",
            "78:\tlearn: 0.9345372\ttotal: 213ms\tremaining: 110ms\n",
            "79:\tlearn: 0.9356659\ttotal: 215ms\tremaining: 108ms\n",
            "80:\tlearn: 0.9356659\ttotal: 220ms\tremaining: 106ms\n",
            "81:\tlearn: 0.9356659\ttotal: 225ms\tremaining: 104ms\n",
            "82:\tlearn: 0.9356659\ttotal: 226ms\tremaining: 101ms\n",
            "83:\tlearn: 0.9356659\ttotal: 229ms\tremaining: 98ms\n",
            "84:\tlearn: 0.9356659\ttotal: 231ms\tremaining: 95.3ms\n",
            "85:\tlearn: 0.9356659\ttotal: 233ms\tremaining: 92ms\n",
            "86:\tlearn: 0.9356659\ttotal: 235ms\tremaining: 89.3ms\n",
            "87:\tlearn: 0.9356659\ttotal: 238ms\tremaining: 86.5ms\n",
            "88:\tlearn: 0.9356659\ttotal: 241ms\tremaining: 83.9ms\n",
            "89:\tlearn: 0.9356659\ttotal: 243ms\tremaining: 81.1ms\n",
            "90:\tlearn: 0.9356659\ttotal: 246ms\tremaining: 78.3ms\n",
            "91:\tlearn: 0.9356659\ttotal: 247ms\tremaining: 75.2ms\n",
            "92:\tlearn: 0.9356659\ttotal: 249ms\tremaining: 72.4ms\n",
            "93:\tlearn: 0.9356659\ttotal: 252ms\tremaining: 69.7ms\n",
            "94:\tlearn: 0.9356659\ttotal: 255ms\tremaining: 67ms\n",
            "95:\tlearn: 0.9356659\ttotal: 257ms\tremaining: 64.3ms\n",
            "96:\tlearn: 0.9367946\ttotal: 260ms\tremaining: 61.6ms\n",
            "97:\tlearn: 0.9367946\ttotal: 262ms\tremaining: 58.8ms\n",
            "98:\tlearn: 0.9367946\ttotal: 265ms\tremaining: 56.1ms\n",
            "99:\tlearn: 0.9367946\ttotal: 267ms\tremaining: 53.5ms\n",
            "100:\tlearn: 0.9367946\ttotal: 270ms\tremaining: 50.8ms\n",
            "101:\tlearn: 0.9367946\ttotal: 272ms\tremaining: 48.1ms\n",
            "102:\tlearn: 0.9367946\ttotal: 274ms\tremaining: 45.1ms\n",
            "103:\tlearn: 0.9367946\ttotal: 276ms\tremaining: 42.4ms\n",
            "104:\tlearn: 0.9367946\ttotal: 278ms\tremaining: 39.8ms\n",
            "105:\tlearn: 0.9367946\ttotal: 281ms\tremaining: 37.1ms\n",
            "106:\tlearn: 0.9367946\ttotal: 284ms\tremaining: 34.5ms\n",
            "107:\tlearn: 0.9367946\ttotal: 286ms\tremaining: 31.8ms\n",
            "108:\tlearn: 0.9367946\ttotal: 288ms\tremaining: 29.1ms\n",
            "109:\tlearn: 0.9367946\ttotal: 291ms\tremaining: 26.5ms\n",
            "110:\tlearn: 0.9367946\ttotal: 295ms\tremaining: 23.9ms\n",
            "111:\tlearn: 0.9367946\ttotal: 298ms\tremaining: 21.3ms\n",
            "112:\tlearn: 0.9356659\ttotal: 300ms\tremaining: 18.6ms\n",
            "113:\tlearn: 0.9356659\ttotal: 303ms\tremaining: 15.9ms\n",
            "114:\tlearn: 0.9356659\ttotal: 306ms\tremaining: 13.3ms\n",
            "115:\tlearn: 0.9356659\ttotal: 309ms\tremaining: 10.6ms\n",
            "116:\tlearn: 0.9356659\ttotal: 311ms\tremaining: 7.99ms\n",
            "117:\tlearn: 0.9367946\ttotal: 314ms\tremaining: 5.32ms\n",
            "118:\tlearn: 0.9356659\ttotal: 316ms\tremaining: 2.66ms\n",
            "119:\tlearn: 0.9367946\ttotal: 319ms\tremaining: 0us\n",
            "0:\tlearn: 0.8713318\ttotal: 2.97ms\tremaining: 353ms\n",
            "1:\tlearn: 0.8814898\ttotal: 5.71ms\tremaining: 337ms\n",
            "2:\tlearn: 0.8893905\ttotal: 8.22ms\tremaining: 321ms\n",
            "3:\tlearn: 0.8927765\ttotal: 10.7ms\tremaining: 309ms\n",
            "4:\tlearn: 0.8803612\ttotal: 11.6ms\tremaining: 266ms\n",
            "5:\tlearn: 0.8837472\ttotal: 14.4ms\tremaining: 273ms\n",
            "6:\tlearn: 0.8972912\ttotal: 17.4ms\tremaining: 280ms\n",
            "7:\tlearn: 0.8995485\ttotal: 21.1ms\tremaining: 296ms\n",
            "8:\tlearn: 0.9018059\ttotal: 24.7ms\tremaining: 304ms\n",
            "9:\tlearn: 0.9006772\ttotal: 26.9ms\tremaining: 296ms\n",
            "10:\tlearn: 0.8984199\ttotal: 29.3ms\tremaining: 291ms\n",
            "11:\tlearn: 0.9029345\ttotal: 31.7ms\tremaining: 285ms\n",
            "12:\tlearn: 0.9051919\ttotal: 33.8ms\tremaining: 278ms\n",
            "13:\tlearn: 0.9018059\ttotal: 36.3ms\tremaining: 275ms\n",
            "14:\tlearn: 0.9040632\ttotal: 38.8ms\tremaining: 272ms\n",
            "15:\tlearn: 0.9040632\ttotal: 41.5ms\tremaining: 270ms\n",
            "16:\tlearn: 0.9051919\ttotal: 44ms\tremaining: 267ms\n",
            "17:\tlearn: 0.9085779\ttotal: 46.7ms\tremaining: 265ms\n",
            "18:\tlearn: 0.9051919\ttotal: 47.6ms\tremaining: 253ms\n",
            "19:\tlearn: 0.9085779\ttotal: 50.2ms\tremaining: 251ms\n",
            "20:\tlearn: 0.9051919\ttotal: 54.6ms\tremaining: 257ms\n",
            "21:\tlearn: 0.9085779\ttotal: 58.7ms\tremaining: 261ms\n",
            "22:\tlearn: 0.9097065\ttotal: 63.9ms\tremaining: 270ms\n",
            "23:\tlearn: 0.9130926\ttotal: 66.6ms\tremaining: 267ms\n",
            "24:\tlearn: 0.9142212\ttotal: 69.4ms\tremaining: 264ms\n",
            "25:\tlearn: 0.9142212\ttotal: 71.8ms\tremaining: 259ms\n",
            "26:\tlearn: 0.9130926\ttotal: 72.4ms\tremaining: 250ms\n",
            "27:\tlearn: 0.9130926\ttotal: 75.9ms\tremaining: 250ms\n",
            "28:\tlearn: 0.9142212\ttotal: 79.4ms\tremaining: 249ms\n",
            "29:\tlearn: 0.9153499\ttotal: 84ms\tremaining: 252ms\n",
            "30:\tlearn: 0.9176072\ttotal: 85.2ms\tremaining: 245ms\n",
            "31:\tlearn: 0.9187359\ttotal: 87.8ms\tremaining: 241ms\n",
            "32:\tlearn: 0.9198646\ttotal: 90.2ms\tremaining: 238ms\n",
            "33:\tlearn: 0.9198646\ttotal: 92.7ms\tremaining: 235ms\n",
            "34:\tlearn: 0.9209932\ttotal: 95.2ms\tremaining: 231ms\n",
            "35:\tlearn: 0.9221219\ttotal: 98ms\tremaining: 229ms\n",
            "36:\tlearn: 0.9221219\ttotal: 100ms\tremaining: 225ms\n",
            "37:\tlearn: 0.9243792\ttotal: 103ms\tremaining: 222ms\n",
            "38:\tlearn: 0.9255079\ttotal: 106ms\tremaining: 219ms\n",
            "39:\tlearn: 0.9255079\ttotal: 108ms\tremaining: 216ms\n",
            "40:\tlearn: 0.9255079\ttotal: 110ms\tremaining: 213ms\n",
            "41:\tlearn: 0.9255079\ttotal: 113ms\tremaining: 210ms\n",
            "42:\tlearn: 0.9255079\ttotal: 115ms\tremaining: 207ms\n",
            "43:\tlearn: 0.9255079\ttotal: 118ms\tremaining: 204ms\n",
            "44:\tlearn: 0.9255079\ttotal: 120ms\tremaining: 201ms\n",
            "45:\tlearn: 0.9255079\ttotal: 123ms\tremaining: 198ms\n",
            "46:\tlearn: 0.9255079\ttotal: 125ms\tremaining: 195ms\n",
            "47:\tlearn: 0.9255079\ttotal: 128ms\tremaining: 192ms\n",
            "48:\tlearn: 0.9255079\ttotal: 130ms\tremaining: 189ms\n",
            "49:\tlearn: 0.9255079\ttotal: 133ms\tremaining: 186ms\n",
            "50:\tlearn: 0.9255079\ttotal: 135ms\tremaining: 183ms\n",
            "51:\tlearn: 0.9255079\ttotal: 137ms\tremaining: 180ms\n",
            "52:\tlearn: 0.9266366\ttotal: 140ms\tremaining: 177ms\n",
            "53:\tlearn: 0.9266366\ttotal: 143ms\tremaining: 174ms\n",
            "54:\tlearn: 0.9266366\ttotal: 145ms\tremaining: 171ms\n",
            "55:\tlearn: 0.9266366\ttotal: 147ms\tremaining: 168ms\n",
            "56:\tlearn: 0.9277652\ttotal: 150ms\tremaining: 165ms\n",
            "57:\tlearn: 0.9300226\ttotal: 152ms\tremaining: 162ms\n",
            "58:\tlearn: 0.9288939\ttotal: 154ms\tremaining: 160ms\n",
            "59:\tlearn: 0.9288939\ttotal: 157ms\tremaining: 157ms\n",
            "60:\tlearn: 0.9288939\ttotal: 159ms\tremaining: 154ms\n",
            "61:\tlearn: 0.9300226\ttotal: 162ms\tremaining: 152ms\n",
            "62:\tlearn: 0.9288939\ttotal: 165ms\tremaining: 149ms\n",
            "63:\tlearn: 0.9311512\ttotal: 168ms\tremaining: 147ms\n",
            "64:\tlearn: 0.9300226\ttotal: 170ms\tremaining: 144ms\n",
            "65:\tlearn: 0.9300226\ttotal: 174ms\tremaining: 142ms\n",
            "66:\tlearn: 0.9300226\ttotal: 178ms\tremaining: 140ms\n",
            "67:\tlearn: 0.9300226\ttotal: 180ms\tremaining: 138ms\n",
            "68:\tlearn: 0.9300226\ttotal: 183ms\tremaining: 135ms\n",
            "69:\tlearn: 0.9311512\ttotal: 185ms\tremaining: 132ms\n",
            "70:\tlearn: 0.9311512\ttotal: 188ms\tremaining: 130ms\n",
            "71:\tlearn: 0.9311512\ttotal: 190ms\tremaining: 127ms\n",
            "72:\tlearn: 0.9311512\ttotal: 193ms\tremaining: 124ms\n",
            "73:\tlearn: 0.9311512\ttotal: 195ms\tremaining: 122ms\n",
            "74:\tlearn: 0.9311512\ttotal: 198ms\tremaining: 119ms\n",
            "75:\tlearn: 0.9311512\ttotal: 201ms\tremaining: 116ms\n",
            "76:\tlearn: 0.9311512\ttotal: 204ms\tremaining: 114ms\n",
            "77:\tlearn: 0.9311512\ttotal: 209ms\tremaining: 112ms\n",
            "78:\tlearn: 0.9311512\ttotal: 214ms\tremaining: 111ms\n",
            "79:\tlearn: 0.9311512\ttotal: 216ms\tremaining: 108ms\n",
            "80:\tlearn: 0.9311512\ttotal: 220ms\tremaining: 106ms\n",
            "81:\tlearn: 0.9322799\ttotal: 222ms\tremaining: 103ms\n",
            "82:\tlearn: 0.9322799\ttotal: 225ms\tremaining: 100ms\n",
            "83:\tlearn: 0.9334086\ttotal: 227ms\tremaining: 97.4ms\n",
            "84:\tlearn: 0.9334086\ttotal: 230ms\tremaining: 94.6ms\n",
            "85:\tlearn: 0.9334086\ttotal: 232ms\tremaining: 91.8ms\n",
            "86:\tlearn: 0.9334086\ttotal: 235ms\tremaining: 89.1ms\n",
            "87:\tlearn: 0.9334086\ttotal: 238ms\tremaining: 86.4ms\n",
            "88:\tlearn: 0.9334086\ttotal: 243ms\tremaining: 84.6ms\n",
            "89:\tlearn: 0.9334086\ttotal: 248ms\tremaining: 82.6ms\n",
            "90:\tlearn: 0.9334086\ttotal: 251ms\tremaining: 79.9ms\n",
            "91:\tlearn: 0.9334086\ttotal: 251ms\tremaining: 76.5ms\n",
            "92:\tlearn: 0.9334086\ttotal: 254ms\tremaining: 73.7ms\n",
            "93:\tlearn: 0.9334086\ttotal: 256ms\tremaining: 70.9ms\n",
            "94:\tlearn: 0.9345372\ttotal: 259ms\tremaining: 68.1ms\n",
            "95:\tlearn: 0.9345372\ttotal: 261ms\tremaining: 65.3ms\n",
            "96:\tlearn: 0.9345372\ttotal: 264ms\tremaining: 62.5ms\n",
            "97:\tlearn: 0.9345372\ttotal: 266ms\tremaining: 59.8ms\n",
            "98:\tlearn: 0.9345372\ttotal: 269ms\tremaining: 57ms\n",
            "99:\tlearn: 0.9356659\ttotal: 271ms\tremaining: 54.2ms\n",
            "100:\tlearn: 0.9356659\ttotal: 273ms\tremaining: 51.4ms\n",
            "101:\tlearn: 0.9356659\ttotal: 276ms\tremaining: 48.6ms\n",
            "102:\tlearn: 0.9356659\ttotal: 278ms\tremaining: 45.9ms\n",
            "103:\tlearn: 0.9356659\ttotal: 280ms\tremaining: 43.1ms\n",
            "104:\tlearn: 0.9356659\ttotal: 283ms\tremaining: 40.4ms\n",
            "105:\tlearn: 0.9367946\ttotal: 285ms\tremaining: 37.7ms\n",
            "106:\tlearn: 0.9367946\ttotal: 287ms\tremaining: 34.9ms\n",
            "107:\tlearn: 0.9367946\ttotal: 289ms\tremaining: 32.1ms\n",
            "108:\tlearn: 0.9367946\ttotal: 292ms\tremaining: 29.4ms\n",
            "109:\tlearn: 0.9367946\ttotal: 294ms\tremaining: 26.7ms\n",
            "110:\tlearn: 0.9379233\ttotal: 297ms\tremaining: 24.1ms\n",
            "111:\tlearn: 0.9390519\ttotal: 299ms\tremaining: 21.4ms\n",
            "112:\tlearn: 0.9379233\ttotal: 302ms\tremaining: 18.7ms\n",
            "113:\tlearn: 0.9390519\ttotal: 305ms\tremaining: 16.1ms\n",
            "114:\tlearn: 0.9390519\ttotal: 309ms\tremaining: 13.4ms\n",
            "115:\tlearn: 0.9390519\ttotal: 311ms\tremaining: 10.7ms\n",
            "116:\tlearn: 0.9401806\ttotal: 314ms\tremaining: 8.05ms\n",
            "117:\tlearn: 0.9401806\ttotal: 316ms\tremaining: 5.36ms\n",
            "118:\tlearn: 0.9424379\ttotal: 319ms\tremaining: 2.68ms\n",
            "119:\tlearn: 0.9413093\ttotal: 321ms\tremaining: 0us\n",
            "0:\tlearn: 0.8658399\ttotal: 2.47ms\tremaining: 294ms\n",
            "1:\tlearn: 0.8748591\ttotal: 4.93ms\tremaining: 291ms\n",
            "2:\tlearn: 0.8883878\ttotal: 7.46ms\tremaining: 291ms\n",
            "3:\tlearn: 0.8917700\ttotal: 10.6ms\tremaining: 307ms\n",
            "4:\tlearn: 0.8669673\ttotal: 11.4ms\tremaining: 262ms\n",
            "5:\tlearn: 0.8838782\ttotal: 13.9ms\tremaining: 264ms\n",
            "6:\tlearn: 0.8895152\ttotal: 16.4ms\tremaining: 264ms\n",
            "7:\tlearn: 0.8883878\ttotal: 18.7ms\tremaining: 262ms\n",
            "8:\tlearn: 0.8895152\ttotal: 21.2ms\tremaining: 261ms\n",
            "9:\tlearn: 0.8951522\ttotal: 23.7ms\tremaining: 261ms\n",
            "10:\tlearn: 0.8928974\ttotal: 26.1ms\tremaining: 259ms\n",
            "11:\tlearn: 0.8928974\ttotal: 28.5ms\tremaining: 257ms\n",
            "12:\tlearn: 0.9007892\ttotal: 31ms\tremaining: 255ms\n",
            "13:\tlearn: 0.8996618\ttotal: 33.5ms\tremaining: 253ms\n",
            "14:\tlearn: 0.9007892\ttotal: 35.9ms\tremaining: 251ms\n",
            "15:\tlearn: 0.9064262\ttotal: 38.3ms\tremaining: 249ms\n",
            "16:\tlearn: 0.9098083\ttotal: 40.8ms\tremaining: 247ms\n",
            "17:\tlearn: 0.9064262\ttotal: 43.3ms\tremaining: 245ms\n",
            "18:\tlearn: 0.9064262\ttotal: 44ms\tremaining: 234ms\n",
            "19:\tlearn: 0.9075536\ttotal: 46.4ms\tremaining: 232ms\n",
            "20:\tlearn: 0.9075536\ttotal: 49ms\tremaining: 231ms\n",
            "21:\tlearn: 0.9086809\ttotal: 51.5ms\tremaining: 229ms\n",
            "22:\tlearn: 0.9075536\ttotal: 54ms\tremaining: 228ms\n",
            "23:\tlearn: 0.9109357\ttotal: 54.6ms\tremaining: 219ms\n",
            "24:\tlearn: 0.9098083\ttotal: 57.1ms\tremaining: 217ms\n",
            "25:\tlearn: 0.9098083\ttotal: 59.6ms\tremaining: 215ms\n",
            "26:\tlearn: 0.9086809\ttotal: 62ms\tremaining: 213ms\n",
            "27:\tlearn: 0.9075536\ttotal: 64.4ms\tremaining: 211ms\n",
            "28:\tlearn: 0.9086809\ttotal: 66.7ms\tremaining: 209ms\n",
            "29:\tlearn: 0.9086809\ttotal: 69ms\tremaining: 207ms\n",
            "30:\tlearn: 0.9086809\ttotal: 71.5ms\tremaining: 205ms\n",
            "31:\tlearn: 0.9109357\ttotal: 74.2ms\tremaining: 204ms\n",
            "32:\tlearn: 0.9120631\ttotal: 76.7ms\tremaining: 202ms\n",
            "33:\tlearn: 0.9109357\ttotal: 79.1ms\tremaining: 200ms\n",
            "34:\tlearn: 0.9143179\ttotal: 83ms\tremaining: 201ms\n",
            "35:\tlearn: 0.9143179\ttotal: 86.9ms\tremaining: 203ms\n",
            "36:\tlearn: 0.9131905\ttotal: 89.2ms\tremaining: 200ms\n",
            "37:\tlearn: 0.9154453\ttotal: 91.8ms\tremaining: 198ms\n",
            "38:\tlearn: 0.9143179\ttotal: 96ms\tremaining: 199ms\n",
            "39:\tlearn: 0.9143179\ttotal: 98.9ms\tremaining: 198ms\n",
            "40:\tlearn: 0.9143179\ttotal: 103ms\tremaining: 199ms\n",
            "41:\tlearn: 0.9165727\ttotal: 106ms\tremaining: 197ms\n",
            "42:\tlearn: 0.9177001\ttotal: 110ms\tremaining: 196ms\n",
            "43:\tlearn: 0.9188275\ttotal: 112ms\tremaining: 193ms\n",
            "44:\tlearn: 0.9210823\ttotal: 114ms\tremaining: 190ms\n",
            "45:\tlearn: 0.9210823\ttotal: 116ms\tremaining: 187ms\n",
            "46:\tlearn: 0.9210823\ttotal: 119ms\tremaining: 184ms\n",
            "47:\tlearn: 0.9210823\ttotal: 122ms\tremaining: 182ms\n",
            "48:\tlearn: 0.9222097\ttotal: 124ms\tremaining: 180ms\n",
            "49:\tlearn: 0.9222097\ttotal: 127ms\tremaining: 177ms\n",
            "50:\tlearn: 0.9222097\ttotal: 129ms\tremaining: 174ms\n",
            "51:\tlearn: 0.9233371\ttotal: 131ms\tremaining: 171ms\n",
            "52:\tlearn: 0.9233371\ttotal: 133ms\tremaining: 169ms\n",
            "53:\tlearn: 0.9222097\ttotal: 136ms\tremaining: 166ms\n",
            "54:\tlearn: 0.9233371\ttotal: 139ms\tremaining: 164ms\n",
            "55:\tlearn: 0.9233371\ttotal: 142ms\tremaining: 162ms\n",
            "56:\tlearn: 0.9244645\ttotal: 144ms\tremaining: 159ms\n",
            "57:\tlearn: 0.9244645\ttotal: 147ms\tremaining: 157ms\n",
            "58:\tlearn: 0.9244645\ttotal: 150ms\tremaining: 155ms\n",
            "59:\tlearn: 0.9244645\ttotal: 152ms\tremaining: 152ms\n",
            "60:\tlearn: 0.9255919\ttotal: 155ms\tremaining: 150ms\n",
            "61:\tlearn: 0.9244645\ttotal: 158ms\tremaining: 148ms\n",
            "62:\tlearn: 0.9267193\ttotal: 159ms\tremaining: 144ms\n",
            "63:\tlearn: 0.9267193\ttotal: 161ms\tremaining: 141ms\n",
            "64:\tlearn: 0.9255919\ttotal: 164ms\tremaining: 139ms\n",
            "65:\tlearn: 0.9255919\ttotal: 167ms\tremaining: 137ms\n",
            "66:\tlearn: 0.9267193\ttotal: 170ms\tremaining: 134ms\n",
            "67:\tlearn: 0.9278467\ttotal: 172ms\tremaining: 132ms\n",
            "68:\tlearn: 0.9278467\ttotal: 175ms\tremaining: 129ms\n",
            "69:\tlearn: 0.9267193\ttotal: 177ms\tremaining: 127ms\n",
            "70:\tlearn: 0.9267193\ttotal: 180ms\tremaining: 124ms\n",
            "71:\tlearn: 0.9267193\ttotal: 183ms\tremaining: 122ms\n",
            "72:\tlearn: 0.9289741\ttotal: 185ms\tremaining: 119ms\n",
            "73:\tlearn: 0.9301015\ttotal: 188ms\tremaining: 117ms\n",
            "74:\tlearn: 0.9301015\ttotal: 191ms\tremaining: 114ms\n",
            "75:\tlearn: 0.9334837\ttotal: 193ms\tremaining: 112ms\n",
            "76:\tlearn: 0.9323563\ttotal: 198ms\tremaining: 111ms\n",
            "77:\tlearn: 0.9323563\ttotal: 202ms\tremaining: 109ms\n",
            "78:\tlearn: 0.9312289\ttotal: 208ms\tremaining: 108ms\n",
            "79:\tlearn: 0.9312289\ttotal: 215ms\tremaining: 107ms\n",
            "80:\tlearn: 0.9312289\ttotal: 221ms\tremaining: 106ms\n",
            "81:\tlearn: 0.9312289\ttotal: 223ms\tremaining: 103ms\n",
            "82:\tlearn: 0.9312289\ttotal: 225ms\tremaining: 100ms\n",
            "83:\tlearn: 0.9312289\ttotal: 226ms\tremaining: 96.9ms\n",
            "84:\tlearn: 0.9312289\ttotal: 229ms\tremaining: 94.2ms\n",
            "85:\tlearn: 0.9312289\ttotal: 231ms\tremaining: 91.4ms\n",
            "86:\tlearn: 0.9323563\ttotal: 233ms\tremaining: 88.6ms\n",
            "87:\tlearn: 0.9323563\ttotal: 236ms\tremaining: 85.9ms\n",
            "88:\tlearn: 0.9334837\ttotal: 239ms\tremaining: 83.2ms\n",
            "89:\tlearn: 0.9334837\ttotal: 240ms\tremaining: 80.1ms\n",
            "90:\tlearn: 0.9334837\ttotal: 243ms\tremaining: 77.4ms\n",
            "91:\tlearn: 0.9334837\ttotal: 245ms\tremaining: 74.7ms\n",
            "92:\tlearn: 0.9334837\ttotal: 248ms\tremaining: 72ms\n",
            "93:\tlearn: 0.9334837\ttotal: 251ms\tremaining: 69.3ms\n",
            "94:\tlearn: 0.9334837\ttotal: 253ms\tremaining: 66.6ms\n",
            "95:\tlearn: 0.9334837\ttotal: 256ms\tremaining: 63.9ms\n",
            "96:\tlearn: 0.9334837\ttotal: 258ms\tremaining: 61.2ms\n",
            "97:\tlearn: 0.9334837\ttotal: 262ms\tremaining: 58.7ms\n",
            "98:\tlearn: 0.9334837\ttotal: 267ms\tremaining: 56.7ms\n",
            "99:\tlearn: 0.9334837\ttotal: 273ms\tremaining: 54.6ms\n",
            "100:\tlearn: 0.9323563\ttotal: 276ms\tremaining: 52ms\n",
            "101:\tlearn: 0.9357384\ttotal: 279ms\tremaining: 49.2ms\n",
            "102:\tlearn: 0.9334837\ttotal: 281ms\tremaining: 46.4ms\n",
            "103:\tlearn: 0.9346110\ttotal: 284ms\tremaining: 43.7ms\n",
            "104:\tlearn: 0.9346110\ttotal: 285ms\tremaining: 40.7ms\n",
            "105:\tlearn: 0.9346110\ttotal: 288ms\tremaining: 38ms\n",
            "106:\tlearn: 0.9346110\ttotal: 290ms\tremaining: 35.3ms\n",
            "107:\tlearn: 0.9346110\ttotal: 292ms\tremaining: 32.5ms\n",
            "108:\tlearn: 0.9346110\ttotal: 295ms\tremaining: 29.7ms\n",
            "109:\tlearn: 0.9346110\ttotal: 297ms\tremaining: 27ms\n",
            "110:\tlearn: 0.9346110\ttotal: 299ms\tremaining: 24.2ms\n",
            "111:\tlearn: 0.9346110\ttotal: 301ms\tremaining: 21.5ms\n",
            "112:\tlearn: 0.9346110\ttotal: 303ms\tremaining: 18.8ms\n",
            "113:\tlearn: 0.9346110\ttotal: 305ms\tremaining: 16.1ms\n",
            "114:\tlearn: 0.9346110\ttotal: 308ms\tremaining: 13.4ms\n",
            "115:\tlearn: 0.9346110\ttotal: 310ms\tremaining: 10.7ms\n",
            "116:\tlearn: 0.9346110\ttotal: 313ms\tremaining: 8.03ms\n",
            "117:\tlearn: 0.9346110\ttotal: 315ms\tremaining: 5.35ms\n",
            "118:\tlearn: 0.9368658\ttotal: 318ms\tremaining: 2.67ms\n",
            "119:\tlearn: 0.9357384\ttotal: 321ms\tremaining: 0us\n",
            "0:\tlearn: 0.8680947\ttotal: 5.49ms\tremaining: 654ms\n",
            "1:\tlearn: 0.8737317\ttotal: 8.27ms\tremaining: 488ms\n",
            "2:\tlearn: 0.8782413\ttotal: 11ms\tremaining: 429ms\n",
            "3:\tlearn: 0.8850056\ttotal: 13.7ms\tremaining: 397ms\n",
            "4:\tlearn: 0.8703495\ttotal: 14.7ms\tremaining: 337ms\n",
            "5:\tlearn: 0.8782413\ttotal: 17.3ms\tremaining: 328ms\n",
            "6:\tlearn: 0.8737317\ttotal: 19.8ms\tremaining: 320ms\n",
            "7:\tlearn: 0.8782413\ttotal: 22.4ms\tremaining: 314ms\n",
            "8:\tlearn: 0.8782413\ttotal: 24.9ms\tremaining: 307ms\n",
            "9:\tlearn: 0.8872604\ttotal: 27.3ms\tremaining: 300ms\n",
            "10:\tlearn: 0.8793687\ttotal: 30ms\tremaining: 297ms\n",
            "11:\tlearn: 0.8895152\ttotal: 32.5ms\tremaining: 293ms\n",
            "12:\tlearn: 0.8940248\ttotal: 35ms\tremaining: 288ms\n",
            "13:\tlearn: 0.8985344\ttotal: 37.4ms\tremaining: 283ms\n",
            "14:\tlearn: 0.8962796\ttotal: 39.9ms\tremaining: 279ms\n",
            "15:\tlearn: 0.8985344\ttotal: 42.3ms\tremaining: 275ms\n",
            "16:\tlearn: 0.8985344\ttotal: 44.8ms\tremaining: 271ms\n",
            "17:\tlearn: 0.8996618\ttotal: 47.4ms\tremaining: 269ms\n",
            "18:\tlearn: 0.8951522\ttotal: 48.2ms\tremaining: 256ms\n",
            "19:\tlearn: 0.9007892\ttotal: 51ms\tremaining: 255ms\n",
            "20:\tlearn: 0.8996618\ttotal: 54ms\tremaining: 255ms\n",
            "21:\tlearn: 0.9030440\ttotal: 56.6ms\tremaining: 252ms\n",
            "22:\tlearn: 0.9041714\ttotal: 59.4ms\tremaining: 251ms\n",
            "23:\tlearn: 0.9052988\ttotal: 62.1ms\tremaining: 248ms\n",
            "24:\tlearn: 0.9052988\ttotal: 64.8ms\tremaining: 246ms\n",
            "25:\tlearn: 0.9098083\ttotal: 67.3ms\tremaining: 243ms\n",
            "26:\tlearn: 0.9052988\ttotal: 68.1ms\tremaining: 235ms\n",
            "27:\tlearn: 0.9075536\ttotal: 70.6ms\tremaining: 232ms\n",
            "28:\tlearn: 0.9052988\ttotal: 73.3ms\tremaining: 230ms\n",
            "29:\tlearn: 0.9064262\ttotal: 76ms\tremaining: 228ms\n",
            "30:\tlearn: 0.9086809\ttotal: 77.3ms\tremaining: 222ms\n",
            "31:\tlearn: 0.9098083\ttotal: 80ms\tremaining: 220ms\n",
            "32:\tlearn: 0.9098083\ttotal: 82.6ms\tremaining: 218ms\n",
            "33:\tlearn: 0.9109357\ttotal: 85.1ms\tremaining: 215ms\n",
            "34:\tlearn: 0.9120631\ttotal: 87.7ms\tremaining: 213ms\n",
            "35:\tlearn: 0.9131905\ttotal: 91.8ms\tremaining: 214ms\n",
            "36:\tlearn: 0.9143179\ttotal: 94.6ms\tremaining: 212ms\n",
            "37:\tlearn: 0.9143179\ttotal: 98.7ms\tremaining: 213ms\n",
            "38:\tlearn: 0.9165727\ttotal: 102ms\tremaining: 213ms\n",
            "39:\tlearn: 0.9188275\ttotal: 109ms\tremaining: 218ms\n",
            "40:\tlearn: 0.9188275\ttotal: 111ms\tremaining: 215ms\n",
            "41:\tlearn: 0.9199549\ttotal: 114ms\tremaining: 211ms\n",
            "42:\tlearn: 0.9199549\ttotal: 116ms\tremaining: 208ms\n",
            "43:\tlearn: 0.9199549\ttotal: 118ms\tremaining: 204ms\n",
            "44:\tlearn: 0.9199549\ttotal: 121ms\tremaining: 201ms\n",
            "45:\tlearn: 0.9222097\ttotal: 123ms\tremaining: 198ms\n",
            "46:\tlearn: 0.9199549\ttotal: 126ms\tremaining: 195ms\n",
            "47:\tlearn: 0.9222097\ttotal: 128ms\tremaining: 192ms\n",
            "48:\tlearn: 0.9244645\ttotal: 130ms\tremaining: 189ms\n",
            "49:\tlearn: 0.9244645\ttotal: 133ms\tremaining: 186ms\n",
            "50:\tlearn: 0.9267193\ttotal: 135ms\tremaining: 183ms\n",
            "51:\tlearn: 0.9267193\ttotal: 138ms\tremaining: 180ms\n",
            "52:\tlearn: 0.9278467\ttotal: 140ms\tremaining: 178ms\n",
            "53:\tlearn: 0.9289741\ttotal: 143ms\tremaining: 175ms\n",
            "54:\tlearn: 0.9289741\ttotal: 146ms\tremaining: 172ms\n",
            "55:\tlearn: 0.9289741\ttotal: 148ms\tremaining: 169ms\n",
            "56:\tlearn: 0.9289741\ttotal: 151ms\tremaining: 167ms\n",
            "57:\tlearn: 0.9289741\ttotal: 153ms\tremaining: 164ms\n",
            "58:\tlearn: 0.9289741\ttotal: 156ms\tremaining: 161ms\n",
            "59:\tlearn: 0.9301015\ttotal: 158ms\tremaining: 158ms\n",
            "60:\tlearn: 0.9312289\ttotal: 161ms\tremaining: 156ms\n",
            "61:\tlearn: 0.9323563\ttotal: 163ms\tremaining: 153ms\n",
            "62:\tlearn: 0.9301015\ttotal: 166ms\tremaining: 150ms\n",
            "63:\tlearn: 0.9323563\ttotal: 169ms\tremaining: 147ms\n",
            "64:\tlearn: 0.9323563\ttotal: 171ms\tremaining: 145ms\n",
            "65:\tlearn: 0.9334837\ttotal: 174ms\tremaining: 142ms\n",
            "66:\tlearn: 0.9346110\ttotal: 176ms\tremaining: 139ms\n",
            "67:\tlearn: 0.9357384\ttotal: 179ms\tremaining: 137ms\n",
            "68:\tlearn: 0.9357384\ttotal: 181ms\tremaining: 134ms\n",
            "69:\tlearn: 0.9368658\ttotal: 183ms\tremaining: 131ms\n",
            "70:\tlearn: 0.9357384\ttotal: 186ms\tremaining: 128ms\n",
            "71:\tlearn: 0.9357384\ttotal: 188ms\tremaining: 125ms\n",
            "72:\tlearn: 0.9357384\ttotal: 190ms\tremaining: 123ms\n",
            "73:\tlearn: 0.9357384\ttotal: 193ms\tremaining: 120ms\n",
            "74:\tlearn: 0.9357384\ttotal: 195ms\tremaining: 117ms\n",
            "75:\tlearn: 0.9357384\ttotal: 198ms\tremaining: 114ms\n",
            "76:\tlearn: 0.9368658\ttotal: 200ms\tremaining: 112ms\n",
            "77:\tlearn: 0.9368658\ttotal: 202ms\tremaining: 109ms\n",
            "78:\tlearn: 0.9368658\ttotal: 205ms\tremaining: 106ms\n",
            "79:\tlearn: 0.9368658\ttotal: 207ms\tremaining: 103ms\n",
            "80:\tlearn: 0.9357384\ttotal: 209ms\tremaining: 101ms\n",
            "81:\tlearn: 0.9357384\ttotal: 212ms\tremaining: 98ms\n",
            "82:\tlearn: 0.9357384\ttotal: 214ms\tremaining: 95.3ms\n",
            "83:\tlearn: 0.9357384\ttotal: 216ms\tremaining: 92.7ms\n",
            "84:\tlearn: 0.9357384\ttotal: 219ms\tremaining: 90ms\n",
            "85:\tlearn: 0.9368658\ttotal: 221ms\tremaining: 87.4ms\n",
            "86:\tlearn: 0.9379932\ttotal: 223ms\tremaining: 84.7ms\n",
            "87:\tlearn: 0.9379932\ttotal: 226ms\tremaining: 82.1ms\n",
            "88:\tlearn: 0.9379932\ttotal: 230ms\tremaining: 80ms\n",
            "89:\tlearn: 0.9379932\ttotal: 233ms\tremaining: 77.6ms\n",
            "90:\tlearn: 0.9368658\ttotal: 235ms\tremaining: 75ms\n",
            "91:\tlearn: 0.9368658\ttotal: 239ms\tremaining: 72.7ms\n",
            "92:\tlearn: 0.9368658\ttotal: 242ms\tremaining: 70.4ms\n",
            "93:\tlearn: 0.9368658\ttotal: 246ms\tremaining: 68.1ms\n",
            "94:\tlearn: 0.9368658\ttotal: 249ms\tremaining: 65.4ms\n",
            "95:\tlearn: 0.9368658\ttotal: 251ms\tremaining: 62.8ms\n",
            "96:\tlearn: 0.9379932\ttotal: 254ms\tremaining: 60.1ms\n",
            "97:\tlearn: 0.9368658\ttotal: 256ms\tremaining: 57.5ms\n",
            "98:\tlearn: 0.9379932\ttotal: 259ms\tremaining: 54.9ms\n",
            "99:\tlearn: 0.9368658\ttotal: 261ms\tremaining: 52.3ms\n",
            "100:\tlearn: 0.9368658\ttotal: 264ms\tremaining: 49.6ms\n",
            "101:\tlearn: 0.9368658\ttotal: 266ms\tremaining: 47ms\n",
            "102:\tlearn: 0.9379932\ttotal: 268ms\tremaining: 44.3ms\n",
            "103:\tlearn: 0.9368658\ttotal: 271ms\tremaining: 41.7ms\n",
            "104:\tlearn: 0.9357384\ttotal: 274ms\tremaining: 39.1ms\n",
            "105:\tlearn: 0.9357384\ttotal: 276ms\tremaining: 36.5ms\n",
            "106:\tlearn: 0.9357384\ttotal: 279ms\tremaining: 33.8ms\n",
            "107:\tlearn: 0.9379932\ttotal: 282ms\tremaining: 31.3ms\n",
            "108:\tlearn: 0.9391206\ttotal: 284ms\tremaining: 28.7ms\n",
            "109:\tlearn: 0.9391206\ttotal: 287ms\tremaining: 26.1ms\n",
            "110:\tlearn: 0.9379932\ttotal: 291ms\tremaining: 23.6ms\n",
            "111:\tlearn: 0.9391206\ttotal: 296ms\tremaining: 21.1ms\n",
            "112:\tlearn: 0.9391206\ttotal: 302ms\tremaining: 18.7ms\n",
            "113:\tlearn: 0.9391206\ttotal: 304ms\tremaining: 16ms\n",
            "114:\tlearn: 0.9402480\ttotal: 307ms\tremaining: 13.3ms\n",
            "115:\tlearn: 0.9425028\ttotal: 309ms\tremaining: 10.7ms\n",
            "116:\tlearn: 0.9425028\ttotal: 310ms\tremaining: 7.96ms\n",
            "117:\tlearn: 0.9425028\ttotal: 313ms\tremaining: 5.3ms\n",
            "118:\tlearn: 0.9436302\ttotal: 315ms\tremaining: 2.65ms\n",
            "119:\tlearn: 0.9425028\ttotal: 317ms\tremaining: 0us\n",
            "0:\tlearn: 0.8692221\ttotal: 2.54ms\tremaining: 302ms\n",
            "1:\tlearn: 0.8726043\ttotal: 5.34ms\tremaining: 315ms\n",
            "2:\tlearn: 0.8872604\ttotal: 8.13ms\tremaining: 317ms\n",
            "3:\tlearn: 0.8906426\ttotal: 10.3ms\tremaining: 299ms\n",
            "4:\tlearn: 0.8703495\ttotal: 10.8ms\tremaining: 249ms\n",
            "5:\tlearn: 0.8816234\ttotal: 13.1ms\tremaining: 249ms\n",
            "6:\tlearn: 0.8838782\ttotal: 15.2ms\tremaining: 246ms\n",
            "7:\tlearn: 0.8883878\ttotal: 17.8ms\tremaining: 249ms\n",
            "8:\tlearn: 0.8951522\ttotal: 20.2ms\tremaining: 250ms\n",
            "9:\tlearn: 0.8962796\ttotal: 23.1ms\tremaining: 254ms\n",
            "10:\tlearn: 0.8962796\ttotal: 25.7ms\tremaining: 255ms\n",
            "11:\tlearn: 0.8974070\ttotal: 30.1ms\tremaining: 271ms\n",
            "12:\tlearn: 0.9019166\ttotal: 33.5ms\tremaining: 276ms\n",
            "13:\tlearn: 0.8996618\ttotal: 36.4ms\tremaining: 276ms\n",
            "14:\tlearn: 0.9007892\ttotal: 39.2ms\tremaining: 274ms\n",
            "15:\tlearn: 0.9041714\ttotal: 41.5ms\tremaining: 270ms\n",
            "16:\tlearn: 0.9052988\ttotal: 43.6ms\tremaining: 264ms\n",
            "17:\tlearn: 0.9052988\ttotal: 45.8ms\tremaining: 260ms\n",
            "18:\tlearn: 0.9019166\ttotal: 46.3ms\tremaining: 246ms\n",
            "19:\tlearn: 0.9052988\ttotal: 48.9ms\tremaining: 244ms\n",
            "20:\tlearn: 0.9052988\ttotal: 51.5ms\tremaining: 243ms\n",
            "21:\tlearn: 0.9052988\ttotal: 54.2ms\tremaining: 242ms\n",
            "22:\tlearn: 0.9064262\ttotal: 57ms\tremaining: 240ms\n",
            "23:\tlearn: 0.9075536\ttotal: 57.7ms\tremaining: 231ms\n",
            "24:\tlearn: 0.9086809\ttotal: 60.4ms\tremaining: 229ms\n",
            "25:\tlearn: 0.9098083\ttotal: 63ms\tremaining: 228ms\n",
            "26:\tlearn: 0.9098083\ttotal: 65.7ms\tremaining: 226ms\n",
            "27:\tlearn: 0.9098083\ttotal: 68.8ms\tremaining: 226ms\n",
            "28:\tlearn: 0.9109357\ttotal: 71.6ms\tremaining: 225ms\n",
            "29:\tlearn: 0.9131905\ttotal: 74.4ms\tremaining: 223ms\n",
            "30:\tlearn: 0.9154453\ttotal: 77.3ms\tremaining: 222ms\n",
            "31:\tlearn: 0.9131905\ttotal: 80ms\tremaining: 220ms\n",
            "32:\tlearn: 0.9154453\ttotal: 82.8ms\tremaining: 218ms\n",
            "33:\tlearn: 0.9143179\ttotal: 85.5ms\tremaining: 216ms\n",
            "34:\tlearn: 0.9143179\ttotal: 88.2ms\tremaining: 214ms\n",
            "35:\tlearn: 0.9154453\ttotal: 90.7ms\tremaining: 212ms\n",
            "36:\tlearn: 0.9165727\ttotal: 93.3ms\tremaining: 209ms\n",
            "37:\tlearn: 0.9165727\ttotal: 95.8ms\tremaining: 207ms\n",
            "38:\tlearn: 0.9154453\ttotal: 98.2ms\tremaining: 204ms\n",
            "39:\tlearn: 0.9165727\ttotal: 101ms\tremaining: 201ms\n",
            "40:\tlearn: 0.9199549\ttotal: 103ms\tremaining: 199ms\n",
            "41:\tlearn: 0.9188275\ttotal: 105ms\tremaining: 196ms\n",
            "42:\tlearn: 0.9188275\ttotal: 108ms\tremaining: 194ms\n",
            "43:\tlearn: 0.9199549\ttotal: 111ms\tremaining: 191ms\n",
            "44:\tlearn: 0.9199549\ttotal: 113ms\tremaining: 189ms\n",
            "45:\tlearn: 0.9199549\ttotal: 116ms\tremaining: 186ms\n",
            "46:\tlearn: 0.9210823\ttotal: 118ms\tremaining: 184ms\n",
            "47:\tlearn: 0.9222097\ttotal: 121ms\tremaining: 181ms\n",
            "48:\tlearn: 0.9222097\ttotal: 124ms\tremaining: 179ms\n",
            "49:\tlearn: 0.9222097\ttotal: 127ms\tremaining: 178ms\n",
            "50:\tlearn: 0.9233371\ttotal: 131ms\tremaining: 177ms\n",
            "51:\tlearn: 0.9222097\ttotal: 137ms\tremaining: 179ms\n",
            "52:\tlearn: 0.9244645\ttotal: 141ms\tremaining: 178ms\n",
            "53:\tlearn: 0.9255919\ttotal: 143ms\tremaining: 175ms\n",
            "54:\tlearn: 0.9244645\ttotal: 145ms\tremaining: 172ms\n",
            "55:\tlearn: 0.9255919\ttotal: 147ms\tremaining: 168ms\n",
            "56:\tlearn: 0.9255919\ttotal: 150ms\tremaining: 165ms\n",
            "57:\tlearn: 0.9255919\ttotal: 152ms\tremaining: 163ms\n",
            "58:\tlearn: 0.9244645\ttotal: 155ms\tremaining: 160ms\n",
            "59:\tlearn: 0.9255919\ttotal: 157ms\tremaining: 157ms\n",
            "60:\tlearn: 0.9278467\ttotal: 159ms\tremaining: 154ms\n",
            "61:\tlearn: 0.9278467\ttotal: 162ms\tremaining: 151ms\n",
            "62:\tlearn: 0.9278467\ttotal: 163ms\tremaining: 147ms\n",
            "63:\tlearn: 0.9289741\ttotal: 165ms\tremaining: 145ms\n",
            "64:\tlearn: 0.9278467\ttotal: 168ms\tremaining: 142ms\n",
            "65:\tlearn: 0.9301015\ttotal: 171ms\tremaining: 140ms\n",
            "66:\tlearn: 0.9301015\ttotal: 173ms\tremaining: 137ms\n",
            "67:\tlearn: 0.9289741\ttotal: 175ms\tremaining: 134ms\n",
            "68:\tlearn: 0.9289741\ttotal: 178ms\tremaining: 132ms\n",
            "69:\tlearn: 0.9301015\ttotal: 181ms\tremaining: 129ms\n",
            "70:\tlearn: 0.9289741\ttotal: 184ms\tremaining: 127ms\n",
            "71:\tlearn: 0.9289741\ttotal: 187ms\tremaining: 124ms\n",
            "72:\tlearn: 0.9323563\ttotal: 189ms\tremaining: 122ms\n",
            "73:\tlearn: 0.9323563\ttotal: 191ms\tremaining: 119ms\n",
            "74:\tlearn: 0.9323563\ttotal: 193ms\tremaining: 116ms\n",
            "75:\tlearn: 0.9323563\ttotal: 196ms\tremaining: 113ms\n",
            "76:\tlearn: 0.9346110\ttotal: 198ms\tremaining: 111ms\n",
            "77:\tlearn: 0.9334837\ttotal: 200ms\tremaining: 108ms\n",
            "78:\tlearn: 0.9334837\ttotal: 203ms\tremaining: 105ms\n",
            "79:\tlearn: 0.9334837\ttotal: 205ms\tremaining: 103ms\n",
            "80:\tlearn: 0.9323563\ttotal: 207ms\tremaining: 99.9ms\n",
            "81:\tlearn: 0.9323563\ttotal: 210ms\tremaining: 97.3ms\n",
            "82:\tlearn: 0.9323563\ttotal: 212ms\tremaining: 94.5ms\n",
            "83:\tlearn: 0.9334837\ttotal: 214ms\tremaining: 91.8ms\n",
            "84:\tlearn: 0.9334837\ttotal: 217ms\tremaining: 89.2ms\n",
            "85:\tlearn: 0.9334837\ttotal: 219ms\tremaining: 86.6ms\n",
            "86:\tlearn: 0.9346110\ttotal: 222ms\tremaining: 84ms\n",
            "87:\tlearn: 0.9346110\ttotal: 224ms\tremaining: 81.5ms\n",
            "88:\tlearn: 0.9346110\ttotal: 226ms\tremaining: 78.9ms\n",
            "89:\tlearn: 0.9346110\ttotal: 229ms\tremaining: 76.3ms\n",
            "90:\tlearn: 0.9346110\ttotal: 230ms\tremaining: 73.3ms\n",
            "91:\tlearn: 0.9357384\ttotal: 232ms\tremaining: 70.7ms\n",
            "92:\tlearn: 0.9368658\ttotal: 235ms\tremaining: 68.3ms\n",
            "93:\tlearn: 0.9368658\ttotal: 238ms\tremaining: 65.8ms\n",
            "94:\tlearn: 0.9368658\ttotal: 241ms\tremaining: 63.4ms\n",
            "95:\tlearn: 0.9368658\ttotal: 244ms\tremaining: 60.9ms\n",
            "96:\tlearn: 0.9357384\ttotal: 246ms\tremaining: 58.4ms\n",
            "97:\tlearn: 0.9357384\ttotal: 247ms\tremaining: 55.5ms\n",
            "98:\tlearn: 0.9357384\ttotal: 248ms\tremaining: 52.7ms\n",
            "99:\tlearn: 0.9357384\ttotal: 251ms\tremaining: 50.1ms\n",
            "100:\tlearn: 0.9357384\ttotal: 253ms\tremaining: 47.6ms\n",
            "101:\tlearn: 0.9357384\ttotal: 256ms\tremaining: 45.1ms\n",
            "102:\tlearn: 0.9357384\ttotal: 259ms\tremaining: 42.7ms\n",
            "103:\tlearn: 0.9357384\ttotal: 261ms\tremaining: 40.2ms\n",
            "104:\tlearn: 0.9357384\ttotal: 264ms\tremaining: 37.7ms\n",
            "105:\tlearn: 0.9357384\ttotal: 267ms\tremaining: 35.2ms\n",
            "106:\tlearn: 0.9357384\ttotal: 269ms\tremaining: 32.7ms\n",
            "107:\tlearn: 0.9346110\ttotal: 273ms\tremaining: 30.3ms\n",
            "108:\tlearn: 0.9346110\ttotal: 275ms\tremaining: 27.7ms\n",
            "109:\tlearn: 0.9346110\ttotal: 277ms\tremaining: 25.2ms\n",
            "110:\tlearn: 0.9346110\ttotal: 279ms\tremaining: 22.6ms\n",
            "111:\tlearn: 0.9346110\ttotal: 282ms\tremaining: 20.1ms\n",
            "112:\tlearn: 0.9346110\ttotal: 284ms\tremaining: 17.6ms\n",
            "113:\tlearn: 0.9346110\ttotal: 287ms\tremaining: 15.1ms\n",
            "114:\tlearn: 0.9379932\ttotal: 290ms\tremaining: 12.6ms\n",
            "115:\tlearn: 0.9391206\ttotal: 292ms\tremaining: 10.1ms\n",
            "116:\tlearn: 0.9379932\ttotal: 295ms\tremaining: 7.56ms\n",
            "117:\tlearn: 0.9379932\ttotal: 297ms\tremaining: 5.04ms\n",
            "118:\tlearn: 0.9368658\ttotal: 300ms\tremaining: 2.52ms\n",
            "119:\tlearn: 0.9368658\ttotal: 303ms\tremaining: 0us\n",
            "0:\tlearn: 0.8726043\ttotal: 3.12ms\tremaining: 371ms\n",
            "1:\tlearn: 0.8827508\ttotal: 5.4ms\tremaining: 318ms\n",
            "2:\tlearn: 0.8928974\ttotal: 7.63ms\tremaining: 298ms\n",
            "3:\tlearn: 0.8928974\ttotal: 10.1ms\tremaining: 292ms\n",
            "4:\tlearn: 0.8827508\ttotal: 11ms\tremaining: 253ms\n",
            "5:\tlearn: 0.8872604\ttotal: 11.9ms\tremaining: 226ms\n",
            "6:\tlearn: 0.8827508\ttotal: 12.7ms\tremaining: 205ms\n",
            "7:\tlearn: 0.8872604\ttotal: 15.1ms\tremaining: 212ms\n",
            "8:\tlearn: 0.8883878\ttotal: 17.6ms\tremaining: 217ms\n",
            "9:\tlearn: 0.8883878\ttotal: 20ms\tremaining: 220ms\n",
            "10:\tlearn: 0.8838782\ttotal: 22.5ms\tremaining: 223ms\n",
            "11:\tlearn: 0.8850056\ttotal: 24.9ms\tremaining: 224ms\n",
            "12:\tlearn: 0.8883878\ttotal: 27.4ms\tremaining: 226ms\n",
            "13:\tlearn: 0.8883878\ttotal: 28.5ms\tremaining: 216ms\n",
            "14:\tlearn: 0.8906426\ttotal: 31.1ms\tremaining: 218ms\n",
            "15:\tlearn: 0.8928974\ttotal: 35.5ms\tremaining: 231ms\n",
            "16:\tlearn: 0.8962796\ttotal: 39ms\tremaining: 236ms\n",
            "17:\tlearn: 0.8940248\ttotal: 41.6ms\tremaining: 236ms\n",
            "18:\tlearn: 0.8974070\ttotal: 43.9ms\tremaining: 233ms\n",
            "19:\tlearn: 0.8985344\ttotal: 46.5ms\tremaining: 233ms\n",
            "20:\tlearn: 0.8962796\ttotal: 49.1ms\tremaining: 232ms\n",
            "21:\tlearn: 0.9007892\ttotal: 51.8ms\tremaining: 231ms\n",
            "22:\tlearn: 0.8996618\ttotal: 54.4ms\tremaining: 229ms\n",
            "23:\tlearn: 0.8996618\ttotal: 56.9ms\tremaining: 228ms\n",
            "24:\tlearn: 0.9030440\ttotal: 59.5ms\tremaining: 226ms\n",
            "25:\tlearn: 0.9052988\ttotal: 62.9ms\tremaining: 227ms\n",
            "26:\tlearn: 0.9075536\ttotal: 65.8ms\tremaining: 227ms\n",
            "27:\tlearn: 0.9064262\ttotal: 68.7ms\tremaining: 226ms\n",
            "28:\tlearn: 0.9075536\ttotal: 71.5ms\tremaining: 224ms\n",
            "29:\tlearn: 0.9109357\ttotal: 74.3ms\tremaining: 223ms\n",
            "30:\tlearn: 0.9075536\ttotal: 77.1ms\tremaining: 221ms\n",
            "31:\tlearn: 0.9109357\ttotal: 79.8ms\tremaining: 219ms\n",
            "32:\tlearn: 0.9143179\ttotal: 82.4ms\tremaining: 217ms\n",
            "33:\tlearn: 0.9120631\ttotal: 85.4ms\tremaining: 216ms\n",
            "34:\tlearn: 0.9131905\ttotal: 88.1ms\tremaining: 214ms\n",
            "35:\tlearn: 0.9143179\ttotal: 91.7ms\tremaining: 214ms\n",
            "36:\tlearn: 0.9143179\ttotal: 95.1ms\tremaining: 213ms\n",
            "37:\tlearn: 0.9143179\ttotal: 99.8ms\tremaining: 215ms\n",
            "38:\tlearn: 0.9154453\ttotal: 104ms\tremaining: 216ms\n",
            "39:\tlearn: 0.9154453\ttotal: 107ms\tremaining: 214ms\n",
            "40:\tlearn: 0.9199549\ttotal: 109ms\tremaining: 211ms\n",
            "41:\tlearn: 0.9177001\ttotal: 114ms\tremaining: 211ms\n",
            "42:\tlearn: 0.9199549\ttotal: 120ms\tremaining: 214ms\n",
            "43:\tlearn: 0.9233371\ttotal: 122ms\tremaining: 211ms\n",
            "44:\tlearn: 0.9244645\ttotal: 124ms\tremaining: 207ms\n",
            "45:\tlearn: 0.9267193\ttotal: 127ms\tremaining: 204ms\n",
            "46:\tlearn: 0.9255919\ttotal: 130ms\tremaining: 201ms\n",
            "47:\tlearn: 0.9255919\ttotal: 132ms\tremaining: 198ms\n",
            "48:\tlearn: 0.9244645\ttotal: 135ms\tremaining: 195ms\n",
            "49:\tlearn: 0.9244645\ttotal: 137ms\tremaining: 192ms\n",
            "50:\tlearn: 0.9267193\ttotal: 140ms\tremaining: 189ms\n",
            "51:\tlearn: 0.9278467\ttotal: 142ms\tremaining: 186ms\n",
            "52:\tlearn: 0.9278467\ttotal: 145ms\tremaining: 183ms\n",
            "53:\tlearn: 0.9267193\ttotal: 148ms\tremaining: 180ms\n",
            "54:\tlearn: 0.9278467\ttotal: 150ms\tremaining: 177ms\n",
            "55:\tlearn: 0.9267193\ttotal: 153ms\tremaining: 175ms\n",
            "56:\tlearn: 0.9267193\ttotal: 155ms\tremaining: 172ms\n",
            "57:\tlearn: 0.9301015\ttotal: 158ms\tremaining: 169ms\n",
            "58:\tlearn: 0.9301015\ttotal: 161ms\tremaining: 166ms\n",
            "59:\tlearn: 0.9301015\ttotal: 163ms\tremaining: 163ms\n",
            "60:\tlearn: 0.9334837\ttotal: 166ms\tremaining: 161ms\n",
            "61:\tlearn: 0.9346110\ttotal: 169ms\tremaining: 158ms\n",
            "62:\tlearn: 0.9323563\ttotal: 170ms\tremaining: 154ms\n",
            "63:\tlearn: 0.9346110\ttotal: 172ms\tremaining: 151ms\n",
            "64:\tlearn: 0.9346110\ttotal: 175ms\tremaining: 148ms\n",
            "65:\tlearn: 0.9346110\ttotal: 177ms\tremaining: 145ms\n",
            "66:\tlearn: 0.9346110\ttotal: 180ms\tremaining: 142ms\n",
            "67:\tlearn: 0.9357384\ttotal: 182ms\tremaining: 140ms\n",
            "68:\tlearn: 0.9368658\ttotal: 186ms\tremaining: 138ms\n",
            "69:\tlearn: 0.9368658\ttotal: 190ms\tremaining: 136ms\n",
            "70:\tlearn: 0.9357384\ttotal: 196ms\tremaining: 135ms\n",
            "71:\tlearn: 0.9368658\ttotal: 198ms\tremaining: 132ms\n",
            "72:\tlearn: 0.9368658\ttotal: 201ms\tremaining: 129ms\n",
            "73:\tlearn: 0.9357384\ttotal: 203ms\tremaining: 126ms\n",
            "74:\tlearn: 0.9391206\ttotal: 206ms\tremaining: 124ms\n",
            "75:\tlearn: 0.9402480\ttotal: 209ms\tremaining: 121ms\n",
            "76:\tlearn: 0.9391206\ttotal: 212ms\tremaining: 118ms\n",
            "77:\tlearn: 0.9402480\ttotal: 214ms\tremaining: 115ms\n",
            "78:\tlearn: 0.9413754\ttotal: 219ms\tremaining: 114ms\n",
            "79:\tlearn: 0.9413754\ttotal: 221ms\tremaining: 111ms\n",
            "80:\tlearn: 0.9402480\ttotal: 224ms\tremaining: 108ms\n",
            "81:\tlearn: 0.9391206\ttotal: 226ms\tremaining: 105ms\n",
            "82:\tlearn: 0.9402480\ttotal: 229ms\tremaining: 102ms\n",
            "83:\tlearn: 0.9413754\ttotal: 231ms\tremaining: 99.2ms\n",
            "84:\tlearn: 0.9402480\ttotal: 234ms\tremaining: 96.5ms\n",
            "85:\tlearn: 0.9425028\ttotal: 237ms\tremaining: 93.8ms\n",
            "86:\tlearn: 0.9425028\ttotal: 240ms\tremaining: 91ms\n",
            "87:\tlearn: 0.9413754\ttotal: 243ms\tremaining: 88.3ms\n",
            "88:\tlearn: 0.9413754\ttotal: 245ms\tremaining: 85.5ms\n",
            "89:\tlearn: 0.9425028\ttotal: 248ms\tremaining: 82.7ms\n",
            "90:\tlearn: 0.9413754\ttotal: 251ms\tremaining: 79.9ms\n",
            "91:\tlearn: 0.9413754\ttotal: 253ms\tremaining: 77.1ms\n",
            "92:\tlearn: 0.9436302\ttotal: 256ms\tremaining: 74.3ms\n",
            "93:\tlearn: 0.9447576\ttotal: 258ms\tremaining: 71.5ms\n",
            "94:\tlearn: 0.9436302\ttotal: 261ms\tremaining: 68.6ms\n",
            "95:\tlearn: 0.9436302\ttotal: 263ms\tremaining: 65.8ms\n",
            "96:\tlearn: 0.9447576\ttotal: 265ms\tremaining: 62.9ms\n",
            "97:\tlearn: 0.9458850\ttotal: 269ms\tremaining: 60.3ms\n",
            "98:\tlearn: 0.9447576\ttotal: 274ms\tremaining: 58.1ms\n",
            "99:\tlearn: 0.9447576\ttotal: 277ms\tremaining: 55.4ms\n",
            "100:\tlearn: 0.9458850\ttotal: 279ms\tremaining: 52.6ms\n",
            "101:\tlearn: 0.9458850\ttotal: 282ms\tremaining: 49.8ms\n",
            "102:\tlearn: 0.9458850\ttotal: 285ms\tremaining: 47ms\n",
            "103:\tlearn: 0.9447576\ttotal: 287ms\tremaining: 44.2ms\n",
            "104:\tlearn: 0.9447576\ttotal: 290ms\tremaining: 41.4ms\n",
            "105:\tlearn: 0.9458850\ttotal: 292ms\tremaining: 38.6ms\n",
            "106:\tlearn: 0.9481398\ttotal: 295ms\tremaining: 35.8ms\n",
            "107:\tlearn: 0.9492672\ttotal: 297ms\tremaining: 33ms\n",
            "108:\tlearn: 0.9481398\ttotal: 300ms\tremaining: 30.2ms\n",
            "109:\tlearn: 0.9492672\ttotal: 302ms\tremaining: 27.5ms\n",
            "110:\tlearn: 0.9492672\ttotal: 304ms\tremaining: 24.7ms\n",
            "111:\tlearn: 0.9492672\ttotal: 307ms\tremaining: 21.9ms\n",
            "112:\tlearn: 0.9492672\ttotal: 309ms\tremaining: 19.2ms\n",
            "113:\tlearn: 0.9515220\ttotal: 312ms\tremaining: 16.4ms\n",
            "114:\tlearn: 0.9515220\ttotal: 314ms\tremaining: 13.7ms\n",
            "115:\tlearn: 0.9526494\ttotal: 316ms\tremaining: 10.9ms\n",
            "116:\tlearn: 0.9526494\ttotal: 319ms\tremaining: 8.17ms\n",
            "117:\tlearn: 0.9549042\ttotal: 321ms\tremaining: 5.44ms\n",
            "118:\tlearn: 0.9549042\ttotal: 323ms\tremaining: 2.72ms\n",
            "119:\tlearn: 0.9549042\ttotal: 326ms\tremaining: 0us\n",
            "0:\tlearn: 0.8771139\ttotal: 2.48ms\tremaining: 295ms\n",
            "1:\tlearn: 0.8906426\ttotal: 4.88ms\tremaining: 288ms\n",
            "2:\tlearn: 0.8895152\ttotal: 7.14ms\tremaining: 278ms\n",
            "3:\tlearn: 0.8883878\ttotal: 9.34ms\tremaining: 271ms\n",
            "4:\tlearn: 0.8771139\ttotal: 9.81ms\tremaining: 226ms\n",
            "5:\tlearn: 0.8827508\ttotal: 12.4ms\tremaining: 235ms\n",
            "6:\tlearn: 0.8861330\ttotal: 14.8ms\tremaining: 239ms\n",
            "7:\tlearn: 0.8883878\ttotal: 18.3ms\tremaining: 256ms\n",
            "8:\tlearn: 0.8895152\ttotal: 21.7ms\tremaining: 268ms\n",
            "9:\tlearn: 0.8917700\ttotal: 27.2ms\tremaining: 299ms\n",
            "10:\tlearn: 0.8996618\ttotal: 30.2ms\tremaining: 300ms\n",
            "11:\tlearn: 0.8985344\ttotal: 32.4ms\tremaining: 292ms\n",
            "12:\tlearn: 0.8985344\ttotal: 34.7ms\tremaining: 285ms\n",
            "13:\tlearn: 0.9030440\ttotal: 36.9ms\tremaining: 279ms\n",
            "14:\tlearn: 0.9030440\ttotal: 39.3ms\tremaining: 275ms\n",
            "15:\tlearn: 0.9019166\ttotal: 41.4ms\tremaining: 269ms\n",
            "16:\tlearn: 0.9075536\ttotal: 43.6ms\tremaining: 264ms\n",
            "17:\tlearn: 0.9131905\ttotal: 45.7ms\tremaining: 259ms\n",
            "18:\tlearn: 0.9086809\ttotal: 46.9ms\tremaining: 249ms\n",
            "19:\tlearn: 0.9109357\ttotal: 49.5ms\tremaining: 248ms\n",
            "20:\tlearn: 0.9086809\ttotal: 52.3ms\tremaining: 246ms\n",
            "21:\tlearn: 0.9131905\ttotal: 55.1ms\tremaining: 246ms\n",
            "22:\tlearn: 0.9109357\ttotal: 58.2ms\tremaining: 246ms\n",
            "23:\tlearn: 0.9131905\ttotal: 59.3ms\tremaining: 237ms\n",
            "24:\tlearn: 0.9098083\ttotal: 62ms\tremaining: 236ms\n",
            "25:\tlearn: 0.9143179\ttotal: 64.5ms\tremaining: 233ms\n",
            "26:\tlearn: 0.9143179\ttotal: 67ms\tremaining: 231ms\n",
            "27:\tlearn: 0.9154453\ttotal: 69.9ms\tremaining: 230ms\n",
            "28:\tlearn: 0.9165727\ttotal: 72.8ms\tremaining: 229ms\n",
            "29:\tlearn: 0.9177001\ttotal: 75.6ms\tremaining: 227ms\n",
            "30:\tlearn: 0.9177001\ttotal: 78.4ms\tremaining: 225ms\n",
            "31:\tlearn: 0.9177001\ttotal: 81ms\tremaining: 223ms\n",
            "32:\tlearn: 0.9188275\ttotal: 83.6ms\tremaining: 220ms\n",
            "33:\tlearn: 0.9199549\ttotal: 86.2ms\tremaining: 218ms\n",
            "34:\tlearn: 0.9199549\ttotal: 88.8ms\tremaining: 216ms\n",
            "35:\tlearn: 0.9210823\ttotal: 93.5ms\tremaining: 218ms\n",
            "36:\tlearn: 0.9210823\ttotal: 95.9ms\tremaining: 215ms\n",
            "37:\tlearn: 0.9233371\ttotal: 98.6ms\tremaining: 213ms\n",
            "38:\tlearn: 0.9210823\ttotal: 101ms\tremaining: 210ms\n",
            "39:\tlearn: 0.9233371\ttotal: 104ms\tremaining: 207ms\n",
            "40:\tlearn: 0.9222097\ttotal: 106ms\tremaining: 204ms\n",
            "41:\tlearn: 0.9233371\ttotal: 108ms\tremaining: 201ms\n",
            "42:\tlearn: 0.9233371\ttotal: 111ms\tremaining: 199ms\n",
            "43:\tlearn: 0.9222097\ttotal: 114ms\tremaining: 196ms\n",
            "44:\tlearn: 0.9222097\ttotal: 116ms\tremaining: 194ms\n",
            "45:\tlearn: 0.9210823\ttotal: 119ms\tremaining: 191ms\n",
            "46:\tlearn: 0.9222097\ttotal: 121ms\tremaining: 189ms\n",
            "47:\tlearn: 0.9222097\ttotal: 124ms\tremaining: 186ms\n",
            "48:\tlearn: 0.9244645\ttotal: 126ms\tremaining: 183ms\n",
            "49:\tlearn: 0.9244645\ttotal: 128ms\tremaining: 180ms\n",
            "50:\tlearn: 0.9244645\ttotal: 131ms\tremaining: 177ms\n",
            "51:\tlearn: 0.9255919\ttotal: 133ms\tremaining: 174ms\n",
            "52:\tlearn: 0.9278467\ttotal: 135ms\tremaining: 171ms\n",
            "53:\tlearn: 0.9267193\ttotal: 137ms\tremaining: 168ms\n",
            "54:\tlearn: 0.9267193\ttotal: 140ms\tremaining: 165ms\n",
            "55:\tlearn: 0.9267193\ttotal: 142ms\tremaining: 162ms\n",
            "56:\tlearn: 0.9278467\ttotal: 146ms\tremaining: 162ms\n",
            "57:\tlearn: 0.9267193\ttotal: 151ms\tremaining: 161ms\n",
            "58:\tlearn: 0.9278467\ttotal: 153ms\tremaining: 158ms\n",
            "59:\tlearn: 0.9278467\ttotal: 156ms\tremaining: 156ms\n",
            "60:\tlearn: 0.9289741\ttotal: 158ms\tremaining: 153ms\n",
            "61:\tlearn: 0.9289741\ttotal: 161ms\tremaining: 150ms\n",
            "62:\tlearn: 0.9278467\ttotal: 162ms\tremaining: 147ms\n",
            "63:\tlearn: 0.9278467\ttotal: 165ms\tremaining: 144ms\n",
            "64:\tlearn: 0.9278467\ttotal: 168ms\tremaining: 142ms\n",
            "65:\tlearn: 0.9301015\ttotal: 171ms\tremaining: 140ms\n",
            "66:\tlearn: 0.9301015\ttotal: 173ms\tremaining: 137ms\n",
            "67:\tlearn: 0.9323563\ttotal: 176ms\tremaining: 134ms\n",
            "68:\tlearn: 0.9312289\ttotal: 178ms\tremaining: 132ms\n",
            "69:\tlearn: 0.9334837\ttotal: 181ms\tremaining: 129ms\n",
            "70:\tlearn: 0.9334837\ttotal: 184ms\tremaining: 127ms\n",
            "71:\tlearn: 0.9334837\ttotal: 187ms\tremaining: 125ms\n",
            "72:\tlearn: 0.9334837\ttotal: 189ms\tremaining: 122ms\n",
            "73:\tlearn: 0.9346110\ttotal: 191ms\tremaining: 119ms\n",
            "74:\tlearn: 0.9346110\ttotal: 193ms\tremaining: 116ms\n",
            "75:\tlearn: 0.9346110\ttotal: 198ms\tremaining: 114ms\n",
            "76:\tlearn: 0.9346110\ttotal: 203ms\tremaining: 113ms\n",
            "77:\tlearn: 0.9346110\ttotal: 208ms\tremaining: 112ms\n",
            "78:\tlearn: 0.9346110\ttotal: 210ms\tremaining: 109ms\n",
            "79:\tlearn: 0.9346110\ttotal: 213ms\tremaining: 106ms\n",
            "80:\tlearn: 0.9357384\ttotal: 215ms\tremaining: 104ms\n",
            "81:\tlearn: 0.9357384\ttotal: 218ms\tremaining: 101ms\n",
            "82:\tlearn: 0.9357384\ttotal: 220ms\tremaining: 98.1ms\n",
            "83:\tlearn: 0.9357384\ttotal: 222ms\tremaining: 95ms\n",
            "84:\tlearn: 0.9368658\ttotal: 224ms\tremaining: 92.3ms\n",
            "85:\tlearn: 0.9368658\ttotal: 226ms\tremaining: 89.5ms\n",
            "86:\tlearn: 0.9368658\ttotal: 229ms\tremaining: 86.9ms\n",
            "87:\tlearn: 0.9368658\ttotal: 232ms\tremaining: 84.3ms\n",
            "88:\tlearn: 0.9368658\ttotal: 235ms\tremaining: 81.8ms\n",
            "89:\tlearn: 0.9368658\ttotal: 238ms\tremaining: 79.2ms\n",
            "90:\tlearn: 0.9368658\ttotal: 240ms\tremaining: 76.5ms\n",
            "91:\tlearn: 0.9357384\ttotal: 243ms\tremaining: 73.9ms\n",
            "92:\tlearn: 0.9357384\ttotal: 245ms\tremaining: 71.1ms\n",
            "93:\tlearn: 0.9357384\ttotal: 247ms\tremaining: 68.4ms\n",
            "94:\tlearn: 0.9357384\ttotal: 250ms\tremaining: 65.7ms\n",
            "95:\tlearn: 0.9357384\ttotal: 252ms\tremaining: 63ms\n",
            "96:\tlearn: 0.9368658\ttotal: 254ms\tremaining: 60.3ms\n",
            "97:\tlearn: 0.9379932\ttotal: 257ms\tremaining: 57.7ms\n",
            "98:\tlearn: 0.9379932\ttotal: 260ms\tremaining: 55.2ms\n",
            "99:\tlearn: 0.9379932\ttotal: 263ms\tremaining: 52.6ms\n",
            "100:\tlearn: 0.9379932\ttotal: 266ms\tremaining: 49.9ms\n",
            "101:\tlearn: 0.9379932\ttotal: 268ms\tremaining: 47.3ms\n",
            "102:\tlearn: 0.9391206\ttotal: 271ms\tremaining: 44.7ms\n",
            "103:\tlearn: 0.9402480\ttotal: 273ms\tremaining: 42ms\n",
            "104:\tlearn: 0.9402480\ttotal: 276ms\tremaining: 39.4ms\n",
            "105:\tlearn: 0.9402480\ttotal: 278ms\tremaining: 36.8ms\n",
            "106:\tlearn: 0.9413754\ttotal: 281ms\tremaining: 34.1ms\n",
            "107:\tlearn: 0.9413754\ttotal: 284ms\tremaining: 31.5ms\n",
            "108:\tlearn: 0.9413754\ttotal: 285ms\tremaining: 28.7ms\n",
            "109:\tlearn: 0.9413754\ttotal: 287ms\tremaining: 26.1ms\n",
            "110:\tlearn: 0.9413754\ttotal: 290ms\tremaining: 23.5ms\n",
            "111:\tlearn: 0.9413754\ttotal: 292ms\tremaining: 20.9ms\n",
            "112:\tlearn: 0.9413754\ttotal: 295ms\tremaining: 18.3ms\n",
            "113:\tlearn: 0.9413754\ttotal: 297ms\tremaining: 15.7ms\n",
            "114:\tlearn: 0.9425028\ttotal: 300ms\tremaining: 13ms\n",
            "115:\tlearn: 0.9413754\ttotal: 303ms\tremaining: 10.4ms\n",
            "116:\tlearn: 0.9413754\ttotal: 305ms\tremaining: 7.82ms\n",
            "117:\tlearn: 0.9425028\ttotal: 308ms\tremaining: 5.22ms\n",
            "118:\tlearn: 0.9425028\ttotal: 311ms\tremaining: 2.61ms\n",
            "119:\tlearn: 0.9425028\ttotal: 313ms\tremaining: 0us\n",
            "0:\tlearn: 0.8669673\ttotal: 2.44ms\tremaining: 290ms\n",
            "1:\tlearn: 0.8726043\ttotal: 5.04ms\tremaining: 297ms\n",
            "2:\tlearn: 0.8838782\ttotal: 7.56ms\tremaining: 295ms\n",
            "3:\tlearn: 0.8872604\ttotal: 10.1ms\tremaining: 293ms\n",
            "4:\tlearn: 0.8714769\ttotal: 10.9ms\tremaining: 251ms\n",
            "5:\tlearn: 0.8782413\ttotal: 13.5ms\tremaining: 256ms\n",
            "6:\tlearn: 0.8883878\ttotal: 15.9ms\tremaining: 257ms\n",
            "7:\tlearn: 0.8895152\ttotal: 18.4ms\tremaining: 258ms\n",
            "8:\tlearn: 0.8940248\ttotal: 20.9ms\tremaining: 258ms\n",
            "9:\tlearn: 0.8928974\ttotal: 23.3ms\tremaining: 257ms\n",
            "10:\tlearn: 0.8962796\ttotal: 25.8ms\tremaining: 256ms\n",
            "11:\tlearn: 0.8962796\ttotal: 28.3ms\tremaining: 255ms\n",
            "12:\tlearn: 0.8996618\ttotal: 30.8ms\tremaining: 254ms\n",
            "13:\tlearn: 0.8974070\ttotal: 33.2ms\tremaining: 252ms\n",
            "14:\tlearn: 0.8985344\ttotal: 35.8ms\tremaining: 250ms\n",
            "15:\tlearn: 0.9030440\ttotal: 38.3ms\tremaining: 249ms\n",
            "16:\tlearn: 0.9019166\ttotal: 40.7ms\tremaining: 247ms\n",
            "17:\tlearn: 0.9019166\ttotal: 44.4ms\tremaining: 252ms\n",
            "18:\tlearn: 0.9041714\ttotal: 45.1ms\tremaining: 240ms\n",
            "19:\tlearn: 0.9030440\ttotal: 49.5ms\tremaining: 247ms\n",
            "20:\tlearn: 0.9030440\ttotal: 57.5ms\tremaining: 271ms\n",
            "21:\tlearn: 0.9030440\ttotal: 59.8ms\tremaining: 266ms\n",
            "22:\tlearn: 0.9030440\ttotal: 62ms\tremaining: 261ms\n",
            "23:\tlearn: 0.9086809\ttotal: 64.2ms\tremaining: 257ms\n",
            "24:\tlearn: 0.9086809\ttotal: 66.5ms\tremaining: 253ms\n",
            "25:\tlearn: 0.9131905\ttotal: 69ms\tremaining: 249ms\n",
            "26:\tlearn: 0.9052988\ttotal: 69.7ms\tremaining: 240ms\n",
            "27:\tlearn: 0.9086809\ttotal: 72.1ms\tremaining: 237ms\n",
            "28:\tlearn: 0.9120631\ttotal: 74.8ms\tremaining: 235ms\n",
            "29:\tlearn: 0.9109357\ttotal: 77.4ms\tremaining: 232ms\n",
            "30:\tlearn: 0.9109357\ttotal: 78.7ms\tremaining: 226ms\n",
            "31:\tlearn: 0.9098083\ttotal: 81.5ms\tremaining: 224ms\n",
            "32:\tlearn: 0.9131905\ttotal: 84.4ms\tremaining: 222ms\n",
            "33:\tlearn: 0.9131905\ttotal: 87ms\tremaining: 220ms\n",
            "34:\tlearn: 0.9131905\ttotal: 89.5ms\tremaining: 217ms\n",
            "35:\tlearn: 0.9143179\ttotal: 92.1ms\tremaining: 215ms\n",
            "36:\tlearn: 0.9154453\ttotal: 94.8ms\tremaining: 213ms\n",
            "37:\tlearn: 0.9177001\ttotal: 97.4ms\tremaining: 210ms\n",
            "38:\tlearn: 0.9165727\ttotal: 100ms\tremaining: 208ms\n",
            "39:\tlearn: 0.9154453\ttotal: 103ms\tremaining: 206ms\n",
            "40:\tlearn: 0.9165727\ttotal: 106ms\tremaining: 204ms\n",
            "41:\tlearn: 0.9188275\ttotal: 109ms\tremaining: 202ms\n",
            "42:\tlearn: 0.9199549\ttotal: 111ms\tremaining: 199ms\n",
            "43:\tlearn: 0.9199549\ttotal: 115ms\tremaining: 199ms\n",
            "44:\tlearn: 0.9188275\ttotal: 116ms\tremaining: 194ms\n",
            "45:\tlearn: 0.9188275\ttotal: 119ms\tremaining: 191ms\n",
            "46:\tlearn: 0.9210823\ttotal: 121ms\tremaining: 188ms\n",
            "47:\tlearn: 0.9199549\ttotal: 124ms\tremaining: 186ms\n",
            "48:\tlearn: 0.9222097\ttotal: 127ms\tremaining: 184ms\n",
            "49:\tlearn: 0.9222097\ttotal: 130ms\tremaining: 181ms\n",
            "50:\tlearn: 0.9210823\ttotal: 132ms\tremaining: 179ms\n",
            "51:\tlearn: 0.9210823\ttotal: 135ms\tremaining: 176ms\n",
            "52:\tlearn: 0.9233371\ttotal: 137ms\tremaining: 173ms\n",
            "53:\tlearn: 0.9244645\ttotal: 140ms\tremaining: 171ms\n",
            "54:\tlearn: 0.9244645\ttotal: 142ms\tremaining: 168ms\n",
            "55:\tlearn: 0.9267193\ttotal: 145ms\tremaining: 165ms\n",
            "56:\tlearn: 0.9267193\ttotal: 147ms\tremaining: 163ms\n",
            "57:\tlearn: 0.9278467\ttotal: 150ms\tremaining: 160ms\n",
            "58:\tlearn: 0.9289741\ttotal: 152ms\tremaining: 157ms\n",
            "59:\tlearn: 0.9289741\ttotal: 156ms\tremaining: 156ms\n",
            "60:\tlearn: 0.9267193\ttotal: 159ms\tremaining: 154ms\n",
            "61:\tlearn: 0.9255919\ttotal: 162ms\tremaining: 151ms\n",
            "62:\tlearn: 0.9289741\ttotal: 164ms\tremaining: 149ms\n",
            "63:\tlearn: 0.9289741\ttotal: 175ms\tremaining: 153ms\n",
            "64:\tlearn: 0.9289741\ttotal: 180ms\tremaining: 152ms\n",
            "65:\tlearn: 0.9301015\ttotal: 186ms\tremaining: 153ms\n",
            "66:\tlearn: 0.9323563\ttotal: 191ms\tremaining: 151ms\n",
            "67:\tlearn: 0.9334837\ttotal: 194ms\tremaining: 148ms\n",
            "68:\tlearn: 0.9334837\ttotal: 197ms\tremaining: 145ms\n",
            "69:\tlearn: 0.9334837\ttotal: 200ms\tremaining: 143ms\n",
            "70:\tlearn: 0.9323563\ttotal: 202ms\tremaining: 140ms\n",
            "71:\tlearn: 0.9323563\ttotal: 205ms\tremaining: 137ms\n",
            "72:\tlearn: 0.9323563\ttotal: 208ms\tremaining: 134ms\n",
            "73:\tlearn: 0.9334837\ttotal: 210ms\tremaining: 131ms\n",
            "74:\tlearn: 0.9334837\ttotal: 213ms\tremaining: 128ms\n",
            "75:\tlearn: 0.9323563\ttotal: 216ms\tremaining: 125ms\n",
            "76:\tlearn: 0.9323563\ttotal: 219ms\tremaining: 122ms\n",
            "77:\tlearn: 0.9323563\ttotal: 221ms\tremaining: 119ms\n",
            "78:\tlearn: 0.9323563\ttotal: 224ms\tremaining: 116ms\n",
            "79:\tlearn: 0.9323563\ttotal: 226ms\tremaining: 113ms\n",
            "80:\tlearn: 0.9323563\ttotal: 233ms\tremaining: 112ms\n",
            "81:\tlearn: 0.9346110\ttotal: 236ms\tremaining: 109ms\n",
            "82:\tlearn: 0.9346110\ttotal: 238ms\tremaining: 106ms\n",
            "83:\tlearn: 0.9346110\ttotal: 241ms\tremaining: 103ms\n",
            "84:\tlearn: 0.9346110\ttotal: 242ms\tremaining: 99.7ms\n",
            "85:\tlearn: 0.9346110\ttotal: 245ms\tremaining: 96.9ms\n",
            "86:\tlearn: 0.9346110\ttotal: 249ms\tremaining: 94.3ms\n",
            "87:\tlearn: 0.9357384\ttotal: 253ms\tremaining: 91.9ms\n",
            "88:\tlearn: 0.9357384\ttotal: 256ms\tremaining: 89.2ms\n",
            "89:\tlearn: 0.9346110\ttotal: 259ms\tremaining: 86.4ms\n",
            "90:\tlearn: 0.9357384\ttotal: 262ms\tremaining: 83.6ms\n",
            "91:\tlearn: 0.9368658\ttotal: 265ms\tremaining: 80.5ms\n",
            "92:\tlearn: 0.9368658\ttotal: 268ms\tremaining: 77.7ms\n",
            "93:\tlearn: 0.9368658\ttotal: 271ms\tremaining: 75ms\n",
            "94:\tlearn: 0.9346110\ttotal: 282ms\tremaining: 74.1ms\n",
            "95:\tlearn: 0.9346110\ttotal: 287ms\tremaining: 71.7ms\n",
            "96:\tlearn: 0.9357384\ttotal: 291ms\tremaining: 69.1ms\n",
            "97:\tlearn: 0.9368658\ttotal: 294ms\tremaining: 66.1ms\n",
            "98:\tlearn: 0.9368658\ttotal: 297ms\tremaining: 63.1ms\n",
            "99:\tlearn: 0.9368658\ttotal: 300ms\tremaining: 60ms\n",
            "100:\tlearn: 0.9368658\ttotal: 303ms\tremaining: 57ms\n",
            "101:\tlearn: 0.9368658\ttotal: 305ms\tremaining: 53.9ms\n",
            "102:\tlearn: 0.9368658\ttotal: 308ms\tremaining: 50.9ms\n",
            "103:\tlearn: 0.9368658\ttotal: 315ms\tremaining: 48.5ms\n",
            "104:\tlearn: 0.9368658\ttotal: 318ms\tremaining: 45.4ms\n",
            "105:\tlearn: 0.9379932\ttotal: 321ms\tremaining: 42.4ms\n",
            "106:\tlearn: 0.9379932\ttotal: 327ms\tremaining: 39.7ms\n",
            "107:\tlearn: 0.9379932\ttotal: 331ms\tremaining: 36.8ms\n",
            "108:\tlearn: 0.9368658\ttotal: 334ms\tremaining: 33.7ms\n",
            "109:\tlearn: 0.9379932\ttotal: 343ms\tremaining: 31.2ms\n",
            "110:\tlearn: 0.9379932\ttotal: 349ms\tremaining: 28.3ms\n",
            "111:\tlearn: 0.9391206\ttotal: 353ms\tremaining: 25.2ms\n",
            "112:\tlearn: 0.9391206\ttotal: 356ms\tremaining: 22ms\n",
            "113:\tlearn: 0.9391206\ttotal: 358ms\tremaining: 18.8ms\n",
            "114:\tlearn: 0.9391206\ttotal: 361ms\tremaining: 15.7ms\n",
            "115:\tlearn: 0.9402480\ttotal: 365ms\tremaining: 12.6ms\n",
            "116:\tlearn: 0.9391206\ttotal: 371ms\tremaining: 9.51ms\n",
            "117:\tlearn: 0.9413754\ttotal: 375ms\tremaining: 6.35ms\n",
            "118:\tlearn: 0.9413754\ttotal: 377ms\tremaining: 3.17ms\n",
            "119:\tlearn: 0.9413754\ttotal: 381ms\tremaining: 0us\n",
            "0:\tlearn: 0.8624577\ttotal: 4.93ms\tremaining: 586ms\n",
            "1:\tlearn: 0.8782413\ttotal: 7.26ms\tremaining: 428ms\n",
            "2:\tlearn: 0.8917700\ttotal: 10.5ms\tremaining: 408ms\n",
            "3:\tlearn: 0.8861330\ttotal: 13.7ms\tremaining: 397ms\n",
            "4:\tlearn: 0.8793687\ttotal: 14.2ms\tremaining: 327ms\n",
            "5:\tlearn: 0.8782413\ttotal: 14.9ms\tremaining: 283ms\n",
            "6:\tlearn: 0.8759865\ttotal: 15.4ms\tremaining: 249ms\n",
            "7:\tlearn: 0.8928974\ttotal: 18.9ms\tremaining: 265ms\n",
            "8:\tlearn: 0.8906426\ttotal: 21.7ms\tremaining: 267ms\n",
            "9:\tlearn: 0.8928974\ttotal: 25.3ms\tremaining: 278ms\n",
            "10:\tlearn: 0.8906426\ttotal: 28.1ms\tremaining: 278ms\n",
            "11:\tlearn: 0.8940248\ttotal: 30.6ms\tremaining: 275ms\n",
            "12:\tlearn: 0.8996618\ttotal: 33.7ms\tremaining: 278ms\n",
            "13:\tlearn: 0.8996618\ttotal: 36.5ms\tremaining: 276ms\n",
            "14:\tlearn: 0.8962796\ttotal: 39.1ms\tremaining: 274ms\n",
            "15:\tlearn: 0.8974070\ttotal: 41.9ms\tremaining: 272ms\n",
            "16:\tlearn: 0.8974070\ttotal: 42.3ms\tremaining: 257ms\n",
            "17:\tlearn: 0.8974070\ttotal: 45.3ms\tremaining: 257ms\n",
            "18:\tlearn: 0.8951522\ttotal: 48ms\tremaining: 255ms\n",
            "19:\tlearn: 0.8951522\ttotal: 49.4ms\tremaining: 247ms\n",
            "20:\tlearn: 0.8962796\ttotal: 52.9ms\tremaining: 249ms\n",
            "21:\tlearn: 0.8962796\ttotal: 55.9ms\tremaining: 249ms\n",
            "22:\tlearn: 0.8974070\ttotal: 59.6ms\tremaining: 251ms\n",
            "23:\tlearn: 0.8985344\ttotal: 62.5ms\tremaining: 250ms\n",
            "24:\tlearn: 0.8996618\ttotal: 65.8ms\tremaining: 250ms\n",
            "25:\tlearn: 0.8985344\ttotal: 71.7ms\tremaining: 259ms\n",
            "26:\tlearn: 0.9019166\ttotal: 79.5ms\tremaining: 274ms\n",
            "27:\tlearn: 0.9007892\ttotal: 85.2ms\tremaining: 280ms\n",
            "28:\tlearn: 0.9041714\ttotal: 89.3ms\tremaining: 280ms\n",
            "29:\tlearn: 0.9019166\ttotal: 95.5ms\tremaining: 287ms\n",
            "30:\tlearn: 0.9052988\ttotal: 103ms\tremaining: 296ms\n",
            "31:\tlearn: 0.9075536\ttotal: 110ms\tremaining: 303ms\n",
            "32:\tlearn: 0.9075536\ttotal: 117ms\tremaining: 309ms\n",
            "33:\tlearn: 0.9109357\ttotal: 123ms\tremaining: 311ms\n",
            "34:\tlearn: 0.9120631\ttotal: 127ms\tremaining: 309ms\n",
            "35:\tlearn: 0.9120631\ttotal: 132ms\tremaining: 307ms\n",
            "36:\tlearn: 0.9131905\ttotal: 135ms\tremaining: 303ms\n",
            "37:\tlearn: 0.9131905\ttotal: 139ms\tremaining: 300ms\n",
            "38:\tlearn: 0.9143179\ttotal: 143ms\tremaining: 297ms\n",
            "39:\tlearn: 0.9131905\ttotal: 146ms\tremaining: 292ms\n",
            "40:\tlearn: 0.9165727\ttotal: 149ms\tremaining: 287ms\n",
            "41:\tlearn: 0.9177001\ttotal: 152ms\tremaining: 282ms\n",
            "42:\tlearn: 0.9177001\ttotal: 155ms\tremaining: 277ms\n",
            "43:\tlearn: 0.9177001\ttotal: 159ms\tremaining: 274ms\n",
            "44:\tlearn: 0.9199549\ttotal: 167ms\tremaining: 278ms\n",
            "45:\tlearn: 0.9210823\ttotal: 171ms\tremaining: 275ms\n",
            "46:\tlearn: 0.9199549\ttotal: 180ms\tremaining: 279ms\n",
            "47:\tlearn: 0.9210823\ttotal: 186ms\tremaining: 279ms\n",
            "48:\tlearn: 0.9210823\ttotal: 190ms\tremaining: 275ms\n",
            "49:\tlearn: 0.9210823\ttotal: 195ms\tremaining: 273ms\n",
            "50:\tlearn: 0.9222097\ttotal: 200ms\tremaining: 270ms\n",
            "51:\tlearn: 0.9233371\ttotal: 209ms\tremaining: 273ms\n",
            "52:\tlearn: 0.9222097\ttotal: 214ms\tremaining: 270ms\n",
            "53:\tlearn: 0.9233371\ttotal: 218ms\tremaining: 266ms\n",
            "54:\tlearn: 0.9233371\ttotal: 221ms\tremaining: 261ms\n",
            "55:\tlearn: 0.9255919\ttotal: 224ms\tremaining: 255ms\n",
            "56:\tlearn: 0.9255919\ttotal: 228ms\tremaining: 252ms\n",
            "57:\tlearn: 0.9267193\ttotal: 231ms\tremaining: 247ms\n",
            "58:\tlearn: 0.9278467\ttotal: 234ms\tremaining: 242ms\n",
            "59:\tlearn: 0.9289741\ttotal: 238ms\tremaining: 238ms\n",
            "60:\tlearn: 0.9289741\ttotal: 241ms\tremaining: 233ms\n",
            "61:\tlearn: 0.9289741\ttotal: 243ms\tremaining: 227ms\n",
            "62:\tlearn: 0.9301015\ttotal: 246ms\tremaining: 223ms\n",
            "63:\tlearn: 0.9289741\ttotal: 248ms\tremaining: 217ms\n",
            "64:\tlearn: 0.9289741\ttotal: 252ms\tremaining: 213ms\n",
            "65:\tlearn: 0.9289741\ttotal: 255ms\tremaining: 209ms\n",
            "66:\tlearn: 0.9289741\ttotal: 260ms\tremaining: 206ms\n",
            "67:\tlearn: 0.9301015\ttotal: 265ms\tremaining: 202ms\n",
            "68:\tlearn: 0.9323563\ttotal: 268ms\tremaining: 198ms\n",
            "69:\tlearn: 0.9312289\ttotal: 272ms\tremaining: 194ms\n",
            "70:\tlearn: 0.9323563\ttotal: 276ms\tremaining: 191ms\n",
            "71:\tlearn: 0.9323563\ttotal: 279ms\tremaining: 186ms\n",
            "72:\tlearn: 0.9323563\ttotal: 282ms\tremaining: 182ms\n",
            "73:\tlearn: 0.9323563\ttotal: 285ms\tremaining: 177ms\n",
            "74:\tlearn: 0.9323563\ttotal: 288ms\tremaining: 173ms\n",
            "75:\tlearn: 0.9323563\ttotal: 291ms\tremaining: 169ms\n",
            "76:\tlearn: 0.9323563\ttotal: 294ms\tremaining: 164ms\n",
            "77:\tlearn: 0.9323563\ttotal: 295ms\tremaining: 159ms\n",
            "78:\tlearn: 0.9334837\ttotal: 299ms\tremaining: 155ms\n",
            "79:\tlearn: 0.9334837\ttotal: 301ms\tremaining: 150ms\n",
            "80:\tlearn: 0.9334837\ttotal: 304ms\tremaining: 147ms\n",
            "81:\tlearn: 0.9323563\ttotal: 308ms\tremaining: 143ms\n",
            "82:\tlearn: 0.9323563\ttotal: 314ms\tremaining: 140ms\n",
            "83:\tlearn: 0.9334837\ttotal: 318ms\tremaining: 136ms\n",
            "84:\tlearn: 0.9346110\ttotal: 325ms\tremaining: 134ms\n",
            "85:\tlearn: 0.9346110\ttotal: 332ms\tremaining: 131ms\n",
            "86:\tlearn: 0.9346110\ttotal: 338ms\tremaining: 128ms\n",
            "87:\tlearn: 0.9346110\ttotal: 343ms\tremaining: 125ms\n",
            "88:\tlearn: 0.9346110\ttotal: 349ms\tremaining: 122ms\n",
            "89:\tlearn: 0.9346110\ttotal: 361ms\tremaining: 120ms\n",
            "90:\tlearn: 0.9346110\ttotal: 364ms\tremaining: 116ms\n",
            "91:\tlearn: 0.9357384\ttotal: 372ms\tremaining: 113ms\n",
            "92:\tlearn: 0.9357384\ttotal: 375ms\tremaining: 109ms\n",
            "93:\tlearn: 0.9357384\ttotal: 383ms\tremaining: 106ms\n",
            "94:\tlearn: 0.9346110\ttotal: 388ms\tremaining: 102ms\n",
            "95:\tlearn: 0.9346110\ttotal: 394ms\tremaining: 98.6ms\n",
            "96:\tlearn: 0.9346110\ttotal: 401ms\tremaining: 95ms\n",
            "97:\tlearn: 0.9357384\ttotal: 407ms\tremaining: 91.5ms\n",
            "98:\tlearn: 0.9346110\ttotal: 415ms\tremaining: 88ms\n",
            "99:\tlearn: 0.9346110\ttotal: 421ms\tremaining: 84.1ms\n",
            "100:\tlearn: 0.9368658\ttotal: 426ms\tremaining: 80.1ms\n",
            "101:\tlearn: 0.9368658\ttotal: 430ms\tremaining: 75.9ms\n",
            "102:\tlearn: 0.9368658\ttotal: 437ms\tremaining: 72.1ms\n",
            "103:\tlearn: 0.9368658\ttotal: 443ms\tremaining: 68.1ms\n",
            "104:\tlearn: 0.9368658\ttotal: 449ms\tremaining: 64.1ms\n",
            "105:\tlearn: 0.9368658\ttotal: 455ms\tremaining: 60.1ms\n",
            "106:\tlearn: 0.9368658\ttotal: 461ms\tremaining: 56ms\n",
            "107:\tlearn: 0.9368658\ttotal: 467ms\tremaining: 51.9ms\n",
            "108:\tlearn: 0.9368658\ttotal: 476ms\tremaining: 48ms\n",
            "109:\tlearn: 0.9368658\ttotal: 482ms\tremaining: 43.8ms\n",
            "110:\tlearn: 0.9368658\ttotal: 489ms\tremaining: 39.6ms\n",
            "111:\tlearn: 0.9357384\ttotal: 495ms\tremaining: 35.3ms\n",
            "112:\tlearn: 0.9357384\ttotal: 501ms\tremaining: 31ms\n",
            "113:\tlearn: 0.9357384\ttotal: 507ms\tremaining: 26.7ms\n",
            "114:\tlearn: 0.9368658\ttotal: 516ms\tremaining: 22.5ms\n",
            "115:\tlearn: 0.9368658\ttotal: 523ms\tremaining: 18ms\n",
            "116:\tlearn: 0.9368658\ttotal: 530ms\tremaining: 13.6ms\n",
            "117:\tlearn: 0.9379932\ttotal: 536ms\tremaining: 9.08ms\n",
            "118:\tlearn: 0.9379932\ttotal: 549ms\tremaining: 4.61ms\n",
            "119:\tlearn: 0.9379932\ttotal: 557ms\tremaining: 0us\n",
            "0:\tlearn: 0.8838782\ttotal: 5.18ms\tremaining: 617ms\n",
            "1:\tlearn: 0.8793687\ttotal: 11.2ms\tremaining: 662ms\n",
            "2:\tlearn: 0.8872604\ttotal: 15.3ms\tremaining: 597ms\n",
            "3:\tlearn: 0.8838782\ttotal: 21.7ms\tremaining: 630ms\n",
            "4:\tlearn: 0.8759865\ttotal: 25.5ms\tremaining: 587ms\n",
            "5:\tlearn: 0.8726043\ttotal: 26.8ms\tremaining: 510ms\n",
            "6:\tlearn: 0.8737317\ttotal: 28.4ms\tremaining: 459ms\n",
            "7:\tlearn: 0.8793687\ttotal: 32.1ms\tremaining: 449ms\n",
            "8:\tlearn: 0.8771139\ttotal: 38.6ms\tremaining: 476ms\n",
            "9:\tlearn: 0.8816234\ttotal: 44.8ms\tremaining: 493ms\n",
            "10:\tlearn: 0.8838782\ttotal: 51.3ms\tremaining: 509ms\n",
            "11:\tlearn: 0.8838782\ttotal: 57.5ms\tremaining: 517ms\n",
            "12:\tlearn: 0.8838782\ttotal: 63.9ms\tremaining: 526ms\n",
            "13:\tlearn: 0.8850056\ttotal: 70.3ms\tremaining: 533ms\n",
            "14:\tlearn: 0.8850056\ttotal: 76.6ms\tremaining: 536ms\n",
            "15:\tlearn: 0.8895152\ttotal: 82ms\tremaining: 533ms\n",
            "16:\tlearn: 0.8895152\ttotal: 82.6ms\tremaining: 500ms\n",
            "17:\tlearn: 0.8895152\ttotal: 85.9ms\tremaining: 487ms\n",
            "18:\tlearn: 0.8883878\ttotal: 89.1ms\tremaining: 474ms\n",
            "19:\tlearn: 0.8906426\ttotal: 91.1ms\tremaining: 455ms\n",
            "20:\tlearn: 0.8917700\ttotal: 94.3ms\tremaining: 445ms\n",
            "21:\tlearn: 0.8951522\ttotal: 97.8ms\tremaining: 436ms\n",
            "22:\tlearn: 0.8928974\ttotal: 101ms\tremaining: 424ms\n",
            "23:\tlearn: 0.8928974\ttotal: 104ms\tremaining: 415ms\n",
            "24:\tlearn: 0.8940248\ttotal: 107ms\tremaining: 408ms\n",
            "25:\tlearn: 0.8996618\ttotal: 111ms\tremaining: 401ms\n",
            "26:\tlearn: 0.9007892\ttotal: 114ms\tremaining: 392ms\n",
            "27:\tlearn: 0.9019166\ttotal: 117ms\tremaining: 384ms\n",
            "28:\tlearn: 0.9041714\ttotal: 120ms\tremaining: 375ms\n",
            "29:\tlearn: 0.9019166\ttotal: 123ms\tremaining: 368ms\n",
            "30:\tlearn: 0.9064262\ttotal: 125ms\tremaining: 360ms\n",
            "31:\tlearn: 0.9075536\ttotal: 134ms\tremaining: 369ms\n",
            "32:\tlearn: 0.9098083\ttotal: 138ms\tremaining: 363ms\n",
            "33:\tlearn: 0.9120631\ttotal: 141ms\tremaining: 356ms\n",
            "34:\tlearn: 0.9154453\ttotal: 144ms\tremaining: 350ms\n",
            "35:\tlearn: 0.9165727\ttotal: 147ms\tremaining: 343ms\n",
            "36:\tlearn: 0.9165727\ttotal: 150ms\tremaining: 336ms\n",
            "37:\tlearn: 0.9188275\ttotal: 153ms\tremaining: 331ms\n",
            "38:\tlearn: 0.9188275\ttotal: 156ms\tremaining: 325ms\n",
            "39:\tlearn: 0.9199549\ttotal: 159ms\tremaining: 318ms\n",
            "40:\tlearn: 0.9210823\ttotal: 162ms\tremaining: 311ms\n",
            "41:\tlearn: 0.9210823\ttotal: 164ms\tremaining: 305ms\n",
            "42:\tlearn: 0.9210823\ttotal: 167ms\tremaining: 299ms\n",
            "43:\tlearn: 0.9210823\ttotal: 170ms\tremaining: 293ms\n",
            "44:\tlearn: 0.9210823\ttotal: 173ms\tremaining: 288ms\n",
            "45:\tlearn: 0.9222097\ttotal: 175ms\tremaining: 282ms\n",
            "46:\tlearn: 0.9233371\ttotal: 178ms\tremaining: 276ms\n",
            "47:\tlearn: 0.9233371\ttotal: 181ms\tremaining: 271ms\n",
            "48:\tlearn: 0.9244645\ttotal: 183ms\tremaining: 266ms\n",
            "49:\tlearn: 0.9267193\ttotal: 187ms\tremaining: 261ms\n",
            "50:\tlearn: 0.9267193\ttotal: 189ms\tremaining: 256ms\n",
            "51:\tlearn: 0.9267193\ttotal: 197ms\tremaining: 258ms\n",
            "52:\tlearn: 0.9267193\ttotal: 200ms\tremaining: 252ms\n",
            "53:\tlearn: 0.9267193\ttotal: 206ms\tremaining: 251ms\n",
            "54:\tlearn: 0.9267193\ttotal: 209ms\tremaining: 247ms\n",
            "55:\tlearn: 0.9289741\ttotal: 215ms\tremaining: 245ms\n",
            "56:\tlearn: 0.9289741\ttotal: 217ms\tremaining: 240ms\n",
            "57:\tlearn: 0.9323563\ttotal: 223ms\tremaining: 239ms\n",
            "58:\tlearn: 0.9346110\ttotal: 229ms\tremaining: 237ms\n",
            "59:\tlearn: 0.9334837\ttotal: 233ms\tremaining: 233ms\n",
            "60:\tlearn: 0.9357384\ttotal: 238ms\tremaining: 230ms\n",
            "61:\tlearn: 0.9334837\ttotal: 246ms\tremaining: 231ms\n",
            "62:\tlearn: 0.9334837\ttotal: 253ms\tremaining: 229ms\n",
            "63:\tlearn: 0.9346110\ttotal: 258ms\tremaining: 226ms\n",
            "64:\tlearn: 0.9346110\ttotal: 265ms\tremaining: 224ms\n",
            "65:\tlearn: 0.9346110\ttotal: 271ms\tremaining: 222ms\n",
            "66:\tlearn: 0.9346110\ttotal: 279ms\tremaining: 220ms\n",
            "67:\tlearn: 0.9346110\ttotal: 285ms\tremaining: 218ms\n",
            "68:\tlearn: 0.9323563\ttotal: 291ms\tremaining: 215ms\n",
            "69:\tlearn: 0.9323563\ttotal: 300ms\tremaining: 215ms\n",
            "70:\tlearn: 0.9323563\ttotal: 310ms\tremaining: 214ms\n",
            "71:\tlearn: 0.9323563\ttotal: 315ms\tremaining: 210ms\n",
            "72:\tlearn: 0.9334837\ttotal: 321ms\tremaining: 207ms\n",
            "73:\tlearn: 0.9346110\ttotal: 328ms\tremaining: 204ms\n",
            "74:\tlearn: 0.9334837\ttotal: 336ms\tremaining: 201ms\n",
            "75:\tlearn: 0.9323563\ttotal: 340ms\tremaining: 197ms\n",
            "76:\tlearn: 0.9323563\ttotal: 344ms\tremaining: 192ms\n",
            "77:\tlearn: 0.9334837\ttotal: 348ms\tremaining: 187ms\n",
            "78:\tlearn: 0.9334837\ttotal: 355ms\tremaining: 184ms\n",
            "79:\tlearn: 0.9346110\ttotal: 361ms\tremaining: 181ms\n",
            "80:\tlearn: 0.9357384\ttotal: 369ms\tremaining: 178ms\n",
            "81:\tlearn: 0.9346110\ttotal: 375ms\tremaining: 174ms\n",
            "82:\tlearn: 0.9357384\ttotal: 380ms\tremaining: 169ms\n",
            "83:\tlearn: 0.9357384\ttotal: 382ms\tremaining: 164ms\n",
            "84:\tlearn: 0.9357384\ttotal: 388ms\tremaining: 160ms\n",
            "85:\tlearn: 0.9368658\ttotal: 391ms\tremaining: 154ms\n",
            "86:\tlearn: 0.9368658\ttotal: 394ms\tremaining: 149ms\n",
            "87:\tlearn: 0.9368658\ttotal: 397ms\tremaining: 144ms\n",
            "88:\tlearn: 0.9357384\ttotal: 400ms\tremaining: 139ms\n",
            "89:\tlearn: 0.9357384\ttotal: 402ms\tremaining: 134ms\n",
            "90:\tlearn: 0.9346110\ttotal: 405ms\tremaining: 129ms\n",
            "91:\tlearn: 0.9346110\ttotal: 408ms\tremaining: 124ms\n",
            "92:\tlearn: 0.9346110\ttotal: 412ms\tremaining: 120ms\n",
            "93:\tlearn: 0.9346110\ttotal: 416ms\tremaining: 115ms\n",
            "94:\tlearn: 0.9346110\ttotal: 421ms\tremaining: 111ms\n",
            "95:\tlearn: 0.9346110\ttotal: 425ms\tremaining: 106ms\n",
            "96:\tlearn: 0.9379932\ttotal: 432ms\tremaining: 102ms\n",
            "97:\tlearn: 0.9368658\ttotal: 438ms\tremaining: 98.3ms\n",
            "98:\tlearn: 0.9368658\ttotal: 445ms\tremaining: 94.4ms\n",
            "99:\tlearn: 0.9368658\ttotal: 451ms\tremaining: 90.2ms\n",
            "100:\tlearn: 0.9368658\ttotal: 459ms\tremaining: 86.4ms\n",
            "101:\tlearn: 0.9379932\ttotal: 464ms\tremaining: 81.9ms\n",
            "102:\tlearn: 0.9379932\ttotal: 471ms\tremaining: 77.7ms\n",
            "103:\tlearn: 0.9379932\ttotal: 481ms\tremaining: 74ms\n",
            "104:\tlearn: 0.9379932\ttotal: 488ms\tremaining: 69.7ms\n",
            "105:\tlearn: 0.9391206\ttotal: 495ms\tremaining: 65.4ms\n",
            "106:\tlearn: 0.9391206\ttotal: 503ms\tremaining: 61.1ms\n",
            "107:\tlearn: 0.9391206\ttotal: 509ms\tremaining: 56.6ms\n",
            "108:\tlearn: 0.9391206\ttotal: 516ms\tremaining: 52ms\n",
            "109:\tlearn: 0.9391206\ttotal: 523ms\tremaining: 47.5ms\n",
            "110:\tlearn: 0.9391206\ttotal: 530ms\tremaining: 43ms\n",
            "111:\tlearn: 0.9391206\ttotal: 533ms\tremaining: 38.1ms\n",
            "112:\tlearn: 0.9391206\ttotal: 541ms\tremaining: 33.5ms\n",
            "113:\tlearn: 0.9402480\ttotal: 547ms\tremaining: 28.8ms\n",
            "114:\tlearn: 0.9402480\ttotal: 554ms\tremaining: 24.1ms\n",
            "115:\tlearn: 0.9402480\ttotal: 562ms\tremaining: 19.4ms\n",
            "116:\tlearn: 0.9391206\ttotal: 569ms\tremaining: 14.6ms\n",
            "117:\tlearn: 0.9391206\ttotal: 576ms\tremaining: 9.76ms\n",
            "118:\tlearn: 0.9391206\ttotal: 584ms\tremaining: 4.91ms\n",
            "119:\tlearn: 0.9391206\ttotal: 586ms\tremaining: 0us\n",
            "0:\tlearn: 0.8782413\ttotal: 4.07ms\tremaining: 484ms\n",
            "1:\tlearn: 0.8827508\ttotal: 8.38ms\tremaining: 495ms\n",
            "2:\tlearn: 0.8861330\ttotal: 12.4ms\tremaining: 483ms\n",
            "3:\tlearn: 0.8838782\ttotal: 15.6ms\tremaining: 453ms\n",
            "4:\tlearn: 0.8703495\ttotal: 16.2ms\tremaining: 372ms\n",
            "5:\tlearn: 0.8737317\ttotal: 16.8ms\tremaining: 320ms\n",
            "6:\tlearn: 0.8692221\ttotal: 17.4ms\tremaining: 280ms\n",
            "7:\tlearn: 0.8771139\ttotal: 20.5ms\tremaining: 287ms\n",
            "8:\tlearn: 0.8726043\ttotal: 23.6ms\tremaining: 290ms\n",
            "9:\tlearn: 0.8726043\ttotal: 27.5ms\tremaining: 303ms\n",
            "10:\tlearn: 0.8714769\ttotal: 30.2ms\tremaining: 299ms\n",
            "11:\tlearn: 0.8726043\ttotal: 32.5ms\tremaining: 292ms\n",
            "12:\tlearn: 0.8771139\ttotal: 35ms\tremaining: 288ms\n",
            "13:\tlearn: 0.8793687\ttotal: 37.7ms\tremaining: 285ms\n",
            "14:\tlearn: 0.8771139\ttotal: 40.6ms\tremaining: 284ms\n",
            "15:\tlearn: 0.8793687\ttotal: 43.3ms\tremaining: 281ms\n",
            "16:\tlearn: 0.8793687\ttotal: 43.7ms\tremaining: 265ms\n",
            "17:\tlearn: 0.8793687\ttotal: 47ms\tremaining: 266ms\n",
            "18:\tlearn: 0.8804961\ttotal: 49.4ms\tremaining: 263ms\n",
            "19:\tlearn: 0.8838782\ttotal: 51.2ms\tremaining: 256ms\n",
            "20:\tlearn: 0.8838782\ttotal: 53.8ms\tremaining: 254ms\n",
            "21:\tlearn: 0.8861330\ttotal: 56.8ms\tremaining: 253ms\n",
            "22:\tlearn: 0.8883878\ttotal: 59.7ms\tremaining: 252ms\n",
            "23:\tlearn: 0.8917700\ttotal: 62.3ms\tremaining: 249ms\n",
            "24:\tlearn: 0.8951522\ttotal: 65.4ms\tremaining: 249ms\n",
            "25:\tlearn: 0.8951522\ttotal: 68.2ms\tremaining: 246ms\n",
            "26:\tlearn: 0.8928974\ttotal: 68.7ms\tremaining: 237ms\n",
            "27:\tlearn: 0.8951522\ttotal: 71.8ms\tremaining: 236ms\n",
            "28:\tlearn: 0.8951522\ttotal: 74.6ms\tremaining: 234ms\n",
            "29:\tlearn: 0.8974070\ttotal: 77.2ms\tremaining: 232ms\n",
            "30:\tlearn: 0.8962796\ttotal: 80.2ms\tremaining: 230ms\n",
            "31:\tlearn: 0.8985344\ttotal: 82.6ms\tremaining: 227ms\n",
            "32:\tlearn: 0.8996618\ttotal: 85.7ms\tremaining: 226ms\n",
            "33:\tlearn: 0.9030440\ttotal: 88.5ms\tremaining: 224ms\n",
            "34:\tlearn: 0.9052988\ttotal: 91.3ms\tremaining: 222ms\n",
            "35:\tlearn: 0.9064262\ttotal: 94.5ms\tremaining: 221ms\n",
            "36:\tlearn: 0.9064262\ttotal: 97.2ms\tremaining: 218ms\n",
            "37:\tlearn: 0.9064262\ttotal: 100ms\tremaining: 216ms\n",
            "38:\tlearn: 0.9064262\ttotal: 103ms\tremaining: 213ms\n",
            "39:\tlearn: 0.9086809\ttotal: 106ms\tremaining: 212ms\n",
            "40:\tlearn: 0.9109357\ttotal: 108ms\tremaining: 209ms\n",
            "41:\tlearn: 0.9120631\ttotal: 111ms\tremaining: 207ms\n",
            "42:\tlearn: 0.9131905\ttotal: 114ms\tremaining: 204ms\n",
            "43:\tlearn: 0.9131905\ttotal: 117ms\tremaining: 202ms\n",
            "44:\tlearn: 0.9143179\ttotal: 118ms\tremaining: 197ms\n",
            "45:\tlearn: 0.9143179\ttotal: 121ms\tremaining: 195ms\n",
            "46:\tlearn: 0.9143179\ttotal: 124ms\tremaining: 193ms\n",
            "47:\tlearn: 0.9177001\ttotal: 130ms\tremaining: 195ms\n",
            "48:\tlearn: 0.9177001\ttotal: 135ms\tremaining: 195ms\n",
            "49:\tlearn: 0.9188275\ttotal: 138ms\tremaining: 193ms\n",
            "50:\tlearn: 0.9177001\ttotal: 142ms\tremaining: 192ms\n",
            "51:\tlearn: 0.9199549\ttotal: 145ms\tremaining: 190ms\n",
            "52:\tlearn: 0.9188275\ttotal: 148ms\tremaining: 187ms\n",
            "53:\tlearn: 0.9210823\ttotal: 151ms\tremaining: 185ms\n",
            "54:\tlearn: 0.9199549\ttotal: 154ms\tremaining: 182ms\n",
            "55:\tlearn: 0.9210823\ttotal: 157ms\tremaining: 180ms\n",
            "56:\tlearn: 0.9210823\ttotal: 160ms\tremaining: 177ms\n",
            "57:\tlearn: 0.9222097\ttotal: 163ms\tremaining: 174ms\n",
            "58:\tlearn: 0.9244645\ttotal: 166ms\tremaining: 171ms\n",
            "59:\tlearn: 0.9244645\ttotal: 171ms\tremaining: 171ms\n",
            "60:\tlearn: 0.9244645\ttotal: 176ms\tremaining: 170ms\n",
            "61:\tlearn: 0.9255919\ttotal: 179ms\tremaining: 168ms\n",
            "62:\tlearn: 0.9244645\ttotal: 182ms\tremaining: 165ms\n",
            "63:\tlearn: 0.9255919\ttotal: 186ms\tremaining: 162ms\n",
            "64:\tlearn: 0.9244645\ttotal: 189ms\tremaining: 160ms\n",
            "65:\tlearn: 0.9267193\ttotal: 193ms\tremaining: 158ms\n",
            "66:\tlearn: 0.9267193\ttotal: 195ms\tremaining: 154ms\n",
            "67:\tlearn: 0.9267193\ttotal: 200ms\tremaining: 153ms\n",
            "68:\tlearn: 0.9278467\ttotal: 205ms\tremaining: 152ms\n",
            "69:\tlearn: 0.9278467\ttotal: 212ms\tremaining: 151ms\n",
            "70:\tlearn: 0.9278467\ttotal: 216ms\tremaining: 149ms\n",
            "71:\tlearn: 0.9289741\ttotal: 220ms\tremaining: 147ms\n",
            "72:\tlearn: 0.9289741\ttotal: 228ms\tremaining: 147ms\n",
            "73:\tlearn: 0.9289741\ttotal: 234ms\tremaining: 146ms\n",
            "74:\tlearn: 0.9289741\ttotal: 241ms\tremaining: 145ms\n",
            "75:\tlearn: 0.9289741\ttotal: 248ms\tremaining: 143ms\n",
            "76:\tlearn: 0.9289741\ttotal: 255ms\tremaining: 142ms\n",
            "77:\tlearn: 0.9289741\ttotal: 260ms\tremaining: 140ms\n",
            "78:\tlearn: 0.9289741\ttotal: 267ms\tremaining: 139ms\n",
            "79:\tlearn: 0.9301015\ttotal: 271ms\tremaining: 135ms\n",
            "80:\tlearn: 0.9301015\ttotal: 277ms\tremaining: 133ms\n",
            "81:\tlearn: 0.9301015\ttotal: 281ms\tremaining: 130ms\n",
            "82:\tlearn: 0.9301015\ttotal: 288ms\tremaining: 129ms\n",
            "83:\tlearn: 0.9301015\ttotal: 292ms\tremaining: 125ms\n",
            "84:\tlearn: 0.9301015\ttotal: 293ms\tremaining: 121ms\n",
            "85:\tlearn: 0.9301015\ttotal: 297ms\tremaining: 117ms\n",
            "86:\tlearn: 0.9301015\ttotal: 304ms\tremaining: 115ms\n",
            "87:\tlearn: 0.9301015\ttotal: 311ms\tremaining: 113ms\n",
            "88:\tlearn: 0.9312289\ttotal: 319ms\tremaining: 111ms\n",
            "89:\tlearn: 0.9323563\ttotal: 326ms\tremaining: 109ms\n",
            "90:\tlearn: 0.9323563\ttotal: 331ms\tremaining: 105ms\n",
            "91:\tlearn: 0.9323563\ttotal: 334ms\tremaining: 102ms\n",
            "92:\tlearn: 0.9301015\ttotal: 338ms\tremaining: 98.2ms\n",
            "93:\tlearn: 0.9301015\ttotal: 344ms\tremaining: 95.1ms\n",
            "94:\tlearn: 0.9301015\ttotal: 351ms\tremaining: 92.3ms\n",
            "95:\tlearn: 0.9312289\ttotal: 357ms\tremaining: 89.3ms\n",
            "96:\tlearn: 0.9312289\ttotal: 363ms\tremaining: 86ms\n",
            "97:\tlearn: 0.9312289\ttotal: 368ms\tremaining: 82.6ms\n",
            "98:\tlearn: 0.9312289\ttotal: 373ms\tremaining: 79.1ms\n",
            "99:\tlearn: 0.9312289\ttotal: 376ms\tremaining: 75.2ms\n",
            "100:\tlearn: 0.9312289\ttotal: 383ms\tremaining: 72ms\n",
            "101:\tlearn: 0.9312289\ttotal: 389ms\tremaining: 68.7ms\n",
            "102:\tlearn: 0.9312289\ttotal: 397ms\tremaining: 65.5ms\n",
            "103:\tlearn: 0.9301015\ttotal: 404ms\tremaining: 62.1ms\n",
            "104:\tlearn: 0.9301015\ttotal: 407ms\tremaining: 58.2ms\n",
            "105:\tlearn: 0.9301015\ttotal: 414ms\tremaining: 54.7ms\n",
            "106:\tlearn: 0.9301015\ttotal: 420ms\tremaining: 51ms\n",
            "107:\tlearn: 0.9301015\ttotal: 427ms\tremaining: 47.4ms\n",
            "108:\tlearn: 0.9301015\ttotal: 433ms\tremaining: 43.7ms\n",
            "109:\tlearn: 0.9301015\ttotal: 439ms\tremaining: 39.9ms\n",
            "110:\tlearn: 0.9312289\ttotal: 446ms\tremaining: 36.2ms\n",
            "111:\tlearn: 0.9312289\ttotal: 452ms\tremaining: 32.3ms\n",
            "112:\tlearn: 0.9312289\ttotal: 457ms\tremaining: 28.3ms\n",
            "113:\tlearn: 0.9301015\ttotal: 466ms\tremaining: 24.5ms\n",
            "114:\tlearn: 0.9312289\ttotal: 472ms\tremaining: 20.5ms\n",
            "115:\tlearn: 0.9312289\ttotal: 483ms\tremaining: 16.7ms\n",
            "116:\tlearn: 0.9312289\ttotal: 493ms\tremaining: 12.6ms\n",
            "117:\tlearn: 0.9312289\ttotal: 496ms\tremaining: 8.41ms\n",
            "118:\tlearn: 0.9312289\ttotal: 504ms\tremaining: 4.23ms\n",
            "119:\tlearn: 0.9312289\ttotal: 508ms\tremaining: 0us\n",
            "0:\tlearn: 0.8658399\ttotal: 5.04ms\tremaining: 600ms\n",
            "1:\tlearn: 0.8827508\ttotal: 9.66ms\tremaining: 570ms\n",
            "2:\tlearn: 0.8906426\ttotal: 12.7ms\tremaining: 496ms\n",
            "3:\tlearn: 0.8906426\ttotal: 15.2ms\tremaining: 441ms\n",
            "4:\tlearn: 0.8782413\ttotal: 16ms\tremaining: 369ms\n",
            "5:\tlearn: 0.8895152\ttotal: 22.5ms\tremaining: 428ms\n",
            "6:\tlearn: 0.8861330\ttotal: 30.2ms\tremaining: 488ms\n",
            "7:\tlearn: 0.8895152\ttotal: 33.9ms\tremaining: 475ms\n",
            "8:\tlearn: 0.8962796\ttotal: 37ms\tremaining: 456ms\n",
            "9:\tlearn: 0.8962796\ttotal: 40.6ms\tremaining: 447ms\n",
            "10:\tlearn: 0.8962796\ttotal: 43.6ms\tremaining: 432ms\n",
            "11:\tlearn: 0.8996618\ttotal: 46.7ms\tremaining: 420ms\n",
            "12:\tlearn: 0.8985344\ttotal: 49.7ms\tremaining: 409ms\n",
            "13:\tlearn: 0.9007892\ttotal: 52.3ms\tremaining: 396ms\n",
            "14:\tlearn: 0.9019166\ttotal: 55.2ms\tremaining: 386ms\n",
            "15:\tlearn: 0.9052988\ttotal: 58ms\tremaining: 377ms\n",
            "16:\tlearn: 0.9064262\ttotal: 60.7ms\tremaining: 368ms\n",
            "17:\tlearn: 0.9086809\ttotal: 64ms\tremaining: 363ms\n",
            "18:\tlearn: 0.9041714\ttotal: 66.2ms\tremaining: 352ms\n",
            "19:\tlearn: 0.9075536\ttotal: 70.4ms\tremaining: 352ms\n",
            "20:\tlearn: 0.9086809\ttotal: 77.3ms\tremaining: 365ms\n",
            "21:\tlearn: 0.9075536\ttotal: 79.1ms\tremaining: 352ms\n",
            "22:\tlearn: 0.9075536\ttotal: 83.8ms\tremaining: 354ms\n",
            "23:\tlearn: 0.9098083\ttotal: 91.2ms\tremaining: 365ms\n",
            "24:\tlearn: 0.9120631\ttotal: 98.1ms\tremaining: 373ms\n",
            "25:\tlearn: 0.9109357\ttotal: 106ms\tremaining: 382ms\n",
            "26:\tlearn: 0.9131905\ttotal: 112ms\tremaining: 387ms\n",
            "27:\tlearn: 0.9120631\ttotal: 115ms\tremaining: 377ms\n",
            "28:\tlearn: 0.9131905\ttotal: 118ms\tremaining: 371ms\n",
            "29:\tlearn: 0.9177001\ttotal: 121ms\tremaining: 363ms\n",
            "30:\tlearn: 0.9199549\ttotal: 124ms\tremaining: 357ms\n",
            "31:\tlearn: 0.9188275\ttotal: 127ms\tremaining: 350ms\n",
            "32:\tlearn: 0.9177001\ttotal: 130ms\tremaining: 344ms\n",
            "33:\tlearn: 0.9154453\ttotal: 133ms\tremaining: 337ms\n",
            "34:\tlearn: 0.9177001\ttotal: 136ms\tremaining: 330ms\n",
            "35:\tlearn: 0.9188275\ttotal: 139ms\tremaining: 324ms\n",
            "36:\tlearn: 0.9199549\ttotal: 142ms\tremaining: 317ms\n",
            "37:\tlearn: 0.9188275\ttotal: 144ms\tremaining: 311ms\n",
            "38:\tlearn: 0.9222097\ttotal: 147ms\tremaining: 306ms\n",
            "39:\tlearn: 0.9210823\ttotal: 150ms\tremaining: 299ms\n",
            "40:\tlearn: 0.9222097\ttotal: 152ms\tremaining: 293ms\n",
            "41:\tlearn: 0.9222097\ttotal: 156ms\tremaining: 289ms\n",
            "42:\tlearn: 0.9222097\ttotal: 158ms\tremaining: 284ms\n",
            "43:\tlearn: 0.9222097\ttotal: 163ms\tremaining: 281ms\n",
            "44:\tlearn: 0.9222097\ttotal: 168ms\tremaining: 280ms\n",
            "45:\tlearn: 0.9233371\ttotal: 172ms\tremaining: 276ms\n",
            "46:\tlearn: 0.9233371\ttotal: 182ms\tremaining: 282ms\n",
            "47:\tlearn: 0.9244645\ttotal: 185ms\tremaining: 278ms\n",
            "48:\tlearn: 0.9244645\ttotal: 193ms\tremaining: 279ms\n",
            "49:\tlearn: 0.9255919\ttotal: 199ms\tremaining: 279ms\n",
            "50:\tlearn: 0.9255919\ttotal: 202ms\tremaining: 273ms\n",
            "51:\tlearn: 0.9267193\ttotal: 205ms\tremaining: 269ms\n",
            "52:\tlearn: 0.9255919\ttotal: 209ms\tremaining: 264ms\n",
            "53:\tlearn: 0.9289741\ttotal: 214ms\tremaining: 262ms\n",
            "54:\tlearn: 0.9278467\ttotal: 221ms\tremaining: 261ms\n",
            "55:\tlearn: 0.9301015\ttotal: 228ms\tremaining: 260ms\n",
            "56:\tlearn: 0.9312289\ttotal: 233ms\tremaining: 257ms\n",
            "57:\tlearn: 0.9301015\ttotal: 237ms\tremaining: 254ms\n",
            "58:\tlearn: 0.9289741\ttotal: 243ms\tremaining: 251ms\n",
            "59:\tlearn: 0.9301015\ttotal: 250ms\tremaining: 250ms\n",
            "60:\tlearn: 0.9301015\ttotal: 257ms\tremaining: 248ms\n",
            "61:\tlearn: 0.9312289\ttotal: 263ms\tremaining: 246ms\n",
            "62:\tlearn: 0.9323563\ttotal: 270ms\tremaining: 244ms\n",
            "63:\tlearn: 0.9334837\ttotal: 272ms\tremaining: 238ms\n",
            "64:\tlearn: 0.9334837\ttotal: 275ms\tremaining: 233ms\n",
            "65:\tlearn: 0.9334837\ttotal: 279ms\tremaining: 229ms\n",
            "66:\tlearn: 0.9346110\ttotal: 285ms\tremaining: 225ms\n",
            "67:\tlearn: 0.9323563\ttotal: 290ms\tremaining: 222ms\n",
            "68:\tlearn: 0.9334837\ttotal: 293ms\tremaining: 217ms\n",
            "69:\tlearn: 0.9346110\ttotal: 297ms\tremaining: 212ms\n",
            "70:\tlearn: 0.9334837\ttotal: 300ms\tremaining: 207ms\n",
            "71:\tlearn: 0.9346110\ttotal: 306ms\tremaining: 204ms\n",
            "72:\tlearn: 0.9357384\ttotal: 309ms\tremaining: 199ms\n",
            "73:\tlearn: 0.9357384\ttotal: 315ms\tremaining: 196ms\n",
            "74:\tlearn: 0.9346110\ttotal: 318ms\tremaining: 191ms\n",
            "75:\tlearn: 0.9357384\ttotal: 321ms\tremaining: 186ms\n",
            "76:\tlearn: 0.9357384\ttotal: 324ms\tremaining: 181ms\n",
            "77:\tlearn: 0.9357384\ttotal: 327ms\tremaining: 176ms\n",
            "78:\tlearn: 0.9368658\ttotal: 330ms\tremaining: 171ms\n",
            "79:\tlearn: 0.9368658\ttotal: 334ms\tremaining: 167ms\n",
            "80:\tlearn: 0.9357384\ttotal: 335ms\tremaining: 161ms\n",
            "81:\tlearn: 0.9368658\ttotal: 340ms\tremaining: 157ms\n",
            "82:\tlearn: 0.9368658\ttotal: 346ms\tremaining: 154ms\n",
            "83:\tlearn: 0.9391206\ttotal: 352ms\tremaining: 151ms\n",
            "84:\tlearn: 0.9391206\ttotal: 355ms\tremaining: 146ms\n",
            "85:\tlearn: 0.9379932\ttotal: 360ms\tremaining: 142ms\n",
            "86:\tlearn: 0.9391206\ttotal: 363ms\tremaining: 138ms\n",
            "87:\tlearn: 0.9391206\ttotal: 366ms\tremaining: 133ms\n",
            "88:\tlearn: 0.9402480\ttotal: 369ms\tremaining: 128ms\n",
            "89:\tlearn: 0.9413754\ttotal: 372ms\tremaining: 124ms\n",
            "90:\tlearn: 0.9402480\ttotal: 375ms\tremaining: 119ms\n",
            "91:\tlearn: 0.9425028\ttotal: 378ms\tremaining: 115ms\n",
            "92:\tlearn: 0.9425028\ttotal: 381ms\tremaining: 111ms\n",
            "93:\tlearn: 0.9436302\ttotal: 384ms\tremaining: 106ms\n",
            "94:\tlearn: 0.9436302\ttotal: 387ms\tremaining: 102ms\n",
            "95:\tlearn: 0.9436302\ttotal: 388ms\tremaining: 97ms\n",
            "96:\tlearn: 0.9436302\ttotal: 391ms\tremaining: 92.7ms\n",
            "97:\tlearn: 0.9436302\ttotal: 394ms\tremaining: 88.4ms\n",
            "98:\tlearn: 0.9436302\ttotal: 397ms\tremaining: 84.3ms\n",
            "99:\tlearn: 0.9436302\ttotal: 401ms\tremaining: 80.1ms\n",
            "100:\tlearn: 0.9447576\ttotal: 404ms\tremaining: 76ms\n",
            "101:\tlearn: 0.9447576\ttotal: 408ms\tremaining: 72ms\n",
            "102:\tlearn: 0.9447576\ttotal: 416ms\tremaining: 68.6ms\n",
            "103:\tlearn: 0.9447576\ttotal: 419ms\tremaining: 64.4ms\n",
            "104:\tlearn: 0.9447576\ttotal: 422ms\tremaining: 60.2ms\n",
            "105:\tlearn: 0.9447576\ttotal: 425ms\tremaining: 56.1ms\n",
            "106:\tlearn: 0.9447576\ttotal: 428ms\tremaining: 52ms\n",
            "107:\tlearn: 0.9447576\ttotal: 431ms\tremaining: 47.9ms\n",
            "108:\tlearn: 0.9447576\ttotal: 433ms\tremaining: 43.6ms\n",
            "109:\tlearn: 0.9447576\ttotal: 435ms\tremaining: 39.6ms\n",
            "110:\tlearn: 0.9447576\ttotal: 438ms\tremaining: 35.5ms\n",
            "111:\tlearn: 0.9447576\ttotal: 441ms\tremaining: 31.5ms\n",
            "112:\tlearn: 0.9447576\ttotal: 444ms\tremaining: 27.5ms\n",
            "113:\tlearn: 0.9447576\ttotal: 447ms\tremaining: 23.5ms\n",
            "114:\tlearn: 0.9447576\ttotal: 450ms\tremaining: 19.6ms\n",
            "115:\tlearn: 0.9458850\ttotal: 453ms\tremaining: 15.6ms\n",
            "116:\tlearn: 0.9447576\ttotal: 456ms\tremaining: 11.7ms\n",
            "117:\tlearn: 0.9447576\ttotal: 459ms\tremaining: 7.77ms\n",
            "118:\tlearn: 0.9458850\ttotal: 461ms\tremaining: 3.88ms\n",
            "119:\tlearn: 0.9458850\ttotal: 464ms\tremaining: 0us\n",
            "0:\tlearn: 0.8714769\ttotal: 5.53ms\tremaining: 658ms\n",
            "1:\tlearn: 0.8793687\ttotal: 9.46ms\tremaining: 558ms\n",
            "2:\tlearn: 0.8850056\ttotal: 12.8ms\tremaining: 501ms\n",
            "3:\tlearn: 0.8883878\ttotal: 25ms\tremaining: 725ms\n",
            "4:\tlearn: 0.8782413\ttotal: 25.7ms\tremaining: 591ms\n",
            "5:\tlearn: 0.8782413\ttotal: 26.4ms\tremaining: 501ms\n",
            "6:\tlearn: 0.8771139\ttotal: 27ms\tremaining: 436ms\n",
            "7:\tlearn: 0.8793687\ttotal: 30ms\tremaining: 420ms\n",
            "8:\tlearn: 0.8782413\ttotal: 32.6ms\tremaining: 403ms\n",
            "9:\tlearn: 0.8816234\ttotal: 42.6ms\tremaining: 468ms\n",
            "10:\tlearn: 0.8793687\ttotal: 45.6ms\tremaining: 451ms\n",
            "11:\tlearn: 0.8816234\ttotal: 50.8ms\tremaining: 457ms\n",
            "12:\tlearn: 0.8827508\ttotal: 61.1ms\tremaining: 503ms\n",
            "13:\tlearn: 0.8850056\ttotal: 62ms\tremaining: 470ms\n",
            "14:\tlearn: 0.8838782\ttotal: 65.2ms\tremaining: 456ms\n",
            "15:\tlearn: 0.8861330\ttotal: 68ms\tremaining: 442ms\n",
            "16:\tlearn: 0.8838782\ttotal: 70.9ms\tremaining: 429ms\n",
            "17:\tlearn: 0.8883878\ttotal: 73.8ms\tremaining: 418ms\n",
            "18:\tlearn: 0.8895152\ttotal: 76.5ms\tremaining: 407ms\n",
            "19:\tlearn: 0.8917700\ttotal: 79ms\tremaining: 395ms\n",
            "20:\tlearn: 0.8917700\ttotal: 81.7ms\tremaining: 385ms\n",
            "21:\tlearn: 0.8928974\ttotal: 84.8ms\tremaining: 378ms\n",
            "22:\tlearn: 0.8951522\ttotal: 87.7ms\tremaining: 370ms\n",
            "23:\tlearn: 0.8974070\ttotal: 90.1ms\tremaining: 360ms\n",
            "24:\tlearn: 0.8974070\ttotal: 92.9ms\tremaining: 353ms\n",
            "25:\tlearn: 0.8985344\ttotal: 96.2ms\tremaining: 348ms\n",
            "26:\tlearn: 0.8985344\ttotal: 100ms\tremaining: 346ms\n",
            "27:\tlearn: 0.9007892\ttotal: 103ms\tremaining: 339ms\n",
            "28:\tlearn: 0.9019166\ttotal: 106ms\tremaining: 333ms\n",
            "29:\tlearn: 0.9030440\ttotal: 109ms\tremaining: 326ms\n",
            "30:\tlearn: 0.9030440\ttotal: 112ms\tremaining: 321ms\n",
            "31:\tlearn: 0.9052988\ttotal: 115ms\tremaining: 315ms\n",
            "32:\tlearn: 0.9052988\ttotal: 117ms\tremaining: 309ms\n",
            "33:\tlearn: 0.9075536\ttotal: 120ms\tremaining: 305ms\n",
            "34:\tlearn: 0.9109357\ttotal: 123ms\tremaining: 300ms\n",
            "35:\tlearn: 0.9120631\ttotal: 126ms\tremaining: 294ms\n",
            "36:\tlearn: 0.9109357\ttotal: 129ms\tremaining: 289ms\n",
            "37:\tlearn: 0.9120631\ttotal: 132ms\tremaining: 284ms\n",
            "38:\tlearn: 0.9109357\ttotal: 135ms\tremaining: 280ms\n",
            "39:\tlearn: 0.9131905\ttotal: 138ms\tremaining: 275ms\n",
            "40:\tlearn: 0.9131905\ttotal: 141ms\tremaining: 272ms\n",
            "41:\tlearn: 0.9143179\ttotal: 147ms\tremaining: 273ms\n",
            "42:\tlearn: 0.9143179\ttotal: 154ms\tremaining: 276ms\n",
            "43:\tlearn: 0.9165727\ttotal: 161ms\tremaining: 279ms\n",
            "44:\tlearn: 0.9165727\ttotal: 165ms\tremaining: 275ms\n",
            "45:\tlearn: 0.9188275\ttotal: 172ms\tremaining: 276ms\n",
            "46:\tlearn: 0.9210823\ttotal: 178ms\tremaining: 276ms\n",
            "47:\tlearn: 0.9222097\ttotal: 184ms\tremaining: 277ms\n",
            "48:\tlearn: 0.9188275\ttotal: 198ms\tremaining: 287ms\n",
            "49:\tlearn: 0.9199549\ttotal: 204ms\tremaining: 285ms\n",
            "50:\tlearn: 0.9210823\ttotal: 210ms\tremaining: 285ms\n",
            "51:\tlearn: 0.9199549\ttotal: 217ms\tremaining: 284ms\n",
            "52:\tlearn: 0.9210823\ttotal: 224ms\tremaining: 283ms\n",
            "53:\tlearn: 0.9188275\ttotal: 230ms\tremaining: 281ms\n",
            "54:\tlearn: 0.9199549\ttotal: 237ms\tremaining: 280ms\n",
            "55:\tlearn: 0.9222097\ttotal: 244ms\tremaining: 279ms\n",
            "56:\tlearn: 0.9222097\ttotal: 247ms\tremaining: 273ms\n",
            "57:\tlearn: 0.9222097\ttotal: 253ms\tremaining: 270ms\n",
            "58:\tlearn: 0.9222097\ttotal: 257ms\tremaining: 266ms\n",
            "59:\tlearn: 0.9233371\ttotal: 264ms\tremaining: 264ms\n",
            "60:\tlearn: 0.9267193\ttotal: 270ms\tremaining: 261ms\n",
            "61:\tlearn: 0.9255919\ttotal: 277ms\tremaining: 259ms\n",
            "62:\tlearn: 0.9267193\ttotal: 281ms\tremaining: 254ms\n",
            "63:\tlearn: 0.9255919\ttotal: 284ms\tremaining: 249ms\n",
            "64:\tlearn: 0.9267193\ttotal: 294ms\tremaining: 249ms\n",
            "65:\tlearn: 0.9267193\ttotal: 301ms\tremaining: 246ms\n",
            "66:\tlearn: 0.9267193\ttotal: 307ms\tremaining: 243ms\n",
            "67:\tlearn: 0.9278467\ttotal: 315ms\tremaining: 241ms\n",
            "68:\tlearn: 0.9267193\ttotal: 323ms\tremaining: 238ms\n",
            "69:\tlearn: 0.9267193\ttotal: 328ms\tremaining: 234ms\n",
            "70:\tlearn: 0.9267193\ttotal: 339ms\tremaining: 234ms\n",
            "71:\tlearn: 0.9278467\ttotal: 348ms\tremaining: 232ms\n",
            "72:\tlearn: 0.9289741\ttotal: 356ms\tremaining: 229ms\n",
            "73:\tlearn: 0.9278467\ttotal: 364ms\tremaining: 226ms\n",
            "74:\tlearn: 0.9278467\ttotal: 371ms\tremaining: 223ms\n",
            "75:\tlearn: 0.9301015\ttotal: 383ms\tremaining: 222ms\n",
            "76:\tlearn: 0.9312289\ttotal: 392ms\tremaining: 219ms\n",
            "77:\tlearn: 0.9312289\ttotal: 400ms\tremaining: 215ms\n",
            "78:\tlearn: 0.9312289\ttotal: 403ms\tremaining: 209ms\n",
            "79:\tlearn: 0.9323563\ttotal: 409ms\tremaining: 205ms\n",
            "80:\tlearn: 0.9334837\ttotal: 413ms\tremaining: 199ms\n",
            "81:\tlearn: 0.9323563\ttotal: 417ms\tremaining: 193ms\n",
            "82:\tlearn: 0.9323563\ttotal: 421ms\tremaining: 188ms\n",
            "83:\tlearn: 0.9323563\ttotal: 428ms\tremaining: 183ms\n",
            "84:\tlearn: 0.9323563\ttotal: 434ms\tremaining: 179ms\n",
            "85:\tlearn: 0.9323563\ttotal: 441ms\tremaining: 174ms\n",
            "86:\tlearn: 0.9323563\ttotal: 448ms\tremaining: 170ms\n",
            "87:\tlearn: 0.9323563\ttotal: 454ms\tremaining: 165ms\n",
            "88:\tlearn: 0.9323563\ttotal: 460ms\tremaining: 160ms\n",
            "89:\tlearn: 0.9334837\ttotal: 466ms\tremaining: 155ms\n",
            "90:\tlearn: 0.9334837\ttotal: 469ms\tremaining: 149ms\n",
            "91:\tlearn: 0.9334837\ttotal: 474ms\tremaining: 144ms\n",
            "92:\tlearn: 0.9323563\ttotal: 481ms\tremaining: 140ms\n",
            "93:\tlearn: 0.9323563\ttotal: 486ms\tremaining: 135ms\n",
            "94:\tlearn: 0.9323563\ttotal: 493ms\tremaining: 130ms\n",
            "95:\tlearn: 0.9346110\ttotal: 498ms\tremaining: 125ms\n",
            "96:\tlearn: 0.9346110\ttotal: 502ms\tremaining: 119ms\n",
            "97:\tlearn: 0.9346110\ttotal: 507ms\tremaining: 114ms\n",
            "98:\tlearn: 0.9346110\ttotal: 512ms\tremaining: 109ms\n",
            "99:\tlearn: 0.9334837\ttotal: 518ms\tremaining: 104ms\n",
            "100:\tlearn: 0.9357384\ttotal: 525ms\tremaining: 98.7ms\n",
            "101:\tlearn: 0.9357384\ttotal: 532ms\tremaining: 93.9ms\n",
            "102:\tlearn: 0.9357384\ttotal: 537ms\tremaining: 88.6ms\n",
            "103:\tlearn: 0.9357384\ttotal: 542ms\tremaining: 83.4ms\n",
            "104:\tlearn: 0.9357384\ttotal: 549ms\tremaining: 78.5ms\n",
            "105:\tlearn: 0.9368658\ttotal: 556ms\tremaining: 73.4ms\n",
            "106:\tlearn: 0.9368658\ttotal: 562ms\tremaining: 68.3ms\n",
            "107:\tlearn: 0.9368658\ttotal: 574ms\tremaining: 63.8ms\n",
            "108:\tlearn: 0.9368658\ttotal: 580ms\tremaining: 58.5ms\n",
            "109:\tlearn: 0.9368658\ttotal: 586ms\tremaining: 53.3ms\n",
            "110:\tlearn: 0.9368658\ttotal: 593ms\tremaining: 48ms\n",
            "111:\tlearn: 0.9368658\ttotal: 599ms\tremaining: 42.8ms\n",
            "112:\tlearn: 0.9346110\ttotal: 605ms\tremaining: 37.5ms\n",
            "113:\tlearn: 0.9357384\ttotal: 612ms\tremaining: 32.2ms\n",
            "114:\tlearn: 0.9357384\ttotal: 618ms\tremaining: 26.9ms\n",
            "115:\tlearn: 0.9379932\ttotal: 625ms\tremaining: 21.6ms\n",
            "116:\tlearn: 0.9379932\ttotal: 634ms\tremaining: 16.3ms\n",
            "117:\tlearn: 0.9368658\ttotal: 639ms\tremaining: 10.8ms\n",
            "118:\tlearn: 0.9368658\ttotal: 648ms\tremaining: 5.44ms\n",
            "119:\tlearn: 0.9391206\ttotal: 655ms\tremaining: 0us\n",
            "0:\tlearn: 0.8726043\ttotal: 2.46ms\tremaining: 293ms\n",
            "1:\tlearn: 0.8782413\ttotal: 5.83ms\tremaining: 344ms\n",
            "2:\tlearn: 0.8759865\ttotal: 9.69ms\tremaining: 378ms\n",
            "3:\tlearn: 0.8759865\ttotal: 16.6ms\tremaining: 483ms\n",
            "4:\tlearn: 0.8680947\ttotal: 20.3ms\tremaining: 468ms\n",
            "5:\tlearn: 0.8726043\ttotal: 21.6ms\tremaining: 411ms\n",
            "6:\tlearn: 0.8714769\ttotal: 23.4ms\tremaining: 378ms\n",
            "7:\tlearn: 0.8782413\ttotal: 27.3ms\tremaining: 383ms\n",
            "8:\tlearn: 0.8793687\ttotal: 33.9ms\tremaining: 419ms\n",
            "9:\tlearn: 0.8737317\ttotal: 36.1ms\tremaining: 398ms\n",
            "10:\tlearn: 0.8748591\ttotal: 41ms\tremaining: 406ms\n",
            "11:\tlearn: 0.8782413\ttotal: 47.5ms\tremaining: 428ms\n",
            "12:\tlearn: 0.8782413\ttotal: 59.8ms\tremaining: 493ms\n",
            "13:\tlearn: 0.8782413\ttotal: 68.7ms\tremaining: 520ms\n",
            "14:\tlearn: 0.8850056\ttotal: 77.5ms\tremaining: 543ms\n",
            "15:\tlearn: 0.8827508\ttotal: 83ms\tremaining: 539ms\n",
            "16:\tlearn: 0.8850056\ttotal: 89.8ms\tremaining: 544ms\n",
            "17:\tlearn: 0.8883878\ttotal: 96.9ms\tremaining: 549ms\n",
            "18:\tlearn: 0.8928974\ttotal: 104ms\tremaining: 553ms\n",
            "19:\tlearn: 0.8940248\ttotal: 109ms\tremaining: 546ms\n",
            "20:\tlearn: 0.8974070\ttotal: 115ms\tremaining: 541ms\n",
            "21:\tlearn: 0.8962796\ttotal: 122ms\tremaining: 544ms\n",
            "22:\tlearn: 0.8974070\ttotal: 129ms\tremaining: 544ms\n",
            "23:\tlearn: 0.8962796\ttotal: 135ms\tremaining: 542ms\n",
            "24:\tlearn: 0.8985344\ttotal: 142ms\tremaining: 540ms\n",
            "25:\tlearn: 0.9041714\ttotal: 149ms\tremaining: 540ms\n",
            "26:\tlearn: 0.9007892\ttotal: 153ms\tremaining: 526ms\n",
            "27:\tlearn: 0.9052988\ttotal: 157ms\tremaining: 515ms\n",
            "28:\tlearn: 0.9075536\ttotal: 164ms\tremaining: 514ms\n",
            "29:\tlearn: 0.9120631\ttotal: 167ms\tremaining: 501ms\n",
            "30:\tlearn: 0.9109357\ttotal: 171ms\tremaining: 490ms\n",
            "31:\tlearn: 0.9120631\ttotal: 177ms\tremaining: 488ms\n",
            "32:\tlearn: 0.9143179\ttotal: 181ms\tremaining: 477ms\n",
            "33:\tlearn: 0.9143179\ttotal: 184ms\tremaining: 466ms\n",
            "34:\tlearn: 0.9143179\ttotal: 190ms\tremaining: 461ms\n",
            "35:\tlearn: 0.9143179\ttotal: 196ms\tremaining: 457ms\n",
            "36:\tlearn: 0.9165727\ttotal: 199ms\tremaining: 447ms\n",
            "37:\tlearn: 0.9154453\ttotal: 203ms\tremaining: 438ms\n",
            "38:\tlearn: 0.9154453\ttotal: 206ms\tremaining: 427ms\n",
            "39:\tlearn: 0.9188275\ttotal: 209ms\tremaining: 418ms\n",
            "40:\tlearn: 0.9199549\ttotal: 214ms\tremaining: 412ms\n",
            "41:\tlearn: 0.9199549\ttotal: 217ms\tremaining: 403ms\n",
            "42:\tlearn: 0.9233371\ttotal: 223ms\tremaining: 400ms\n",
            "43:\tlearn: 0.9267193\ttotal: 230ms\tremaining: 398ms\n",
            "44:\tlearn: 0.9233371\ttotal: 231ms\tremaining: 386ms\n",
            "45:\tlearn: 0.9222097\ttotal: 234ms\tremaining: 376ms\n",
            "46:\tlearn: 0.9222097\ttotal: 238ms\tremaining: 370ms\n",
            "47:\tlearn: 0.9233371\ttotal: 247ms\tremaining: 371ms\n",
            "48:\tlearn: 0.9233371\ttotal: 255ms\tremaining: 369ms\n",
            "49:\tlearn: 0.9222097\ttotal: 258ms\tremaining: 361ms\n",
            "50:\tlearn: 0.9233371\ttotal: 261ms\tremaining: 354ms\n",
            "51:\tlearn: 0.9244645\ttotal: 264ms\tremaining: 345ms\n",
            "52:\tlearn: 0.9267193\ttotal: 267ms\tremaining: 337ms\n",
            "53:\tlearn: 0.9289741\ttotal: 270ms\tremaining: 330ms\n",
            "54:\tlearn: 0.9278467\ttotal: 273ms\tremaining: 322ms\n",
            "55:\tlearn: 0.9278467\ttotal: 276ms\tremaining: 315ms\n",
            "56:\tlearn: 0.9278467\ttotal: 278ms\tremaining: 307ms\n",
            "57:\tlearn: 0.9267193\ttotal: 281ms\tremaining: 300ms\n",
            "58:\tlearn: 0.9267193\ttotal: 283ms\tremaining: 293ms\n",
            "59:\tlearn: 0.9267193\ttotal: 286ms\tremaining: 286ms\n",
            "60:\tlearn: 0.9267193\ttotal: 289ms\tremaining: 280ms\n",
            "61:\tlearn: 0.9255919\ttotal: 292ms\tremaining: 273ms\n",
            "62:\tlearn: 0.9267193\ttotal: 294ms\tremaining: 266ms\n",
            "63:\tlearn: 0.9278467\ttotal: 297ms\tremaining: 260ms\n",
            "64:\tlearn: 0.9278467\ttotal: 300ms\tremaining: 254ms\n",
            "65:\tlearn: 0.9278467\ttotal: 304ms\tremaining: 248ms\n",
            "66:\tlearn: 0.9289741\ttotal: 306ms\tremaining: 242ms\n",
            "67:\tlearn: 0.9312289\ttotal: 310ms\tremaining: 237ms\n",
            "68:\tlearn: 0.9323563\ttotal: 314ms\tremaining: 232ms\n",
            "69:\tlearn: 0.9334837\ttotal: 321ms\tremaining: 229ms\n",
            "70:\tlearn: 0.9334837\ttotal: 324ms\tremaining: 224ms\n",
            "71:\tlearn: 0.9334837\ttotal: 327ms\tremaining: 218ms\n",
            "72:\tlearn: 0.9334837\ttotal: 330ms\tremaining: 212ms\n",
            "73:\tlearn: 0.9357384\ttotal: 332ms\tremaining: 207ms\n",
            "74:\tlearn: 0.9346110\ttotal: 338ms\tremaining: 203ms\n",
            "75:\tlearn: 0.9346110\ttotal: 340ms\tremaining: 197ms\n",
            "76:\tlearn: 0.9357384\ttotal: 343ms\tremaining: 192ms\n",
            "77:\tlearn: 0.9346110\ttotal: 346ms\tremaining: 186ms\n",
            "78:\tlearn: 0.9346110\ttotal: 347ms\tremaining: 180ms\n",
            "79:\tlearn: 0.9357384\ttotal: 349ms\tremaining: 175ms\n",
            "80:\tlearn: 0.9357384\ttotal: 352ms\tremaining: 170ms\n",
            "81:\tlearn: 0.9357384\ttotal: 355ms\tremaining: 164ms\n",
            "82:\tlearn: 0.9368658\ttotal: 358ms\tremaining: 160ms\n",
            "83:\tlearn: 0.9368658\ttotal: 360ms\tremaining: 154ms\n",
            "84:\tlearn: 0.9368658\ttotal: 363ms\tremaining: 150ms\n",
            "85:\tlearn: 0.9368658\ttotal: 366ms\tremaining: 145ms\n",
            "86:\tlearn: 0.9368658\ttotal: 369ms\tremaining: 140ms\n",
            "87:\tlearn: 0.9368658\ttotal: 372ms\tremaining: 135ms\n",
            "88:\tlearn: 0.9368658\ttotal: 374ms\tremaining: 130ms\n",
            "89:\tlearn: 0.9368658\ttotal: 377ms\tremaining: 126ms\n",
            "90:\tlearn: 0.9402480\ttotal: 380ms\tremaining: 121ms\n",
            "91:\tlearn: 0.9402480\ttotal: 381ms\tremaining: 116ms\n",
            "92:\tlearn: 0.9391206\ttotal: 384ms\tremaining: 111ms\n",
            "93:\tlearn: 0.9379932\ttotal: 387ms\tremaining: 107ms\n",
            "94:\tlearn: 0.9379932\ttotal: 391ms\tremaining: 103ms\n",
            "95:\tlearn: 0.9357384\ttotal: 397ms\tremaining: 99.3ms\n",
            "96:\tlearn: 0.9357384\ttotal: 403ms\tremaining: 95.7ms\n",
            "97:\tlearn: 0.9379932\ttotal: 410ms\tremaining: 92ms\n",
            "98:\tlearn: 0.9391206\ttotal: 416ms\tremaining: 88.3ms\n",
            "99:\tlearn: 0.9379932\ttotal: 430ms\tremaining: 86ms\n",
            "100:\tlearn: 0.9379932\ttotal: 436ms\tremaining: 82ms\n",
            "101:\tlearn: 0.9391206\ttotal: 443ms\tremaining: 78.1ms\n",
            "102:\tlearn: 0.9402480\ttotal: 450ms\tremaining: 74.2ms\n",
            "103:\tlearn: 0.9402480\ttotal: 458ms\tremaining: 70.5ms\n",
            "104:\tlearn: 0.9402480\ttotal: 463ms\tremaining: 66.2ms\n",
            "105:\tlearn: 0.9402480\ttotal: 469ms\tremaining: 62ms\n",
            "106:\tlearn: 0.9402480\ttotal: 475ms\tremaining: 57.8ms\n",
            "107:\tlearn: 0.9402480\ttotal: 482ms\tremaining: 53.5ms\n",
            "108:\tlearn: 0.9402480\ttotal: 488ms\tremaining: 49.3ms\n",
            "109:\tlearn: 0.9402480\ttotal: 494ms\tremaining: 44.9ms\n",
            "110:\tlearn: 0.9413754\ttotal: 501ms\tremaining: 40.6ms\n",
            "111:\tlearn: 0.9402480\ttotal: 507ms\tremaining: 36.2ms\n",
            "112:\tlearn: 0.9402480\ttotal: 514ms\tremaining: 31.8ms\n",
            "113:\tlearn: 0.9391206\ttotal: 518ms\tremaining: 27.3ms\n",
            "114:\tlearn: 0.9391206\ttotal: 524ms\tremaining: 22.8ms\n",
            "115:\tlearn: 0.9391206\ttotal: 531ms\tremaining: 18.3ms\n",
            "116:\tlearn: 0.9391206\ttotal: 540ms\tremaining: 13.9ms\n",
            "117:\tlearn: 0.9391206\ttotal: 545ms\tremaining: 9.24ms\n",
            "118:\tlearn: 0.9391206\ttotal: 553ms\tremaining: 4.64ms\n",
            "119:\tlearn: 0.9402480\ttotal: 560ms\tremaining: 0us\n",
            "0:\tlearn: 0.8590755\ttotal: 3.4ms\tremaining: 405ms\n",
            "1:\tlearn: 0.8974070\ttotal: 7.47ms\tremaining: 441ms\n",
            "2:\tlearn: 0.8962796\ttotal: 14.7ms\tremaining: 572ms\n",
            "3:\tlearn: 0.8928974\ttotal: 17.7ms\tremaining: 515ms\n",
            "4:\tlearn: 0.8827508\ttotal: 18.4ms\tremaining: 423ms\n",
            "5:\tlearn: 0.8883878\ttotal: 21.2ms\tremaining: 403ms\n",
            "6:\tlearn: 0.8974070\ttotal: 23.7ms\tremaining: 382ms\n",
            "7:\tlearn: 0.8974070\ttotal: 26.3ms\tremaining: 368ms\n",
            "8:\tlearn: 0.8996618\ttotal: 29.8ms\tremaining: 368ms\n",
            "9:\tlearn: 0.9019166\ttotal: 33.9ms\tremaining: 373ms\n",
            "10:\tlearn: 0.8974070\ttotal: 36.6ms\tremaining: 362ms\n",
            "11:\tlearn: 0.9041714\ttotal: 39.9ms\tremaining: 359ms\n",
            "12:\tlearn: 0.9019166\ttotal: 42.9ms\tremaining: 353ms\n",
            "13:\tlearn: 0.9019166\ttotal: 46.5ms\tremaining: 352ms\n",
            "14:\tlearn: 0.9030440\ttotal: 52.3ms\tremaining: 366ms\n",
            "15:\tlearn: 0.9019166\ttotal: 57.4ms\tremaining: 373ms\n",
            "16:\tlearn: 0.9041714\ttotal: 64ms\tremaining: 388ms\n",
            "17:\tlearn: 0.9041714\ttotal: 70.2ms\tremaining: 398ms\n",
            "18:\tlearn: 0.8985344\ttotal: 74.1ms\tremaining: 394ms\n",
            "19:\tlearn: 0.9019166\ttotal: 77.9ms\tremaining: 389ms\n",
            "20:\tlearn: 0.8996618\ttotal: 84.6ms\tremaining: 399ms\n",
            "21:\tlearn: 0.9019166\ttotal: 92.2ms\tremaining: 411ms\n",
            "22:\tlearn: 0.9064262\ttotal: 96.8ms\tremaining: 408ms\n",
            "23:\tlearn: 0.9109357\ttotal: 103ms\tremaining: 414ms\n",
            "24:\tlearn: 0.9120631\ttotal: 110ms\tremaining: 418ms\n",
            "25:\tlearn: 0.9109357\ttotal: 116ms\tremaining: 420ms\n",
            "26:\tlearn: 0.9075536\ttotal: 120ms\tremaining: 415ms\n",
            "27:\tlearn: 0.9109357\ttotal: 125ms\tremaining: 411ms\n",
            "28:\tlearn: 0.9109357\ttotal: 133ms\tremaining: 416ms\n",
            "29:\tlearn: 0.9120631\ttotal: 137ms\tremaining: 411ms\n",
            "30:\tlearn: 0.9109357\ttotal: 139ms\tremaining: 399ms\n",
            "31:\tlearn: 0.9098083\ttotal: 144ms\tremaining: 396ms\n",
            "32:\tlearn: 0.9131905\ttotal: 151ms\tremaining: 398ms\n",
            "33:\tlearn: 0.9143179\ttotal: 158ms\tremaining: 399ms\n",
            "34:\tlearn: 0.9154453\ttotal: 165ms\tremaining: 400ms\n",
            "35:\tlearn: 0.9154453\ttotal: 171ms\tremaining: 400ms\n",
            "36:\tlearn: 0.9199549\ttotal: 179ms\tremaining: 400ms\n",
            "37:\tlearn: 0.9199549\ttotal: 187ms\tremaining: 404ms\n",
            "38:\tlearn: 0.9233371\ttotal: 193ms\tremaining: 400ms\n",
            "39:\tlearn: 0.9233371\ttotal: 199ms\tremaining: 398ms\n",
            "40:\tlearn: 0.9233371\ttotal: 206ms\tremaining: 397ms\n",
            "41:\tlearn: 0.9244645\ttotal: 213ms\tremaining: 395ms\n",
            "42:\tlearn: 0.9244645\ttotal: 219ms\tremaining: 393ms\n",
            "43:\tlearn: 0.9244645\ttotal: 226ms\tremaining: 391ms\n",
            "44:\tlearn: 0.9255919\ttotal: 229ms\tremaining: 382ms\n",
            "45:\tlearn: 0.9267193\ttotal: 233ms\tremaining: 375ms\n",
            "46:\tlearn: 0.9301015\ttotal: 240ms\tremaining: 372ms\n",
            "47:\tlearn: 0.9289741\ttotal: 247ms\tremaining: 370ms\n",
            "48:\tlearn: 0.9289741\ttotal: 254ms\tremaining: 367ms\n",
            "49:\tlearn: 0.9278467\ttotal: 257ms\tremaining: 360ms\n",
            "50:\tlearn: 0.9289741\ttotal: 261ms\tremaining: 353ms\n",
            "51:\tlearn: 0.9301015\ttotal: 264ms\tremaining: 345ms\n",
            "52:\tlearn: 0.9301015\ttotal: 268ms\tremaining: 338ms\n",
            "53:\tlearn: 0.9334837\ttotal: 274ms\tremaining: 335ms\n",
            "54:\tlearn: 0.9334837\ttotal: 280ms\tremaining: 331ms\n",
            "55:\tlearn: 0.9323563\ttotal: 286ms\tremaining: 327ms\n",
            "56:\tlearn: 0.9323563\ttotal: 293ms\tremaining: 323ms\n",
            "57:\tlearn: 0.9334837\ttotal: 299ms\tremaining: 319ms\n",
            "58:\tlearn: 0.9334837\ttotal: 305ms\tremaining: 315ms\n",
            "59:\tlearn: 0.9334837\ttotal: 311ms\tremaining: 311ms\n",
            "60:\tlearn: 0.9323563\ttotal: 318ms\tremaining: 307ms\n",
            "61:\tlearn: 0.9323563\ttotal: 325ms\tremaining: 304ms\n",
            "62:\tlearn: 0.9323563\ttotal: 331ms\tremaining: 299ms\n",
            "63:\tlearn: 0.9323563\ttotal: 337ms\tremaining: 295ms\n",
            "64:\tlearn: 0.9334837\ttotal: 343ms\tremaining: 290ms\n",
            "65:\tlearn: 0.9323563\ttotal: 349ms\tremaining: 286ms\n",
            "66:\tlearn: 0.9334837\ttotal: 356ms\tremaining: 281ms\n",
            "67:\tlearn: 0.9334837\ttotal: 362ms\tremaining: 277ms\n",
            "68:\tlearn: 0.9334837\ttotal: 370ms\tremaining: 273ms\n",
            "69:\tlearn: 0.9323563\ttotal: 374ms\tremaining: 267ms\n",
            "70:\tlearn: 0.9323563\ttotal: 381ms\tremaining: 263ms\n",
            "71:\tlearn: 0.9334837\ttotal: 386ms\tremaining: 257ms\n",
            "72:\tlearn: 0.9334837\ttotal: 393ms\tremaining: 253ms\n",
            "73:\tlearn: 0.9334837\ttotal: 400ms\tremaining: 249ms\n",
            "74:\tlearn: 0.9334837\ttotal: 406ms\tremaining: 243ms\n",
            "75:\tlearn: 0.9334837\ttotal: 410ms\tremaining: 237ms\n",
            "76:\tlearn: 0.9334837\ttotal: 413ms\tremaining: 231ms\n",
            "77:\tlearn: 0.9346110\ttotal: 417ms\tremaining: 225ms\n",
            "78:\tlearn: 0.9357384\ttotal: 423ms\tremaining: 219ms\n",
            "79:\tlearn: 0.9357384\ttotal: 430ms\tremaining: 215ms\n",
            "80:\tlearn: 0.9346110\ttotal: 437ms\tremaining: 210ms\n",
            "81:\tlearn: 0.9346110\ttotal: 443ms\tremaining: 205ms\n",
            "82:\tlearn: 0.9357384\ttotal: 449ms\tremaining: 200ms\n",
            "83:\tlearn: 0.9357384\ttotal: 457ms\tremaining: 196ms\n",
            "84:\tlearn: 0.9357384\ttotal: 463ms\tremaining: 191ms\n",
            "85:\tlearn: 0.9357384\ttotal: 469ms\tremaining: 186ms\n",
            "86:\tlearn: 0.9346110\ttotal: 476ms\tremaining: 180ms\n",
            "87:\tlearn: 0.9346110\ttotal: 479ms\tremaining: 174ms\n",
            "88:\tlearn: 0.9346110\ttotal: 482ms\tremaining: 168ms\n",
            "89:\tlearn: 0.9346110\ttotal: 487ms\tremaining: 162ms\n",
            "90:\tlearn: 0.9346110\ttotal: 493ms\tremaining: 157ms\n",
            "91:\tlearn: 0.9346110\ttotal: 499ms\tremaining: 152ms\n",
            "92:\tlearn: 0.9346110\ttotal: 502ms\tremaining: 146ms\n",
            "93:\tlearn: 0.9357384\ttotal: 505ms\tremaining: 140ms\n",
            "94:\tlearn: 0.9357384\ttotal: 508ms\tremaining: 134ms\n",
            "95:\tlearn: 0.9346110\ttotal: 513ms\tremaining: 128ms\n",
            "96:\tlearn: 0.9346110\ttotal: 518ms\tremaining: 123ms\n",
            "97:\tlearn: 0.9346110\ttotal: 528ms\tremaining: 118ms\n",
            "98:\tlearn: 0.9346110\ttotal: 534ms\tremaining: 113ms\n",
            "99:\tlearn: 0.9357384\ttotal: 536ms\tremaining: 107ms\n",
            "100:\tlearn: 0.9357384\ttotal: 540ms\tremaining: 102ms\n",
            "101:\tlearn: 0.9357384\ttotal: 543ms\tremaining: 95.8ms\n",
            "102:\tlearn: 0.9357384\ttotal: 546ms\tremaining: 90.1ms\n",
            "103:\tlearn: 0.9368658\ttotal: 551ms\tremaining: 84.8ms\n",
            "104:\tlearn: 0.9368658\ttotal: 557ms\tremaining: 79.5ms\n",
            "105:\tlearn: 0.9379932\ttotal: 564ms\tremaining: 74.5ms\n",
            "106:\tlearn: 0.9379932\ttotal: 572ms\tremaining: 69.5ms\n",
            "107:\tlearn: 0.9391206\ttotal: 577ms\tremaining: 64.1ms\n",
            "108:\tlearn: 0.9391206\ttotal: 585ms\tremaining: 59.1ms\n",
            "109:\tlearn: 0.9402480\ttotal: 592ms\tremaining: 53.9ms\n",
            "110:\tlearn: 0.9391206\ttotal: 600ms\tremaining: 48.6ms\n",
            "111:\tlearn: 0.9391206\ttotal: 608ms\tremaining: 43.5ms\n",
            "112:\tlearn: 0.9391206\ttotal: 611ms\tremaining: 37.8ms\n",
            "113:\tlearn: 0.9402480\ttotal: 614ms\tremaining: 32.3ms\n",
            "114:\tlearn: 0.9391206\ttotal: 617ms\tremaining: 26.8ms\n",
            "115:\tlearn: 0.9402480\ttotal: 620ms\tremaining: 21.4ms\n",
            "116:\tlearn: 0.9391206\ttotal: 624ms\tremaining: 16ms\n",
            "117:\tlearn: 0.9402480\ttotal: 628ms\tremaining: 10.6ms\n",
            "118:\tlearn: 0.9391206\ttotal: 631ms\tremaining: 5.3ms\n",
            "119:\tlearn: 0.9402480\ttotal: 634ms\tremaining: 0us\n"
          ]
        }
      ],
      "source": [
        "modelo = CatBoostClassifier(task_type='CPU', iterations=120, learning_rate=0.1\n",
        "                              ,depth=8, random_state=5, eval_metric='Accuracy')\n",
        "\n",
        "resultado = cross_val_score(modelo, previsores, alvo, cv=kfold)"
      ]
    },
    {
      "cell_type": "code",
      "execution_count": null,
      "metadata": {
        "colab": {
          "base_uri": "https://localhost:8080/"
        },
        "id": "zgw07zLaSkoD",
        "outputId": "b351dc93-5287-492c-dae4-9cd1fe32ba36"
      },
      "outputs": [
        {
          "data": {
            "text/plain": [
              "0.8810394265232974"
            ]
          },
          "execution_count": 135,
          "metadata": {},
          "output_type": "execute_result"
        }
      ],
      "source": [
        "resultado.mean()"
      ]
    },
    {
      "cell_type": "code",
      "execution_count": null,
      "metadata": {
        "id": "lxDz2PuxS822"
      },
      "outputs": [],
      "source": [
        "from scipy import stats"
      ]
    },
    {
      "cell_type": "code",
      "execution_count": null,
      "metadata": {
        "colab": {
          "base_uri": "https://localhost:8080/"
        },
        "id": "hIDNJmw7S_dG",
        "outputId": "517dc044-6b75-49e2-b21d-759592d9c315"
      },
      "outputs": [
        {
          "data": {
            "text/plain": [
              "ModeResult(mode=0.8709677419354839, count=6)"
            ]
          },
          "execution_count": 137,
          "metadata": {},
          "output_type": "execute_result"
        }
      ],
      "source": [
        "stats.mode(resultado)"
      ]
    },
    {
      "cell_type": "markdown",
      "metadata": {
        "id": "wyblyUVTTF1o"
      },
      "source": [
        "## Resultado"
      ]
    },
    {
      "cell_type": "markdown",
      "metadata": {
        "id": "jkqaFz5lTObY"
      },
      "source": [
        "- previsores catboost\n",
        " - *86.95%*"
      ]
    },
    {
      "cell_type": "markdown",
      "metadata": {
        "id": "HjoHJkNOUldh"
      },
      "source": [
        "# Resultado Geral\n",
        "\n",
        "- Naive Bayes = 85.42%\n",
        "- SVM = 85.57%\n",
        "- Regressão Logística = 86.23%\n",
        "- KNN = 85.86%\n",
        "- Árvore de Decisão = 83.69%\n",
        "- Random Forest = 86.59%\n",
        "- XGBOOST = 85.86%\n",
        "- LGBM = 85.50%\n",
        "- **CatBoost = 86.95%** 🏆"
      ]
    },
    {
      "cell_type": "markdown",
      "metadata": {
        "id": "n0m4AzrWb70j"
      },
      "source": [
        "# GRID SEARCH (Otimização de Hiperparâmetros)"
      ]
    },
    {
      "cell_type": "markdown",
      "source": [
        "Buscando um melhor resultado no algoritmo XGBOOST (85.86% de acurácia) utilizando GridSearchCV"
      ],
      "metadata": {
        "id": "Xo6d3OUk0mBd"
      }
    },
    {
      "cell_type": "code",
      "execution_count": null,
      "metadata": {
        "id": "QEpIjpjwcBGm"
      },
      "outputs": [],
      "source": [
        "from sklearn.model_selection import GridSearchCV\n",
        "from xgboost import XGBClassifier"
      ]
    },
    {
      "cell_type": "code",
      "execution_count": null,
      "metadata": {
        "id": "zw4tBJC2eh26"
      },
      "outputs": [],
      "source": [
        "xgb = XGBClassifier(random_state=0)"
      ]
    },
    {
      "cell_type": "code",
      "execution_count": null,
      "metadata": {
        "id": "gbIfAZd4cnUY"
      },
      "outputs": [],
      "source": [
        "param_grid = dict(\n",
        "    max_depth=[1, 2, 3, 4, 5, 6, 7, 8, 9, 10],\n",
        "    learning_rate=[0.01, 0.02, 0.03, 0.04, 0.05, 0.06, 0.07, 0.08, 0.09, 0.1],\n",
        "    n_estimators=[50, 80, 100, 120, 140, 160, 180, 200, 220, 240, 260, 280, 300, 320, 340, 360, 380, 400],\n",
        "    objective=['binary:logistic', 'binary:logitraw', 'binary:hinge']\n",
        "    )"
      ]
    },
    {
      "cell_type": "code",
      "source": [
        "len(param_grid['max_depth']) * len(param_grid['learning_rate']) * len(param_grid['n_estimators']) * len(param_grid['objective'])\n"
      ],
      "metadata": {
        "colab": {
          "base_uri": "https://localhost:8080/"
        },
        "id": "29rDMkf2zRCg",
        "outputId": "9295fafb-c961-4c31-9c53-9e51dd212c64"
      },
      "execution_count": null,
      "outputs": [
        {
          "output_type": "execute_result",
          "data": {
            "text/plain": [
              "5400"
            ]
          },
          "metadata": {},
          "execution_count": 181
        }
      ]
    },
    {
      "cell_type": "code",
      "execution_count": null,
      "metadata": {
        "id": "JEGEz_0Ked3G"
      },
      "outputs": [],
      "source": [
        "grid_search = GridSearchCV(xgb, param_grid, scoring='roc_auc', cv=4)"
      ]
    },
    {
      "cell_type": "code",
      "execution_count": null,
      "metadata": {
        "colab": {
          "background_save": true
        },
        "id": "7zOYIoXTezHQ",
        "outputId": "9c161885-9b6c-4660-f5a8-9e3a75d040e5"
      },
      "outputs": [
        {
          "data": {
            "text/html": [
              "<style>#sk-container-id-1 {color: black;background-color: white;}#sk-container-id-1 pre{padding: 0;}#sk-container-id-1 div.sk-toggleable {background-color: white;}#sk-container-id-1 label.sk-toggleable__label {cursor: pointer;display: block;width: 100%;margin-bottom: 0;padding: 0.3em;box-sizing: border-box;text-align: center;}#sk-container-id-1 label.sk-toggleable__label-arrow:before {content: \"▸\";float: left;margin-right: 0.25em;color: #696969;}#sk-container-id-1 label.sk-toggleable__label-arrow:hover:before {color: black;}#sk-container-id-1 div.sk-estimator:hover label.sk-toggleable__label-arrow:before {color: black;}#sk-container-id-1 div.sk-toggleable__content {max-height: 0;max-width: 0;overflow: hidden;text-align: left;background-color: #f0f8ff;}#sk-container-id-1 div.sk-toggleable__content pre {margin: 0.2em;color: black;border-radius: 0.25em;background-color: #f0f8ff;}#sk-container-id-1 input.sk-toggleable__control:checked~div.sk-toggleable__content {max-height: 200px;max-width: 100%;overflow: auto;}#sk-container-id-1 input.sk-toggleable__control:checked~label.sk-toggleable__label-arrow:before {content: \"▾\";}#sk-container-id-1 div.sk-estimator input.sk-toggleable__control:checked~label.sk-toggleable__label {background-color: #d4ebff;}#sk-container-id-1 div.sk-label input.sk-toggleable__control:checked~label.sk-toggleable__label {background-color: #d4ebff;}#sk-container-id-1 input.sk-hidden--visually {border: 0;clip: rect(1px 1px 1px 1px);clip: rect(1px, 1px, 1px, 1px);height: 1px;margin: -1px;overflow: hidden;padding: 0;position: absolute;width: 1px;}#sk-container-id-1 div.sk-estimator {font-family: monospace;background-color: #f0f8ff;border: 1px dotted black;border-radius: 0.25em;box-sizing: border-box;margin-bottom: 0.5em;}#sk-container-id-1 div.sk-estimator:hover {background-color: #d4ebff;}#sk-container-id-1 div.sk-parallel-item::after {content: \"\";width: 100%;border-bottom: 1px solid gray;flex-grow: 1;}#sk-container-id-1 div.sk-label:hover label.sk-toggleable__label {background-color: #d4ebff;}#sk-container-id-1 div.sk-serial::before {content: \"\";position: absolute;border-left: 1px solid gray;box-sizing: border-box;top: 0;bottom: 0;left: 50%;z-index: 0;}#sk-container-id-1 div.sk-serial {display: flex;flex-direction: column;align-items: center;background-color: white;padding-right: 0.2em;padding-left: 0.2em;position: relative;}#sk-container-id-1 div.sk-item {position: relative;z-index: 1;}#sk-container-id-1 div.sk-parallel {display: flex;align-items: stretch;justify-content: center;background-color: white;position: relative;}#sk-container-id-1 div.sk-item::before, #sk-container-id-1 div.sk-parallel-item::before {content: \"\";position: absolute;border-left: 1px solid gray;box-sizing: border-box;top: 0;bottom: 0;left: 50%;z-index: -1;}#sk-container-id-1 div.sk-parallel-item {display: flex;flex-direction: column;z-index: 1;position: relative;background-color: white;}#sk-container-id-1 div.sk-parallel-item:first-child::after {align-self: flex-end;width: 50%;}#sk-container-id-1 div.sk-parallel-item:last-child::after {align-self: flex-start;width: 50%;}#sk-container-id-1 div.sk-parallel-item:only-child::after {width: 0;}#sk-container-id-1 div.sk-dashed-wrapped {border: 1px dashed gray;margin: 0 0.4em 0.5em 0.4em;box-sizing: border-box;padding-bottom: 0.4em;background-color: white;}#sk-container-id-1 div.sk-label label {font-family: monospace;font-weight: bold;display: inline-block;line-height: 1.2em;}#sk-container-id-1 div.sk-label-container {text-align: center;}#sk-container-id-1 div.sk-container {/* jupyter's `normalize.less` sets `[hidden] { display: none; }` but bootstrap.min.css set `[hidden] { display: none !important; }` so we also need the `!important` here to be able to override the default hidden behavior on the sphinx rendered scikit-learn.org. See: https://github.com/scikit-learn/scikit-learn/issues/21755 */display: inline-block !important;position: relative;}#sk-container-id-1 div.sk-text-repr-fallback {display: none;}</style><div id=\"sk-container-id-1\" class=\"sk-top-container\"><div class=\"sk-text-repr-fallback\"><pre>GridSearchCV(cv=4,\n",
              "             estimator=XGBClassifier(base_score=None, booster=None,\n",
              "                                     callbacks=None, colsample_bylevel=None,\n",
              "                                     colsample_bynode=None,\n",
              "                                     colsample_bytree=None, device=None,\n",
              "                                     early_stopping_rounds=None,\n",
              "                                     enable_categorical=False, eval_metric=None,\n",
              "                                     feature_types=None, gamma=None,\n",
              "                                     grow_policy=None, importance_type=None,\n",
              "                                     interaction_constraints=None,\n",
              "                                     learning_rate=None,...\n",
              "                                     multi_strategy=None, n_estimators=None,\n",
              "                                     n_jobs=None, num_parallel_tree=None,\n",
              "                                     random_state=0, ...),\n",
              "             param_grid={&#x27;learning_rate&#x27;: [0.01, 0.02, 0.03, 0.04, 0.05, 0.06,\n",
              "                                           0.07, 0.08, 0.09, 0.1],\n",
              "                         &#x27;max_depth&#x27;: [1, 2, 3, 4, 5, 6, 7, 8, 9, 10],\n",
              "                         &#x27;n_estimators&#x27;: [50, 80, 100, 120, 140, 160, 180, 200,\n",
              "                                          220, 240, 260, 280, 300, 320, 340,\n",
              "                                          360, 380, 400],\n",
              "                         &#x27;objective&#x27;: [&#x27;binary:logistic&#x27;, &#x27;binary:logitraw&#x27;,\n",
              "                                       &#x27;binary:hinge&#x27;]},\n",
              "             scoring=&#x27;roc_auc&#x27;)</pre><b>In a Jupyter environment, please rerun this cell to show the HTML representation or trust the notebook. <br />On GitHub, the HTML representation is unable to render, please try loading this page with nbviewer.org.</b></div><div class=\"sk-container\" hidden><div class=\"sk-item sk-dashed-wrapped\"><div class=\"sk-label-container\"><div class=\"sk-label sk-toggleable\"><input class=\"sk-toggleable__control sk-hidden--visually\" id=\"sk-estimator-id-1\" type=\"checkbox\" ><label for=\"sk-estimator-id-1\" class=\"sk-toggleable__label sk-toggleable__label-arrow\">GridSearchCV</label><div class=\"sk-toggleable__content\"><pre>GridSearchCV(cv=4,\n",
              "             estimator=XGBClassifier(base_score=None, booster=None,\n",
              "                                     callbacks=None, colsample_bylevel=None,\n",
              "                                     colsample_bynode=None,\n",
              "                                     colsample_bytree=None, device=None,\n",
              "                                     early_stopping_rounds=None,\n",
              "                                     enable_categorical=False, eval_metric=None,\n",
              "                                     feature_types=None, gamma=None,\n",
              "                                     grow_policy=None, importance_type=None,\n",
              "                                     interaction_constraints=None,\n",
              "                                     learning_rate=None,...\n",
              "                                     multi_strategy=None, n_estimators=None,\n",
              "                                     n_jobs=None, num_parallel_tree=None,\n",
              "                                     random_state=0, ...),\n",
              "             param_grid={&#x27;learning_rate&#x27;: [0.01, 0.02, 0.03, 0.04, 0.05, 0.06,\n",
              "                                           0.07, 0.08, 0.09, 0.1],\n",
              "                         &#x27;max_depth&#x27;: [1, 2, 3, 4, 5, 6, 7, 8, 9, 10],\n",
              "                         &#x27;n_estimators&#x27;: [50, 80, 100, 120, 140, 160, 180, 200,\n",
              "                                          220, 240, 260, 280, 300, 320, 340,\n",
              "                                          360, 380, 400],\n",
              "                         &#x27;objective&#x27;: [&#x27;binary:logistic&#x27;, &#x27;binary:logitraw&#x27;,\n",
              "                                       &#x27;binary:hinge&#x27;]},\n",
              "             scoring=&#x27;roc_auc&#x27;)</pre></div></div></div><div class=\"sk-parallel\"><div class=\"sk-parallel-item\"><div class=\"sk-item\"><div class=\"sk-label-container\"><div class=\"sk-label sk-toggleable\"><input class=\"sk-toggleable__control sk-hidden--visually\" id=\"sk-estimator-id-2\" type=\"checkbox\" ><label for=\"sk-estimator-id-2\" class=\"sk-toggleable__label sk-toggleable__label-arrow\">estimator: XGBClassifier</label><div class=\"sk-toggleable__content\"><pre>XGBClassifier(base_score=None, booster=None, callbacks=None,\n",
              "              colsample_bylevel=None, colsample_bynode=None,\n",
              "              colsample_bytree=None, device=None, early_stopping_rounds=None,\n",
              "              enable_categorical=False, eval_metric=None, feature_types=None,\n",
              "              gamma=None, grow_policy=None, importance_type=None,\n",
              "              interaction_constraints=None, learning_rate=None, max_bin=None,\n",
              "              max_cat_threshold=None, max_cat_to_onehot=None,\n",
              "              max_delta_step=None, max_depth=None, max_leaves=None,\n",
              "              min_child_weight=None, missing=nan, monotone_constraints=None,\n",
              "              multi_strategy=None, n_estimators=None, n_jobs=None,\n",
              "              num_parallel_tree=None, random_state=0, ...)</pre></div></div></div><div class=\"sk-serial\"><div class=\"sk-item\"><div class=\"sk-estimator sk-toggleable\"><input class=\"sk-toggleable__control sk-hidden--visually\" id=\"sk-estimator-id-3\" type=\"checkbox\" ><label for=\"sk-estimator-id-3\" class=\"sk-toggleable__label sk-toggleable__label-arrow\">XGBClassifier</label><div class=\"sk-toggleable__content\"><pre>XGBClassifier(base_score=None, booster=None, callbacks=None,\n",
              "              colsample_bylevel=None, colsample_bynode=None,\n",
              "              colsample_bytree=None, device=None, early_stopping_rounds=None,\n",
              "              enable_categorical=False, eval_metric=None, feature_types=None,\n",
              "              gamma=None, grow_policy=None, importance_type=None,\n",
              "              interaction_constraints=None, learning_rate=None, max_bin=None,\n",
              "              max_cat_threshold=None, max_cat_to_onehot=None,\n",
              "              max_delta_step=None, max_depth=None, max_leaves=None,\n",
              "              min_child_weight=None, missing=nan, monotone_constraints=None,\n",
              "              multi_strategy=None, n_estimators=None, n_jobs=None,\n",
              "              num_parallel_tree=None, random_state=0, ...)</pre></div></div></div></div></div></div></div></div></div></div>"
            ],
            "text/plain": [
              "GridSearchCV(cv=4,\n",
              "             estimator=XGBClassifier(base_score=None, booster=None,\n",
              "                                     callbacks=None, colsample_bylevel=None,\n",
              "                                     colsample_bynode=None,\n",
              "                                     colsample_bytree=None, device=None,\n",
              "                                     early_stopping_rounds=None,\n",
              "                                     enable_categorical=False, eval_metric=None,\n",
              "                                     feature_types=None, gamma=None,\n",
              "                                     grow_policy=None, importance_type=None,\n",
              "                                     interaction_constraints=None,\n",
              "                                     learning_rate=None,...\n",
              "                                     multi_strategy=None, n_estimators=None,\n",
              "                                     n_jobs=None, num_parallel_tree=None,\n",
              "                                     random_state=0, ...),\n",
              "             param_grid={'learning_rate': [0.01, 0.02, 0.03, 0.04, 0.05, 0.06,\n",
              "                                           0.07, 0.08, 0.09, 0.1],\n",
              "                         'max_depth': [1, 2, 3, 4, 5, 6, 7, 8, 9, 10],\n",
              "                         'n_estimators': [50, 80, 100, 120, 140, 160, 180, 200,\n",
              "                                          220, 240, 260, 280, 300, 320, 340,\n",
              "                                          360, 380, 400],\n",
              "                         'objective': ['binary:logistic', 'binary:logitraw',\n",
              "                                       'binary:hinge']},\n",
              "             scoring='roc_auc')"
            ]
          },
          "execution_count": 161,
          "metadata": {},
          "output_type": "execute_result"
        }
      ],
      "source": [
        "grid_search.fit(X_train, y_train)"
      ]
    },
    {
      "cell_type": "markdown",
      "source": [
        "## Melhores hiperparâmetros"
      ],
      "metadata": {
        "id": "-uAQ28Sf06at"
      }
    },
    {
      "cell_type": "code",
      "execution_count": null,
      "metadata": {
        "id": "NzLOBblDe4lk",
        "colab": {
          "base_uri": "https://localhost:8080/"
        },
        "outputId": "08d4251f-6a80-41d8-969e-d97617736c9f"
      },
      "outputs": [
        {
          "output_type": "execute_result",
          "data": {
            "text/plain": [
              "{'learning_rate': 0.09,\n",
              " 'max_depth': 2,\n",
              " 'n_estimators': 80,\n",
              " 'objective': 'binary:logistic'}"
            ]
          },
          "metadata": {},
          "execution_count": 162
        }
      ],
      "source": [
        "grid_search.best_params_"
      ]
    },
    {
      "cell_type": "code",
      "execution_count": null,
      "metadata": {
        "id": "_Mnl-qiFfCqt"
      },
      "outputs": [],
      "source": [
        "results_grid = pd.DataFrame(grid_search.cv_results_)"
      ]
    },
    {
      "cell_type": "code",
      "source": [
        "results_grid.sort_values(by='mean_test_score', ascending=False, inplace=True)\n",
        "\n",
        "results_grid.reset_index(drop=True, inplace=True)\n",
        "\n",
        "results_grid[['param_max_depth', 'param_learning_rate', 'param_n_estimators',\n",
        "    'mean_test_score', 'param_objective', 'std_test_score']].head()"
      ],
      "metadata": {
        "colab": {
          "base_uri": "https://localhost:8080/",
          "height": 206
        },
        "id": "asROCNmjut9_",
        "outputId": "022c282e-5363-48fe-ed3f-cb964c48973f"
      },
      "execution_count": null,
      "outputs": [
        {
          "output_type": "execute_result",
          "data": {
            "text/plain": [
              "  param_max_depth param_learning_rate param_n_estimators  mean_test_score  \\\n",
              "0               2                0.09                 80         0.926071   \n",
              "1               2                0.09                 80         0.926071   \n",
              "2               2                0.07                100         0.925518   \n",
              "3               2                0.07                100         0.925518   \n",
              "4               2                 0.1                 80         0.925428   \n",
              "\n",
              "   param_objective  std_test_score  \n",
              "0  binary:logitraw        0.017340  \n",
              "1  binary:logistic        0.017340  \n",
              "2  binary:logitraw        0.017199  \n",
              "3  binary:logistic        0.017199  \n",
              "4  binary:logistic        0.015953  "
            ],
            "text/html": [
              "\n",
              "  <div id=\"df-8cbd24b2-ec11-440c-9d60-dcc8ed8cecfc\" class=\"colab-df-container\">\n",
              "    <div>\n",
              "<style scoped>\n",
              "    .dataframe tbody tr th:only-of-type {\n",
              "        vertical-align: middle;\n",
              "    }\n",
              "\n",
              "    .dataframe tbody tr th {\n",
              "        vertical-align: top;\n",
              "    }\n",
              "\n",
              "    .dataframe thead th {\n",
              "        text-align: right;\n",
              "    }\n",
              "</style>\n",
              "<table border=\"1\" class=\"dataframe\">\n",
              "  <thead>\n",
              "    <tr style=\"text-align: right;\">\n",
              "      <th></th>\n",
              "      <th>param_max_depth</th>\n",
              "      <th>param_learning_rate</th>\n",
              "      <th>param_n_estimators</th>\n",
              "      <th>mean_test_score</th>\n",
              "      <th>param_objective</th>\n",
              "      <th>std_test_score</th>\n",
              "    </tr>\n",
              "  </thead>\n",
              "  <tbody>\n",
              "    <tr>\n",
              "      <th>0</th>\n",
              "      <td>2</td>\n",
              "      <td>0.09</td>\n",
              "      <td>80</td>\n",
              "      <td>0.926071</td>\n",
              "      <td>binary:logitraw</td>\n",
              "      <td>0.017340</td>\n",
              "    </tr>\n",
              "    <tr>\n",
              "      <th>1</th>\n",
              "      <td>2</td>\n",
              "      <td>0.09</td>\n",
              "      <td>80</td>\n",
              "      <td>0.926071</td>\n",
              "      <td>binary:logistic</td>\n",
              "      <td>0.017340</td>\n",
              "    </tr>\n",
              "    <tr>\n",
              "      <th>2</th>\n",
              "      <td>2</td>\n",
              "      <td>0.07</td>\n",
              "      <td>100</td>\n",
              "      <td>0.925518</td>\n",
              "      <td>binary:logitraw</td>\n",
              "      <td>0.017199</td>\n",
              "    </tr>\n",
              "    <tr>\n",
              "      <th>3</th>\n",
              "      <td>2</td>\n",
              "      <td>0.07</td>\n",
              "      <td>100</td>\n",
              "      <td>0.925518</td>\n",
              "      <td>binary:logistic</td>\n",
              "      <td>0.017199</td>\n",
              "    </tr>\n",
              "    <tr>\n",
              "      <th>4</th>\n",
              "      <td>2</td>\n",
              "      <td>0.1</td>\n",
              "      <td>80</td>\n",
              "      <td>0.925428</td>\n",
              "      <td>binary:logistic</td>\n",
              "      <td>0.015953</td>\n",
              "    </tr>\n",
              "  </tbody>\n",
              "</table>\n",
              "</div>\n",
              "    <div class=\"colab-df-buttons\">\n",
              "\n",
              "  <div class=\"colab-df-container\">\n",
              "    <button class=\"colab-df-convert\" onclick=\"convertToInteractive('df-8cbd24b2-ec11-440c-9d60-dcc8ed8cecfc')\"\n",
              "            title=\"Convert this dataframe to an interactive table.\"\n",
              "            style=\"display:none;\">\n",
              "\n",
              "  <svg xmlns=\"http://www.w3.org/2000/svg\" height=\"24px\" viewBox=\"0 -960 960 960\">\n",
              "    <path d=\"M120-120v-720h720v720H120Zm60-500h600v-160H180v160Zm220 220h160v-160H400v160Zm0 220h160v-160H400v160ZM180-400h160v-160H180v160Zm440 0h160v-160H620v160ZM180-180h160v-160H180v160Zm440 0h160v-160H620v160Z\"/>\n",
              "  </svg>\n",
              "    </button>\n",
              "\n",
              "  <style>\n",
              "    .colab-df-container {\n",
              "      display:flex;\n",
              "      gap: 12px;\n",
              "    }\n",
              "\n",
              "    .colab-df-convert {\n",
              "      background-color: #E8F0FE;\n",
              "      border: none;\n",
              "      border-radius: 50%;\n",
              "      cursor: pointer;\n",
              "      display: none;\n",
              "      fill: #1967D2;\n",
              "      height: 32px;\n",
              "      padding: 0 0 0 0;\n",
              "      width: 32px;\n",
              "    }\n",
              "\n",
              "    .colab-df-convert:hover {\n",
              "      background-color: #E2EBFA;\n",
              "      box-shadow: 0px 1px 2px rgba(60, 64, 67, 0.3), 0px 1px 3px 1px rgba(60, 64, 67, 0.15);\n",
              "      fill: #174EA6;\n",
              "    }\n",
              "\n",
              "    .colab-df-buttons div {\n",
              "      margin-bottom: 4px;\n",
              "    }\n",
              "\n",
              "    [theme=dark] .colab-df-convert {\n",
              "      background-color: #3B4455;\n",
              "      fill: #D2E3FC;\n",
              "    }\n",
              "\n",
              "    [theme=dark] .colab-df-convert:hover {\n",
              "      background-color: #434B5C;\n",
              "      box-shadow: 0px 1px 3px 1px rgba(0, 0, 0, 0.15);\n",
              "      filter: drop-shadow(0px 1px 2px rgba(0, 0, 0, 0.3));\n",
              "      fill: #FFFFFF;\n",
              "    }\n",
              "  </style>\n",
              "\n",
              "    <script>\n",
              "      const buttonEl =\n",
              "        document.querySelector('#df-8cbd24b2-ec11-440c-9d60-dcc8ed8cecfc button.colab-df-convert');\n",
              "      buttonEl.style.display =\n",
              "        google.colab.kernel.accessAllowed ? 'block' : 'none';\n",
              "\n",
              "      async function convertToInteractive(key) {\n",
              "        const element = document.querySelector('#df-8cbd24b2-ec11-440c-9d60-dcc8ed8cecfc');\n",
              "        const dataTable =\n",
              "          await google.colab.kernel.invokeFunction('convertToInteractive',\n",
              "                                                    [key], {});\n",
              "        if (!dataTable) return;\n",
              "\n",
              "        const docLinkHtml = 'Like what you see? Visit the ' +\n",
              "          '<a target=\"_blank\" href=https://colab.research.google.com/notebooks/data_table.ipynb>data table notebook</a>'\n",
              "          + ' to learn more about interactive tables.';\n",
              "        element.innerHTML = '';\n",
              "        dataTable['output_type'] = 'display_data';\n",
              "        await google.colab.output.renderOutput(dataTable, element);\n",
              "        const docLink = document.createElement('div');\n",
              "        docLink.innerHTML = docLinkHtml;\n",
              "        element.appendChild(docLink);\n",
              "      }\n",
              "    </script>\n",
              "  </div>\n",
              "\n",
              "\n",
              "<div id=\"df-46d59801-6aa2-42b0-892f-3bf89a473df9\">\n",
              "  <button class=\"colab-df-quickchart\" onclick=\"quickchart('df-46d59801-6aa2-42b0-892f-3bf89a473df9')\"\n",
              "            title=\"Suggest charts\"\n",
              "            style=\"display:none;\">\n",
              "\n",
              "<svg xmlns=\"http://www.w3.org/2000/svg\" height=\"24px\"viewBox=\"0 0 24 24\"\n",
              "     width=\"24px\">\n",
              "    <g>\n",
              "        <path d=\"M19 3H5c-1.1 0-2 .9-2 2v14c0 1.1.9 2 2 2h14c1.1 0 2-.9 2-2V5c0-1.1-.9-2-2-2zM9 17H7v-7h2v7zm4 0h-2V7h2v10zm4 0h-2v-4h2v4z\"/>\n",
              "    </g>\n",
              "</svg>\n",
              "  </button>\n",
              "\n",
              "<style>\n",
              "  .colab-df-quickchart {\n",
              "      --bg-color: #E8F0FE;\n",
              "      --fill-color: #1967D2;\n",
              "      --hover-bg-color: #E2EBFA;\n",
              "      --hover-fill-color: #174EA6;\n",
              "      --disabled-fill-color: #AAA;\n",
              "      --disabled-bg-color: #DDD;\n",
              "  }\n",
              "\n",
              "  [theme=dark] .colab-df-quickchart {\n",
              "      --bg-color: #3B4455;\n",
              "      --fill-color: #D2E3FC;\n",
              "      --hover-bg-color: #434B5C;\n",
              "      --hover-fill-color: #FFFFFF;\n",
              "      --disabled-bg-color: #3B4455;\n",
              "      --disabled-fill-color: #666;\n",
              "  }\n",
              "\n",
              "  .colab-df-quickchart {\n",
              "    background-color: var(--bg-color);\n",
              "    border: none;\n",
              "    border-radius: 50%;\n",
              "    cursor: pointer;\n",
              "    display: none;\n",
              "    fill: var(--fill-color);\n",
              "    height: 32px;\n",
              "    padding: 0;\n",
              "    width: 32px;\n",
              "  }\n",
              "\n",
              "  .colab-df-quickchart:hover {\n",
              "    background-color: var(--hover-bg-color);\n",
              "    box-shadow: 0 1px 2px rgba(60, 64, 67, 0.3), 0 1px 3px 1px rgba(60, 64, 67, 0.15);\n",
              "    fill: var(--button-hover-fill-color);\n",
              "  }\n",
              "\n",
              "  .colab-df-quickchart-complete:disabled,\n",
              "  .colab-df-quickchart-complete:disabled:hover {\n",
              "    background-color: var(--disabled-bg-color);\n",
              "    fill: var(--disabled-fill-color);\n",
              "    box-shadow: none;\n",
              "  }\n",
              "\n",
              "  .colab-df-spinner {\n",
              "    border: 2px solid var(--fill-color);\n",
              "    border-color: transparent;\n",
              "    border-bottom-color: var(--fill-color);\n",
              "    animation:\n",
              "      spin 1s steps(1) infinite;\n",
              "  }\n",
              "\n",
              "  @keyframes spin {\n",
              "    0% {\n",
              "      border-color: transparent;\n",
              "      border-bottom-color: var(--fill-color);\n",
              "      border-left-color: var(--fill-color);\n",
              "    }\n",
              "    20% {\n",
              "      border-color: transparent;\n",
              "      border-left-color: var(--fill-color);\n",
              "      border-top-color: var(--fill-color);\n",
              "    }\n",
              "    30% {\n",
              "      border-color: transparent;\n",
              "      border-left-color: var(--fill-color);\n",
              "      border-top-color: var(--fill-color);\n",
              "      border-right-color: var(--fill-color);\n",
              "    }\n",
              "    40% {\n",
              "      border-color: transparent;\n",
              "      border-right-color: var(--fill-color);\n",
              "      border-top-color: var(--fill-color);\n",
              "    }\n",
              "    60% {\n",
              "      border-color: transparent;\n",
              "      border-right-color: var(--fill-color);\n",
              "    }\n",
              "    80% {\n",
              "      border-color: transparent;\n",
              "      border-right-color: var(--fill-color);\n",
              "      border-bottom-color: var(--fill-color);\n",
              "    }\n",
              "    90% {\n",
              "      border-color: transparent;\n",
              "      border-bottom-color: var(--fill-color);\n",
              "    }\n",
              "  }\n",
              "</style>\n",
              "\n",
              "  <script>\n",
              "    async function quickchart(key) {\n",
              "      const quickchartButtonEl =\n",
              "        document.querySelector('#' + key + ' button');\n",
              "      quickchartButtonEl.disabled = true;  // To prevent multiple clicks.\n",
              "      quickchartButtonEl.classList.add('colab-df-spinner');\n",
              "      try {\n",
              "        const charts = await google.colab.kernel.invokeFunction(\n",
              "            'suggestCharts', [key], {});\n",
              "      } catch (error) {\n",
              "        console.error('Error during call to suggestCharts:', error);\n",
              "      }\n",
              "      quickchartButtonEl.classList.remove('colab-df-spinner');\n",
              "      quickchartButtonEl.classList.add('colab-df-quickchart-complete');\n",
              "    }\n",
              "    (() => {\n",
              "      let quickchartButtonEl =\n",
              "        document.querySelector('#df-46d59801-6aa2-42b0-892f-3bf89a473df9 button');\n",
              "      quickchartButtonEl.style.display =\n",
              "        google.colab.kernel.accessAllowed ? 'block' : 'none';\n",
              "    })();\n",
              "  </script>\n",
              "</div>\n",
              "\n",
              "    </div>\n",
              "  </div>\n"
            ]
          },
          "metadata": {},
          "execution_count": 168
        }
      ]
    },
    {
      "cell_type": "markdown",
      "source": [
        "## Acurácia antigos hiperparâmetros\n"
      ],
      "metadata": {
        "id": "xz_f9RMu0-_M"
      }
    },
    {
      "cell_type": "code",
      "execution_count": null,
      "metadata": {
        "id": "q2IyYjZdchka",
        "colab": {
          "base_uri": "https://localhost:8080/"
        },
        "outputId": "378142ef-ba53-4ed3-d4e7-e28cd6ba19b1"
      },
      "outputs": [
        {
          "output_type": "execute_result",
          "data": {
            "text/plain": [
              "0.8586956521739131"
            ]
          },
          "metadata": {},
          "execution_count": 166
        }
      ],
      "source": [
        "xg = XGBClassifier(max_depth=2, learning_rate=0.05, n_estimators=250\n",
        "                   ,objective='binary:logistic', random_state=3)\n",
        "xg.fit(X_train, y_train);\n",
        "\n",
        "accuracy_score(y_test, xg.predict(X_test))"
      ]
    },
    {
      "cell_type": "markdown",
      "source": [
        "# Acurácia novos hiperparâmetros"
      ],
      "metadata": {
        "id": "I850xeoH1CiC"
      }
    },
    {
      "cell_type": "code",
      "source": [
        "xg = XGBClassifier(\n",
        "    max_depth=2, learning_rate=0.09, n_estimators=80,\n",
        "    objective='binary:logitraw', random_state=0\n",
        "    )\n",
        "xg.fit(X_train, y_train)\n",
        "\n",
        "accuracy_score(y_test, xg.predict(X_test))"
      ],
      "metadata": {
        "colab": {
          "base_uri": "https://localhost:8080/"
        },
        "id": "I08G9DDuvH-_",
        "outputId": "1fb57c51-7055-46d7-8ad1-0e255912562b"
      },
      "execution_count": null,
      "outputs": [
        {
          "output_type": "execute_result",
          "data": {
            "text/plain": [
              "0.8768115942028986"
            ]
          },
          "metadata": {},
          "execution_count": 169
        }
      ]
    },
    {
      "cell_type": "code",
      "source": [
        "accuracy_score(y_train, xg.predict(X_train))"
      ],
      "metadata": {
        "colab": {
          "base_uri": "https://localhost:8080/"
        },
        "id": "iChME_fkxRX0",
        "outputId": "83973b2a-7c12-4ab1-fd65-3e00d88c1497"
      },
      "execution_count": null,
      "outputs": [
        {
          "output_type": "execute_result",
          "data": {
            "text/plain": [
              "0.8892355694227769"
            ]
          },
          "metadata": {},
          "execution_count": 173
        }
      ]
    },
    {
      "cell_type": "code",
      "source": [
        "(0.8586956521739131 - 0.8768115942028986) * 100"
      ],
      "metadata": {
        "colab": {
          "base_uri": "https://localhost:8080/"
        },
        "id": "qcV36Ufk1QJ5",
        "outputId": "c1e1b396-b66e-46a7-cda0-1ec52d6741c7"
      },
      "execution_count": null,
      "outputs": [
        {
          "output_type": "execute_result",
          "data": {
            "text/plain": [
              "-1.8115942028985477"
            ]
          },
          "metadata": {},
          "execution_count": 185
        }
      ]
    },
    {
      "cell_type": "code",
      "source": [
        "(0.8768115942028986 - 0.8892355694227769) * 100"
      ],
      "metadata": {
        "colab": {
          "base_uri": "https://localhost:8080/"
        },
        "id": "ly31Xyt71Shb",
        "outputId": "c8dd1e70-c16e-4eff-be38-b5f38eec2ef9"
      },
      "execution_count": null,
      "outputs": [
        {
          "output_type": "execute_result",
          "data": {
            "text/plain": [
              "-1.242397521987837"
            ]
          },
          "metadata": {},
          "execution_count": 184
        }
      ]
    },
    {
      "cell_type": "markdown",
      "source": [
        "## Resultado"
      ],
      "metadata": {
        "id": "RoclN_Jz03AT"
      }
    },
    {
      "cell_type": "markdown",
      "source": [
        "A busca por melhores hiperparâmetros aumentou a acurácia do modelo em 1.18.\n",
        "\n",
        "Deixando o modelo treinado com os dados de teste mais próximos dos resultados do modelo de treino, diminuindo possibilidade de overfitting. Diferença inicial de 4.14 para 1.24.\n",
        "\n",
        "Modificando somente os hiperparâmetros 'learning_rate', 'max_depth', 'n_estimators' e 'objective'.\n",
        "Esta é melhor configuração utilizando XGBoost para esta base de dados:\n",
        "\n",
        "```\n",
        "  {\n",
        "    'learning_rate': 0.09,\n",
        "    'max_depth': 2,\n",
        "    'n_estimators': 80,\n",
        "    'objective': 'binary:logistic'\n",
        "  }\n",
        "```\n",
        "\n",
        "**Resumo**\n",
        " - Melhor algoritmo\n",
        "  - Catboost: 86.95%\n",
        "\n",
        " - Antiga pontuação de XGBoost\n",
        "  - 85.86%\n",
        "\n",
        " - Nova pontuação de XGBoost\n",
        "  - 87.68% 🏆\n",
        "\n",
        "Com este estudo no algoritmo XGBoost ele se torna o melhor modelo por 0.73. Com estudos similares no algoritmo Catboost, o resultado pode mudar."
      ],
      "metadata": {
        "id": "zM3gkJ7P1Z7e"
      }
    }
  ],
  "metadata": {
    "colab": {
      "collapsed_sections": [
        "GiaWFSdlRsqi"
      ],
      "provenance": [],
      "mount_file_id": "18eWsdhmSxjuGWuZq1cgx2MgI---7Kkqs",
      "authorship_tag": "ABX9TyM7xXu1XrKT1GDNlSMaCQ3m",
      "include_colab_link": true
    },
    "kernelspec": {
      "display_name": "Python 3",
      "name": "python3"
    },
    "language_info": {
      "name": "python"
    },
    "widgets": {
      "application/vnd.jupyter.widget-state+json": {
        "f09d7b42b5774730896d38c47cd78a93": {
          "model_module": "catboost-widget",
          "model_module_version": "^1.0.0",
          "model_name": "CatboostWidgetModel",
          "state": {
            "_dom_classes": [],
            "_model_module": "catboost-widget",
            "_model_module_version": "^1.0.0",
            "_model_name": "CatboostWidgetModel",
            "_view_count": null,
            "_view_module": "catboost-widget",
            "_view_module_version": "^1.0.0",
            "_view_name": "CatboostWidgetView",
            "data": {
              "catboost_info": {
                "content": {
                  "data": {
                    "iterations": [
                      {
                        "iteration": 0,
                        "learn": [
                          0.8861154446,
                          0.6626826072
                        ],
                        "passed_time": 0.006515047454,
                        "remaining_time": 0.775290647,
                        "test": [
                          0.7789855072,
                          0.6675048102
                        ]
                      },
                      {
                        "iteration": 1,
                        "learn": [
                          0.8689547582,
                          0.6275769096
                        ],
                        "passed_time": 0.01266797212,
                        "remaining_time": 0.7474103553,
                        "test": [
                          0.7934782609,
                          0.6349051355
                        ]
                      },
                      {
                        "iteration": 2,
                        "learn": [
                          0.8471138846,
                          0.5982421891
                        ],
                        "passed_time": 0.01531951429,
                        "remaining_time": 0.5974610573,
                        "test": [
                          0.7971014493,
                          0.6093358462
                        ]
                      },
                      {
                        "iteration": 3,
                        "learn": [
                          0.8549141966,
                          0.5748694569
                        ],
                        "passed_time": 0.02410346244,
                        "remaining_time": 0.6990004108,
                        "test": [
                          0.8043478261,
                          0.5897324919
                        ]
                      },
                      {
                        "iteration": 4,
                        "learn": [
                          0.8517940718,
                          0.5520917676
                        ],
                        "passed_time": 0.03025372625,
                        "remaining_time": 0.6958357039,
                        "test": [
                          0.8043478261,
                          0.5691018549
                        ]
                      },
                      {
                        "iteration": 5,
                        "learn": [
                          0.848673947,
                          0.5326351804
                        ],
                        "passed_time": 0.03562041659,
                        "remaining_time": 0.6767879152,
                        "test": [
                          0.8043478261,
                          0.5529096713
                        ]
                      },
                      {
                        "iteration": 6,
                        "learn": [
                          0.8580343214,
                          0.5160505132
                        ],
                        "passed_time": 0.03955700724,
                        "remaining_time": 0.6385631169,
                        "test": [
                          0.8115942029,
                          0.5378075361
                        ]
                      },
                      {
                        "iteration": 7,
                        "learn": [
                          0.864274571,
                          0.5007304758
                        ],
                        "passed_time": 0.0427693955,
                        "remaining_time": 0.5987715371,
                        "test": [
                          0.8043478261,
                          0.5251715252
                        ]
                      },
                      {
                        "iteration": 8,
                        "learn": [
                          0.8533541342,
                          0.4860348072
                        ],
                        "passed_time": 0.04659668924,
                        "remaining_time": 0.5746925006,
                        "test": [
                          0.8043478261,
                          0.5134922093
                        ]
                      },
                      {
                        "iteration": 9,
                        "learn": [
                          0.8611544462,
                          0.47137833
                        ],
                        "passed_time": 0.04999977961,
                        "remaining_time": 0.5499975757,
                        "test": [
                          0.8115942029,
                          0.5018339467
                        ]
                      },
                      {
                        "iteration": 10,
                        "learn": [
                          0.864274571,
                          0.4597555989
                        ],
                        "passed_time": 0.05335250281,
                        "remaining_time": 0.5286748005,
                        "test": [
                          0.8079710145,
                          0.4919852604
                        ]
                      },
                      {
                        "iteration": 11,
                        "learn": [
                          0.8658346334,
                          0.4482594614
                        ],
                        "passed_time": 0.05680290087,
                        "remaining_time": 0.5112261078,
                        "test": [
                          0.8043478261,
                          0.4835940967
                        ]
                      },
                      {
                        "iteration": 12,
                        "learn": [
                          0.8689547582,
                          0.4388331706
                        ],
                        "passed_time": 0.06034652526,
                        "remaining_time": 0.4966983233,
                        "test": [
                          0.8043478261,
                          0.4764189132
                        ]
                      },
                      {
                        "iteration": 13,
                        "learn": [
                          0.8611544462,
                          0.4308307991
                        ],
                        "passed_time": 0.06129866083,
                        "remaining_time": 0.464118432,
                        "test": [
                          0.8007246377,
                          0.4703767828
                        ]
                      },
                      {
                        "iteration": 14,
                        "learn": [
                          0.8611544462,
                          0.4223421156
                        ],
                        "passed_time": 0.06472791932,
                        "remaining_time": 0.4530954353,
                        "test": [
                          0.8007246377,
                          0.4641384607
                        ]
                      },
                      {
                        "iteration": 15,
                        "learn": [
                          0.8658346334,
                          0.4137269863
                        ],
                        "passed_time": 0.06648167529,
                        "remaining_time": 0.4321308894,
                        "test": [
                          0.7971014493,
                          0.4574870021
                        ]
                      },
                      {
                        "iteration": 16,
                        "learn": [
                          0.8673946958,
                          0.4069773542
                        ],
                        "passed_time": 0.06990283848,
                        "remaining_time": 0.4235289625,
                        "test": [
                          0.7971014493,
                          0.4529477525
                        ]
                      },
                      {
                        "iteration": 17,
                        "learn": [
                          0.8689547582,
                          0.3987977771
                        ],
                        "passed_time": 0.07339312757,
                        "remaining_time": 0.4158943895,
                        "test": [
                          0.8007246377,
                          0.4453656732
                        ]
                      },
                      {
                        "iteration": 18,
                        "learn": [
                          0.872074883,
                          0.3913511925
                        ],
                        "passed_time": 0.0769885082,
                        "remaining_time": 0.4092547015,
                        "test": [
                          0.8007246377,
                          0.4391245485
                        ]
                      },
                      {
                        "iteration": 19,
                        "learn": [
                          0.8767550702,
                          0.3843707693
                        ],
                        "passed_time": 0.08071553212,
                        "remaining_time": 0.4035776606,
                        "test": [
                          0.8007246377,
                          0.4347392958
                        ]
                      },
                      {
                        "iteration": 20,
                        "learn": [
                          0.8767550702,
                          0.3779007129
                        ],
                        "passed_time": 0.0844590257,
                        "remaining_time": 0.3981639783,
                        "test": [
                          0.8079710145,
                          0.4305103987
                        ]
                      },
                      {
                        "iteration": 21,
                        "learn": [
                          0.879875195,
                          0.3709417258
                        ],
                        "passed_time": 0.08788259249,
                        "remaining_time": 0.3914770029,
                        "test": [
                          0.8079710145,
                          0.4243822961
                        ]
                      },
                      {
                        "iteration": 22,
                        "learn": [
                          0.8814352574,
                          0.3639934051
                        ],
                        "passed_time": 0.09178269841,
                        "remaining_time": 0.3870835542,
                        "test": [
                          0.8079710145,
                          0.4177587811
                        ]
                      },
                      {
                        "iteration": 23,
                        "learn": [
                          0.8814352574,
                          0.3583287866
                        ],
                        "passed_time": 0.09542901984,
                        "remaining_time": 0.3817160794,
                        "test": [
                          0.8079710145,
                          0.4137979066
                        ]
                      },
                      {
                        "iteration": 24,
                        "learn": [
                          0.8814352574,
                          0.3520073217
                        ],
                        "passed_time": 0.1000874038,
                        "remaining_time": 0.3803321346,
                        "test": [
                          0.8079710145,
                          0.4068056454
                        ]
                      },
                      {
                        "iteration": 25,
                        "learn": [
                          0.8829953198,
                          0.3461088183
                        ],
                        "passed_time": 0.103720361,
                        "remaining_time": 0.3749889974,
                        "test": [
                          0.8115942029,
                          0.402050749
                        ]
                      },
                      {
                        "iteration": 26,
                        "learn": [
                          0.8845553822,
                          0.3410872652
                        ],
                        "passed_time": 0.1074790125,
                        "remaining_time": 0.3702054874,
                        "test": [
                          0.8152173913,
                          0.3980344479
                        ]
                      },
                      {
                        "iteration": 27,
                        "learn": [
                          0.8829953198,
                          0.3362208985
                        ],
                        "passed_time": 0.1086748414,
                        "remaining_time": 0.3570744788,
                        "test": [
                          0.8152173913,
                          0.3936701533
                        ]
                      },
                      {
                        "iteration": 28,
                        "learn": [
                          0.8861154446,
                          0.3324571127
                        ],
                        "passed_time": 0.1147933158,
                        "remaining_time": 0.3602135082,
                        "test": [
                          0.8115942029,
                          0.3920888706
                        ]
                      },
                      {
                        "iteration": 29,
                        "learn": [
                          0.8939157566,
                          0.3279842954
                        ],
                        "passed_time": 0.118775226,
                        "remaining_time": 0.356325678,
                        "test": [
                          0.8115942029,
                          0.3898455071
                        ]
                      },
                      {
                        "iteration": 30,
                        "learn": [
                          0.895475819,
                          0.3240224419
                        ],
                        "passed_time": 0.1221563936,
                        "remaining_time": 0.3507070656,
                        "test": [
                          0.8115942029,
                          0.3862380151
                        ]
                      },
                      {
                        "iteration": 31,
                        "learn": [
                          0.895475819,
                          0.3202221632
                        ],
                        "passed_time": 0.1256083753,
                        "remaining_time": 0.3454230321,
                        "test": [
                          0.8152173913,
                          0.3821803703
                        ]
                      },
                      {
                        "iteration": 32,
                        "learn": [
                          0.8970358814,
                          0.3148840518
                        ],
                        "passed_time": 0.1291050838,
                        "remaining_time": 0.3403679482,
                        "test": [
                          0.8115942029,
                          0.3774935687
                        ]
                      },
                      {
                        "iteration": 33,
                        "learn": [
                          0.9001560062,
                          0.3108740643
                        ],
                        "passed_time": 0.1326689601,
                        "remaining_time": 0.3355744284,
                        "test": [
                          0.8152173913,
                          0.3761316017
                        ]
                      },
                      {
                        "iteration": 34,
                        "learn": [
                          0.9048361934,
                          0.3069658534
                        ],
                        "passed_time": 0.136213334,
                        "remaining_time": 0.3308038111,
                        "test": [
                          0.8188405797,
                          0.3741827307
                        ]
                      },
                      {
                        "iteration": 35,
                        "learn": [
                          0.9095163807,
                          0.3037930252
                        ],
                        "passed_time": 0.1396451242,
                        "remaining_time": 0.3258386232,
                        "test": [
                          0.8297101449,
                          0.3706273161
                        ]
                      },
                      {
                        "iteration": 36,
                        "learn": [
                          0.9110764431,
                          0.30025225
                        ],
                        "passed_time": 0.1453271678,
                        "remaining_time": 0.3260041873,
                        "test": [
                          0.8224637681,
                          0.3696544242
                        ]
                      },
                      {
                        "iteration": 37,
                        "learn": [
                          0.9157566303,
                          0.2968983012
                        ],
                        "passed_time": 0.1489067883,
                        "remaining_time": 0.3213251748,
                        "test": [
                          0.8260869565,
                          0.3685536583
                        ]
                      },
                      {
                        "iteration": 38,
                        "learn": [
                          0.9157566303,
                          0.2945919334
                        ],
                        "passed_time": 0.1502723352,
                        "remaining_time": 0.3121040808,
                        "test": [
                          0.8333333333,
                          0.3653830634
                        ]
                      },
                      {
                        "iteration": 39,
                        "learn": [
                          0.9173166927,
                          0.2913767476
                        ],
                        "passed_time": 0.1537981077,
                        "remaining_time": 0.3075962154,
                        "test": [
                          0.8333333333,
                          0.3641227319
                        ]
                      },
                      {
                        "iteration": 40,
                        "learn": [
                          0.9141965679,
                          0.289456751
                        ],
                        "passed_time": 0.1549939375,
                        "remaining_time": 0.2986468552,
                        "test": [
                          0.8369565217,
                          0.3622697342
                        ]
                      },
                      {
                        "iteration": 41,
                        "learn": [
                          0.9141965679,
                          0.2869442964
                        ],
                        "passed_time": 0.1586380522,
                        "remaining_time": 0.2946135254,
                        "test": [
                          0.8405797101,
                          0.3609339224
                        ]
                      },
                      {
                        "iteration": 42,
                        "learn": [
                          0.9173166927,
                          0.2837698917
                        ],
                        "passed_time": 0.1619953084,
                        "remaining_time": 0.2900846221,
                        "test": [
                          0.8442028986,
                          0.3595109943
                        ]
                      },
                      {
                        "iteration": 43,
                        "learn": [
                          0.9173166927,
                          0.2813903101
                        ],
                        "passed_time": 0.1655847696,
                        "remaining_time": 0.2860100567,
                        "test": [
                          0.8514492754,
                          0.3579255733
                        ]
                      },
                      {
                        "iteration": 44,
                        "learn": [
                          0.9173166927,
                          0.2788097285
                        ],
                        "passed_time": 0.1690967774,
                        "remaining_time": 0.2818279623,
                        "test": [
                          0.847826087,
                          0.3557611056
                        ]
                      },
                      {
                        "iteration": 45,
                        "learn": [
                          0.9188767551,
                          0.2769328753
                        ],
                        "passed_time": 0.1727366226,
                        "remaining_time": 0.2778806537,
                        "test": [
                          0.847826087,
                          0.3546031439
                        ]
                      },
                      {
                        "iteration": 46,
                        "learn": [
                          0.9204368175,
                          0.2751872661
                        ],
                        "passed_time": 0.1764416583,
                        "remaining_time": 0.2740476821,
                        "test": [
                          0.8514492754,
                          0.3539126123
                        ]
                      },
                      {
                        "iteration": 47,
                        "learn": [
                          0.9204368175,
                          0.272481878
                        ],
                        "passed_time": 0.1799376323,
                        "remaining_time": 0.2699064484,
                        "test": [
                          0.8550724638,
                          0.3529759988
                        ]
                      },
                      {
                        "iteration": 48,
                        "learn": [
                          0.9219968799,
                          0.2705831712
                        ],
                        "passed_time": 0.1836455225,
                        "remaining_time": 0.2660986142,
                        "test": [
                          0.8623188406,
                          0.3524249728
                        ]
                      },
                      {
                        "iteration": 49,
                        "learn": [
                          0.9188767551,
                          0.2700574144
                        ],
                        "passed_time": 0.1853799175,
                        "remaining_time": 0.2595318845,
                        "test": [
                          0.8623188406,
                          0.3521626989
                        ]
                      },
                      {
                        "iteration": 50,
                        "learn": [
                          0.9204368175,
                          0.2681586854
                        ],
                        "passed_time": 0.1887824451,
                        "remaining_time": 0.2554115434,
                        "test": [
                          0.865942029,
                          0.3511197818
                        ]
                      },
                      {
                        "iteration": 51,
                        "learn": [
                          0.9235569423,
                          0.2666719073
                        ],
                        "passed_time": 0.190575084,
                        "remaining_time": 0.2492135713,
                        "test": [
                          0.865942029,
                          0.349340156
                        ]
                      },
                      {
                        "iteration": 52,
                        "learn": [
                          0.9235569423,
                          0.2666036054
                        ],
                        "passed_time": 0.1915480459,
                        "remaining_time": 0.242145643,
                        "test": [
                          0.865942029,
                          0.3493595959
                        ]
                      },
                      {
                        "iteration": 53,
                        "learn": [
                          0.9251170047,
                          0.2645592762
                        ],
                        "passed_time": 0.1990651852,
                        "remaining_time": 0.2433018931,
                        "test": [
                          0.865942029,
                          0.3490459842
                        ]
                      },
                      {
                        "iteration": 54,
                        "learn": [
                          0.9235569423,
                          0.2627439721
                        ],
                        "passed_time": 0.2023960621,
                        "remaining_time": 0.2391953461,
                        "test": [
                          0.8695652174,
                          0.3477167567
                        ]
                      },
                      {
                        "iteration": 55,
                        "learn": [
                          0.9204368175,
                          0.2604398393
                        ],
                        "passed_time": 0.2054935762,
                        "remaining_time": 0.2348498014,
                        "test": [
                          0.8695652174,
                          0.3454843825
                        ]
                      },
                      {
                        "iteration": 56,
                        "learn": [
                          0.9219968799,
                          0.2582866023
                        ],
                        "passed_time": 0.2087339608,
                        "remaining_time": 0.2307059566,
                        "test": [
                          0.8695652174,
                          0.3450239524
                        ]
                      },
                      {
                        "iteration": 57,
                        "learn": [
                          0.9251170047,
                          0.2562807224
                        ],
                        "passed_time": 0.2121445551,
                        "remaining_time": 0.226775214,
                        "test": [
                          0.8695652174,
                          0.3444577176
                        ]
                      },
                      {
                        "iteration": 58,
                        "learn": [
                          0.9266770671,
                          0.2542834902
                        ],
                        "passed_time": 0.2155678173,
                        "remaining_time": 0.222875201,
                        "test": [
                          0.8695652174,
                          0.343915083
                        ]
                      },
                      {
                        "iteration": 59,
                        "learn": [
                          0.9282371295,
                          0.2523660925
                        ],
                        "passed_time": 0.2191143703,
                        "remaining_time": 0.2191143703,
                        "test": [
                          0.8695652174,
                          0.3436779511
                        ]
                      },
                      {
                        "iteration": 60,
                        "learn": [
                          0.9282371295,
                          0.2509960139
                        ],
                        "passed_time": 0.2225173293,
                        "remaining_time": 0.2152216792,
                        "test": [
                          0.8695652174,
                          0.3436278122
                        ]
                      },
                      {
                        "iteration": 61,
                        "learn": [
                          0.9282371295,
                          0.250405833
                        ],
                        "passed_time": 0.2259760177,
                        "remaining_time": 0.2113969197,
                        "test": [
                          0.8695652174,
                          0.3435450069
                        ]
                      },
                      {
                        "iteration": 62,
                        "learn": [
                          0.9251170047,
                          0.2498773615
                        ],
                        "passed_time": 0.2304229027,
                        "remaining_time": 0.2084778643,
                        "test": [
                          0.8695652174,
                          0.3427716822
                        ]
                      },
                      {
                        "iteration": 63,
                        "learn": [
                          0.9251170047,
                          0.2486703651
                        ],
                        "passed_time": 0.2341276834,
                        "remaining_time": 0.204861723,
                        "test": [
                          0.8695652174,
                          0.3430008534
                        ]
                      },
                      {
                        "iteration": 64,
                        "learn": [
                          0.9251170047,
                          0.2486372614
                        ],
                        "passed_time": 0.2352429489,
                        "remaining_time": 0.199051726,
                        "test": [
                          0.8695652174,
                          0.3430531021
                        ]
                      },
                      {
                        "iteration": 65,
                        "learn": [
                          0.9251170047,
                          0.2484863439
                        ],
                        "passed_time": 0.2391479856,
                        "remaining_time": 0.1956665337,
                        "test": [
                          0.8695652174,
                          0.34309368
                        ]
                      },
                      {
                        "iteration": 66,
                        "learn": [
                          0.9251170047,
                          0.2471594192
                        ],
                        "passed_time": 0.2429391815,
                        "remaining_time": 0.1921757704,
                        "test": [
                          0.8695652174,
                          0.3427357656
                        ]
                      },
                      {
                        "iteration": 67,
                        "learn": [
                          0.9266770671,
                          0.2465195216
                        ],
                        "passed_time": 0.2452666951,
                        "remaining_time": 0.1875568845,
                        "test": [
                          0.8695652174,
                          0.3414682848
                        ]
                      },
                      {
                        "iteration": 68,
                        "learn": [
                          0.9266770671,
                          0.2464607174
                        ],
                        "passed_time": 0.2462122331,
                        "remaining_time": 0.1819829549,
                        "test": [
                          0.8695652174,
                          0.3415529189
                        ]
                      },
                      {
                        "iteration": 69,
                        "learn": [
                          0.9266770671,
                          0.2463911279
                        ],
                        "passed_time": 0.2474183299,
                        "remaining_time": 0.1767273785,
                        "test": [
                          0.8695652174,
                          0.3416145452
                        ]
                      },
                      {
                        "iteration": 70,
                        "learn": [
                          0.9266770671,
                          0.2462418598
                        ],
                        "passed_time": 0.2510353892,
                        "remaining_time": 0.1732497757,
                        "test": [
                          0.8695652174,
                          0.3416493773
                        ]
                      },
                      {
                        "iteration": 71,
                        "learn": [
                          0.9266770671,
                          0.2461348353
                        ],
                        "passed_time": 0.2527855062,
                        "remaining_time": 0.1685236708,
                        "test": [
                          0.8695652174,
                          0.341582727
                        ]
                      },
                      {
                        "iteration": 72,
                        "learn": [
                          0.9266770671,
                          0.246063961
                        ],
                        "passed_time": 0.2539208331,
                        "remaining_time": 0.1634832761,
                        "test": [
                          0.8695652174,
                          0.3415979886
                        ]
                      },
                      {
                        "iteration": 73,
                        "learn": [
                          0.9251170047,
                          0.2446729501
                        ],
                        "passed_time": 0.2574351553,
                        "remaining_time": 0.1600272587,
                        "test": [
                          0.8695652174,
                          0.3411563289
                        ]
                      },
                      {
                        "iteration": 74,
                        "learn": [
                          0.9251170047,
                          0.2446120814
                        ],
                        "passed_time": 0.2586142537,
                        "remaining_time": 0.1551685522,
                        "test": [
                          0.8695652174,
                          0.3412076031
                        ]
                      },
                      {
                        "iteration": 75,
                        "learn": [
                          0.9266770671,
                          0.2444639576
                        ],
                        "passed_time": 0.260283784,
                        "remaining_time": 0.1506906118,
                        "test": [
                          0.8695652174,
                          0.3412676102
                        ]
                      },
                      {
                        "iteration": 76,
                        "learn": [
                          0.9266770671,
                          0.2442533077
                        ],
                        "passed_time": 0.2638333251,
                        "remaining_time": 0.1473354933,
                        "test": [
                          0.8695652174,
                          0.34140487
                        ]
                      },
                      {
                        "iteration": 77,
                        "learn": [
                          0.9266770671,
                          0.243853084
                        ],
                        "passed_time": 0.2674937745,
                        "remaining_time": 0.1440351093,
                        "test": [
                          0.8695652174,
                          0.3415578693
                        ]
                      },
                      {
                        "iteration": 78,
                        "learn": [
                          0.9266770671,
                          0.2430663779
                        ],
                        "passed_time": 0.2712088604,
                        "remaining_time": 0.1407539655,
                        "test": [
                          0.865942029,
                          0.3410432328
                        ]
                      },
                      {
                        "iteration": 79,
                        "learn": [
                          0.9266770671,
                          0.2430122927
                        ],
                        "passed_time": 0.2727846872,
                        "remaining_time": 0.1363923436,
                        "test": [
                          0.865942029,
                          0.3411383277
                        ]
                      },
                      {
                        "iteration": 80,
                        "learn": [
                          0.9266770671,
                          0.2426571315
                        ],
                        "passed_time": 0.2763448949,
                        "remaining_time": 0.1330549494,
                        "test": [
                          0.865942029,
                          0.3413636675
                        ]
                      },
                      {
                        "iteration": 81,
                        "learn": [
                          0.9266770671,
                          0.2425607465
                        ],
                        "passed_time": 0.2787080424,
                        "remaining_time": 0.1291573855,
                        "test": [
                          0.865942029,
                          0.3414556138
                        ]
                      },
                      {
                        "iteration": 82,
                        "learn": [
                          0.9266770671,
                          0.2412987363
                        ],
                        "passed_time": 0.2822673587,
                        "remaining_time": 0.1258300274,
                        "test": [
                          0.865942029,
                          0.3405980585
                        ]
                      },
                      {
                        "iteration": 83,
                        "learn": [
                          0.9266770671,
                          0.2407483933
                        ],
                        "passed_time": 0.2857711871,
                        "remaining_time": 0.1224733659,
                        "test": [
                          0.865942029,
                          0.3397418284
                        ]
                      },
                      {
                        "iteration": 84,
                        "learn": [
                          0.9297971919,
                          0.2400541061
                        ],
                        "passed_time": 0.2892327181,
                        "remaining_time": 0.1190958251,
                        "test": [
                          0.865942029,
                          0.3386435517
                        ]
                      },
                      {
                        "iteration": 85,
                        "learn": [
                          0.9297971919,
                          0.2399235032
                        ],
                        "passed_time": 0.2928492788,
                        "remaining_time": 0.1157776218,
                        "test": [
                          0.865942029,
                          0.3387265422
                        ]
                      },
                      {
                        "iteration": 86,
                        "learn": [
                          0.9282371295,
                          0.2391622568
                        ],
                        "passed_time": 0.2968052072,
                        "remaining_time": 0.1125812855,
                        "test": [
                          0.865942029,
                          0.3382546427
                        ]
                      },
                      {
                        "iteration": 87,
                        "learn": [
                          0.9282371295,
                          0.2390988161
                        ],
                        "passed_time": 0.300211633,
                        "remaining_time": 0.1091678665,
                        "test": [
                          0.865942029,
                          0.3382788494
                        ]
                      },
                      {
                        "iteration": 88,
                        "learn": [
                          0.9282371295,
                          0.2379011404
                        ],
                        "passed_time": 0.3038297972,
                        "remaining_time": 0.1058283563,
                        "test": [
                          0.865942029,
                          0.3377672164
                        ]
                      },
                      {
                        "iteration": 89,
                        "learn": [
                          0.9282371295,
                          0.2378485222
                        ],
                        "passed_time": 0.3052009477,
                        "remaining_time": 0.1017336492,
                        "test": [
                          0.865942029,
                          0.3377713275
                        ]
                      },
                      {
                        "iteration": 90,
                        "learn": [
                          0.9282371295,
                          0.237400346
                        ],
                        "passed_time": 0.3088786098,
                        "remaining_time": 0.09843384269,
                        "test": [
                          0.865942029,
                          0.3376571222
                        ]
                      },
                      {
                        "iteration": 91,
                        "learn": [
                          0.9282371295,
                          0.2372635123
                        ],
                        "passed_time": 0.3129193498,
                        "remaining_time": 0.09523632384,
                        "test": [
                          0.865942029,
                          0.3377060683
                        ]
                      },
                      {
                        "iteration": 92,
                        "learn": [
                          0.9282371295,
                          0.2371493264
                        ],
                        "passed_time": 0.3154882913,
                        "remaining_time": 0.09159337489,
                        "test": [
                          0.865942029,
                          0.337797211
                        ]
                      },
                      {
                        "iteration": 93,
                        "learn": [
                          0.9282371295,
                          0.2366078482
                        ],
                        "passed_time": 0.3190276035,
                        "remaining_time": 0.08824167757,
                        "test": [
                          0.865942029,
                          0.3370061555
                        ]
                      },
                      {
                        "iteration": 94,
                        "learn": [
                          0.9282371295,
                          0.2364829455
                        ],
                        "passed_time": 0.3226078203,
                        "remaining_time": 0.08489679483,
                        "test": [
                          0.865942029,
                          0.3370555219
                        ]
                      },
                      {
                        "iteration": 95,
                        "learn": [
                          0.9282371295,
                          0.2363571049
                        ],
                        "passed_time": 0.326481855,
                        "remaining_time": 0.08162046374,
                        "test": [
                          0.865942029,
                          0.3369962948
                        ]
                      },
                      {
                        "iteration": 96,
                        "learn": [
                          0.9282371295,
                          0.2361979614
                        ],
                        "passed_time": 0.3301898661,
                        "remaining_time": 0.07829244247,
                        "test": [
                          0.865942029,
                          0.3371264494
                        ]
                      },
                      {
                        "iteration": 97,
                        "learn": [
                          0.9282371295,
                          0.2361089913
                        ],
                        "passed_time": 0.3336989139,
                        "remaining_time": 0.07491200108,
                        "test": [
                          0.865942029,
                          0.3372409168
                        ]
                      },
                      {
                        "iteration": 98,
                        "learn": [
                          0.9282371295,
                          0.2359693352
                        ],
                        "passed_time": 0.3375016549,
                        "remaining_time": 0.07159126014,
                        "test": [
                          0.865942029,
                          0.3374328376
                        ]
                      },
                      {
                        "iteration": 99,
                        "learn": [
                          0.9297971919,
                          0.2357508896
                        ],
                        "passed_time": 0.3410381931,
                        "remaining_time": 0.06820763862,
                        "test": [
                          0.865942029,
                          0.3374773929
                        ]
                      },
                      {
                        "iteration": 100,
                        "learn": [
                          0.9282371295,
                          0.2341596427
                        ],
                        "passed_time": 0.3448104548,
                        "remaining_time": 0.06486533307,
                        "test": [
                          0.865942029,
                          0.3365155739
                        ]
                      },
                      {
                        "iteration": 101,
                        "learn": [
                          0.9282371295,
                          0.2340825606
                        ],
                        "passed_time": 0.34831271,
                        "remaining_time": 0.06146694882,
                        "test": [
                          0.865942029,
                          0.3365519377
                        ]
                      },
                      {
                        "iteration": 102,
                        "learn": [
                          0.9282371295,
                          0.2338790981
                        ],
                        "passed_time": 0.3518811075,
                        "remaining_time": 0.05807746435,
                        "test": [
                          0.865942029,
                          0.3366305735
                        ]
                      },
                      {
                        "iteration": 103,
                        "learn": [
                          0.9282371295,
                          0.2337945328
                        ],
                        "passed_time": 0.355354191,
                        "remaining_time": 0.05466987554,
                        "test": [
                          0.8623188406,
                          0.3366552207
                        ]
                      },
                      {
                        "iteration": 104,
                        "learn": [
                          0.9282371295,
                          0.2334926967
                        ],
                        "passed_time": 0.3588575294,
                        "remaining_time": 0.05126536134,
                        "test": [
                          0.8623188406,
                          0.3365125805
                        ]
                      },
                      {
                        "iteration": 105,
                        "learn": [
                          0.9282371295,
                          0.2334256365
                        ],
                        "passed_time": 0.3616338918,
                        "remaining_time": 0.04776296684,
                        "test": [
                          0.8623188406,
                          0.3365480357
                        ]
                      },
                      {
                        "iteration": 106,
                        "learn": [
                          0.9282371295,
                          0.2328856329
                        ],
                        "passed_time": 0.3654309898,
                        "remaining_time": 0.04439815764,
                        "test": [
                          0.865942029,
                          0.3368470166
                        ]
                      },
                      {
                        "iteration": 107,
                        "learn": [
                          0.9282371295,
                          0.23280477
                        ],
                        "passed_time": 0.3691000953,
                        "remaining_time": 0.0410111217,
                        "test": [
                          0.865942029,
                          0.3368475932
                        ]
                      },
                      {
                        "iteration": 108,
                        "learn": [
                          0.9282371295,
                          0.2326562548
                        ],
                        "passed_time": 0.3728370022,
                        "remaining_time": 0.03762575252,
                        "test": [
                          0.865942029,
                          0.3367529312
                        ]
                      },
                      {
                        "iteration": 109,
                        "learn": [
                          0.9282371295,
                          0.232524329
                        ],
                        "passed_time": 0.3766142824,
                        "remaining_time": 0.03423766204,
                        "test": [
                          0.865942029,
                          0.336702531
                        ]
                      },
                      {
                        "iteration": 110,
                        "learn": [
                          0.9297971919,
                          0.230888985
                        ],
                        "passed_time": 0.3802726663,
                        "remaining_time": 0.03083291889,
                        "test": [
                          0.865942029,
                          0.3361766748
                        ]
                      },
                      {
                        "iteration": 111,
                        "learn": [
                          0.9297971919,
                          0.2307612942
                        ],
                        "passed_time": 0.3867626165,
                        "remaining_time": 0.02762590118,
                        "test": [
                          0.865942029,
                          0.3362063563
                        ]
                      },
                      {
                        "iteration": 112,
                        "learn": [
                          0.9282371295,
                          0.2303425585
                        ],
                        "passed_time": 0.3937063,
                        "remaining_time": 0.02438888584,
                        "test": [
                          0.865942029,
                          0.3360259161
                        ]
                      },
                      {
                        "iteration": 113,
                        "learn": [
                          0.9282371295,
                          0.2301584568
                        ],
                        "passed_time": 0.3976082718,
                        "remaining_time": 0.02092675115,
                        "test": [
                          0.865942029,
                          0.3360876498
                        ]
                      },
                      {
                        "iteration": 114,
                        "learn": [
                          0.9282371295,
                          0.2300024987
                        ],
                        "passed_time": 0.4012032052,
                        "remaining_time": 0.01744361762,
                        "test": [
                          0.865942029,
                          0.3363005342
                        ]
                      },
                      {
                        "iteration": 115,
                        "learn": [
                          0.9282371295,
                          0.2299425215
                        ],
                        "passed_time": 0.4036255319,
                        "remaining_time": 0.01391812179,
                        "test": [
                          0.865942029,
                          0.3363874339
                        ]
                      },
                      {
                        "iteration": 116,
                        "learn": [
                          0.9297971919,
                          0.2294196869
                        ],
                        "passed_time": 0.4072268706,
                        "remaining_time": 0.01044171463,
                        "test": [
                          0.865942029,
                          0.3361181912
                        ]
                      },
                      {
                        "iteration": 117,
                        "learn": [
                          0.9297971919,
                          0.2293398021
                        ],
                        "passed_time": 0.4103679544,
                        "remaining_time": 0.006955389057,
                        "test": [
                          0.865942029,
                          0.3361461266
                        ]
                      },
                      {
                        "iteration": 118,
                        "learn": [
                          0.9297971919,
                          0.2292590206
                        ],
                        "passed_time": 0.4139430609,
                        "remaining_time": 0.003478513116,
                        "test": [
                          0.865942029,
                          0.336205416
                        ]
                      },
                      {
                        "iteration": 119,
                        "learn": [
                          0.9297971919,
                          0.2291720634
                        ],
                        "passed_time": 0.4175034126,
                        "remaining_time": 0,
                        "test": [
                          0.865942029,
                          0.3363429468
                        ]
                      }
                    ],
                    "meta": {
                      "iteration_count": 120,
                      "launch_mode": "Train",
                      "learn_metrics": [
                        {
                          "best_value": "Max",
                          "name": "Accuracy"
                        },
                        {
                          "best_value": "Min",
                          "name": "Logloss"
                        }
                      ],
                      "learn_sets": [
                        "learn"
                      ],
                      "name": "experiment",
                      "parameters": "",
                      "test_metrics": [
                        {
                          "best_value": "Max",
                          "name": "Accuracy"
                        },
                        {
                          "best_value": "Min",
                          "name": "Logloss"
                        }
                      ],
                      "test_sets": [
                        "test"
                      ]
                    }
                  },
                  "passed_iterations": 119,
                  "total_iterations": 120
                },
                "name": "catboost_info",
                "path": "catboost_info"
              }
            },
            "layout": "IPY_MODEL_fed597cd774243f7af7de5521629cec9"
          }
        }
      }
    }
  },
  "nbformat": 4,
  "nbformat_minor": 0
}